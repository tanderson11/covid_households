{
 "cells": [
  {
   "cell_type": "code",
   "execution_count": 1,
   "id": "7478c494",
   "metadata": {},
   "outputs": [
    {
     "name": "stdout",
     "output_type": "stream",
     "text": [
      "/Users/thayer/covid_households/covid_households\n"
     ]
    }
   ],
   "source": [
    "import numpy as np\n",
    "import os\n",
    "import pandas as pd\n",
    "import pyarrow.parquet as pq\n",
    "%cd ../covid_households\n",
    "import likelihood\n",
    "import recipes"
   ]
  },
  {
   "cell_type": "code",
   "execution_count": 2,
   "id": "3389ad1c",
   "metadata": {},
   "outputs": [
    {
     "data": {
      "text/plain": [
       "['s80', 'p80', 'SAR']"
      ]
     },
     "execution_count": 2,
     "metadata": {},
     "output_type": "execute_result"
    }
   ],
   "source": [
    "results = recipes.Results.load('/Users/thayer/covid_households/new_parameters/s80-p80-SAR-sizes-2-8-tweaked-dprobability')\n",
    "results.find_frequencies(inplace=True)\n",
    "\n",
    "keys = results.metadata.parameters\n",
    "keys"
   ]
  },
  {
   "cell_type": "code",
   "execution_count": 10,
   "id": "486d18b7",
   "metadata": {},
   "outputs": [],
   "source": [
    "# load the data as a pandas dataframe\n",
    "root = \"/Users/thayer/covid_households/\"\n",
    "empirical_df = os.path.join(root, \"empirical/Ontario/empirical_df.parquet\")\n",
    "\n",
    "empirical_df = pq.read_table(empirical_df).to_pandas()\n",
    "\n",
    "# the infections column should be integer values\n",
    "empirical_df['infections'] = empirical_df['infections'].round(0)\n",
    "empirical_df = empirical_df.astype({'infections': 'int32'})\n",
    "\n",
    "# for the different parameter values, we don't know their true value, so let's give them the dummy value of 0.\n",
    "for key in keys:\n",
    "    empirical_df[key] = 0.\n",
    "\n",
    "# turn the list of households into counts of the number of infections in different households\n",
    "empirical_counts = likelihood.counts_from_empirical(empirical_df, keys, sample_only_keys=[])"
   ]
  },
  {
   "cell_type": "markdown",
   "id": "3742b5d9",
   "metadata": {},
   "source": [
    "By default, the log likelihood is held in a `Series` of log likelihood values organized around a 4-level index. The first index represent which empirical trial corresponds to that section of data. The next three parameters correspond to the parameter values at which we are estimating the likelihood (ie the model parameters)."
   ]
  },
  {
   "cell_type": "code",
   "execution_count": 17,
   "id": "cd0cc3e7",
   "metadata": {},
   "outputs": [
    {
     "data": {
      "text/plain": [
       "s80  p80  SAR \n",
       "0.2  0.2  0.10   -30015.543548\n",
       "          0.11   -29348.339871\n",
       "          0.12   -28771.853015\n",
       "          0.13   -28180.739729\n",
       "          0.14   -27772.357392\n",
       "                      ...     \n",
       "0.8  0.8  0.56   -60887.117879\n",
       "          0.57   -62507.884915\n",
       "          0.58   -63881.478841\n",
       "          0.59   -65393.408737\n",
       "          0.60   -67090.352790\n",
       "Name: logl, Length: 49011, dtype: float64"
      ]
     },
     "execution_count": 17,
     "metadata": {},
     "output_type": "execute_result"
    }
   ],
   "source": [
    "# calculate the log likelihood using the table of frequencies calculated over many households and the empirical counts from the dataset\n",
    "logl = likelihood.logl_from_frequencies_and_counts(results.df['frequency'], empirical_counts, keys)\n",
    "# by default indexed by a 'trial' index, but there is only one trial (the 0th) because this is a single dataset\n",
    "logl = logl.loc[0]\n",
    "logl"
   ]
  },
  {
   "cell_type": "markdown",
   "id": "f9a8a075",
   "metadata": {},
   "source": [
    "The parameters of the maximum likelihood estimate are easy to obtain by just finding the maximum value in the table of likelihood values."
   ]
  },
  {
   "cell_type": "code",
   "execution_count": 18,
   "id": "39bedec2",
   "metadata": {},
   "outputs": [
    {
     "data": {
      "text/plain": [
       "(0.76, 0.38, 0.15)"
      ]
     },
     "execution_count": 18,
     "metadata": {},
     "output_type": "execute_result"
    }
   ],
   "source": [
    "mle = logl.idxmax()\n",
    "mle"
   ]
  },
  {
   "cell_type": "code",
   "execution_count": 19,
   "id": "f0dbdf7e",
   "metadata": {},
   "outputs": [
    {
     "data": {
      "text/plain": [
       "[(0.72, 0.8), (0.36, 0.44), (0.14, 0.16)]"
      ]
     },
     "execution_count": 19,
     "metadata": {},
     "output_type": "execute_result"
    }
   ],
   "source": [
    "confidence_95_mask = likelihood.confidence_mask_from_logl(logl).astype('bool')\n",
    "confidence_95_intervals = [\n",
    "    likelihood.confidence_interval_from_confidence_mask(confidence_95_mask, 's80'),\n",
    "    likelihood.confidence_interval_from_confidence_mask(confidence_95_mask, 'p80'),\n",
    "    likelihood.confidence_interval_from_confidence_mask(confidence_95_mask, 'SAR'),\n",
    "]\n",
    "confidence_95_intervals"
   ]
  },
  {
   "cell_type": "code",
   "execution_count": 20,
   "id": "fb31427e",
   "metadata": {},
   "outputs": [
    {
     "data": {
      "text/plain": [
       "size  infections\n",
       "2     1             0.84862\n",
       "      2             0.15138\n",
       "3     1             0.74824\n",
       "      2             0.17132\n",
       "      3             0.08044\n",
       "4     1             0.66906\n",
       "      2             0.17458\n",
       "      3             0.09338\n",
       "      4             0.06298\n",
       "5     1             0.61204\n",
       "      2             0.16122\n",
       "      3             0.09412\n",
       "      4             0.07276\n",
       "      5             0.05986\n",
       "6     1             0.55886\n",
       "      2             0.15198\n",
       "      3             0.09014\n",
       "      4             0.07156\n",
       "      5             0.06396\n",
       "      6             0.06350\n",
       "7     1             0.52100\n",
       "      2             0.14176\n",
       "      3             0.08312\n",
       "      4             0.06452\n",
       "      5             0.06072\n",
       "      6             0.06062\n",
       "      7             0.06826\n",
       "8     1             0.47632\n",
       "      2             0.13012\n",
       "      3             0.07744\n",
       "      4             0.06122\n",
       "      5             0.05408\n",
       "      6             0.05718\n",
       "      7             0.06402\n",
       "      8             0.07962\n",
       "Name: best fit, dtype: float64"
      ]
     },
     "execution_count": 20,
     "metadata": {},
     "output_type": "execute_result"
    }
   ],
   "source": [
    "# the frequencies at the mle give the proportions of different # of infections in the best fit from the model\n",
    "best_fit_infections = results.df.loc[mle]['frequency']\n",
    "best_fit_infections.name = \"best fit\"\n",
    "best_fit_infections"
   ]
  },
  {
   "cell_type": "code",
   "execution_count": 21,
   "id": "e3efb772",
   "metadata": {},
   "outputs": [
    {
     "data": {
      "text/plain": [
       "size  infections\n",
       "2.0   1             0.797978\n",
       "      2             0.202022\n",
       "3.0   1             0.728341\n",
       "      2             0.169565\n",
       "      3             0.102093\n",
       "4.0   1             0.642744\n",
       "      2             0.188162\n",
       "      3             0.101430\n",
       "      4             0.067664\n",
       "5.0   1             0.635045\n",
       "      2             0.149107\n",
       "      3             0.101562\n",
       "      4             0.063393\n",
       "      5             0.050893\n",
       "6.0   1             0.549505\n",
       "      2             0.185644\n",
       "      3             0.106436\n",
       "      4             0.061469\n",
       "      5             0.048680\n",
       "      6             0.048267\n",
       "7.0   1             0.608150\n",
       "      2             0.120167\n",
       "      3             0.076280\n",
       "      4             0.063741\n",
       "      5             0.045977\n",
       "      6             0.042842\n",
       "      7             0.042842\n",
       "8.0   1             0.511211\n",
       "      2             0.174888\n",
       "      3             0.082960\n",
       "      4             0.053812\n",
       "      5             0.069507\n",
       "      6             0.035874\n",
       "      7             0.022422\n",
       "      8             0.049327\n",
       "Name: empirical, dtype: float64"
      ]
     },
     "execution_count": 21,
     "metadata": {},
     "output_type": "execute_result"
    }
   ],
   "source": [
    "# the empirical data is observed counts, we convert that to frequencies by dividing the counts by the total number of households of that size\n",
    "empirical_frequencies = empirical_counts/(empirical_counts.groupby(['sample ' + k for k in keys]+[\"size\"]).sum())\n",
    "empirical_frequencies.name = 'empirical'\n",
    "# we have to index past the dummy key values that we assigned earlier for each parameter in the empirical dataset\n",
    "empirical_frequencies = empirical_frequencies.loc[0.0, 0.0, 0.0]\n",
    "empirical_frequencies"
   ]
  },
  {
   "cell_type": "code",
   "execution_count": 23,
   "id": "ebdd8b1c",
   "metadata": {},
   "outputs": [
    {
     "data": {
      "image/png": "[encoded data removed]",
      "text/plain": [
       "<Figure size 360x864 with 3 Axes>"
      ]
     },
     "metadata": {
      "needs_background": "light"
     },
     "output_type": "display_data"
    }
   ],
   "source": [
    "import matplotlib.pyplot as plt\n",
    "combined_best_and_empirical = pd.concat([empirical_frequencies, best_fit_infections], axis=1)\n",
    "empirical_sizes = empirical_df.groupby('size').size()\n",
    "n_sizes = len(empirical_sizes.index.unique())\n",
    "\n",
    "which_sizes = empirical_sizes.index.unique()\n",
    "which_sizes = [2, 5, 8]\n",
    "\n",
    "vertical = True\n",
    "\n",
    "n_cols = 3\n",
    "n_rows = int(np.ceil(len(which_sizes) / n_cols))\n",
    "\n",
    "if orientation == 'vertical':\n",
    "    n_cols, n_rows = n_rows, n_cols\n",
    "\n",
    "fig, axes = plt.subplots(nrows=n_rows, ncols=n_cols)\n",
    "axis_generator = (ax for ax in np.ravel(axes))\n",
    "cmap = plt.get_cmap(\"tab10\")\n",
    "color_dict = {'best fit': cmap(0), 'empirical': cmap(1)}\n",
    "for k,g in combined_best_and_empirical.groupby('size'):\n",
    "    if k not in which_sizes:\n",
    "        continue\n",
    "    try:\n",
    "        ax = next(axis_generator)\n",
    "    except StopIteration:\n",
    "        break\n",
    "    try:\n",
    "        title = f\"Household size = {k} (# hh in data = {empirical_sizes[k]})\"\n",
    "    except KeyError:\n",
    "        continue\n",
    "    g = g.set_index(g.index.droplevel('size'))\n",
    "    g.plot.bar(\n",
    "        ax=ax,\n",
    "        figsize=(5*n_cols,n_rows*4),\n",
    "        title=title,\n",
    "        xlabel=\"infections\",\n",
    "        ylabel=\"fraction\",\n",
    "        sharex=True,\n",
    "        color=color_dict\n",
    "    ),\n",
    "\n",
    "plt.savefig('output.png', dpi=300, bbox_inches='tight')"
   ]
  },
  {
   "cell_type": "code",
   "execution_count": null,
   "id": "0162517d",
   "metadata": {},
   "outputs": [],
   "source": []
  }
 ],
 "metadata": {
  "interpreter": {
   "hash": "03a37169ebecb45dcf20fa5c1f374fea92f87ddabb160d4575a3a031fd7e1e7d"
  },
  "kernelspec": {
   "display_name": "Python 3.9.5 ('.venv': poetry)",
   "language": "python",
   "name": "python3"
  },
  "language_info": {
   "codemirror_mode": {
    "name": "ipython",
    "version": 3
   },
   "file_extension": ".py",
   "mimetype": "text/x-python",
   "name": "python",
   "nbconvert_exporter": "python",
   "pygments_lexer": "ipython3",
   "version": "3.9.5"
  }
 },
 "nbformat": 4,
 "nbformat_minor": 5
}
