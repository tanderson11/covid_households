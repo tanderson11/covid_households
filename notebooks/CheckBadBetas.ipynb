{
 "cells": [
  {
   "cell_type": "code",
   "execution_count": 1,
   "id": "3f7c3824",
   "metadata": {},
   "outputs": [
    {
     "name": "stdout",
     "output_type": "stream",
     "text": [
      "/Users/thayer/covid_households/covid_households\n"
     ]
    }
   ],
   "source": [
    "# Initialization\n",
    "%cd ../covid_households/\n",
    "import recipes\n",
    "import utilities\n",
    "import traits\n",
    "\n",
    "import tqdm\n",
    "from multiprocessing import Pool"
   ]
  },
  {
   "cell_type": "markdown",
   "id": "221c1b71",
   "metadata": {},
   "source": [
    "# What is this notebook for?\n",
    "\n",
    "We conduct our simulations over a range of values for each of our three different parameters, $s_{80}$, $p_{80}$, and $\\text{SAR}$. But these parameters are not direct inputs into our model, they are complex expressions of properties of the distributions of relative susceptibility and infectivity ($s_{80}$ and $p_{80}$) in the population or the average risk of infection from a household contact ($\\text{SAR}$). For full information about these parameters, see the Methods and Supplemental Methods sections.\n",
    "\n",
    "To convert these parameters to actual model parameters (the mean & variance of distributions; or $\\beta$, the probability/time of infection) we use numerical methods. For the overwhelming majority of parameter combinations, this works great. But when $p_{80}$ or $s_{80}$ is small and $\\text{SAR}$ is high, we cannot solve for a $\\beta$ that actually produces the desired $\\text{SAR}$. There is so much heterogeneity (and thus so many people that are neglibly infectious or susceptible) that we can't solve for an appropriately high $\\beta$ given that $\\beta < 1$.\n",
    "\n",
    "We want to drop these points of our 3d grid in parameter space so that the likelihood surface does not include points with an unrealistic $\\beta$. To do that, we first have to find every point where the residual from the numerical fit is higher than our tolerance ($10^{-5}$)."
   ]
  },
  {
   "cell_type": "markdown",
   "id": "1985f215",
   "metadata": {},
   "source": [
    "We define the region over which we simulate by enumerating each of its axes. In order to compute in parallel, we also make a `coordinate_stream` generator that yields coordinate pairs for the entire region in sequence."
   ]
  },
  {
   "cell_type": "code",
   "execution_count": 3,
   "id": "15afc19b",
   "metadata": {},
   "outputs": [],
   "source": [
    "import numpy as np\n",
    "s80_axis = np.linspace(0.10, 0.80, 36)\n",
    "p80_axis = np.linspace(0.10, 0.80, 36)\n",
    "sar_axis = np.linspace(0.05, 0.60, 56)\n",
    "\n",
    "def coordinate_stream(axis1, axis2, axis3):\n",
    "    for v1 in axis1:\n",
    "        for v2 in axis2:\n",
    "            for v3 in axis3:\n",
    "                yield (v1, v2, v3)"
   ]
  },
  {
   "cell_type": "markdown",
   "id": "4c318670",
   "metadata": {},
   "source": [
    "Using Python's multiprocessing functionality, we iterate over each point in the region and apply the `calculate_residual` function from `utilities` in order to find the difference between the expected $\\text{SAR}$ and the $\\text{SAR}$ that is actually implied by $\\beta$ and the traits."
   ]
  },
  {
   "cell_type": "code",
   "execution_count": 5,
   "id": "0b9394f0",
   "metadata": {},
   "outputs": [
    {
     "name": "stderr",
     "output_type": "stream",
     "text": [
      "100%|█████████████████████████████████████| 72576/72576 [23:49<00:00, 50.77it/s]\n"
     ]
    }
   ],
   "source": [
    "with Pool(4) as p:\n",
    "    total = len(s80_axis) * len(p80_axis) * len(sar_axis)\n",
    "    residuals = list(tqdm.tqdm(\n",
    "        p.imap(utilities.calculate_residual, coordinate_stream(s80_axis, p80_axis, sar_axis)),\n",
    "        total=total\n",
    "    ))"
   ]
  },
  {
   "cell_type": "code",
   "execution_count": 7,
   "id": "b8b59ea5",
   "metadata": {},
   "outputs": [],
   "source": [
    "beta_crib_copy = utilities.S80_P80_SAR_Inputs.beta_crib.copy()\n",
    "beta_crib_copy['residuals'] = residuals"
   ]
  },
  {
   "cell_type": "code",
   "execution_count": 9,
   "id": "ec975281",
   "metadata": {},
   "outputs": [],
   "source": [
    "beta_crib_copy['bad beta'] = beta_crib_copy['residuals'] > 10e-5"
   ]
  },
  {
   "cell_type": "code",
   "execution_count": 17,
   "id": "557780e4",
   "metadata": {},
   "outputs": [
    {
     "data": {
      "text/html": [
       "<div>\n",
       "<style scoped>\n",
       "    .dataframe tbody tr th:only-of-type {\n",
       "        vertical-align: middle;\n",
       "    }\n",
       "\n",
       "    .dataframe tbody tr th {\n",
       "        vertical-align: top;\n",
       "    }\n",
       "\n",
       "    .dataframe thead th {\n",
       "        text-align: right;\n",
       "    }\n",
       "</style>\n",
       "<table border=\"1\" class=\"dataframe\">\n",
       "  <thead>\n",
       "    <tr style=\"text-align: right;\">\n",
       "      <th></th>\n",
       "      <th></th>\n",
       "      <th></th>\n",
       "      <th>beta</th>\n",
       "      <th>residuals</th>\n",
       "      <th>bad beta</th>\n",
       "    </tr>\n",
       "    <tr>\n",
       "      <th>s80</th>\n",
       "      <th>p80</th>\n",
       "      <th>SAR</th>\n",
       "      <th></th>\n",
       "      <th></th>\n",
       "      <th></th>\n",
       "    </tr>\n",
       "  </thead>\n",
       "  <tbody>\n",
       "    <tr>\n",
       "      <th rowspan=\"5\" valign=\"top\">0.1</th>\n",
       "      <th rowspan=\"5\" valign=\"top\">0.10</th>\n",
       "      <th>0.25</th>\n",
       "      <td>0.999993</td>\n",
       "      <td>0.002830</td>\n",
       "      <td>True</td>\n",
       "    </tr>\n",
       "    <tr>\n",
       "      <th>0.26</th>\n",
       "      <td>0.999999</td>\n",
       "      <td>0.012829</td>\n",
       "      <td>True</td>\n",
       "    </tr>\n",
       "    <tr>\n",
       "      <th>0.27</th>\n",
       "      <td>0.999999</td>\n",
       "      <td>0.022829</td>\n",
       "      <td>True</td>\n",
       "    </tr>\n",
       "    <tr>\n",
       "      <th>0.28</th>\n",
       "      <td>0.999999</td>\n",
       "      <td>0.032829</td>\n",
       "      <td>True</td>\n",
       "    </tr>\n",
       "    <tr>\n",
       "      <th>0.29</th>\n",
       "      <td>0.999998</td>\n",
       "      <td>0.042829</td>\n",
       "      <td>True</td>\n",
       "    </tr>\n",
       "    <tr>\n",
       "      <th>...</th>\n",
       "      <th>...</th>\n",
       "      <th>...</th>\n",
       "      <td>...</td>\n",
       "      <td>...</td>\n",
       "      <td>...</td>\n",
       "    </tr>\n",
       "    <tr>\n",
       "      <th rowspan=\"5\" valign=\"top\">0.8</th>\n",
       "      <th rowspan=\"4\" valign=\"top\">0.14</th>\n",
       "      <th>0.57</th>\n",
       "      <td>0.999999</td>\n",
       "      <td>0.004348</td>\n",
       "      <td>True</td>\n",
       "    </tr>\n",
       "    <tr>\n",
       "      <th>0.58</th>\n",
       "      <td>0.999997</td>\n",
       "      <td>0.014349</td>\n",
       "      <td>True</td>\n",
       "    </tr>\n",
       "    <tr>\n",
       "      <th>0.59</th>\n",
       "      <td>0.999999</td>\n",
       "      <td>0.024348</td>\n",
       "      <td>True</td>\n",
       "    </tr>\n",
       "    <tr>\n",
       "      <th>0.60</th>\n",
       "      <td>0.999998</td>\n",
       "      <td>0.034349</td>\n",
       "      <td>True</td>\n",
       "    </tr>\n",
       "    <tr>\n",
       "      <th>0.16</th>\n",
       "      <th>0.60</th>\n",
       "      <td>0.999999</td>\n",
       "      <td>0.004310</td>\n",
       "      <td>True</td>\n",
       "    </tr>\n",
       "  </tbody>\n",
       "</table>\n",
       "<p>5116 rows × 3 columns</p>\n",
       "</div>"
      ],
      "text/plain": [
       "                   beta  residuals  bad beta\n",
       "s80 p80  SAR                                \n",
       "0.1 0.10 0.25  0.999993   0.002830      True\n",
       "         0.26  0.999999   0.012829      True\n",
       "         0.27  0.999999   0.022829      True\n",
       "         0.28  0.999999   0.032829      True\n",
       "         0.29  0.999998   0.042829      True\n",
       "...                 ...        ...       ...\n",
       "0.8 0.14 0.57  0.999999   0.004348      True\n",
       "         0.58  0.999997   0.014349      True\n",
       "         0.59  0.999999   0.024348      True\n",
       "         0.60  0.999998   0.034349      True\n",
       "    0.16 0.60  0.999999   0.004310      True\n",
       "\n",
       "[5116 rows x 3 columns]"
      ]
     },
     "execution_count": 17,
     "metadata": {},
     "output_type": "execute_result"
    }
   ],
   "source": [
    "beta_crib_copy[beta_crib_copy['bad beta']]"
   ]
  },
  {
   "cell_type": "code",
   "execution_count": 43,
   "id": "1b273252",
   "metadata": {},
   "outputs": [],
   "source": [
    "beta_crib_copy.to_csv('./problematic_parameter_combinations.csv')"
   ]
  },
  {
   "cell_type": "code",
   "execution_count": 23,
   "id": "e8c40a3f",
   "metadata": {},
   "outputs": [],
   "source": [
    "results = recipes.Results.load('/Users/thayer/covid_households/new_parameters/gillespie-s80-p80-SAR')\n",
    "results.find_frequencies(inplace=True)\n",
    "keys = results.metadata.parameters"
   ]
  },
  {
   "cell_type": "code",
   "execution_count": 27,
   "id": "6d4b067d",
   "metadata": {},
   "outputs": [],
   "source": [
    "import os\n",
    "import pyarrow.parquet as pq\n",
    "root = \"/Users/thayer/covid_households/\"\n",
    "empirical_df = os.path.join(root, \"empirical/Ontario/empirical_df.parquet\")\n",
    "empirical_df = pq.read_table(empirical_df).to_pandas()\n",
    "for key in keys:\n",
    "    empirical_df[key] = 0.\n",
    "empirical_counts = likelihood.counts_from_empirical(empirical_df, keys, sample_only_keys=[])"
   ]
  },
  {
   "cell_type": "code",
   "execution_count": 32,
   "id": "ab26068c",
   "metadata": {},
   "outputs": [],
   "source": [
    "import likelihood\n",
    "frequencies = results.df['frequency'].copy()\n",
    "logl = likelihood.logl_from_frequencies_and_counts(frequencies, empirical_counts, keys)"
   ]
  },
  {
   "cell_type": "code",
   "execution_count": 38,
   "id": "ad30d1ab",
   "metadata": {},
   "outputs": [],
   "source": [
    "try_drop = frequencies.drop(beta_crib_copy[beta_crib_copy['bad beta']].index)"
   ]
  },
  {
   "cell_type": "code",
   "execution_count": 40,
   "id": "a79f636c",
   "metadata": {},
   "outputs": [
    {
     "data": {
      "text/plain": [
       "SAR   size  infections\n",
       "0.05  2     1             0.979075\n",
       "            2             0.020925\n",
       "      3     1             0.953415\n",
       "            2             0.038095\n",
       "            3             0.008490\n",
       "                            ...   \n",
       "0.24  8     4             0.044740\n",
       "            5             0.055115\n",
       "            6             0.079085\n",
       "            7             0.118030\n",
       "            8             0.156590\n",
       "Name: frequency, Length: 700, dtype: float64"
      ]
     },
     "execution_count": 40,
     "metadata": {},
     "output_type": "execute_result"
    }
   ],
   "source": [
    "try_drop.loc[0.1, 0.1]"
   ]
  },
  {
   "cell_type": "code",
   "execution_count": 42,
   "id": "ba144613",
   "metadata": {},
   "outputs": [
    {
     "data": {
      "text/plain": [
       "SAR\n",
       "0.05   -35625.878801\n",
       "0.06   -33995.335593\n",
       "0.07   -32637.403433\n",
       "0.08   -31483.873504\n",
       "0.09   -30596.335508\n",
       "0.10   -29869.141507\n",
       "0.11   -29225.854729\n",
       "0.12   -28693.304793\n",
       "0.13   -28250.902012\n",
       "0.14   -27889.742978\n",
       "0.15   -27586.048467\n",
       "0.16   -27373.443593\n",
       "0.17   -27194.806803\n",
       "0.18   -27062.730097\n",
       "0.19   -26971.971471\n",
       "0.20   -26925.170734\n",
       "0.21   -26915.597274\n",
       "0.22   -26942.499147\n",
       "0.23   -26996.498818\n",
       "0.24   -27079.943205\n",
       "Name: logl, dtype: float64"
      ]
     },
     "execution_count": 42,
     "metadata": {},
     "output_type": "execute_result"
    }
   ],
   "source": [
    "likelihood.logl_from_frequencies_and_counts(try_drop, empirical_counts, keys).loc[0, 0.1, 0.1]"
   ]
  },
  {
   "cell_type": "code",
   "execution_count": null,
   "id": "352877b2",
   "metadata": {},
   "outputs": [],
   "source": []
  }
 ],
 "metadata": {
  "kernelspec": {
   "display_name": "Python 3 (ipykernel)",
   "language": "python",
   "name": "python3"
  },
  "language_info": {
   "codemirror_mode": {
    "name": "ipython",
    "version": 3
   },
   "file_extension": ".py",
   "mimetype": "text/x-python",
   "name": "python",
   "nbconvert_exporter": "python",
   "pygments_lexer": "ipython3",
   "version": "3.9.5"
  }
 },
 "nbformat": 4,
 "nbformat_minor": 5
}
