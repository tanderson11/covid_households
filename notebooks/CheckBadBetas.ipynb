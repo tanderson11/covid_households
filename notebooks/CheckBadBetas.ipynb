{
 "cells": [
  {
   "cell_type": "code",
   "execution_count": 1,
   "id": "3f7c3824",
   "metadata": {},
   "outputs": [
    {
     "name": "stdout",
     "output_type": "stream",
     "text": [
      "/Users/thayer/covid_households/covid_households\n"
     ]
    }
   ],
   "source": [
    "# Initialization\n",
    "%cd ../covid_households/\n",
    "import recipes\n",
    "import utilities\n",
    "import traits\n",
    "\n",
    "import tqdm\n",
    "from multiprocessing import Pool"
   ]
  },
  {
   "cell_type": "markdown",
   "id": "221c1b71",
   "metadata": {},
   "source": [
    "# What is this notebook for?\n",
    "\n",
    "We conduct our simulations over a range of values for each of our three different parameters, $s_{80}$, $p_{80}$, and $\\text{SAR}$. But these parameters are not direct inputs into our model, they are complex expressions of properties of the distributions of relative susceptibility and infectivity ($s_{80}$ and $p_{80}$) in the population or the average risk of infection from a household contact ($\\text{SAR}$). For full information about these parameters, see the Methods and Supplemental Methods sections.\n",
    "\n",
    "To convert these parameters to actual model parameters (the mean & variance of distributions; or $\\beta$, the probability/time of infection) we use numerical methods. For the overwhelming majority of parameter combinations, this works great. But when $p_{80}$ or $s_{80}$ is small and $\\text{SAR}$ is high, we cannot solve for a $\\beta$ that actually produces the desired $\\text{SAR}$. There is so much heterogeneity (and thus so many people that are neglibly infectious or susceptible) that we can't solve for an appropriately high $\\beta$ given that $\\beta < 1$.\n",
    "\n",
    "We want to drop these points of our 3d grid in parameter space so that the likelihood surface does not include points with an unrealistic $\\beta$. To do that, we first have to find every point where the residual from the numerical fit is higher than our tolerance ($10^{-5}$)."
   ]
  },
  {
   "cell_type": "markdown",
   "id": "2812ed9c",
   "metadata": {},
   "source": [
    "We define the region over which we simulate by enumerating each of its axes. In order to compute in parallel, we also make a `coordinate_stream` generator that yields coordinate pairs for the entire region in sequence."
   ]
  },
  {
   "cell_type": "code",
   "execution_count": 2,
   "id": "15afc19b",
   "metadata": {},
   "outputs": [],
   "source": [
    "import numpy as np\n",
    "s80_axis = np.linspace(0.02, 0.80, 40)\n",
    "p80_axis = np.linspace(0.02, 0.80, 40)\n",
    "sar_axis = np.linspace(0.01, 0.60, 60)\n",
    "\n",
    "def coordinate_stream(axis1, axis2, axis3):\n",
    "    for v1 in axis1:\n",
    "        for v2 in axis2:\n",
    "            for v3 in axis3:\n",
    "                yield (v1, v2, v3)"
   ]
  },
  {
   "cell_type": "markdown",
   "id": "f2c19258",
   "metadata": {},
   "source": [
    "Using Python's multiprocessing functionality, we iterate over each point in the region and apply the `calculate_residual` function from `utilities` in order to find the difference between the expected $\\text{SAR}$ and the $\\text{SAR}$ that is actually implied by $\\beta$ and the traits."
   ]
  },
  {
   "cell_type": "code",
   "execution_count": 4,
   "id": "0b9394f0",
   "metadata": {},
   "outputs": [
    {
     "name": "stderr",
     "output_type": "stream",
     "text": [
      "100%|███████████████████████████████████████████████████████████████████████████████████████████████████████████████████████████| 96000/96000 [27:01<00:00, 59.21it/s]\n"
     ]
    }
   ],
   "source": [
    "with Pool(4) as p:\n",
    "    total = len(s80_axis) * len(p80_axis) * len(sar_axis)\n",
    "    residuals = list(tqdm.tqdm(\n",
    "        p.imap(utilities.residual_wrapper, coordinate_stream(s80_axis, p80_axis, sar_axis)),\n",
    "        total=total\n",
    "    ))"
   ]
  },
  {
   "cell_type": "markdown",
   "id": "e57ee510",
   "metadata": {},
   "source": [
    "A \"crib\" is a cheat sheet that we use to precalculate the mappings between our parameters and the model parameters we need to simulate forwards in time. We want to mirror its structure but find the cells were the residual is greater than our tolerance."
   ]
  },
  {
   "cell_type": "code",
   "execution_count": 22,
   "id": "b8b59ea5",
   "metadata": {},
   "outputs": [],
   "source": [
    "beta_crib_copy = utilities.S80_P80_SAR_Inputs.beta_crib.copy()\n",
    "beta_crib_copy['residuals'] = residuals"
   ]
  },
  {
   "cell_type": "code",
   "execution_count": 23,
   "id": "ec975281",
   "metadata": {},
   "outputs": [],
   "source": [
    "beta_crib_copy['bad beta'] = beta_crib_copy['residuals'] > 10e-5"
   ]
  },
  {
   "cell_type": "code",
   "execution_count": 24,
   "id": "557780e4",
   "metadata": {},
   "outputs": [
    {
     "data": {
      "text/html": [
       "<div>\n",
       "<style scoped>\n",
       "    .dataframe tbody tr th:only-of-type {\n",
       "        vertical-align: middle;\n",
       "    }\n",
       "\n",
       "    .dataframe tbody tr th {\n",
       "        vertical-align: top;\n",
       "    }\n",
       "\n",
       "    .dataframe thead th {\n",
       "        text-align: right;\n",
       "    }\n",
       "</style>\n",
       "<table border=\"1\" class=\"dataframe\">\n",
       "  <thead>\n",
       "    <tr style=\"text-align: right;\">\n",
       "      <th></th>\n",
       "      <th></th>\n",
       "      <th></th>\n",
       "      <th>beta</th>\n",
       "      <th>residuals</th>\n",
       "      <th>bad beta</th>\n",
       "    </tr>\n",
       "    <tr>\n",
       "      <th>s80</th>\n",
       "      <th>p80</th>\n",
       "      <th>SAR</th>\n",
       "      <th></th>\n",
       "      <th></th>\n",
       "      <th></th>\n",
       "    </tr>\n",
       "  </thead>\n",
       "  <tbody>\n",
       "  </tbody>\n",
       "</table>\n",
       "</div>"
      ],
      "text/plain": [
       "Empty DataFrame\n",
       "Columns: [beta, residuals, bad beta]\n",
       "Index: []"
      ]
     },
     "execution_count": 24,
     "metadata": {},
     "output_type": "execute_result"
    }
   ],
   "source": [
    "beta_crib_copy[beta_crib_copy['bad beta']]"
   ]
  },
  {
   "cell_type": "code",
   "execution_count": 43,
   "id": "1b273252",
   "metadata": {},
   "outputs": [],
   "source": [
    "beta_crib_copy.to_csv('./problematic_parameter_combinations.csv')"
   ]
  }
 ],
 "metadata": {
  "kernelspec": {
   "display_name": "Python 3 (ipykernel)",
   "language": "python",
   "name": "python3"
  },
  "language_info": {
   "codemirror_mode": {
    "name": "ipython",
    "version": 3
   },
   "file_extension": ".py",
   "mimetype": "text/x-python",
   "name": "python",
   "nbconvert_exporter": "python",
   "pygments_lexer": "ipython3",
   "version": "3.9.5"
  }
 },
 "nbformat": 4,
 "nbformat_minor": 5
}
