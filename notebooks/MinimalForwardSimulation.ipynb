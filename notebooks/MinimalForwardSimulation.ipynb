{
  "cells": [
    {
      "cell_type": "markdown",
      "metadata": {
        "id": "DVNH5-KSBUlt"
      },
      "source": [
        "# Initialization\n",
        "\n",
        "This section will help you interface with Google Drive and clone the git repository where the code lives."
      ]
    },
    {
      "cell_type": "code",
      "execution_count": 23,
      "metadata": {
        "colab": {
          "base_uri": "https://localhost:8080/"
        },
        "id": "ORzYVf06BhuU",
        "outputId": "47fd409f-f438-4582-bd24-a5414f5cd496"
      },
      "outputs": [
        {
          "ename": "ModuleNotFoundError",
          "evalue": "No module named 'google'",
          "output_type": "error",
          "traceback": [
            "\u001b[0;31m---------------------------------------------------------------------------\u001b[0m",
            "\u001b[0;31mModuleNotFoundError\u001b[0m                       Traceback (most recent call last)",
            "\u001b[1;32m/Users/thayer/covid_households/notebooks/Covid_Households_Forward_Simulation_Minimal_Example.ipynb Cell 2'\u001b[0m in \u001b[0;36m<cell line: 1>\u001b[0;34m()\u001b[0m\n\u001b[0;32m----> <a href='vscode-notebook-cell:/Users/thayer/covid_households/notebooks/Covid_Households_Forward_Simulation_Minimal_Example.ipynb#ch0000001?line=0'>1</a>\u001b[0m \u001b[39mfrom\u001b[39;00m \u001b[39mgoogle\u001b[39;00m\u001b[39m.\u001b[39;00m\u001b[39mcolab\u001b[39;00m \u001b[39mimport\u001b[39;00m drive\n\u001b[1;32m      <a href='vscode-notebook-cell:/Users/thayer/covid_households/notebooks/Covid_Households_Forward_Simulation_Minimal_Example.ipynb#ch0000001?line=1'>2</a>\u001b[0m drive\u001b[39m.\u001b[39mmount(\u001b[39m'\u001b[39m\u001b[39m/content/gdrive\u001b[39m\u001b[39m'\u001b[39m)\n",
            "\u001b[0;31mModuleNotFoundError\u001b[0m: No module named 'google'"
          ]
        }
      ],
      "source": [
        "from google.colab import drive\n",
        "drive.mount('/content/gdrive')"
      ]
    },
    {
      "cell_type": "code",
      "execution_count": null,
      "metadata": {
        "colab": {
          "base_uri": "https://localhost:8080/"
        },
        "id": "I3fmCBmpDCZn",
        "outputId": "ab0b2183-1467-44f7-854b-01932385229e"
      },
      "outputs": [
        {
          "name": "stdout",
          "output_type": "stream",
          "text": [
            "mkdir: cannot create directory ‘/content/gdrive/My Drive/github/’: File exists\n",
            "/content/gdrive/My Drive/github\n"
          ]
        }
      ],
      "source": [
        "%mkdir /content/gdrive/My\\ Drive/github/\n",
        "%cd /content/gdrive/My\\ Drive/github/\n",
        "# Thayer has his files located here instead\n",
        "#%cd /content/gdrive/My\\ Drive/github/paper_push\n"
      ]
    },
    {
      "cell_type": "code",
      "execution_count": null,
      "metadata": {
        "id": "J0qVcYVio4mo"
      },
      "outputs": [],
      "source": [
        "# If you've forked the repository, point to your own username and repository name (if different)\n",
        "repo_owner=\"tanderson11\"\n",
        "repository=\"covid_households\"\n",
        "\n",
        "!git config --global user.email \"tanderson11@gmail.com\"\n",
        "!git config --global user.name \"Thayer Anderson\""
      ]
    },
    {
      "cell_type": "code",
      "execution_count": null,
      "metadata": {
        "colab": {
          "base_uri": "https://localhost:8080/"
        },
        "id": "4wBI8yq891xZ",
        "outputId": "ff975c41-eafa-4049-a218-1ec35c06a94d"
      },
      "outputs": [
        {
          "name": "stdout",
          "output_type": "stream",
          "text": [
            "fatal: destination path 'covid_households' already exists and is not an empty directory.\n"
          ]
        }
      ],
      "source": [
        "!git clone https://github.com/tanderson11/covid_households.git"
      ]
    },
    {
      "cell_type": "code",
      "execution_count": 1,
      "metadata": {
        "colab": {
          "base_uri": "https://localhost:8080/"
        },
        "id": "bqQubdG6EpNl",
        "outputId": "897a3f56-7399-4d30-c3a4-45adc1e711fb"
      },
      "outputs": [
        {
          "name": "stdout",
          "output_type": "stream",
          "text": [
            "[Errno 2] No such file or directory: 'covid_households/'\n",
            "/Users/thayer/covid_households/notebooks\n",
            "\u001b[34m.\u001b[m\u001b[m                              MinimalForwardSimulation.ipynb\n",
            "\u001b[34m..\u001b[m\u001b[m                             ViolinsAndPowerCalc.ipynb\n",
            "\u001b[34m.ipynb_checkpoints\u001b[m\u001b[m             __init__.py\n",
            "EmpiricalFits.ipynb            \u001b[34m__pycache__\u001b[m\u001b[m\n"
          ]
        }
      ],
      "source": [
        "%cd covid_households/\n",
        "!ls -a\n",
        "\n",
        "# >>> TOKEN SETUP: <<<\n",
        "# this will put your token in the right folder; comment this line out after use to avoid an error message\n",
        "#!mv ../git_token.py ./\n",
        "#!cp ../../covid_households/git_token.py ./\n",
        "\n",
        "#from git_token import git_token"
      ]
    },
    {
      "cell_type": "code",
      "execution_count": null,
      "metadata": {
        "colab": {
          "base_uri": "https://localhost:8080/"
        },
        "id": "FYatPc_m-Iwo",
        "outputId": "0666afa8-1fa4-4a72-99a9-125902f5f4a3"
      },
      "outputs": [
        {
          "name": "stdout",
          "output_type": "stream",
          "text": [
            "error: Your local changes to the following files would be overwritten by checkout:\n",
            "\twheel.sh\n",
            "Please commit your changes or stash them before you switch branches.\n",
            "Aborting\n",
            "remote: Enumerating objects: 41, done.\u001b[K\n",
            "remote: Counting objects: 100% (34/34), done.\u001b[K\n",
            "remote: Compressing objects: 100% (13/13), done.\u001b[K\n",
            "remote: Total 23 (delta 14), reused 16 (delta 10), pack-reused 0\u001b[K\n",
            "Unpacking objects: 100% (23/23), done.\n",
            "From https://github.com/tanderson11/covid_households\n",
            "   ed5ee22..9e369ec  thayer-populationrefactor -> origin/thayer-populationrefactor\n",
            "   1017de4..929b164  main       -> origin/main\n",
            "Updating ed5ee22..9e369ec\n",
            "Fast-forward\n",
            " ParameterInferenceLab.ipynb | 7290 \u001b[31m-------------------------------------------\u001b[m\n",
            " SuperspreadingLab.ipynb     |  844 \u001b[31m-----\u001b[m\n",
            " Vaccine.ipynb               | 5584 \u001b[31m---------------------------------\u001b[m\n",
            " VaccineLab.ipynb            | 2440 \u001b[31m---------------\u001b[m\n",
            " compile_pool.py             |  102 \u001b[31m-\u001b[m\n",
            " constants.py                |   25 \u001b[32m+\u001b[m\u001b[31m-\u001b[m\n",
            " forward_simulation.py       |   96 \u001b[31m-\u001b[m\n",
            " recipes.py                  |    8 \u001b[32m+\u001b[m\u001b[31m-\u001b[m\n",
            " vaccine.py                  |  295 \u001b[31m--\u001b[m\n",
            " 9 files changed, 3 insertions(+), 16681 deletions(-)\n",
            " delete mode 100644 ParameterInferenceLab.ipynb\n",
            " delete mode 100644 SuperspreadingLab.ipynb\n",
            " delete mode 100644 Vaccine.ipynb\n",
            " delete mode 100644 VaccineLab.ipynb\n",
            " delete mode 100644 compile_pool.py\n",
            " delete mode 100644 forward_simulation.py\n",
            " delete mode 100644 vaccine.py\n"
          ]
        }
      ],
      "source": [
        "!git checkout main\n",
        "!git pull"
      ]
    },
    {
      "cell_type": "markdown",
      "metadata": {
        "id": "iO7I7oftLV1d"
      },
      "source": [
        "# Experiments\n",
        "\n",
        "We start by importing `recipes` and `utilities`. `Recipes` contains the code that we use for running experiments easily, and utilities will help us define parameters and convert between different parameter sets."
      ]
    },
    {
      "cell_type": "code",
      "execution_count": 2,
      "metadata": {
        "id": "bJP1Mq2YEtVX"
      },
      "outputs": [
        {
          "name": "stdout",
          "output_type": "stream",
          "text": [
            "/Users/thayer/covid_households/covid_households\n"
          ]
        }
      ],
      "source": [
        "# Initialization\n",
        "%cd ../covid_households/\n",
        "import recipes\n",
        "import utilities"
      ]
    },
    {
      "cell_type": "markdown",
      "metadata": {
        "id": "JwYT8kgeLvhC"
      },
      "source": [
        "To run experiments we define a `Model` object. The `Model` contains various settings and configurations, and it knows how to run experiments."
      ]
    },
    {
      "cell_type": "code",
      "execution_count": 3,
      "metadata": {
        "colab": {
          "base_uri": "https://localhost:8080/"
        },
        "id": "u5H8RI_MLQeI",
        "outputId": "7d9fd479-3151-46a1-95eb-b99f6f177eb7"
      },
      "outputs": [
        {
          "data": {
            "text/plain": [
              "Model(state_lengths='lognormal', initial_seeding='seed one by susceptibility', importation=None, secondary_infections=True, intervention=None)"
            ]
          },
          "execution_count": 3,
          "metadata": {},
          "output_type": "execute_result"
        }
      ],
      "source": [
        "x = recipes.Model(state_lengths='lognormal')\n",
        "x"
      ]
    },
    {
      "cell_type": "markdown",
      "metadata": {
        "id": "9Hpd7YqoNMZz"
      },
      "source": [
        "To run an experiment, we use the `Model.run_trials()` method. We specify a population through a dictionary of sizes, and we specify a household beta (probability / unit time of transmission). "
      ]
    },
    {
      "cell_type": "code",
      "execution_count": 4,
      "metadata": {
        "colab": {
          "base_uri": "https://localhost:8080/",
          "height": 419
        },
        "id": "XV8lRQbjNLkN",
        "outputId": "5e90c49a-4582-4338-cab8-f74e56c6959f"
      },
      "outputs": [
        {
          "data": {
            "text/html": [
              "<div>\n",
              "<style scoped>\n",
              "    .dataframe tbody tr th:only-of-type {\n",
              "        vertical-align: middle;\n",
              "    }\n",
              "\n",
              "    .dataframe tbody tr th {\n",
              "        vertical-align: top;\n",
              "    }\n",
              "\n",
              "    .dataframe thead th {\n",
              "        text-align: right;\n",
              "    }\n",
              "</style>\n",
              "<table border=\"1\" class=\"dataframe\">\n",
              "  <thead>\n",
              "    <tr style=\"text-align: right;\">\n",
              "      <th></th>\n",
              "      <th>size</th>\n",
              "      <th>infections</th>\n",
              "    </tr>\n",
              "  </thead>\n",
              "  <tbody>\n",
              "    <tr>\n",
              "      <th>1000</th>\n",
              "      <td>4</td>\n",
              "      <td>4</td>\n",
              "    </tr>\n",
              "    <tr>\n",
              "      <th>1001</th>\n",
              "      <td>4</td>\n",
              "      <td>4</td>\n",
              "    </tr>\n",
              "    <tr>\n",
              "      <th>1002</th>\n",
              "      <td>4</td>\n",
              "      <td>1</td>\n",
              "    </tr>\n",
              "    <tr>\n",
              "      <th>1003</th>\n",
              "      <td>4</td>\n",
              "      <td>4</td>\n",
              "    </tr>\n",
              "    <tr>\n",
              "      <th>1004</th>\n",
              "      <td>4</td>\n",
              "      <td>1</td>\n",
              "    </tr>\n",
              "    <tr>\n",
              "      <th>...</th>\n",
              "      <td>...</td>\n",
              "      <td>...</td>\n",
              "    </tr>\n",
              "    <tr>\n",
              "      <th>995</th>\n",
              "      <td>5</td>\n",
              "      <td>5</td>\n",
              "    </tr>\n",
              "    <tr>\n",
              "      <th>996</th>\n",
              "      <td>5</td>\n",
              "      <td>2</td>\n",
              "    </tr>\n",
              "    <tr>\n",
              "      <th>997</th>\n",
              "      <td>5</td>\n",
              "      <td>5</td>\n",
              "    </tr>\n",
              "    <tr>\n",
              "      <th>998</th>\n",
              "      <td>5</td>\n",
              "      <td>5</td>\n",
              "    </tr>\n",
              "    <tr>\n",
              "      <th>999</th>\n",
              "      <td>5</td>\n",
              "      <td>5</td>\n",
              "    </tr>\n",
              "  </tbody>\n",
              "</table>\n",
              "<p>2000 rows × 2 columns</p>\n",
              "</div>"
            ],
            "text/plain": [
              "      size  infections\n",
              "1000     4           4\n",
              "1001     4           4\n",
              "1002     4           1\n",
              "1003     4           4\n",
              "1004     4           1\n",
              "...    ...         ...\n",
              "995      5           5\n",
              "996      5           2\n",
              "997      5           5\n",
              "998      5           5\n",
              "999      5           5\n",
              "\n",
              "[2000 rows x 2 columns]"
            ]
          },
          "execution_count": 4,
          "metadata": {},
          "output_type": "execute_result"
        }
      ],
      "source": [
        "# 1000 households of size 4 and 1000 households of size 5\n",
        "df = x.run_trials(household_beta=0.05, sizes={5:1000, 4:1000})\n",
        "df"
      ]
    },
    {
      "cell_type": "markdown",
      "metadata": {
        "id": "ApLssttfNlAp"
      },
      "source": [
        "To introduce heterogeneites, we add `traits` to the mix. Using `LognormalTrait` is recommended, but there are others like `GammaTrait`, `ConstantTrait` (with any constant value), and `BiModalTrait` (an n-fold difference between the two modes)."
      ]
    },
    {
      "cell_type": "code",
      "execution_count": 5,
      "metadata": {
        "colab": {
          "base_uri": "https://localhost:8080/",
          "height": 419
        },
        "id": "C6eSj4LxNlHY",
        "outputId": "b21ae10f-6165-4b07-b97f-dabcf743b1f4"
      },
      "outputs": [
        {
          "data": {
            "text/html": [
              "<div>\n",
              "<style scoped>\n",
              "    .dataframe tbody tr th:only-of-type {\n",
              "        vertical-align: middle;\n",
              "    }\n",
              "\n",
              "    .dataframe tbody tr th {\n",
              "        vertical-align: top;\n",
              "    }\n",
              "\n",
              "    .dataframe thead th {\n",
              "        text-align: right;\n",
              "    }\n",
              "</style>\n",
              "<table border=\"1\" class=\"dataframe\">\n",
              "  <thead>\n",
              "    <tr style=\"text-align: right;\">\n",
              "      <th></th>\n",
              "      <th>size</th>\n",
              "      <th>infections</th>\n",
              "    </tr>\n",
              "  </thead>\n",
              "  <tbody>\n",
              "    <tr>\n",
              "      <th>0</th>\n",
              "      <td>8</td>\n",
              "      <td>1</td>\n",
              "    </tr>\n",
              "    <tr>\n",
              "      <th>1</th>\n",
              "      <td>8</td>\n",
              "      <td>8</td>\n",
              "    </tr>\n",
              "    <tr>\n",
              "      <th>2</th>\n",
              "      <td>8</td>\n",
              "      <td>8</td>\n",
              "    </tr>\n",
              "    <tr>\n",
              "      <th>3</th>\n",
              "      <td>8</td>\n",
              "      <td>7</td>\n",
              "    </tr>\n",
              "    <tr>\n",
              "      <th>4</th>\n",
              "      <td>8</td>\n",
              "      <td>2</td>\n",
              "    </tr>\n",
              "    <tr>\n",
              "      <th>...</th>\n",
              "      <td>...</td>\n",
              "      <td>...</td>\n",
              "    </tr>\n",
              "    <tr>\n",
              "      <th>1995</th>\n",
              "      <td>8</td>\n",
              "      <td>1</td>\n",
              "    </tr>\n",
              "    <tr>\n",
              "      <th>1996</th>\n",
              "      <td>8</td>\n",
              "      <td>1</td>\n",
              "    </tr>\n",
              "    <tr>\n",
              "      <th>1997</th>\n",
              "      <td>8</td>\n",
              "      <td>1</td>\n",
              "    </tr>\n",
              "    <tr>\n",
              "      <th>1998</th>\n",
              "      <td>8</td>\n",
              "      <td>1</td>\n",
              "    </tr>\n",
              "    <tr>\n",
              "      <th>1999</th>\n",
              "      <td>8</td>\n",
              "      <td>1</td>\n",
              "    </tr>\n",
              "  </tbody>\n",
              "</table>\n",
              "<p>2000 rows × 2 columns</p>\n",
              "</div>"
            ],
            "text/plain": [
              "      size  infections\n",
              "0        8           1\n",
              "1        8           8\n",
              "2        8           8\n",
              "3        8           7\n",
              "4        8           2\n",
              "...    ...         ...\n",
              "1995     8           1\n",
              "1996     8           1\n",
              "1997     8           1\n",
              "1998     8           1\n",
              "1999     8           1\n",
              "\n",
              "[2000 rows x 2 columns]"
            ]
          },
          "execution_count": 5,
          "metadata": {},
          "output_type": "execute_result"
        }
      ],
      "source": [
        "import traits\n",
        "\n",
        "# we use a helper method to create lognormal trait distributions with the desired mean and variance (on the /natural/, not the log scale)\n",
        "susceptibility = traits.LognormalTrait.from_natural_mean_variance(mean=1.0, variance=0.5)\n",
        "infectivity = traits.LognormalTrait.from_natural_mean_variance(mean=1.0, variance=2.0)\n",
        "\n",
        "# specify the susceptibility distribution with the argument sus and likewise for inf \n",
        "df = x.run_trials(household_beta=0.05, sizes={8:2000}, sus=susceptibility, inf=infectivity)\n",
        "df"
      ]
    },
    {
      "cell_type": "markdown",
      "metadata": {
        "id": "tsuXMXUpO4Hk"
      },
      "source": [
        "## Experiments on grids\n",
        "\n",
        "Sometimes, we want to run lots and lots of experiments over a region in parameter space. That might not be relevant yet, but here is how to do it!\n",
        "\n",
        "Start by defining a region:\n",
        "\n",
        "We're using $s_{80}$, $p_{80}$, and $\\text{SAR}$ as the parameters in this example. If you want an explanation of them, let me know!"
      ]
    },
    {
      "cell_type": "code",
      "execution_count": 6,
      "metadata": {
        "colab": {
          "base_uri": "https://localhost:8080/"
        },
        "id": "DnSTtajiLWdy",
        "outputId": "e1b5a964-2ef3-4a95-a1a7-498eb8031075"
      },
      "outputs": [
        {
          "data": {
            "text/plain": [
              "SimulationRegion(axes_by_name=OrderedDict([('s80', array([0.2, 0.5, 0.8])), ('p80', array([0.2, 0.5, 0.8])), ('SAR', array([0.15, 0.25, 0.35]))]), parameter_class=<class 'utilities.S80_P80_SAR_Inputs'>)"
            ]
          },
          "execution_count": 6,
          "metadata": {},
          "output_type": "execute_result"
        }
      ],
      "source": [
        "import numpy as np\n",
        "s80_axis = np.linspace(0.2, 0.8, 3)\n",
        "p80_axis = np.linspace(0.2, 0.8, 3)\n",
        "sar_axis = np.linspace(0.15, 0.35, 3)\n",
        "from typing import OrderedDict\n",
        "axes_by_key = OrderedDict({'s80':s80_axis, 'p80':p80_axis, 'SAR':sar_axis})\n",
        "\n",
        "# The second argument is a `ModelInputs` formula. It knows how to convert the parameters in axes_by_key into the default parameters. \n",
        "region = recipes.SimulationRegion(axes_by_key, utilities.S80_P80_SAR_Inputs)\n",
        "region"
      ]
    },
    {
      "cell_type": "markdown",
      "metadata": {
        "id": "WyBvYNQbXVA8"
      },
      "source": [
        "Then we use `Model.run_grid()` to run at every point in the three-dimensional grid. We save the outputs (both incrementally and after we complete the simulations) in a folder that we specify."
      ]
    },
    {
      "cell_type": "code",
      "execution_count": 7,
      "metadata": {
        "colab": {
          "base_uri": "https://localhost:8080/"
        },
        "id": "GKxzx22NLaOa",
        "outputId": "cd257951-6b85-4280-9789-01025ef90def"
      },
      "outputs": [
        {
          "name": "stdout",
          "output_type": "stream",
          "text": [
            "mkdir: experiment_outputs/: File exists\n"
          ]
        }
      ],
      "source": [
        "import datetime\n",
        "date_str = datetime.datetime.now().strftime(\"%m-%d-%H-%M\")\n",
        "!mkdir experiment_outputs/\n",
        "dir_name = f\"experiment_outputs/experiment-{date_str}\"\n",
        "!mkdir {dir_name}\n",
        "results = x.run_grid({2:5000}, region, dir_name)\n",
        "results.save(dir_name, 'results')"
      ]
    },
    {
      "cell_type": "markdown",
      "metadata": {
        "id": "6_nwnCcg0lx9"
      },
      "source": [
        "## Understanding what a `results` object and a `df` are"
      ]
    },
    {
      "cell_type": "markdown",
      "metadata": {
        "id": "js5zW6Wq6sT3"
      },
      "source": [
        "A results object has two associated attributes:\n",
        "\n",
        "1. `results.metadata`: a record of the parameters and settings involved in simulating. It's helpful to carry this around to avoid accidentally combining results that don't represent the same model. But you probably don't need to worry about it too much!\n",
        "2. `results.df`: a [Pandas](https://pandas.pydata.org/pandas-docs/stable/reference/api/pandas.DataFrame.html) `DataFrame` object. This is essentially just a spreadsheet that records the observed numbers of infections for the different households at the different points in parameter space."
      ]
    },
    {
      "cell_type": "code",
      "execution_count": 8,
      "metadata": {
        "colab": {
          "base_uri": "https://localhost:8080/"
        },
        "id": "B_vrDXN26bGr",
        "outputId": "4bb575cd-ecec-414c-d7fb-b639a847519b"
      },
      "outputs": [
        {
          "data": {
            "text/plain": [
              "Metadata(constants={'delta_t': 0.1, 'infectious_period_duration_mean': 6.0, 'infectious_period_duration_std': 2.5, 'latent_period_duration_mean': 3.5, 'latent_period_duration_std': 2.5}, model=Model(state_lengths='lognormal', initial_seeding='seed one by susceptibility', importation=None, secondary_infections=True, intervention=None), population={2: 5000}, parameters=['s80', 'p80', 'SAR'])"
            ]
          },
          "execution_count": 8,
          "metadata": {},
          "output_type": "execute_result"
        }
      ],
      "source": [
        "results.metadata"
      ]
    },
    {
      "cell_type": "code",
      "execution_count": 9,
      "metadata": {
        "colab": {
          "base_uri": "https://localhost:8080/",
          "height": 450
        },
        "id": "WLyjL97j6q16",
        "outputId": "6010fa5a-a36c-4b96-d392-a18b3997160f"
      },
      "outputs": [
        {
          "data": {
            "text/html": [
              "<div>\n",
              "<style scoped>\n",
              "    .dataframe tbody tr th:only-of-type {\n",
              "        vertical-align: middle;\n",
              "    }\n",
              "\n",
              "    .dataframe tbody tr th {\n",
              "        vertical-align: top;\n",
              "    }\n",
              "\n",
              "    .dataframe thead th {\n",
              "        text-align: right;\n",
              "    }\n",
              "</style>\n",
              "<table border=\"1\" class=\"dataframe\">\n",
              "  <thead>\n",
              "    <tr style=\"text-align: right;\">\n",
              "      <th></th>\n",
              "      <th></th>\n",
              "      <th></th>\n",
              "      <th></th>\n",
              "      <th></th>\n",
              "      <th>count</th>\n",
              "      <th>sus_variance</th>\n",
              "      <th>inf_variance</th>\n",
              "      <th>beta</th>\n",
              "      <th>inf_constant_value</th>\n",
              "      <th>sus_constant_value</th>\n",
              "    </tr>\n",
              "    <tr>\n",
              "      <th>s80</th>\n",
              "      <th>p80</th>\n",
              "      <th>SAR</th>\n",
              "      <th>size</th>\n",
              "      <th>infections</th>\n",
              "      <th></th>\n",
              "      <th></th>\n",
              "      <th></th>\n",
              "      <th></th>\n",
              "      <th></th>\n",
              "      <th></th>\n",
              "    </tr>\n",
              "  </thead>\n",
              "  <tbody>\n",
              "    <tr>\n",
              "      <th rowspan=\"18\" valign=\"top\">0.2</th>\n",
              "      <th rowspan=\"6\" valign=\"top\">0.2</th>\n",
              "      <th rowspan=\"2\" valign=\"top\">0.15</th>\n",
              "      <th rowspan=\"2\" valign=\"top\">2</th>\n",
              "      <th>1</th>\n",
              "      <td>4572</td>\n",
              "      <td>16.002</td>\n",
              "      <td>16.002</td>\n",
              "      <td>0.103</td>\n",
              "      <td>NaN</td>\n",
              "      <td>NaN</td>\n",
              "    </tr>\n",
              "    <tr>\n",
              "      <th>2</th>\n",
              "      <td>428</td>\n",
              "      <td>16.002</td>\n",
              "      <td>16.002</td>\n",
              "      <td>0.103</td>\n",
              "      <td>NaN</td>\n",
              "      <td>NaN</td>\n",
              "    </tr>\n",
              "    <tr>\n",
              "      <th rowspan=\"2\" valign=\"top\">0.25</th>\n",
              "      <th rowspan=\"2\" valign=\"top\">2</th>\n",
              "      <th>1</th>\n",
              "      <td>4188</td>\n",
              "      <td>16.002</td>\n",
              "      <td>16.002</td>\n",
              "      <td>0.285</td>\n",
              "      <td>NaN</td>\n",
              "      <td>NaN</td>\n",
              "    </tr>\n",
              "    <tr>\n",
              "      <th>2</th>\n",
              "      <td>812</td>\n",
              "      <td>16.002</td>\n",
              "      <td>16.002</td>\n",
              "      <td>0.285</td>\n",
              "      <td>NaN</td>\n",
              "      <td>NaN</td>\n",
              "    </tr>\n",
              "    <tr>\n",
              "      <th rowspan=\"2\" valign=\"top\">0.35</th>\n",
              "      <th rowspan=\"2\" valign=\"top\">2</th>\n",
              "      <th>1</th>\n",
              "      <td>3801</td>\n",
              "      <td>16.002</td>\n",
              "      <td>16.002</td>\n",
              "      <td>0.633</td>\n",
              "      <td>NaN</td>\n",
              "      <td>NaN</td>\n",
              "    </tr>\n",
              "    <tr>\n",
              "      <th>2</th>\n",
              "      <td>1199</td>\n",
              "      <td>16.002</td>\n",
              "      <td>16.002</td>\n",
              "      <td>0.633</td>\n",
              "      <td>NaN</td>\n",
              "      <td>NaN</td>\n",
              "    </tr>\n",
              "    <tr>\n",
              "      <th rowspan=\"6\" valign=\"top\">0.5</th>\n",
              "      <th rowspan=\"2\" valign=\"top\">0.15</th>\n",
              "      <th rowspan=\"2\" valign=\"top\">2</th>\n",
              "      <th>1</th>\n",
              "      <td>4587</td>\n",
              "      <td>16.002</td>\n",
              "      <td>1.031</td>\n",
              "      <td>0.056</td>\n",
              "      <td>NaN</td>\n",
              "      <td>NaN</td>\n",
              "    </tr>\n",
              "    <tr>\n",
              "      <th>2</th>\n",
              "      <td>413</td>\n",
              "      <td>16.002</td>\n",
              "      <td>1.031</td>\n",
              "      <td>0.056</td>\n",
              "      <td>NaN</td>\n",
              "      <td>NaN</td>\n",
              "    </tr>\n",
              "    <tr>\n",
              "      <th rowspan=\"2\" valign=\"top\">0.25</th>\n",
              "      <th rowspan=\"2\" valign=\"top\">2</th>\n",
              "      <th>1</th>\n",
              "      <td>4302</td>\n",
              "      <td>16.002</td>\n",
              "      <td>1.031</td>\n",
              "      <td>0.133</td>\n",
              "      <td>NaN</td>\n",
              "      <td>NaN</td>\n",
              "    </tr>\n",
              "    <tr>\n",
              "      <th>2</th>\n",
              "      <td>698</td>\n",
              "      <td>16.002</td>\n",
              "      <td>1.031</td>\n",
              "      <td>0.133</td>\n",
              "      <td>NaN</td>\n",
              "      <td>NaN</td>\n",
              "    </tr>\n",
              "    <tr>\n",
              "      <th rowspan=\"2\" valign=\"top\">0.35</th>\n",
              "      <th rowspan=\"2\" valign=\"top\">2</th>\n",
              "      <th>1</th>\n",
              "      <td>3872</td>\n",
              "      <td>16.002</td>\n",
              "      <td>1.031</td>\n",
              "      <td>0.262</td>\n",
              "      <td>NaN</td>\n",
              "      <td>NaN</td>\n",
              "    </tr>\n",
              "    <tr>\n",
              "      <th>2</th>\n",
              "      <td>1128</td>\n",
              "      <td>16.002</td>\n",
              "      <td>1.031</td>\n",
              "      <td>0.262</td>\n",
              "      <td>NaN</td>\n",
              "      <td>NaN</td>\n",
              "    </tr>\n",
              "    <tr>\n",
              "      <th rowspan=\"6\" valign=\"top\">0.8</th>\n",
              "      <th rowspan=\"2\" valign=\"top\">0.15</th>\n",
              "      <th rowspan=\"2\" valign=\"top\">2</th>\n",
              "      <th>1</th>\n",
              "      <td>4626</td>\n",
              "      <td>16.002</td>\n",
              "      <td>NaN</td>\n",
              "      <td>0.047</td>\n",
              "      <td>1.0</td>\n",
              "      <td>NaN</td>\n",
              "    </tr>\n",
              "    <tr>\n",
              "      <th>2</th>\n",
              "      <td>374</td>\n",
              "      <td>16.002</td>\n",
              "      <td>NaN</td>\n",
              "      <td>0.047</td>\n",
              "      <td>1.0</td>\n",
              "      <td>NaN</td>\n",
              "    </tr>\n",
              "    <tr>\n",
              "      <th rowspan=\"2\" valign=\"top\">0.25</th>\n",
              "      <th rowspan=\"2\" valign=\"top\">2</th>\n",
              "      <th>1</th>\n",
              "      <td>4286</td>\n",
              "      <td>16.002</td>\n",
              "      <td>NaN</td>\n",
              "      <td>0.105</td>\n",
              "      <td>1.0</td>\n",
              "      <td>NaN</td>\n",
              "    </tr>\n",
              "    <tr>\n",
              "      <th>2</th>\n",
              "      <td>714</td>\n",
              "      <td>16.002</td>\n",
              "      <td>NaN</td>\n",
              "      <td>0.105</td>\n",
              "      <td>1.0</td>\n",
              "      <td>NaN</td>\n",
              "    </tr>\n",
              "    <tr>\n",
              "      <th rowspan=\"2\" valign=\"top\">0.35</th>\n",
              "      <th rowspan=\"2\" valign=\"top\">2</th>\n",
              "      <th>1</th>\n",
              "      <td>3901</td>\n",
              "      <td>16.002</td>\n",
              "      <td>NaN</td>\n",
              "      <td>0.198</td>\n",
              "      <td>1.0</td>\n",
              "      <td>NaN</td>\n",
              "    </tr>\n",
              "    <tr>\n",
              "      <th>2</th>\n",
              "      <td>1099</td>\n",
              "      <td>16.002</td>\n",
              "      <td>NaN</td>\n",
              "      <td>0.198</td>\n",
              "      <td>1.0</td>\n",
              "      <td>NaN</td>\n",
              "    </tr>\n",
              "    <tr>\n",
              "      <th rowspan=\"18\" valign=\"top\">0.5</th>\n",
              "      <th rowspan=\"6\" valign=\"top\">0.2</th>\n",
              "      <th rowspan=\"2\" valign=\"top\">0.15</th>\n",
              "      <th rowspan=\"2\" valign=\"top\">2</th>\n",
              "      <th>1</th>\n",
              "      <td>4380</td>\n",
              "      <td>1.031</td>\n",
              "      <td>16.002</td>\n",
              "      <td>0.056</td>\n",
              "      <td>NaN</td>\n",
              "      <td>NaN</td>\n",
              "    </tr>\n",
              "    <tr>\n",
              "      <th>2</th>\n",
              "      <td>620</td>\n",
              "      <td>1.031</td>\n",
              "      <td>16.002</td>\n",
              "      <td>0.056</td>\n",
              "      <td>NaN</td>\n",
              "      <td>NaN</td>\n",
              "    </tr>\n",
              "    <tr>\n",
              "      <th rowspan=\"2\" valign=\"top\">0.25</th>\n",
              "      <th rowspan=\"2\" valign=\"top\">2</th>\n",
              "      <th>1</th>\n",
              "      <td>3932</td>\n",
              "      <td>1.031</td>\n",
              "      <td>16.002</td>\n",
              "      <td>0.133</td>\n",
              "      <td>NaN</td>\n",
              "      <td>NaN</td>\n",
              "    </tr>\n",
              "    <tr>\n",
              "      <th>2</th>\n",
              "      <td>1068</td>\n",
              "      <td>1.031</td>\n",
              "      <td>16.002</td>\n",
              "      <td>0.133</td>\n",
              "      <td>NaN</td>\n",
              "      <td>NaN</td>\n",
              "    </tr>\n",
              "    <tr>\n",
              "      <th rowspan=\"2\" valign=\"top\">0.35</th>\n",
              "      <th rowspan=\"2\" valign=\"top\">2</th>\n",
              "      <th>1</th>\n",
              "      <td>3443</td>\n",
              "      <td>1.031</td>\n",
              "      <td>16.002</td>\n",
              "      <td>0.262</td>\n",
              "      <td>NaN</td>\n",
              "      <td>NaN</td>\n",
              "    </tr>\n",
              "    <tr>\n",
              "      <th>2</th>\n",
              "      <td>1557</td>\n",
              "      <td>1.031</td>\n",
              "      <td>16.002</td>\n",
              "      <td>0.262</td>\n",
              "      <td>NaN</td>\n",
              "      <td>NaN</td>\n",
              "    </tr>\n",
              "    <tr>\n",
              "      <th rowspan=\"6\" valign=\"top\">0.5</th>\n",
              "      <th rowspan=\"2\" valign=\"top\">0.15</th>\n",
              "      <th rowspan=\"2\" valign=\"top\">2</th>\n",
              "      <th>1</th>\n",
              "      <td>4447</td>\n",
              "      <td>1.031</td>\n",
              "      <td>1.031</td>\n",
              "      <td>0.034</td>\n",
              "      <td>NaN</td>\n",
              "      <td>NaN</td>\n",
              "    </tr>\n",
              "    <tr>\n",
              "      <th>2</th>\n",
              "      <td>553</td>\n",
              "      <td>1.031</td>\n",
              "      <td>1.031</td>\n",
              "      <td>0.034</td>\n",
              "      <td>NaN</td>\n",
              "      <td>NaN</td>\n",
              "    </tr>\n",
              "    <tr>\n",
              "      <th rowspan=\"2\" valign=\"top\">0.25</th>\n",
              "      <th rowspan=\"2\" valign=\"top\">2</th>\n",
              "      <th>1</th>\n",
              "      <td>4022</td>\n",
              "      <td>1.031</td>\n",
              "      <td>1.031</td>\n",
              "      <td>0.068</td>\n",
              "      <td>NaN</td>\n",
              "      <td>NaN</td>\n",
              "    </tr>\n",
              "    <tr>\n",
              "      <th>2</th>\n",
              "      <td>978</td>\n",
              "      <td>1.031</td>\n",
              "      <td>1.031</td>\n",
              "      <td>0.068</td>\n",
              "      <td>NaN</td>\n",
              "      <td>NaN</td>\n",
              "    </tr>\n",
              "    <tr>\n",
              "      <th rowspan=\"2\" valign=\"top\">0.35</th>\n",
              "      <th rowspan=\"2\" valign=\"top\">2</th>\n",
              "      <th>1</th>\n",
              "      <td>3491</td>\n",
              "      <td>1.031</td>\n",
              "      <td>1.031</td>\n",
              "      <td>0.116</td>\n",
              "      <td>NaN</td>\n",
              "      <td>NaN</td>\n",
              "    </tr>\n",
              "    <tr>\n",
              "      <th>2</th>\n",
              "      <td>1509</td>\n",
              "      <td>1.031</td>\n",
              "      <td>1.031</td>\n",
              "      <td>0.116</td>\n",
              "      <td>NaN</td>\n",
              "      <td>NaN</td>\n",
              "    </tr>\n",
              "    <tr>\n",
              "      <th rowspan=\"6\" valign=\"top\">0.8</th>\n",
              "      <th rowspan=\"2\" valign=\"top\">0.15</th>\n",
              "      <th rowspan=\"2\" valign=\"top\">2</th>\n",
              "      <th>1</th>\n",
              "      <td>4392</td>\n",
              "      <td>1.031</td>\n",
              "      <td>NaN</td>\n",
              "      <td>0.030</td>\n",
              "      <td>1.0</td>\n",
              "      <td>NaN</td>\n",
              "    </tr>\n",
              "    <tr>\n",
              "      <th>2</th>\n",
              "      <td>608</td>\n",
              "      <td>1.031</td>\n",
              "      <td>NaN</td>\n",
              "      <td>0.030</td>\n",
              "      <td>1.0</td>\n",
              "      <td>NaN</td>\n",
              "    </tr>\n",
              "    <tr>\n",
              "      <th rowspan=\"2\" valign=\"top\">0.25</th>\n",
              "      <th rowspan=\"2\" valign=\"top\">2</th>\n",
              "      <th>1</th>\n",
              "      <td>4008</td>\n",
              "      <td>1.031</td>\n",
              "      <td>NaN</td>\n",
              "      <td>0.057</td>\n",
              "      <td>1.0</td>\n",
              "      <td>NaN</td>\n",
              "    </tr>\n",
              "    <tr>\n",
              "      <th>2</th>\n",
              "      <td>992</td>\n",
              "      <td>1.031</td>\n",
              "      <td>NaN</td>\n",
              "      <td>0.057</td>\n",
              "      <td>1.0</td>\n",
              "      <td>NaN</td>\n",
              "    </tr>\n",
              "    <tr>\n",
              "      <th rowspan=\"2\" valign=\"top\">0.35</th>\n",
              "      <th rowspan=\"2\" valign=\"top\">2</th>\n",
              "      <th>1</th>\n",
              "      <td>3557</td>\n",
              "      <td>1.031</td>\n",
              "      <td>NaN</td>\n",
              "      <td>0.091</td>\n",
              "      <td>1.0</td>\n",
              "      <td>NaN</td>\n",
              "    </tr>\n",
              "    <tr>\n",
              "      <th>2</th>\n",
              "      <td>1443</td>\n",
              "      <td>1.031</td>\n",
              "      <td>NaN</td>\n",
              "      <td>0.091</td>\n",
              "      <td>1.0</td>\n",
              "      <td>NaN</td>\n",
              "    </tr>\n",
              "    <tr>\n",
              "      <th rowspan=\"18\" valign=\"top\">0.8</th>\n",
              "      <th rowspan=\"6\" valign=\"top\">0.2</th>\n",
              "      <th rowspan=\"2\" valign=\"top\">0.15</th>\n",
              "      <th rowspan=\"2\" valign=\"top\">2</th>\n",
              "      <th>1</th>\n",
              "      <td>4206</td>\n",
              "      <td>NaN</td>\n",
              "      <td>16.002</td>\n",
              "      <td>0.047</td>\n",
              "      <td>NaN</td>\n",
              "      <td>1.0</td>\n",
              "    </tr>\n",
              "    <tr>\n",
              "      <th>2</th>\n",
              "      <td>794</td>\n",
              "      <td>NaN</td>\n",
              "      <td>16.002</td>\n",
              "      <td>0.047</td>\n",
              "      <td>NaN</td>\n",
              "      <td>1.0</td>\n",
              "    </tr>\n",
              "    <tr>\n",
              "      <th rowspan=\"2\" valign=\"top\">0.25</th>\n",
              "      <th rowspan=\"2\" valign=\"top\">2</th>\n",
              "      <th>1</th>\n",
              "      <td>3723</td>\n",
              "      <td>NaN</td>\n",
              "      <td>16.002</td>\n",
              "      <td>0.105</td>\n",
              "      <td>NaN</td>\n",
              "      <td>1.0</td>\n",
              "    </tr>\n",
              "    <tr>\n",
              "      <th>2</th>\n",
              "      <td>1277</td>\n",
              "      <td>NaN</td>\n",
              "      <td>16.002</td>\n",
              "      <td>0.105</td>\n",
              "      <td>NaN</td>\n",
              "      <td>1.0</td>\n",
              "    </tr>\n",
              "    <tr>\n",
              "      <th rowspan=\"2\" valign=\"top\">0.35</th>\n",
              "      <th rowspan=\"2\" valign=\"top\">2</th>\n",
              "      <th>1</th>\n",
              "      <td>3239</td>\n",
              "      <td>NaN</td>\n",
              "      <td>16.002</td>\n",
              "      <td>0.198</td>\n",
              "      <td>NaN</td>\n",
              "      <td>1.0</td>\n",
              "    </tr>\n",
              "    <tr>\n",
              "      <th>2</th>\n",
              "      <td>1761</td>\n",
              "      <td>NaN</td>\n",
              "      <td>16.002</td>\n",
              "      <td>0.198</td>\n",
              "      <td>NaN</td>\n",
              "      <td>1.0</td>\n",
              "    </tr>\n",
              "    <tr>\n",
              "      <th rowspan=\"6\" valign=\"top\">0.5</th>\n",
              "      <th rowspan=\"2\" valign=\"top\">0.15</th>\n",
              "      <th rowspan=\"2\" valign=\"top\">2</th>\n",
              "      <th>1</th>\n",
              "      <td>4196</td>\n",
              "      <td>NaN</td>\n",
              "      <td>1.031</td>\n",
              "      <td>0.030</td>\n",
              "      <td>NaN</td>\n",
              "      <td>1.0</td>\n",
              "    </tr>\n",
              "    <tr>\n",
              "      <th>2</th>\n",
              "      <td>804</td>\n",
              "      <td>NaN</td>\n",
              "      <td>1.031</td>\n",
              "      <td>0.030</td>\n",
              "      <td>NaN</td>\n",
              "      <td>1.0</td>\n",
              "    </tr>\n",
              "    <tr>\n",
              "      <th rowspan=\"2\" valign=\"top\">0.25</th>\n",
              "      <th rowspan=\"2\" valign=\"top\">2</th>\n",
              "      <th>1</th>\n",
              "      <td>3771</td>\n",
              "      <td>NaN</td>\n",
              "      <td>1.031</td>\n",
              "      <td>0.057</td>\n",
              "      <td>NaN</td>\n",
              "      <td>1.0</td>\n",
              "    </tr>\n",
              "    <tr>\n",
              "      <th>2</th>\n",
              "      <td>1229</td>\n",
              "      <td>NaN</td>\n",
              "      <td>1.031</td>\n",
              "      <td>0.057</td>\n",
              "      <td>NaN</td>\n",
              "      <td>1.0</td>\n",
              "    </tr>\n",
              "    <tr>\n",
              "      <th rowspan=\"2\" valign=\"top\">0.35</th>\n",
              "      <th rowspan=\"2\" valign=\"top\">2</th>\n",
              "      <th>1</th>\n",
              "      <td>3218</td>\n",
              "      <td>NaN</td>\n",
              "      <td>1.031</td>\n",
              "      <td>0.091</td>\n",
              "      <td>NaN</td>\n",
              "      <td>1.0</td>\n",
              "    </tr>\n",
              "    <tr>\n",
              "      <th>2</th>\n",
              "      <td>1782</td>\n",
              "      <td>NaN</td>\n",
              "      <td>1.031</td>\n",
              "      <td>0.091</td>\n",
              "      <td>NaN</td>\n",
              "      <td>1.0</td>\n",
              "    </tr>\n",
              "    <tr>\n",
              "      <th rowspan=\"6\" valign=\"top\">0.8</th>\n",
              "      <th rowspan=\"2\" valign=\"top\">0.15</th>\n",
              "      <th rowspan=\"2\" valign=\"top\">2</th>\n",
              "      <th>1</th>\n",
              "      <td>4190</td>\n",
              "      <td>NaN</td>\n",
              "      <td>NaN</td>\n",
              "      <td>0.027</td>\n",
              "      <td>1.0</td>\n",
              "      <td>1.0</td>\n",
              "    </tr>\n",
              "    <tr>\n",
              "      <th>2</th>\n",
              "      <td>810</td>\n",
              "      <td>NaN</td>\n",
              "      <td>NaN</td>\n",
              "      <td>0.027</td>\n",
              "      <td>1.0</td>\n",
              "      <td>1.0</td>\n",
              "    </tr>\n",
              "    <tr>\n",
              "      <th rowspan=\"2\" valign=\"top\">0.25</th>\n",
              "      <th rowspan=\"2\" valign=\"top\">2</th>\n",
              "      <th>1</th>\n",
              "      <td>3739</td>\n",
              "      <td>NaN</td>\n",
              "      <td>NaN</td>\n",
              "      <td>0.049</td>\n",
              "      <td>1.0</td>\n",
              "      <td>1.0</td>\n",
              "    </tr>\n",
              "    <tr>\n",
              "      <th>2</th>\n",
              "      <td>1261</td>\n",
              "      <td>NaN</td>\n",
              "      <td>NaN</td>\n",
              "      <td>0.049</td>\n",
              "      <td>1.0</td>\n",
              "      <td>1.0</td>\n",
              "    </tr>\n",
              "    <tr>\n",
              "      <th rowspan=\"2\" valign=\"top\">0.35</th>\n",
              "      <th rowspan=\"2\" valign=\"top\">2</th>\n",
              "      <th>1</th>\n",
              "      <td>3231</td>\n",
              "      <td>NaN</td>\n",
              "      <td>NaN</td>\n",
              "      <td>0.074</td>\n",
              "      <td>1.0</td>\n",
              "      <td>1.0</td>\n",
              "    </tr>\n",
              "    <tr>\n",
              "      <th>2</th>\n",
              "      <td>1769</td>\n",
              "      <td>NaN</td>\n",
              "      <td>NaN</td>\n",
              "      <td>0.074</td>\n",
              "      <td>1.0</td>\n",
              "      <td>1.0</td>\n",
              "    </tr>\n",
              "  </tbody>\n",
              "</table>\n",
              "</div>"
            ],
            "text/plain": [
              "                              count  sus_variance  inf_variance   beta  \\\n",
              "s80 p80 SAR  size infections                                             \n",
              "0.2 0.2 0.15 2    1            4572        16.002        16.002  0.103   \n",
              "                  2             428        16.002        16.002  0.103   \n",
              "        0.25 2    1            4188        16.002        16.002  0.285   \n",
              "                  2             812        16.002        16.002  0.285   \n",
              "        0.35 2    1            3801        16.002        16.002  0.633   \n",
              "                  2            1199        16.002        16.002  0.633   \n",
              "    0.5 0.15 2    1            4587        16.002         1.031  0.056   \n",
              "                  2             413        16.002         1.031  0.056   \n",
              "        0.25 2    1            4302        16.002         1.031  0.133   \n",
              "                  2             698        16.002         1.031  0.133   \n",
              "        0.35 2    1            3872        16.002         1.031  0.262   \n",
              "                  2            1128        16.002         1.031  0.262   \n",
              "    0.8 0.15 2    1            4626        16.002           NaN  0.047   \n",
              "                  2             374        16.002           NaN  0.047   \n",
              "        0.25 2    1            4286        16.002           NaN  0.105   \n",
              "                  2             714        16.002           NaN  0.105   \n",
              "        0.35 2    1            3901        16.002           NaN  0.198   \n",
              "                  2            1099        16.002           NaN  0.198   \n",
              "0.5 0.2 0.15 2    1            4380         1.031        16.002  0.056   \n",
              "                  2             620         1.031        16.002  0.056   \n",
              "        0.25 2    1            3932         1.031        16.002  0.133   \n",
              "                  2            1068         1.031        16.002  0.133   \n",
              "        0.35 2    1            3443         1.031        16.002  0.262   \n",
              "                  2            1557         1.031        16.002  0.262   \n",
              "    0.5 0.15 2    1            4447         1.031         1.031  0.034   \n",
              "                  2             553         1.031         1.031  0.034   \n",
              "        0.25 2    1            4022         1.031         1.031  0.068   \n",
              "                  2             978         1.031         1.031  0.068   \n",
              "        0.35 2    1            3491         1.031         1.031  0.116   \n",
              "                  2            1509         1.031         1.031  0.116   \n",
              "    0.8 0.15 2    1            4392         1.031           NaN  0.030   \n",
              "                  2             608         1.031           NaN  0.030   \n",
              "        0.25 2    1            4008         1.031           NaN  0.057   \n",
              "                  2             992         1.031           NaN  0.057   \n",
              "        0.35 2    1            3557         1.031           NaN  0.091   \n",
              "                  2            1443         1.031           NaN  0.091   \n",
              "0.8 0.2 0.15 2    1            4206           NaN        16.002  0.047   \n",
              "                  2             794           NaN        16.002  0.047   \n",
              "        0.25 2    1            3723           NaN        16.002  0.105   \n",
              "                  2            1277           NaN        16.002  0.105   \n",
              "        0.35 2    1            3239           NaN        16.002  0.198   \n",
              "                  2            1761           NaN        16.002  0.198   \n",
              "    0.5 0.15 2    1            4196           NaN         1.031  0.030   \n",
              "                  2             804           NaN         1.031  0.030   \n",
              "        0.25 2    1            3771           NaN         1.031  0.057   \n",
              "                  2            1229           NaN         1.031  0.057   \n",
              "        0.35 2    1            3218           NaN         1.031  0.091   \n",
              "                  2            1782           NaN         1.031  0.091   \n",
              "    0.8 0.15 2    1            4190           NaN           NaN  0.027   \n",
              "                  2             810           NaN           NaN  0.027   \n",
              "        0.25 2    1            3739           NaN           NaN  0.049   \n",
              "                  2            1261           NaN           NaN  0.049   \n",
              "        0.35 2    1            3231           NaN           NaN  0.074   \n",
              "                  2            1769           NaN           NaN  0.074   \n",
              "\n",
              "                              inf_constant_value  sus_constant_value  \n",
              "s80 p80 SAR  size infections                                          \n",
              "0.2 0.2 0.15 2    1                          NaN                 NaN  \n",
              "                  2                          NaN                 NaN  \n",
              "        0.25 2    1                          NaN                 NaN  \n",
              "                  2                          NaN                 NaN  \n",
              "        0.35 2    1                          NaN                 NaN  \n",
              "                  2                          NaN                 NaN  \n",
              "    0.5 0.15 2    1                          NaN                 NaN  \n",
              "                  2                          NaN                 NaN  \n",
              "        0.25 2    1                          NaN                 NaN  \n",
              "                  2                          NaN                 NaN  \n",
              "        0.35 2    1                          NaN                 NaN  \n",
              "                  2                          NaN                 NaN  \n",
              "    0.8 0.15 2    1                          1.0                 NaN  \n",
              "                  2                          1.0                 NaN  \n",
              "        0.25 2    1                          1.0                 NaN  \n",
              "                  2                          1.0                 NaN  \n",
              "        0.35 2    1                          1.0                 NaN  \n",
              "                  2                          1.0                 NaN  \n",
              "0.5 0.2 0.15 2    1                          NaN                 NaN  \n",
              "                  2                          NaN                 NaN  \n",
              "        0.25 2    1                          NaN                 NaN  \n",
              "                  2                          NaN                 NaN  \n",
              "        0.35 2    1                          NaN                 NaN  \n",
              "                  2                          NaN                 NaN  \n",
              "    0.5 0.15 2    1                          NaN                 NaN  \n",
              "                  2                          NaN                 NaN  \n",
              "        0.25 2    1                          NaN                 NaN  \n",
              "                  2                          NaN                 NaN  \n",
              "        0.35 2    1                          NaN                 NaN  \n",
              "                  2                          NaN                 NaN  \n",
              "    0.8 0.15 2    1                          1.0                 NaN  \n",
              "                  2                          1.0                 NaN  \n",
              "        0.25 2    1                          1.0                 NaN  \n",
              "                  2                          1.0                 NaN  \n",
              "        0.35 2    1                          1.0                 NaN  \n",
              "                  2                          1.0                 NaN  \n",
              "0.8 0.2 0.15 2    1                          NaN                 1.0  \n",
              "                  2                          NaN                 1.0  \n",
              "        0.25 2    1                          NaN                 1.0  \n",
              "                  2                          NaN                 1.0  \n",
              "        0.35 2    1                          NaN                 1.0  \n",
              "                  2                          NaN                 1.0  \n",
              "    0.5 0.15 2    1                          NaN                 1.0  \n",
              "                  2                          NaN                 1.0  \n",
              "        0.25 2    1                          NaN                 1.0  \n",
              "                  2                          NaN                 1.0  \n",
              "        0.35 2    1                          NaN                 1.0  \n",
              "                  2                          NaN                 1.0  \n",
              "    0.8 0.15 2    1                          1.0                 1.0  \n",
              "                  2                          1.0                 1.0  \n",
              "        0.25 2    1                          1.0                 1.0  \n",
              "                  2                          1.0                 1.0  \n",
              "        0.35 2    1                          1.0                 1.0  \n",
              "                  2                          1.0                 1.0  "
            ]
          },
          "execution_count": 9,
          "metadata": {},
          "output_type": "execute_result"
        }
      ],
      "source": [
        "results.df"
      ]
    },
    {
      "cell_type": "markdown",
      "metadata": {
        "id": "d5iqQ1Vn8DxE"
      },
      "source": [
        "## Plotting and Pandas tutorial\n",
        "\n",
        "Here's a basic plotting example. Let's say we want to look at the histograms of infections stratified by how much heterogeneity is present (basically: a subpanel in the methods figure).\n",
        "\n",
        "First we'll set up some nice colors (you don't have to worry about this)."
      ]
    },
    {
      "cell_type": "code",
      "execution_count": 10,
      "metadata": {
        "id": "3Kgo6hTtv7N9"
      },
      "outputs": [],
      "source": [
        "import matplotlib.pyplot as plt\n",
        "basic_sequential_cmap = plt.get_cmap(\"Greens\")\n",
        "alt_cmap = plt.get_cmap(\"Oranges\")\n",
        "colors = [basic_sequential_cmap(x) for x in np.linspace(0.2, 0.7, 3)]\n",
        "colors[0] = [alt_cmap(x) for x in np.linspace(0.3, 0.6, 3)][1]"
      ]
    },
    {
      "cell_type": "markdown",
      "metadata": {
        "id": "6_CZRO7yv-5Z"
      },
      "source": [
        "Now we group the dataframe by the values that we want to hold constant so that we can plot the infections over the variable of interest."
      ]
    },
    {
      "cell_type": "code",
      "execution_count": 11,
      "metadata": {
        "colab": {
          "base_uri": "https://localhost:8080/",
          "height": 282
        },
        "id": "-RHag6ld7Lgk",
        "outputId": "7dc9f12b-8973-4433-fc9c-0263552c009c"
      },
      "outputs": [
        {
          "data": {
            "image/png": "[encoded data removed]",
            "text/plain": [
              "<Figure size 432x288 with 1 Axes>"
            ]
          },
          "metadata": {
            "needs_background": "light"
          },
          "output_type": "display_data"
        }
      ],
      "source": [
        "plt.rcParams.update({'font.size': 14,})\n",
        "# we group by the variables we aren't interested in plotting so that they'll be constant in the slice we look at\n",
        "grouping = ['p80', 'SAR', 'size']\n",
        "for key, group in results.df.groupby(grouping): # we perform the grouping and iterate over groups\n",
        "    group = group.rename(columns={0:'count'}) # I rename a mysterious column to make it more obvious. In future, this will be the default behavior!\n",
        "    # we make key_dict, a mapping from labels (ex. 'p80') to the value in the current group\n",
        "    key_dict = {label:key[i] for i,label in enumerate(grouping)}\n",
        "    # we skip values we're not interested in\n",
        "    if key_dict['p80'] != 0.8: continue\n",
        "    if key_dict['SAR'] != 0.25: continue\n",
        "\n",
        "    # do some magic! (I'll explain down below)\n",
        "    restructured_group = group['count'].reset_index().drop(['p80', 'SAR', 'size'], axis=1).set_index(['infections', 's80']).unstack()\n",
        "    restructured_group = restructured_group.droplevel(0, axis=1)\n",
        "    restructured_group = restructured_group / restructured_group.sum()\n",
        "    # switch the order of our columns because *decreasing* s80 corresponds with *adding* heterogeneity\n",
        "    switched_column_order = restructured_group[restructured_group.columns[::-1]]\n",
        "    ax = switched_column_order.plot.bar(color=colors)\n",
        "    break\n",
        "ax.axes.yaxis.set_ticklabels([])\n",
        "ax.set_xlabel(\"Infections\")\n",
        "ax.set_ylabel(\"Frequency\")\n",
        "ax.set_ylim((0.0, 1.0))\n",
        "plt.savefig(\"different_s80s.png\", dpi=300)"
      ]
    },
    {
      "cell_type": "markdown",
      "metadata": {
        "id": "Fh-Gy5pexHhw"
      },
      "source": [
        "You might be wondering what magic took place with all the setting and resetting of the index. I'll explain it below as a mini tutorial in `pandas`. But fortunately, a lot of this wizardry can be done automatically in the `utilities` and `fancy_plotting` parts of the module. I'll explain those more in the future.\n",
        "\n",
        "Our starting point was the `group` object, a slice of the data where $p_{80}$, $\\text{SAR}$, and the size were held constant."
      ]
    },
    {
      "cell_type": "code",
      "execution_count": 12,
      "metadata": {
        "colab": {
          "base_uri": "https://localhost:8080/",
          "height": 545
        },
        "id": "4mX7sSwqxYh9",
        "outputId": "042606be-e0e7-4510-d2b7-9a47905b688e"
      },
      "outputs": [
        {
          "data": {
            "text/html": [
              "<div>\n",
              "<style scoped>\n",
              "    .dataframe tbody tr th:only-of-type {\n",
              "        vertical-align: middle;\n",
              "    }\n",
              "\n",
              "    .dataframe tbody tr th {\n",
              "        vertical-align: top;\n",
              "    }\n",
              "\n",
              "    .dataframe thead th {\n",
              "        text-align: right;\n",
              "    }\n",
              "</style>\n",
              "<table border=\"1\" class=\"dataframe\">\n",
              "  <thead>\n",
              "    <tr style=\"text-align: right;\">\n",
              "      <th></th>\n",
              "      <th></th>\n",
              "      <th></th>\n",
              "      <th></th>\n",
              "      <th></th>\n",
              "      <th>count</th>\n",
              "      <th>sus_variance</th>\n",
              "      <th>inf_variance</th>\n",
              "      <th>beta</th>\n",
              "      <th>inf_constant_value</th>\n",
              "      <th>sus_constant_value</th>\n",
              "    </tr>\n",
              "    <tr>\n",
              "      <th>s80</th>\n",
              "      <th>p80</th>\n",
              "      <th>SAR</th>\n",
              "      <th>size</th>\n",
              "      <th>infections</th>\n",
              "      <th></th>\n",
              "      <th></th>\n",
              "      <th></th>\n",
              "      <th></th>\n",
              "      <th></th>\n",
              "      <th></th>\n",
              "    </tr>\n",
              "  </thead>\n",
              "  <tbody>\n",
              "    <tr>\n",
              "      <th rowspan=\"2\" valign=\"top\">0.2</th>\n",
              "      <th rowspan=\"2\" valign=\"top\">0.8</th>\n",
              "      <th rowspan=\"2\" valign=\"top\">0.25</th>\n",
              "      <th rowspan=\"2\" valign=\"top\">2</th>\n",
              "      <th>1</th>\n",
              "      <td>4286</td>\n",
              "      <td>16.002</td>\n",
              "      <td>NaN</td>\n",
              "      <td>0.105</td>\n",
              "      <td>1.0</td>\n",
              "      <td>NaN</td>\n",
              "    </tr>\n",
              "    <tr>\n",
              "      <th>2</th>\n",
              "      <td>714</td>\n",
              "      <td>16.002</td>\n",
              "      <td>NaN</td>\n",
              "      <td>0.105</td>\n",
              "      <td>1.0</td>\n",
              "      <td>NaN</td>\n",
              "    </tr>\n",
              "    <tr>\n",
              "      <th rowspan=\"2\" valign=\"top\">0.5</th>\n",
              "      <th rowspan=\"2\" valign=\"top\">0.8</th>\n",
              "      <th rowspan=\"2\" valign=\"top\">0.25</th>\n",
              "      <th rowspan=\"2\" valign=\"top\">2</th>\n",
              "      <th>1</th>\n",
              "      <td>4008</td>\n",
              "      <td>1.031</td>\n",
              "      <td>NaN</td>\n",
              "      <td>0.057</td>\n",
              "      <td>1.0</td>\n",
              "      <td>NaN</td>\n",
              "    </tr>\n",
              "    <tr>\n",
              "      <th>2</th>\n",
              "      <td>992</td>\n",
              "      <td>1.031</td>\n",
              "      <td>NaN</td>\n",
              "      <td>0.057</td>\n",
              "      <td>1.0</td>\n",
              "      <td>NaN</td>\n",
              "    </tr>\n",
              "    <tr>\n",
              "      <th rowspan=\"2\" valign=\"top\">0.8</th>\n",
              "      <th rowspan=\"2\" valign=\"top\">0.8</th>\n",
              "      <th rowspan=\"2\" valign=\"top\">0.25</th>\n",
              "      <th rowspan=\"2\" valign=\"top\">2</th>\n",
              "      <th>1</th>\n",
              "      <td>3739</td>\n",
              "      <td>NaN</td>\n",
              "      <td>NaN</td>\n",
              "      <td>0.049</td>\n",
              "      <td>1.0</td>\n",
              "      <td>1.0</td>\n",
              "    </tr>\n",
              "    <tr>\n",
              "      <th>2</th>\n",
              "      <td>1261</td>\n",
              "      <td>NaN</td>\n",
              "      <td>NaN</td>\n",
              "      <td>0.049</td>\n",
              "      <td>1.0</td>\n",
              "      <td>1.0</td>\n",
              "    </tr>\n",
              "  </tbody>\n",
              "</table>\n",
              "</div>"
            ],
            "text/plain": [
              "                              count  sus_variance  inf_variance   beta  \\\n",
              "s80 p80 SAR  size infections                                             \n",
              "0.2 0.8 0.25 2    1            4286        16.002           NaN  0.105   \n",
              "                  2             714        16.002           NaN  0.105   \n",
              "0.5 0.8 0.25 2    1            4008         1.031           NaN  0.057   \n",
              "                  2             992         1.031           NaN  0.057   \n",
              "0.8 0.8 0.25 2    1            3739           NaN           NaN  0.049   \n",
              "                  2            1261           NaN           NaN  0.049   \n",
              "\n",
              "                              inf_constant_value  sus_constant_value  \n",
              "s80 p80 SAR  size infections                                          \n",
              "0.2 0.8 0.25 2    1                          1.0                 NaN  \n",
              "                  2                          1.0                 NaN  \n",
              "0.5 0.8 0.25 2    1                          1.0                 NaN  \n",
              "                  2                          1.0                 NaN  \n",
              "0.8 0.8 0.25 2    1                          1.0                 1.0  \n",
              "                  2                          1.0                 1.0  "
            ]
          },
          "execution_count": 12,
          "metadata": {},
          "output_type": "execute_result"
        }
      ],
      "source": [
        "group"
      ]
    },
    {
      "cell_type": "markdown",
      "metadata": {
        "id": "aTL7iRJFxneB"
      },
      "source": [
        "You can observe that there are three different values for $s_{80}$ in the index of this table (an index is just a special kind of column[s] in a table that is understood to label different entries sequentially).\n",
        "\n",
        "Our desired endpoint needs to discard the miscellaneous data held in the table (used to verify its integrity) and get the different values of $s_{80}$ to be the **columns instead of the index**. That way, pandas will plot each of the columns separately in our bar plot. Here's our desired endpoint:"
      ]
    },
    {
      "cell_type": "code",
      "execution_count": 75,
      "metadata": {
        "colab": {
          "base_uri": "https://localhost:8080/",
          "height": 235
        },
        "id": "DB80LagfxlX9",
        "outputId": "547c8ed6-afe5-454b-8009-6b5d0483f0bb"
      },
      "outputs": [
        {
          "data": {
            "text/html": [
              "<div>\n",
              "<style scoped>\n",
              "    .dataframe tbody tr th:only-of-type {\n",
              "        vertical-align: middle;\n",
              "    }\n",
              "\n",
              "    .dataframe tbody tr th {\n",
              "        vertical-align: top;\n",
              "    }\n",
              "\n",
              "    .dataframe thead th {\n",
              "        text-align: right;\n",
              "    }\n",
              "</style>\n",
              "<table border=\"1\" class=\"dataframe\">\n",
              "  <thead>\n",
              "    <tr style=\"text-align: right;\">\n",
              "      <th>s80</th>\n",
              "      <th>0.2</th>\n",
              "      <th>0.5</th>\n",
              "      <th>0.8</th>\n",
              "    </tr>\n",
              "    <tr>\n",
              "      <th>infections</th>\n",
              "      <th></th>\n",
              "      <th></th>\n",
              "      <th></th>\n",
              "    </tr>\n",
              "  </thead>\n",
              "  <tbody>\n",
              "    <tr>\n",
              "      <th>1</th>\n",
              "      <td>0.852</td>\n",
              "      <td>0.8042</td>\n",
              "      <td>0.7402</td>\n",
              "    </tr>\n",
              "    <tr>\n",
              "      <th>2</th>\n",
              "      <td>0.148</td>\n",
              "      <td>0.1958</td>\n",
              "      <td>0.2598</td>\n",
              "    </tr>\n",
              "  </tbody>\n",
              "</table>\n",
              "</div>"
            ],
            "text/plain": [
              "s80           0.2     0.5     0.8\n",
              "infections                       \n",
              "1           0.852  0.8042  0.7402\n",
              "2           0.148  0.1958  0.2598"
            ]
          },
          "execution_count": 75,
          "metadata": {},
          "output_type": "execute_result"
        }
      ],
      "source": [
        "restructured_group"
      ]
    },
    {
      "cell_type": "markdown",
      "metadata": {
        "id": "iJYnhxZQy03r"
      },
      "source": [
        "We get there first by selecting the revelvant column, \"count,\" which counts the number of times we observe a certain number of infections. You can see our data is now only one column: (our index remains many columns)"
      ]
    },
    {
      "cell_type": "code",
      "execution_count": 76,
      "metadata": {
        "colab": {
          "base_uri": "https://localhost:8080/"
        },
        "id": "qaaBrXVNx3_V",
        "outputId": "a2d0d255-b34c-42fb-ba24-f99d7beab40b"
      },
      "outputs": [
        {
          "data": {
            "text/plain": [
              "s80  p80  SAR   size  infections\n",
              "0.2  0.8  0.25  2     1             4260\n",
              "                      2              740\n",
              "0.5  0.8  0.25  2     1             4021\n",
              "                      2              979\n",
              "0.8  0.8  0.25  2     1             3701\n",
              "                      2             1299\n",
              "Name: count, dtype: int64"
            ]
          },
          "execution_count": 76,
          "metadata": {},
          "output_type": "execute_result"
        }
      ],
      "source": [
        "step_by_step = group['count']\n",
        "step_by_step"
      ]
    },
    {
      "cell_type": "markdown",
      "metadata": {
        "id": "5w5rDLRmzNlV"
      },
      "source": [
        "Next we reset the index so that we can drop the parts of the index we don't care about (we drop them by naming the columns and specifying `axis=1` AKA: drop columns not rows). Afterwards, we set a new index to restore the two index columns that we wanted to keep:"
      ]
    },
    {
      "cell_type": "code",
      "execution_count": 77,
      "metadata": {
        "colab": {
          "base_uri": "https://localhost:8080/",
          "height": 545
        },
        "id": "k9Ur__0YzHgD",
        "outputId": "8c68fbed-e0d7-41a7-ef75-7298f0678520"
      },
      "outputs": [
        {
          "data": {
            "text/html": [
              "<div>\n",
              "<style scoped>\n",
              "    .dataframe tbody tr th:only-of-type {\n",
              "        vertical-align: middle;\n",
              "    }\n",
              "\n",
              "    .dataframe tbody tr th {\n",
              "        vertical-align: top;\n",
              "    }\n",
              "\n",
              "    .dataframe thead th {\n",
              "        text-align: right;\n",
              "    }\n",
              "</style>\n",
              "<table border=\"1\" class=\"dataframe\">\n",
              "  <thead>\n",
              "    <tr style=\"text-align: right;\">\n",
              "      <th></th>\n",
              "      <th></th>\n",
              "      <th>count</th>\n",
              "    </tr>\n",
              "    <tr>\n",
              "      <th>infections</th>\n",
              "      <th>s80</th>\n",
              "      <th></th>\n",
              "    </tr>\n",
              "  </thead>\n",
              "  <tbody>\n",
              "    <tr>\n",
              "      <th>1</th>\n",
              "      <th>0.2</th>\n",
              "      <td>4260</td>\n",
              "    </tr>\n",
              "    <tr>\n",
              "      <th>2</th>\n",
              "      <th>0.2</th>\n",
              "      <td>740</td>\n",
              "    </tr>\n",
              "    <tr>\n",
              "      <th>1</th>\n",
              "      <th>0.5</th>\n",
              "      <td>4021</td>\n",
              "    </tr>\n",
              "    <tr>\n",
              "      <th>2</th>\n",
              "      <th>0.5</th>\n",
              "      <td>979</td>\n",
              "    </tr>\n",
              "    <tr>\n",
              "      <th>1</th>\n",
              "      <th>0.8</th>\n",
              "      <td>3701</td>\n",
              "    </tr>\n",
              "    <tr>\n",
              "      <th>2</th>\n",
              "      <th>0.8</th>\n",
              "      <td>1299</td>\n",
              "    </tr>\n",
              "  </tbody>\n",
              "</table>\n",
              "</div>"
            ],
            "text/plain": [
              "                count\n",
              "infections s80       \n",
              "1          0.2   4260\n",
              "2          0.2    740\n",
              "1          0.5   4021\n",
              "2          0.5    979\n",
              "1          0.8   3701\n",
              "2          0.8   1299"
            ]
          },
          "execution_count": 77,
          "metadata": {},
          "output_type": "execute_result"
        }
      ],
      "source": [
        "step_by_step = step_by_step.reset_index().drop(['p80', 'SAR', 'size'], axis=1).set_index(['infections', 's80'])\n",
        "step_by_step"
      ]
    },
    {
      "cell_type": "markdown",
      "metadata": {
        "id": "KnzZR341zz72"
      },
      "source": [
        "Lastly, we use the magic of `unstack` to pivot our data. Essentially, we are taking the inner part of our index ($s_{80}$) and turning it into a group of columns by finding each row with the same value of $s_{80}$. This is a super useful operation that we use a lot."
      ]
    },
    {
      "cell_type": "code",
      "execution_count": 78,
      "metadata": {
        "colab": {
          "base_uri": "https://localhost:8080/",
          "height": 266
        },
        "id": "QSXCU6EjzuT_",
        "outputId": "26e05d06-e080-4d02-bd4e-cf1de0538b70"
      },
      "outputs": [
        {
          "data": {
            "text/html": [
              "<div>\n",
              "<style scoped>\n",
              "    .dataframe tbody tr th:only-of-type {\n",
              "        vertical-align: middle;\n",
              "    }\n",
              "\n",
              "    .dataframe tbody tr th {\n",
              "        vertical-align: top;\n",
              "    }\n",
              "\n",
              "    .dataframe thead tr th {\n",
              "        text-align: left;\n",
              "    }\n",
              "\n",
              "    .dataframe thead tr:last-of-type th {\n",
              "        text-align: right;\n",
              "    }\n",
              "</style>\n",
              "<table border=\"1\" class=\"dataframe\">\n",
              "  <thead>\n",
              "    <tr>\n",
              "      <th></th>\n",
              "      <th colspan=\"3\" halign=\"left\">count</th>\n",
              "    </tr>\n",
              "    <tr>\n",
              "      <th>s80</th>\n",
              "      <th>0.2</th>\n",
              "      <th>0.5</th>\n",
              "      <th>0.8</th>\n",
              "    </tr>\n",
              "    <tr>\n",
              "      <th>infections</th>\n",
              "      <th></th>\n",
              "      <th></th>\n",
              "      <th></th>\n",
              "    </tr>\n",
              "  </thead>\n",
              "  <tbody>\n",
              "    <tr>\n",
              "      <th>1</th>\n",
              "      <td>4260</td>\n",
              "      <td>4021</td>\n",
              "      <td>3701</td>\n",
              "    </tr>\n",
              "    <tr>\n",
              "      <th>2</th>\n",
              "      <td>740</td>\n",
              "      <td>979</td>\n",
              "      <td>1299</td>\n",
              "    </tr>\n",
              "  </tbody>\n",
              "</table>\n",
              "</div>"
            ],
            "text/plain": [
              "           count            \n",
              "s80          0.2   0.5   0.8\n",
              "infections                  \n",
              "1           4260  4021  3701\n",
              "2            740   979  1299"
            ]
          },
          "execution_count": 78,
          "metadata": {},
          "output_type": "execute_result"
        }
      ],
      "source": [
        "step_by_step = step_by_step.unstack()\n",
        "step_by_step"
      ]
    },
    {
      "cell_type": "markdown",
      "metadata": {
        "id": "t3psLPTs0Xow"
      },
      "source": [
        "And now we drop the \"count\" label that's hovering over our columns so that pandas can make sense of our data."
      ]
    },
    {
      "cell_type": "code",
      "execution_count": 79,
      "metadata": {
        "colab": {
          "base_uri": "https://localhost:8080/",
          "height": 235
        },
        "id": "z3PRqBZn0TAJ",
        "outputId": "a367f340-5b97-43b2-a81c-76ec2756bd6f"
      },
      "outputs": [
        {
          "data": {
            "text/html": [
              "<div>\n",
              "<style scoped>\n",
              "    .dataframe tbody tr th:only-of-type {\n",
              "        vertical-align: middle;\n",
              "    }\n",
              "\n",
              "    .dataframe tbody tr th {\n",
              "        vertical-align: top;\n",
              "    }\n",
              "\n",
              "    .dataframe thead th {\n",
              "        text-align: right;\n",
              "    }\n",
              "</style>\n",
              "<table border=\"1\" class=\"dataframe\">\n",
              "  <thead>\n",
              "    <tr style=\"text-align: right;\">\n",
              "      <th>s80</th>\n",
              "      <th>0.2</th>\n",
              "      <th>0.5</th>\n",
              "      <th>0.8</th>\n",
              "    </tr>\n",
              "    <tr>\n",
              "      <th>infections</th>\n",
              "      <th></th>\n",
              "      <th></th>\n",
              "      <th></th>\n",
              "    </tr>\n",
              "  </thead>\n",
              "  <tbody>\n",
              "    <tr>\n",
              "      <th>1</th>\n",
              "      <td>4260</td>\n",
              "      <td>4021</td>\n",
              "      <td>3701</td>\n",
              "    </tr>\n",
              "    <tr>\n",
              "      <th>2</th>\n",
              "      <td>740</td>\n",
              "      <td>979</td>\n",
              "      <td>1299</td>\n",
              "    </tr>\n",
              "  </tbody>\n",
              "</table>\n",
              "</div>"
            ],
            "text/plain": [
              "s80          0.2   0.5   0.8\n",
              "infections                  \n",
              "1           4260  4021  3701\n",
              "2            740   979  1299"
            ]
          },
          "execution_count": 79,
          "metadata": {},
          "output_type": "execute_result"
        }
      ],
      "source": [
        "step_by_step = step_by_step.droplevel(0, axis=1) # axis=1 because we are dropping a level from the **column** names\n",
        "step_by_step"
      ]
    },
    {
      "cell_type": "markdown",
      "metadata": {
        "id": "CQc60j3_Dl9J"
      },
      "source": [
        "For infectivities (another subpanel):"
      ]
    },
    {
      "cell_type": "code",
      "execution_count": 13,
      "metadata": {
        "colab": {
          "base_uri": "https://localhost:8080/",
          "height": 282
        },
        "id": "L9y2UkXuDnpa",
        "outputId": "58a39c10-bc73-4d29-d0a6-947da00d7a02"
      },
      "outputs": [
        {
          "data": {
            "image/png": "[encoded data removed]",
            "text/plain": [
              "<Figure size 432x288 with 1 Axes>"
            ]
          },
          "metadata": {
            "needs_background": "light"
          },
          "output_type": "display_data"
        }
      ],
      "source": [
        "import matplotlib.pyplot as plt\n",
        "plt.rcParams.update({'font.size': 14,})\n",
        "basic_sequential_cmap = plt.get_cmap(\"Purples\")\n",
        "alt_cmap = plt.get_cmap(\"Oranges\")\n",
        "colors = [basic_sequential_cmap(x) for x in np.linspace(0.2, 0.7, 3)]\n",
        "colors[0] = [alt_cmap(x) for x in np.linspace(0.3, 0.6, 3)][1]\n",
        "\n",
        "# we group by the variables we aren't interested in plotting so that they'll be constant in the slice we look at\n",
        "grouping = ['s80', 'SAR', 'size']\n",
        "for key, group in results.df.groupby(grouping): # we perform the grouping and iterate over groups\n",
        "    group = group.rename(columns={0:'count'}) # I rename a mysterious column to make it more obvious. In future, this will be the default behavior!\n",
        "    # we make key_dict, a mapping from labels (ex. 'p80') to the value in the current group\n",
        "    key_dict = {label:key[i] for i,label in enumerate(grouping)}\n",
        "    # we skip values we're not interested in\n",
        "    if key_dict['s80'] != 0.8: continue\n",
        "    if key_dict['SAR'] != 0.25: continue\n",
        "\n",
        "    # do some magic! (I'll explain down below)\n",
        "    restructured_group = group['count'].reset_index().drop(['s80', 'SAR', 'size'], axis=1).set_index(['infections', 'p80']).unstack()\n",
        "    restructured_group = restructured_group.droplevel(0, axis=1)\n",
        "    restructured_group = restructured_group / restructured_group.sum()\n",
        "    # switch the order of our columns because *decreasing* s80 corresponds with *adding* heterogeneity\n",
        "    switched_column_order = restructured_group[restructured_group.columns[::-1]]\n",
        "    ax = switched_column_order.plot.bar(color=colors)\n",
        "    break\n",
        "ax.axes.yaxis.set_ticklabels([])\n",
        "ax.set_xlabel(\"Infections\")\n",
        "ax.set_ylabel(\"Frequency\")\n",
        "ax.set_ylim((0.0, 1.0))\n",
        "plt.savefig(\"different_p80s.png\", dpi=300)"
      ]
    },
    {
      "cell_type": "code",
      "execution_count": 81,
      "metadata": {
        "colab": {
          "base_uri": "https://localhost:8080/",
          "height": 282
        },
        "id": "gBEglvTXEGlK",
        "outputId": "6e265cb3-e251-4fc5-ff4c-d44db1feaae3"
      },
      "outputs": [
        {
          "data": {
            "image/png": "[encoded data removed]",
            "text/plain": [
              "<Figure size 432x288 with 1 Axes>"
            ]
          },
          "metadata": {
            "needs_background": "light"
          },
          "output_type": "display_data"
        }
      ],
      "source": [
        "import matplotlib.pyplot as plt\n",
        "plt.rcParams.update({'font.size': 14,})\n",
        "basic_sequential_cmap = plt.get_cmap(\"Oranges\")\n",
        "alt_cmap = plt.get_cmap(\"Oranges\")\n",
        "colors = [basic_sequential_cmap(x) for x in np.linspace(0.3, 0.6, 3)]\n",
        "\n",
        "# we group by the variables we aren't interested in plotting so that they'll be constant in the slice we look at\n",
        "grouping = ['s80', 'p80', 'size']\n",
        "for key, group in results.df.groupby(grouping): # we perform the grouping and iterate over groups\n",
        "    group = group.rename(columns={0:'count'}) # I rename a mysterious column to make it more obvious. In future, this will be the default behavior!\n",
        "    # we make key_dict, a mapping from labels (ex. 'p80') to the value in the current group\n",
        "    key_dict = {label:key[i] for i,label in enumerate(grouping)}\n",
        "    # we skip values we're not interested in\n",
        "    if key_dict['s80'] != 0.8: continue\n",
        "    if key_dict['p80'] != 0.8: continue\n",
        "\n",
        "    # do some magic! (I'll explain down below)\n",
        "    restructured_group = group['count'].reset_index().drop(['s80', 'p80', 'size'], axis=1).set_index(['infections', 'SAR']).unstack()\n",
        "    restructured_group = restructured_group.droplevel(0, axis=1)\n",
        "    restructured_group = restructured_group / restructured_group.sum()\n",
        "    # switch the order of our columns because *decreasing* s80 corresponds with *adding* heterogeneity\n",
        "    #switched_column_order = restructured_group[restructured_group.columns[::-1]]\n",
        "    ax = restructured_group.plot.bar(color=colors)\n",
        "    break\n",
        "ax.axes.yaxis.set_ticklabels([])\n",
        "ax.set_xlabel(\"Infections\")\n",
        "ax.set_ylabel(\"Frequency\")\n",
        "ax.set_ylim((0.0, 1.0))\n",
        "plt.savefig(\"different_SARs.png\", dpi=300)"
      ]
    }
  ],
  "metadata": {
    "accelerator": "GPU",
    "colab": {
      "collapsed_sections": [],
      "name": "Covid Households - Forward Simulation Minimal Example.ipynb",
      "provenance": []
    },
    "interpreter": {
      "hash": "03a37169ebecb45dcf20fa5c1f374fea92f87ddabb160d4575a3a031fd7e1e7d"
    },
    "kernelspec": {
      "display_name": "Python 3.9.5 ('.venv': poetry)",
      "language": "python",
      "name": "python3"
    },
    "language_info": {
      "codemirror_mode": {
        "name": "ipython",
        "version": 3
      },
      "file_extension": ".py",
      "mimetype": "text/x-python",
      "name": "python",
      "nbconvert_exporter": "python",
      "pygments_lexer": "ipython3",
      "version": "3.9.5"
    }
  },
  "nbformat": 4,
  "nbformat_minor": 0
}
