{
 "cells": [
  {
   "cell_type": "markdown",
   "metadata": {},
   "source": [
    "# Initialization"
   ]
  },
  {
   "cell_type": "code",
   "execution_count": 1,
   "metadata": {},
   "outputs": [
    {
     "name": "stdout",
     "output_type": "stream",
     "text": [
      "/Users/thayer/covid_households/covid_households\n"
     ]
    }
   ],
   "source": [
    "%cd ../covid_households\n",
    "import recipes as recipes\n",
    "from settings import model_constants\n",
    "from settings import STATE\n",
    "import numpy as np"
   ]
  },
  {
   "cell_type": "code",
   "execution_count": 2,
   "metadata": {},
   "outputs": [],
   "source": [
    "import pandas as pd\n",
    "pd.set_option('mode.chained_assignment', 'raise')\n",
    "results = recipes.Results.load(\"/Users/thayer/covid_households/new_parameters/s80-p80-SAR-sizes-2-8/repaired_counts\")"
   ]
  },
  {
   "cell_type": "code",
   "execution_count": 3,
   "metadata": {},
   "outputs": [
    {
     "name": "stdout",
     "output_type": "stream",
     "text": [
      "Compiling results df from parts. Treating all files with extension .parquet as parts.\n"
     ]
    }
   ],
   "source": [
    "extra_results = recipes.Results.load('/Users/thayer/covid_households/new_parameters/s80-p80-SAR-sizes-2-8/experiment-02-23-21-45', from_parts=True)\n",
    "extra_results2 = recipes.Results.load('/Users/thayer/covid_households/new_parameters/s80-p80-SAR-sizes-2-8/experiment-02-23-21-48')\n",
    "\n",
    "extra = extra_results.combine(extra_results2)\n",
    "fuller_results = results.combine(extra)\n",
    "fuller_results = fuller_results.repair_missing_counts()"
   ]
  },
  {
   "cell_type": "code",
   "execution_count": 4,
   "metadata": {},
   "outputs": [],
   "source": [
    "results = fuller_results"
   ]
  },
  {
   "cell_type": "code",
   "execution_count": 5,
   "metadata": {},
   "outputs": [
    {
     "data": {
      "text/plain": [
       "s80  p80  SAR   size  infections\n",
       "0.1  0.1  0.15  2     1             0.91224\n",
       "                      2             0.08776\n",
       "                3     1             0.82928\n",
       "                      2             0.12596\n",
       "                      3             0.04476\n",
       "                                     ...   \n",
       "0.8  0.8  0.60  8     4             0.00008\n",
       "                      5             0.00004\n",
       "                      6             0.00032\n",
       "                      7             0.00544\n",
       "                      8             0.98848\n",
       "Name: count, Length: 1689310, dtype: float64"
      ]
     },
     "execution_count": 5,
     "metadata": {},
     "output_type": "execute_result"
    }
   ],
   "source": [
    "results.find_frequencies(inplace=True)"
   ]
  },
  {
   "cell_type": "code",
   "execution_count": null,
   "metadata": {},
   "outputs": [],
   "source": []
  },
  {
   "cell_type": "markdown",
   "metadata": {},
   "source": [
    "# Junk"
   ]
  },
  {
   "cell_type": "code",
   "execution_count": 5,
   "metadata": {},
   "outputs": [
    {
     "data": {
      "text/plain": [
       "(trial  sample s80  sample p80  sample SAR  size  infections\n",
       " 0      0.5         0.5         0.24        8     1             0.26364\n",
       "                                                  2             0.09820\n",
       "                                                  3             0.07106\n",
       "                                                  4             0.07622\n",
       "                                                  5             0.09336\n",
       "                                                  6             0.12090\n",
       "                                                  7             0.14862\n",
       "                                                  8             0.12800\n",
       " Name: count, dtype: float64,\n",
       " trial  sample s80  sample p80  sample SAR  size  infections\n",
       " 0      0.5         0.5         0.24        8     1             0.26982\n",
       "                                                  2             0.09788\n",
       "                                                  3             0.07114\n",
       "                                                  4             0.07448\n",
       "                                                  5             0.08940\n",
       "                                                  6             0.11948\n",
       "                                                  7             0.14916\n",
       "                                                  8             0.12864\n",
       " Name: count, dtype: float64)"
      ]
     },
     "execution_count": 5,
     "metadata": {},
     "output_type": "execute_result"
    }
   ],
   "source": [
    "def resample_freqs(s, n):\n",
    "    return results.resample((0.5, 0.5, 0.24), {s:n})['count']/n\n",
    "\n",
    "i1 = resample_freqs(8, 50000)\n",
    "i2 = resample_freqs(8, 50000)\n",
    "\n",
    "i1, i2"
   ]
  },
  {
   "cell_type": "code",
   "execution_count": 61,
   "metadata": {},
   "outputs": [
    {
     "data": {
      "text/plain": [
       "-0.09600557517333869"
      ]
     },
     "execution_count": 61,
     "metadata": {},
     "output_type": "execute_result"
    }
   ],
   "source": [
    "np.average(((i1 - i2)/i1)*100)"
   ]
  },
  {
   "cell_type": "markdown",
   "metadata": {},
   "source": [
    "# Violin figures"
   ]
  },
  {
   "cell_type": "markdown",
   "metadata": {},
   "source": [
    "`null_freqs` represents the frequencies we observe in the absence of heterogeneity. We use it to calculate the MLE along the restriction where heterogeneity is not present."
   ]
  },
  {
   "cell_type": "code",
   "execution_count": 5,
   "metadata": {},
   "outputs": [
    {
     "data": {
      "text/plain": [
       "s80  p80  SAR   size  infections\n",
       "0.8  0.8  0.15  2     1             0.84270\n",
       "                      2             0.15730\n",
       "                3     1             0.71702\n",
       "                      2             0.21632\n",
       "                      3             0.06666\n",
       "                                     ...   \n",
       "          0.40  8     4             0.00434\n",
       "                      5             0.00644\n",
       "                      6             0.01922\n",
       "                      7             0.10160\n",
       "                      8             0.81162\n",
       "Name: frequency, Length: 910, dtype: float64"
      ]
     },
     "execution_count": 5,
     "metadata": {},
     "output_type": "execute_result"
    }
   ],
   "source": [
    "freq = results.df['frequency']\n",
    "s80_l = freq.index.get_level_values(0)\n",
    "p80_l = freq.index.get_level_values(1)\n",
    "\n",
    "null_freqs = freq[(s80_l == 0.8) & (p80_l == 0.8)]\n",
    "null_freqs"
   ]
  },
  {
   "cell_type": "code",
   "execution_count": null,
   "metadata": {},
   "outputs": [],
   "source": [
    "def make_mles(logl, parameters, population, parameter_set):\n",
    "    \"\"\"Takes the log likelihood surface for each trial and returns the MLEs.\n",
    "\n",
    "    Args:\n",
    "        logl (Pandas.DataFrame): the loglikelihood surface. Indexed by at least `trial` which represent different observations\n",
    "        parameters (list): a list of strings that correspond to labels in the dataframe for each of our parameters in the MLE\n",
    "        population (_type_): _description_\n",
    "        parameter_set (_type_): _description_\n",
    "\n",
    "    Returns:\n",
    "        _type_: _description_\n",
    "    \"\"\"    \n",
    "    fits = logl.groupby('trial').idxmax()\n",
    "    fits = pd.DataFrame(fits.tolist())\n",
    "    fits.columns = [\"baseline \" + key for key in parameters] + ['trial'] + [\"MLE_\" + key for key in parameters]\n",
    "    fits = fits.drop([\"baseline \" + key for key in parameters], axis=1).set_index('trial')\n",
    "    \n",
    "    fits['sample size'] = sum([k*v for k,v in population.items()])\n",
    "    fits['population mix'] = list(population.keys()) * len(fits)\n",
    "    fits ['parameters'] = [parameter_set] * len(fits)\n",
    "    return fits"
   ]
  },
  {
   "cell_type": "markdown",
   "metadata": {},
   "source": [
    "Choose the different combinations of parameters / sample sizes / household sizes to try."
   ]
  },
  {
   "cell_type": "code",
   "execution_count": 2,
   "metadata": {},
   "outputs": [
    {
     "ename": "ModuleNotFoundError",
     "evalue": "No module named 'covid_households'",
     "output_type": "error",
     "traceback": [
      "\u001b[0;31m---------------------------------------------------------------------------\u001b[0m",
      "\u001b[0;31mModuleNotFoundError\u001b[0m                       Traceback (most recent call last)",
      "\u001b[1;32m/Users/thayer/covid_households/notebooks/ViolinsAndPowerCalc.ipynb Cell 15'\u001b[0m in \u001b[0;36m<cell line: 1>\u001b[0;34m()\u001b[0m\n\u001b[0;32m----> <a href='vscode-notebook-cell:/Users/thayer/covid_households/notebooks/ViolinsAndPowerCalc.ipynb#ch0000014?line=0'>1</a>\u001b[0m \u001b[39mimport\u001b[39;00m \u001b[39mcovid_households\u001b[39;00m\u001b[39m.\u001b[39;00m\u001b[39mlikelihood\u001b[39;00m \u001b[39mas\u001b[39;00m \u001b[39mlikelihood\u001b[39;00m\n\u001b[1;32m      <a href='vscode-notebook-cell:/Users/thayer/covid_households/notebooks/ViolinsAndPowerCalc.ipynb#ch0000014?line=1'>2</a>\u001b[0m sample_sizes \u001b[39m=\u001b[39m [\u001b[39m500\u001b[39m, \u001b[39m1500\u001b[39m, \u001b[39m3000\u001b[39m, \u001b[39m5000\u001b[39m, \u001b[39m10000\u001b[39m]\n\u001b[1;32m      <a href='vscode-notebook-cell:/Users/thayer/covid_households/notebooks/ViolinsAndPowerCalc.ipynb#ch0000014?line=2'>3</a>\u001b[0m population_mixes \u001b[39m=\u001b[39m [(\u001b[39m8\u001b[39m,), (\u001b[39m5\u001b[39m,), (\u001b[39m2\u001b[39m,), (\u001b[39m8\u001b[39m,\u001b[39m4\u001b[39m), (\u001b[39m8\u001b[39m,\u001b[39m5\u001b[39m), (\u001b[39m8\u001b[39m,\u001b[39m7\u001b[39m), (\u001b[39m8\u001b[39m,\u001b[39m2\u001b[39m)]\u001b[39m#, (2,3,4,5,6,7,8)]\u001b[39;00m\n",
      "\u001b[0;31mModuleNotFoundError\u001b[0m: No module named 'covid_households'"
     ]
    }
   ],
   "source": [
    "import covid_households.likelihood as likelihood\n",
    "sample_sizes = [500, 1500, 3000, 5000, 10000]\n",
    "population_mixes = [(8,), (5,), (2,), (8,4), (8,5), (8,7), (8,2)]#, (2,3,4,5,6,7,8)]\n",
    "parameter_sets = [(0.6, 0.6, 0.3), (0.4, 0.4, 0.2), (0.8, 0.5, 0.25), (0.5, 0.8, 0.25)]"
   ]
  },
  {
   "cell_type": "markdown",
   "metadata": {},
   "source": [
    "Run the fits at all the combinations (create the population sample using statistical resampling — not forward simulation). Aggregate fits against the full surface in `fits_dfs` and the fits on the restriction that there is no heterogeneity in `null_hypoth_fits_dfs`."
   ]
  },
  {
   "cell_type": "code",
   "execution_count": 1,
   "metadata": {},
   "outputs": [
    {
     "ename": "NameError",
     "evalue": "name 'sample_sizes' is not defined",
     "output_type": "error",
     "traceback": [
      "\u001b[0;31m---------------------------------------------------------------------------\u001b[0m",
      "\u001b[0;31mNameError\u001b[0m                                 Traceback (most recent call last)",
      "\u001b[1;32m/Users/thayer/covid_households/notebooks/ViolinsAndPowerCalc.ipynb Cell 17'\u001b[0m in \u001b[0;36m<cell line: 5>\u001b[0;34m()\u001b[0m\n\u001b[1;32m      <a href='vscode-notebook-cell:/Users/thayer/covid_households/notebooks/ViolinsAndPowerCalc.ipynb#ch0000016?line=2'>3</a>\u001b[0m fit_dfs \u001b[39m=\u001b[39m []\n\u001b[1;32m      <a href='vscode-notebook-cell:/Users/thayer/covid_households/notebooks/ViolinsAndPowerCalc.ipynb#ch0000016?line=3'>4</a>\u001b[0m null_hypoth_fits_dfs \u001b[39m=\u001b[39m []\n\u001b[0;32m----> <a href='vscode-notebook-cell:/Users/thayer/covid_households/notebooks/ViolinsAndPowerCalc.ipynb#ch0000016?line=4'>5</a>\u001b[0m \u001b[39mfor\u001b[39;00m sample_size \u001b[39min\u001b[39;00m sample_sizes:\n\u001b[1;32m      <a href='vscode-notebook-cell:/Users/thayer/covid_households/notebooks/ViolinsAndPowerCalc.ipynb#ch0000016?line=5'>6</a>\u001b[0m     \u001b[39mfor\u001b[39;00m population_mix \u001b[39min\u001b[39;00m population_mixes:\n\u001b[1;32m      <a href='vscode-notebook-cell:/Users/thayer/covid_households/notebooks/ViolinsAndPowerCalc.ipynb#ch0000016?line=6'>7</a>\u001b[0m         \u001b[39mfor\u001b[39;00m parameter_set \u001b[39min\u001b[39;00m parameter_sets:\n",
      "\u001b[0;31mNameError\u001b[0m: name 'sample_sizes' is not defined"
     ]
    }
   ],
   "source": [
    "trials = 150\n",
    "\n",
    "fit_dfs = []\n",
    "null_hypoth_fits_dfs = []\n",
    "for sample_size in sample_sizes:\n",
    "    for population_mix in population_mixes:\n",
    "        for parameter_set in parameter_sets:\n",
    "            population_per_size = sample_size // len(population_mix)\n",
    "            population = {s:population_per_size for s in population_mix}\n",
    "            samples = results.resample(parameter_set, population, trials=trials)\n",
    "            print(samples)\n",
    "            logl = likelihood.logl_from_frequencies_and_counts(results.df['frequency'], samples['count'], results.metadata.parameters, sample_only_keys=['trial'])\n",
    "            fits = make_mles(logl, results.metadata.parameters, population, parameter_set)\n",
    "            fit_dfs.append(fits)\n",
    "\n",
    "            null_hypoth_logl = likelihood.logl_from_frequencies_and_counts(null_freqs, samples['count'], results.metadata.parameters, sample_only_keys=['trial'])\n",
    "            null_hypoth_fits = make_mles(null_hypoth_logl, results.metadata.parameters, population, parameter_set)\n",
    "            null_hypoth_fits_dfs.append(null_hypoth_fits)"
   ]
  },
  {
   "cell_type": "markdown",
   "metadata": {},
   "source": [
    "Combine results into single dfs."
   ]
  },
  {
   "cell_type": "code",
   "execution_count": null,
   "metadata": {},
   "outputs": [],
   "source": [
    "fit_df = pd.concat(fit_dfs)\n",
    "null_fit_df = pd.concat(null_hypoth_fits_dfs)\n",
    "fit_df\n",
    "null_fit_df"
   ]
  },
  {
   "cell_type": "code",
   "execution_count": null,
   "metadata": {},
   "outputs": [],
   "source": [
    "import matplotlib.pyplot as plt\n",
    "import seaborn as sns\n",
    "import os\n",
    "plt.close('all')\n",
    "#%matplotlib agg\n",
    "min_dict = {0.6: 0.3, 0.4:0.10, 0.5: 0.15, 0.8: 0.5}\n",
    "max_dict = {0.6: 0.8, 0.4:0.65, 0.5: 0.8, 0.8: 0.8}\n",
    "colors = ['tab:green', 'tab:orange', 'tab:blue']\n",
    "axline_colors = ['palegreen', 'bisque', 'lightsteelblue']\n",
    "xlabels = ['MLE\\ns80', 'MLE\\np80', 'MLE\\nSAR', 'constant traits \\nMLE for SAR']\n",
    "for k,g in fit_df.groupby(['population mix', 'sample size', 'parameters']):\n",
    "    plt.figure()\n",
    "    fig, axes = plt.subplots(1,4, dpi=800, sharey=True)\n",
    "    print(k)\n",
    "    print(g.mean())\n",
    "    population_mix, sample_size, parameters = k\n",
    "    plt.suptitle(f\"{sample_size} individuals equally mixed among size {population_mix} hhs. \\ns80, p80, SAR={parameters}\")\n",
    "    i = 0\n",
    "    for c in g.columns:\n",
    "        if 'MLE' not in c:\n",
    "            continue\n",
    "        if 's80' in c or 'p80' in c:\n",
    "            parameter_index = 0 if 's80' in c else 1\n",
    "            #mi, ma = min_dict[parameters[parameter_index]], max_dict[parameters[parameter_index]]\n",
    "            mi, ma = 0.1, 0.8\n",
    "            axes[i].set_ylim(mi, ma)\n",
    "        if 'SAR' in c:\n",
    "            pass\n",
    "            #axes[i].set_ylim(0.1, 0.5)\n",
    "            axes[i].set_ylim(0.1, 0.8)\n",
    "        if parameters[i] == 0.8:\n",
    "            axes[i].axhline(0.795, color=axline_colors[i])\n",
    "        else:\n",
    "            axes[i].axhline(parameters[i], color=axline_colors[i])\n",
    "        sns.violinplot(y=c, data=g, ax=axes[i], orient=\"v\", color=colors[i])\n",
    "        axes[i].set(xlabel=xlabels[i], ylabel='')\n",
    "        i += 1\n",
    "    null_fit_slice = null_fit_df.groupby(['population mix', 'sample size', 'parameters']).get_group(k)\n",
    "    #axes[3].set_ylim(0.1, 0.5)\n",
    "    axes[3].set_ylim(0.1, 0.8)\n",
    "    # plot the true SAR on the null hypothesis SAR\n",
    "    axes[3].axhline(parameters[2], color='mistyrose')\n",
    "    axes[3].set(xlabel=xlabels[3], ylabel='')\n",
    "    sns.violinplot(y=null_fit_slice['MLE_SAR'], data=null_fit_slice, ax=axes[3], orient=\"v\", color='indianred')\n",
    "    #axes[3].set(ylabel='MLE of SAR assuming no heterogeneity')\n",
    "    fig.tight_layout()\n",
    "    plt.savefig(os.path.join('/Users/thayer/covid_households/batched_figs', f'{k}' + '.jpg'))\n",
    "\n",
    "    "
   ]
  },
  {
   "cell_type": "code",
   "execution_count": null,
   "metadata": {},
   "outputs": [],
   "source": [
    "null_fits = null_fit_df['MLE_SAR'].copy()\n",
    "null_fits.name = 'No traits \\n MLE for SAR'\n",
    "version_2_df = pd.concat([fit_df, null_fits], axis=1)\n",
    "\n",
    "params = ['population mix', 'sample size', 'parameters']\n",
    "for k,g in version_2_df.groupby(params):\n",
    "    data = g.drop(params, axis=1)\n",
    "    plt.figure(dpi=800)\n",
    "    fig = sns.violinplot(data=data)\n",
    "    fig.set_ylim(0.1, 0.8)\n",
    "    plt.savefig(os.path.join('/Users/thayer/covid_households/batched_figs', 'v2' + f'{k}' + '.jpg'))\n",
    "    break"
   ]
  },
  {
   "cell_type": "code",
   "execution_count": null,
   "metadata": {},
   "outputs": [],
   "source": [
    "means = fit_df.groupby(['population mix', 'sample size', 'parameters']).mean()\n",
    "stds = fit_df.groupby(['population mix', 'sample size', 'parameters']).std()\n",
    "stds.columns = ['STD_' + s for s in stds.columns]\n",
    "\n",
    "statistics = pd.concat([means, stds], axis=1)\n",
    "with open('/Users/thayer/covid_households/batched_figs/stats.csv', 'w') as f:\n",
    "    statistics.to_csv(f)"
   ]
  },
  {
   "cell_type": "code",
   "execution_count": null,
   "metadata": {},
   "outputs": [],
   "source": [
    "stds.sort_values(by='STD_MLE_s80')\n",
    "with open('/Users/thayer/covid_households/batched_figs/stds.csv', 'w') as f:\n",
    "    stds.to_csv(f)\n",
    "\n",
    "with open('/Users/thayer/covid_households/batched_figs/means.csv', 'w') as f:\n",
    "    means.to_csv(f)"
   ]
  },
  {
   "cell_type": "markdown",
   "metadata": {},
   "source": [
    "# Power calculation"
   ]
  },
  {
   "cell_type": "code",
   "execution_count": 31,
   "metadata": {},
   "outputs": [
    {
     "name": "stdout",
     "output_type": "stream",
     "text": [
      "(0.5, 0.5, 0.25)\n"
     ]
    },
    {
     "name": "stderr",
     "output_type": "stream",
     "text": [
      "/Users/thayer/covid_households/.venv/lib/python3.9/site-packages/pandas/core/arraylike.py:358: RuntimeWarning: divide by zero encountered in log\n",
      "  result = getattr(ufunc, method)(*inputs, **kwargs)\n"
     ]
    },
    {
     "name": "stdout",
     "output_type": "stream",
     "text": [
      "(0.5, 0.5, 0.27)\n",
      "(0.5, 0.5, 0.29)\n",
      "(0.5, 0.5, 0.31)\n",
      "(0.5, 0.5, 0.33)\n",
      "(0.5, 0.5, 0.35)\n",
      "(0.5, 0.5, 0.37)\n",
      "(0.5, 0.5, 0.39)\n",
      "(0.5, 0.5, 0.41)\n",
      "(0.5, 0.5, 0.43)\n",
      "(0.5, 0.5, 0.45)\n",
      "(0.5, 0.5, 0.47)\n",
      "(0.5, 0.5, 0.49)\n",
      "(0.5, 0.5, 0.51)\n"
     ]
    }
   ],
   "source": [
    "#   Two  | Three\t Four     Five    Six    Seven or more\n",
    "# 45,515 | 19,523 | 16,098 | 7,577 | 2,635 |     1,611\n",
    "# https://www.census.gov/data/tables/time-series/demo/families/households.html\n",
    "population = {4:100}\n",
    "basline_parameters = (0.5, 0.5, 0.2)\n",
    "sar_range = np.linspace(0.25, 0.51, 14)\n",
    "trials = 500\n",
    "\n",
    "pvalues = []\n",
    "for sar in sar_range:\n",
    "    pvalues_for_one_sar = []\n",
    "    # replace baseline sar with target sar\n",
    "    parameters = list(basline_parameters)\n",
    "    parameters[2] = float(f'{sar:0.3f}')\n",
    "    parameters = tuple(parameters)\n",
    "    print(parameters)\n",
    "    for t in range(trials):\n",
    "        samples = results.resample(basline_parameters, population, trials=1)\n",
    "        baseline_logl = likelihood.logl_from_frequencies_and_counts(results.df['frequency'], samples['count'], results.metadata.parameters, sample_only_keys=['trial'])\n",
    "        posterior = np.exp(baseline_logl.sort_values(ascending=False)-baseline_logl.max())\n",
    "        posterior = posterior/posterior.sum()\n",
    "        baseline_probability_over_sars = posterior.groupby('SAR').sum()\n",
    "\n",
    "        samples = results.resample(parameters, population, trials=1)\n",
    "        logl = likelihood.logl_from_frequencies_and_counts(results.df['frequency'], samples['count'], results.metadata.parameters, sample_only_keys=['trial'])\n",
    "        posterior = np.exp(logl.sort_values(ascending=False)-logl.max())\n",
    "        posterior = posterior/posterior.sum()\n",
    "        probability_over_sars = posterior.groupby('SAR').sum()\n",
    "\n",
    "        sample1 = np.random.choice(baseline_probability_over_sars.index, 10000, p=baseline_probability_over_sars)\n",
    "        sample2 = np.random.choice(probability_over_sars.index, 10000, p=probability_over_sars)\n",
    "\n",
    "        pvalue = np.count_nonzero((sample1-sample2) < 0)/len(sample1)\n",
    "        pvalues_for_one_sar.append(pvalue)\n",
    "    pvalues.append(pvalues_for_one_sar)"
   ]
  },
  {
   "cell_type": "code",
   "execution_count": 32,
   "metadata": {},
   "outputs": [
    {
     "data": {
      "text/html": [
       "<div>\n",
       "<style scoped>\n",
       "    .dataframe tbody tr th:only-of-type {\n",
       "        vertical-align: middle;\n",
       "    }\n",
       "\n",
       "    .dataframe tbody tr th {\n",
       "        vertical-align: top;\n",
       "    }\n",
       "\n",
       "    .dataframe thead th {\n",
       "        text-align: right;\n",
       "    }\n",
       "</style>\n",
       "<table border=\"1\" class=\"dataframe\">\n",
       "  <thead>\n",
       "    <tr style=\"text-align: right;\">\n",
       "      <th></th>\n",
       "      <th>0.25</th>\n",
       "      <th>0.27</th>\n",
       "      <th>0.29</th>\n",
       "      <th>0.31</th>\n",
       "      <th>0.33</th>\n",
       "      <th>0.35</th>\n",
       "      <th>0.37</th>\n",
       "      <th>0.39</th>\n",
       "      <th>0.41</th>\n",
       "      <th>0.43</th>\n",
       "      <th>0.45</th>\n",
       "      <th>0.47</th>\n",
       "      <th>0.49</th>\n",
       "      <th>0.51</th>\n",
       "    </tr>\n",
       "  </thead>\n",
       "  <tbody>\n",
       "    <tr>\n",
       "      <th>0</th>\n",
       "      <td>0.8756</td>\n",
       "      <td>0.9208</td>\n",
       "      <td>0.8892</td>\n",
       "      <td>0.9397</td>\n",
       "      <td>0.9991</td>\n",
       "      <td>0.9775</td>\n",
       "      <td>0.9939</td>\n",
       "      <td>0.9998</td>\n",
       "      <td>1.0000</td>\n",
       "      <td>0.9883</td>\n",
       "      <td>1.0000</td>\n",
       "      <td>1.0</td>\n",
       "      <td>1.0000</td>\n",
       "      <td>1.0</td>\n",
       "    </tr>\n",
       "    <tr>\n",
       "      <th>1</th>\n",
       "      <td>0.9528</td>\n",
       "      <td>0.9606</td>\n",
       "      <td>0.9249</td>\n",
       "      <td>0.9742</td>\n",
       "      <td>0.9884</td>\n",
       "      <td>0.9996</td>\n",
       "      <td>0.9926</td>\n",
       "      <td>0.9994</td>\n",
       "      <td>1.0000</td>\n",
       "      <td>1.0000</td>\n",
       "      <td>1.0000</td>\n",
       "      <td>1.0</td>\n",
       "      <td>1.0000</td>\n",
       "      <td>1.0</td>\n",
       "    </tr>\n",
       "    <tr>\n",
       "      <th>2</th>\n",
       "      <td>0.9201</td>\n",
       "      <td>0.9899</td>\n",
       "      <td>0.9230</td>\n",
       "      <td>0.9984</td>\n",
       "      <td>0.8364</td>\n",
       "      <td>0.9710</td>\n",
       "      <td>0.9908</td>\n",
       "      <td>0.9998</td>\n",
       "      <td>0.9998</td>\n",
       "      <td>0.9998</td>\n",
       "      <td>1.0000</td>\n",
       "      <td>1.0</td>\n",
       "      <td>1.0000</td>\n",
       "      <td>1.0</td>\n",
       "    </tr>\n",
       "    <tr>\n",
       "      <th>3</th>\n",
       "      <td>0.5582</td>\n",
       "      <td>0.8730</td>\n",
       "      <td>0.9209</td>\n",
       "      <td>0.9925</td>\n",
       "      <td>0.9921</td>\n",
       "      <td>0.4470</td>\n",
       "      <td>0.9888</td>\n",
       "      <td>1.0000</td>\n",
       "      <td>1.0000</td>\n",
       "      <td>0.9994</td>\n",
       "      <td>0.9948</td>\n",
       "      <td>1.0</td>\n",
       "      <td>1.0000</td>\n",
       "      <td>1.0</td>\n",
       "    </tr>\n",
       "    <tr>\n",
       "      <th>4</th>\n",
       "      <td>0.7098</td>\n",
       "      <td>0.7571</td>\n",
       "      <td>0.9841</td>\n",
       "      <td>0.9836</td>\n",
       "      <td>0.9553</td>\n",
       "      <td>0.9998</td>\n",
       "      <td>0.9994</td>\n",
       "      <td>1.0000</td>\n",
       "      <td>0.9988</td>\n",
       "      <td>1.0000</td>\n",
       "      <td>1.0000</td>\n",
       "      <td>1.0</td>\n",
       "      <td>1.0000</td>\n",
       "      <td>1.0</td>\n",
       "    </tr>\n",
       "    <tr>\n",
       "      <th>...</th>\n",
       "      <td>...</td>\n",
       "      <td>...</td>\n",
       "      <td>...</td>\n",
       "      <td>...</td>\n",
       "      <td>...</td>\n",
       "      <td>...</td>\n",
       "      <td>...</td>\n",
       "      <td>...</td>\n",
       "      <td>...</td>\n",
       "      <td>...</td>\n",
       "      <td>...</td>\n",
       "      <td>...</td>\n",
       "      <td>...</td>\n",
       "      <td>...</td>\n",
       "    </tr>\n",
       "    <tr>\n",
       "      <th>495</th>\n",
       "      <td>0.8582</td>\n",
       "      <td>0.9792</td>\n",
       "      <td>0.8660</td>\n",
       "      <td>0.9811</td>\n",
       "      <td>0.9816</td>\n",
       "      <td>0.9994</td>\n",
       "      <td>0.9999</td>\n",
       "      <td>0.9933</td>\n",
       "      <td>1.0000</td>\n",
       "      <td>1.0000</td>\n",
       "      <td>0.9980</td>\n",
       "      <td>1.0</td>\n",
       "      <td>0.9999</td>\n",
       "      <td>1.0</td>\n",
       "    </tr>\n",
       "    <tr>\n",
       "      <th>496</th>\n",
       "      <td>0.8647</td>\n",
       "      <td>0.8743</td>\n",
       "      <td>0.9911</td>\n",
       "      <td>0.9979</td>\n",
       "      <td>0.9915</td>\n",
       "      <td>0.9471</td>\n",
       "      <td>0.9946</td>\n",
       "      <td>0.9999</td>\n",
       "      <td>1.0000</td>\n",
       "      <td>0.9999</td>\n",
       "      <td>1.0000</td>\n",
       "      <td>1.0</td>\n",
       "      <td>0.9859</td>\n",
       "      <td>1.0</td>\n",
       "    </tr>\n",
       "    <tr>\n",
       "      <th>497</th>\n",
       "      <td>0.7192</td>\n",
       "      <td>0.9590</td>\n",
       "      <td>0.8290</td>\n",
       "      <td>0.9805</td>\n",
       "      <td>0.9176</td>\n",
       "      <td>0.9916</td>\n",
       "      <td>0.9547</td>\n",
       "      <td>1.0000</td>\n",
       "      <td>0.9997</td>\n",
       "      <td>1.0000</td>\n",
       "      <td>1.0000</td>\n",
       "      <td>1.0</td>\n",
       "      <td>1.0000</td>\n",
       "      <td>1.0</td>\n",
       "    </tr>\n",
       "    <tr>\n",
       "      <th>498</th>\n",
       "      <td>0.5932</td>\n",
       "      <td>0.9595</td>\n",
       "      <td>0.9811</td>\n",
       "      <td>0.9976</td>\n",
       "      <td>0.9998</td>\n",
       "      <td>0.9748</td>\n",
       "      <td>0.9925</td>\n",
       "      <td>0.9997</td>\n",
       "      <td>1.0000</td>\n",
       "      <td>1.0000</td>\n",
       "      <td>1.0000</td>\n",
       "      <td>1.0</td>\n",
       "      <td>1.0000</td>\n",
       "      <td>1.0</td>\n",
       "    </tr>\n",
       "    <tr>\n",
       "      <th>499</th>\n",
       "      <td>0.5029</td>\n",
       "      <td>0.8707</td>\n",
       "      <td>0.7900</td>\n",
       "      <td>0.9917</td>\n",
       "      <td>0.9970</td>\n",
       "      <td>0.9975</td>\n",
       "      <td>0.9953</td>\n",
       "      <td>0.9998</td>\n",
       "      <td>0.9994</td>\n",
       "      <td>0.9976</td>\n",
       "      <td>1.0000</td>\n",
       "      <td>1.0</td>\n",
       "      <td>1.0000</td>\n",
       "      <td>1.0</td>\n",
       "    </tr>\n",
       "  </tbody>\n",
       "</table>\n",
       "<p>500 rows × 14 columns</p>\n",
       "</div>"
      ],
      "text/plain": [
       "       0.25    0.27    0.29    0.31    0.33    0.35    0.37    0.39    0.41  \\\n",
       "0    0.8756  0.9208  0.8892  0.9397  0.9991  0.9775  0.9939  0.9998  1.0000   \n",
       "1    0.9528  0.9606  0.9249  0.9742  0.9884  0.9996  0.9926  0.9994  1.0000   \n",
       "2    0.9201  0.9899  0.9230  0.9984  0.8364  0.9710  0.9908  0.9998  0.9998   \n",
       "3    0.5582  0.8730  0.9209  0.9925  0.9921  0.4470  0.9888  1.0000  1.0000   \n",
       "4    0.7098  0.7571  0.9841  0.9836  0.9553  0.9998  0.9994  1.0000  0.9988   \n",
       "..      ...     ...     ...     ...     ...     ...     ...     ...     ...   \n",
       "495  0.8582  0.9792  0.8660  0.9811  0.9816  0.9994  0.9999  0.9933  1.0000   \n",
       "496  0.8647  0.8743  0.9911  0.9979  0.9915  0.9471  0.9946  0.9999  1.0000   \n",
       "497  0.7192  0.9590  0.8290  0.9805  0.9176  0.9916  0.9547  1.0000  0.9997   \n",
       "498  0.5932  0.9595  0.9811  0.9976  0.9998  0.9748  0.9925  0.9997  1.0000   \n",
       "499  0.5029  0.8707  0.7900  0.9917  0.9970  0.9975  0.9953  0.9998  0.9994   \n",
       "\n",
       "       0.43    0.45  0.47    0.49  0.51  \n",
       "0    0.9883  1.0000   1.0  1.0000   1.0  \n",
       "1    1.0000  1.0000   1.0  1.0000   1.0  \n",
       "2    0.9998  1.0000   1.0  1.0000   1.0  \n",
       "3    0.9994  0.9948   1.0  1.0000   1.0  \n",
       "4    1.0000  1.0000   1.0  1.0000   1.0  \n",
       "..      ...     ...   ...     ...   ...  \n",
       "495  1.0000  0.9980   1.0  0.9999   1.0  \n",
       "496  0.9999  1.0000   1.0  0.9859   1.0  \n",
       "497  1.0000  1.0000   1.0  1.0000   1.0  \n",
       "498  1.0000  1.0000   1.0  1.0000   1.0  \n",
       "499  0.9976  1.0000   1.0  1.0000   1.0  \n",
       "\n",
       "[500 rows x 14 columns]"
      ]
     },
     "execution_count": 32,
     "metadata": {},
     "output_type": "execute_result"
    }
   ],
   "source": [
    "pvalue_df = pd.DataFrame(pvalues, index=[float(f'{sar:0.3f}') for sar in sar_range]).transpose()\n",
    "pvalue_df"
   ]
  },
  {
   "cell_type": "code",
   "execution_count": 41,
   "metadata": {},
   "outputs": [],
   "source": [
    "power90 = ((pvalue_df > 0.90).sum()/trials)#.plot()\n",
    "power90.name = 'power p=0.9'"
   ]
  },
  {
   "cell_type": "code",
   "execution_count": 42,
   "metadata": {},
   "outputs": [],
   "source": [
    "power95 = (pvalue_df > 0.95).sum()/trials\n",
    "power95.name = 'power p=0.95'"
   ]
  },
  {
   "cell_type": "code",
   "execution_count": 50,
   "metadata": {},
   "outputs": [
    {
     "data": {
      "text/plain": [
       "Text(0.5, 0, 'SAR in heightened group')"
      ]
     },
     "execution_count": 50,
     "metadata": {},
     "output_type": "execute_result"
    },
    {
     "data": {
      "image/png": "[encoded data removed]",
      "text/plain": [
       "<Figure size 432x288 with 1 Axes>"
      ]
     },
     "metadata": {
      "needs_background": "light"
     },
     "output_type": "display_data"
    }
   ],
   "source": [
    "import matplotlib.pyplot as plt\n",
    "power_df = pd.concat([power90, power95], axis=1)\n",
    "power_df.plot()\n",
    "plt.xlabel('SAR in heightened group')"
   ]
  },
  {
   "cell_type": "code",
   "execution_count": null,
   "metadata": {},
   "outputs": [],
   "source": [
    "brendan_fit_df = pd.concat(brendan_fit_dfs)"
   ]
  },
  {
   "cell_type": "code",
   "execution_count": null,
   "metadata": {},
   "outputs": [],
   "source": [
    "clusters = []\n",
    "for k,g in brendan_fit_df.groupby('parameters'):\n",
    "    clusters.append(g)"
   ]
  },
  {
   "cell_type": "code",
   "execution_count": null,
   "metadata": {},
   "outputs": [],
   "source": [
    "((clusters[0]['MLE_SAR'] + 0.1) < clusters[1]['MLE_SAR']).value_counts()"
   ]
  },
  {
   "cell_type": "code",
   "execution_count": null,
   "metadata": {},
   "outputs": [],
   "source": [
    "import matplotlib.pyplot as plt\n",
    "import seaborn as sns\n",
    "import os\n",
    "plt.close('all')\n",
    "#%matplotlib agg\n",
    "min_dict = {0.6: 0.3, 0.4:0.10, 0.5: 0.15, 0.8: 0.5}\n",
    "max_dict = {0.6: 0.8, 0.4:0.65, 0.5: 0.8, 0.8: 0.8}\n",
    "colors = ['tab:green', 'tab:orange', 'tab:blue']\n",
    "axline_colors = ['palegreen', 'bisque', 'lightsteelblue']\n",
    "xlabels = ['MLE\\ns80', 'MLE\\np80', 'MLE\\nSAR', 'constant traits \\nMLE for SAR']\n",
    "for k,g in brendan_fit_df.groupby(['population mix', 'sample size', 'parameters']):\n",
    "    plt.figure()\n",
    "    fig, axes = plt.subplots(1,3, dpi=800, sharey=True)\n",
    "    print(k)\n",
    "    print(g.mean())\n",
    "    population_mix, sample_size, parameters = k\n",
    "    plt.suptitle(f\"{sample_size} individuals equally mixed among size {population_mix} hhs. \\ns80, p80, SAR={parameters}\")\n",
    "    i = 0\n",
    "    for c in g.columns:\n",
    "        if 'MLE' not in c:\n",
    "            continue\n",
    "        if 's80' in c or 'p80' in c:\n",
    "            parameter_index = 0 if 's80' in c else 1\n",
    "            mi, ma = 0.1, 0.8\n",
    "            axes[i].set_ylim(mi, ma)\n",
    "        if 'SAR' in c:\n",
    "            pass\n",
    "            #axes[i].set_ylim(0.1, 0.5)\n",
    "            axes[i].set_ylim(0.1, 0.8)\n",
    "        if parameters[i] == 0.8:\n",
    "            axes[i].axhline(0.795, color=axline_colors[i])\n",
    "        else:\n",
    "            axes[i].axhline(parameters[i], color=axline_colors[i])\n",
    "        sns.violinplot(y=c, data=g, ax=axes[i], orient=\"v\", color=colors[i])\n",
    "        axes[i].set(xlabel=xlabels[i], ylabel='')\n",
    "        i += 1\n",
    "\n",
    "    fig.tight_layout()\n",
    "    plt.savefig(os.path.join('/Users/thayer/covid_households/batched_figs/brendan', f'{k}' + '.jpg'))\n",
    "    #break\n",
    "    #input()"
   ]
  },
  {
   "cell_type": "code",
   "execution_count": null,
   "metadata": {},
   "outputs": [],
   "source": [
    "import numpy as np\n",
    "expected_s80s = np.linspace(0.1, 0.8, 36)\n",
    "expected_p80s = np.linspace(0.1, 0.8, 36)\n",
    "expected_SARs = np.linspace(0.15, 0.40, 26)\n",
    "\n",
    "decimal_places = 3\n",
    "\n",
    "for s80, p80, SAR in zip(expected_s80s, expected_p80s, expected_SARs):\n",
    "    # touch everything in the convex area that we expect to exist\n",
    "    results.df.loc[float(f\"{s80:.{decimal_places}f}\"), float(f\"{p80:.{decimal_places}f}\"), float(f\"{SAR:.{decimal_places}f}\")]\n",
    "    #print(results.df.loc[float(f\"{s80:.{decimal_places}f}\"), float(f\"{p80:.{decimal_places}f}\"), float(f\"{SAR:.{decimal_places}f}\")])\n",
    "    #break"
   ]
  }
 ],
 "metadata": {
  "interpreter": {
   "hash": "6643efa36a63ef388c4520fc73cd52aee4d1563b6f862d70a728b962ee53ad6e"
  },
  "kernelspec": {
   "display_name": "Python 3.9.5 64-bit ('3.9.5': pyenv)",
   "language": "python",
   "name": "python3"
  },
  "language_info": {
   "codemirror_mode": {
    "name": "ipython",
    "version": 3
   },
   "file_extension": ".py",
   "mimetype": "text/x-python",
   "name": "python",
   "nbconvert_exporter": "python",
   "pygments_lexer": "ipython3",
   "version": "3.9.5"
  },
  "orig_nbformat": 4
 },
 "nbformat": 4,
 "nbformat_minor": 2
}
