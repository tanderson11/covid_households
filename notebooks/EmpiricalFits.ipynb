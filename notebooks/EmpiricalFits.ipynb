{
 "cells": [
  {
   "cell_type": "code",
   "execution_count": 15,
   "id": "7478c494",
   "metadata": {},
   "outputs": [
    {
     "name": "stdout",
     "output_type": "stream",
     "text": [
      "/Users/thayer/covid_households/covid_households\n"
     ]
    }
   ],
   "source": [
    "import numpy as np\n",
    "import os\n",
    "import pandas as pd\n",
    "import pyarrow.parquet as pq\n",
    "%cd ../covid_households\n",
    "import likelihood\n",
    "import recipes"
   ]
  },
  {
   "cell_type": "code",
   "execution_count": 16,
   "id": "3389ad1c",
   "metadata": {},
   "outputs": [
    {
     "data": {
      "text/plain": [
       "['s80', 'p80', 'SAR']"
      ]
     },
     "execution_count": 16,
     "metadata": {},
     "output_type": "execute_result"
    }
   ],
   "source": [
    "results = recipes.Results.load('/Users/thayer/covid_households/new_parameters/s80-p80-SAR-sizes-2-8-tweaked-dprobability')\n",
    "results.find_frequencies(inplace=True)\n",
    "\n",
    "keys = results.metadata.parameters\n",
    "keys"
   ]
  },
  {
   "cell_type": "code",
   "execution_count": 17,
   "id": "486d18b7",
   "metadata": {},
   "outputs": [
    {
     "name": "stdout",
     "output_type": "stream",
     "text": [
      "     size  infections\n",
      "0       2           2\n",
      "1       6           2\n",
      "2       4           4\n",
      "3       8           6\n",
      "4       8           5\n",
      "..    ...         ...\n",
      "632    13           2\n",
      "633     5           4\n",
      "634    10           7\n",
      "635     4           3\n",
      "636     8           5\n",
      "\n",
      "[12740 rows x 2 columns]\n"
     ]
    },
    {
     "data": {
      "text/plain": [
       "sample s80  sample p80  sample SAR  size  infections\n",
       "0.0         0.0         0.0         2     1             69.65\n",
       "                                          2             88.35\n",
       "                                    3     1             31.45\n",
       "                                          2             29.90\n",
       "                                          3             24.65\n",
       "                                    4     1             20.80\n",
       "                                          2             20.25\n",
       "                                          3             15.80\n",
       "                                          4             11.15\n",
       "                                    5     1              9.40\n",
       "                                          2             18.85\n",
       "                                          3             19.00\n",
       "                                          4             12.00\n",
       "                                          5              3.75\n",
       "                                    6     1              7.60\n",
       "                                          2             15.85\n",
       "                                          3             17.15\n",
       "                                          4             11.75\n",
       "                                          5              8.00\n",
       "                                          6              3.65\n",
       "                                    7     1              4.60\n",
       "                                          2             11.65\n",
       "                                          3              9.40\n",
       "                                          4              8.75\n",
       "                                          5              5.55\n",
       "                                          6              6.80\n",
       "                                          7              6.25\n",
       "                                    8     1              1.80\n",
       "                                          2              3.00\n",
       "                                          3              6.50\n",
       "                                          4              6.05\n",
       "                                          5              5.80\n",
       "                                          6              5.65\n",
       "                                          7              5.35\n",
       "                                          8              0.85\n",
       "Name: count, dtype: float64"
      ]
     },
     "execution_count": 17,
     "metadata": {},
     "output_type": "execute_result"
    }
   ],
   "source": [
    "# load the data as a pandas dataframe\n",
    "root = \"/Users/thayer/covid_households/\"\n",
    "population_name = 'Bnei Brak'\n",
    "if population_name == 'Ontario':\n",
    "    empirical_df = os.path.join(root, \"empirical/Ontario/empirical_df.parquet\")\n",
    "    empirical_df = pq.read_table(empirical_df).to_pandas()\n",
    "elif population_name == 'Bnei Brak':\n",
    "    dfs = []\n",
    "    n_random_dfs = 20\n",
    "    for i in range(n_random_dfs):\n",
    "        randomized_df_path = os.path.join(root, f\"empirical/BneiBrak/randomized_corrections/randomized_df{i}.parquet\")\n",
    "        randomized_df = pq.read_table(randomized_df_path).to_pandas()\n",
    "        dfs.append(randomized_df)\n",
    "    empirical_df = pd.concat(dfs)\n",
    "    print(empirical_df)\n",
    "elif population_name == 'Geneva':\n",
    "    empirical_df = os.path.join(root, \"empirical/geneva/empirical_df.parquet\")\n",
    "    empirical_df = pq.read_table(empirical_df).to_pandas()\n",
    "\n",
    "# the infections column should be integer values\n",
    "empirical_df['infections'] = empirical_df['infections'].round(0)\n",
    "empirical_df = empirical_df.astype({'infections': 'int32', 'size': 'int32'})\n",
    "\n",
    "# for the different parameter values, we don't know their true value, so let's give them the dummy value of 0.\n",
    "for key in keys:\n",
    "    empirical_df[key] = 0.\n",
    "\n",
    "# turn the list of households into counts of the number of infections in different households\n",
    "empirical_counts = likelihood.counts_from_empirical(empirical_df, keys, sample_only_keys=[])\n",
    "\n",
    "if population_name == 'Bnei Brak':\n",
    "    empirical_counts = empirical_counts[empirical_counts.index.get_level_values('size') <= 8]\n",
    "    empirical_counts = empirical_counts / 20\n",
    "empirical_counts"
   ]
  },
  {
   "cell_type": "markdown",
   "id": "3742b5d9",
   "metadata": {},
   "source": [
    "By default, the log likelihood is held in a `Series` of log likelihood values organized around a 4-level index. The first index represent which empirical trial corresponds to that section of data. The next three parameters correspond to the parameter values at which we are estimating the likelihood (ie the model parameters)."
   ]
  },
  {
   "cell_type": "code",
   "execution_count": 18,
   "id": "cd0cc3e7",
   "metadata": {},
   "outputs": [
    {
     "data": {
      "text/plain": [
       "s80  p80  SAR \n",
       "0.2  0.2  0.10   -1193.404773\n",
       "          0.11   -1151.370155\n",
       "          0.12   -1112.377837\n",
       "          0.13   -1072.574698\n",
       "          0.14   -1040.660474\n",
       "                     ...     \n",
       "0.8  0.8  0.56   -1346.681752\n",
       "          0.57   -1386.504567\n",
       "          0.58   -1406.380119\n",
       "          0.59   -1450.627603\n",
       "          0.60   -1492.936436\n",
       "Name: logl, Length: 49011, dtype: float64"
      ]
     },
     "execution_count": 18,
     "metadata": {},
     "output_type": "execute_result"
    }
   ],
   "source": [
    "# calculate the log likelihood using the table of frequencies calculated over many households and the empirical counts from the dataset\n",
    "logl = likelihood.logl_from_frequencies_and_counts(results.df['frequency'], empirical_counts, keys)\n",
    "# by default indexed by a 'trial' index, but there is only one trial (the 0th) because this is a single dataset\n",
    "logl = logl.loc[0]\n",
    "logl"
   ]
  },
  {
   "cell_type": "markdown",
   "id": "f9a8a075",
   "metadata": {},
   "source": [
    "The parameters of the maximum likelihood estimate are easy to obtain by just finding the maximum value in the table of likelihood values."
   ]
  },
  {
   "cell_type": "code",
   "execution_count": 19,
   "id": "39bedec2",
   "metadata": {},
   "outputs": [
    {
     "data": {
      "text/plain": [
       "(0.2, 0.76, 0.41)"
      ]
     },
     "execution_count": 19,
     "metadata": {},
     "output_type": "execute_result"
    }
   ],
   "source": [
    "mle = logl.idxmax()\n",
    "mle"
   ]
  },
  {
   "cell_type": "code",
   "execution_count": 20,
   "id": "f0dbdf7e",
   "metadata": {},
   "outputs": [
    {
     "data": {
      "text/plain": [
       "[(0.2, 0.3), (0.62, 0.8), (0.35, 0.43)]"
      ]
     },
     "execution_count": 20,
     "metadata": {},
     "output_type": "execute_result"
    }
   ],
   "source": [
    "confidence_95_mask = likelihood.confidence_mask_from_logl(logl).astype('bool')\n",
    "confidence_95_intervals = [\n",
    "    likelihood.confidence_interval_from_confidence_mask(confidence_95_mask, 's80'),\n",
    "    likelihood.confidence_interval_from_confidence_mask(confidence_95_mask, 'p80'),\n",
    "    likelihood.confidence_interval_from_confidence_mask(confidence_95_mask, 'SAR'),\n",
    "]\n",
    "confidence_95_intervals"
   ]
  },
  {
   "cell_type": "code",
   "execution_count": 21,
   "id": "fb31427e",
   "metadata": {},
   "outputs": [
    {
     "data": {
      "text/plain": [
       "size  infections\n",
       "2     1             0.72792\n",
       "      2             0.27208\n",
       "3     1             0.49298\n",
       "      2             0.31758\n",
       "      3             0.18944\n",
       "4     1             0.32700\n",
       "      2             0.26100\n",
       "      3             0.25320\n",
       "      4             0.15880\n",
       "5     1             0.21354\n",
       "      2             0.18064\n",
       "      3             0.22322\n",
       "      4             0.23534\n",
       "      5             0.14726\n",
       "6     1             0.14122\n",
       "      2             0.11862\n",
       "      3             0.15840\n",
       "      4             0.21248\n",
       "      5             0.22872\n",
       "      6             0.14056\n",
       "7     1             0.09270\n",
       "      2             0.07154\n",
       "      3             0.10062\n",
       "      4             0.15142\n",
       "      5             0.21804\n",
       "      6             0.22956\n",
       "      7             0.13612\n",
       "8     1             0.06046\n",
       "      2             0.04324\n",
       "      3             0.05798\n",
       "      4             0.09804\n",
       "      5             0.15586\n",
       "      6             0.22082\n",
       "      7             0.23370\n",
       "      8             0.12990\n",
       "Name: model, dtype: float64"
      ]
     },
     "execution_count": 21,
     "metadata": {},
     "output_type": "execute_result"
    }
   ],
   "source": [
    "# the frequencies at the mle give the proportions of different # of infections in the best fit from the model\n",
    "best_fit_infections = results.df.loc[mle]['frequency']\n",
    "best_fit_infections.name = \"model\"\n",
    "best_fit_infections"
   ]
  },
  {
   "cell_type": "code",
   "execution_count": 22,
   "id": "e3efb772",
   "metadata": {},
   "outputs": [
    {
     "data": {
      "text/plain": [
       "size  infections\n",
       "2     1             0.440823\n",
       "      2             0.559177\n",
       "3     1             0.365698\n",
       "      2             0.347674\n",
       "      3             0.286628\n",
       "4     1             0.305882\n",
       "      2             0.297794\n",
       "      3             0.232353\n",
       "      4             0.163971\n",
       "5     1             0.149206\n",
       "      2             0.299206\n",
       "      3             0.301587\n",
       "      4             0.190476\n",
       "      5             0.059524\n",
       "6     1             0.118750\n",
       "      2             0.247656\n",
       "      3             0.267969\n",
       "      4             0.183594\n",
       "      5             0.125000\n",
       "      6             0.057031\n",
       "7     1             0.086792\n",
       "      2             0.219811\n",
       "      3             0.177358\n",
       "      4             0.165094\n",
       "      5             0.104717\n",
       "      6             0.128302\n",
       "      7             0.117925\n",
       "8     1             0.051429\n",
       "      2             0.085714\n",
       "      3             0.185714\n",
       "      4             0.172857\n",
       "      5             0.165714\n",
       "      6             0.161429\n",
       "      7             0.152857\n",
       "      8             0.024286\n",
       "Name: data, dtype: float64"
      ]
     },
     "execution_count": 22,
     "metadata": {},
     "output_type": "execute_result"
    }
   ],
   "source": [
    "# the empirical data is observed counts, we convert that to frequencies by dividing the counts by the total number of households of that size\n",
    "empirical_frequencies = empirical_counts/(empirical_counts.groupby(['sample ' + k for k in keys]+[\"size\"]).sum())\n",
    "empirical_frequencies.name = 'data'\n",
    "# we have to index past the dummy key values that we assigned earlier for each parameter in the empirical dataset\n",
    "empirical_frequencies = empirical_frequencies.loc[0.0, 0.0, 0.0]\n",
    "empirical_frequencies"
   ]
  },
  {
   "cell_type": "code",
   "execution_count": 23,
   "id": "ebdd8b1c",
   "metadata": {},
   "outputs": [
    {
     "data": {
      "image/png": "[encoded data removed]",
      "text/plain": [
       "<Figure size 360x864 with 3 Axes>"
      ]
     },
     "metadata": {
      "needs_background": "light"
     },
     "output_type": "display_data"
    }
   ],
   "source": [
    "import matplotlib.pyplot as plt\n",
    "combined_best_and_empirical = pd.concat([empirical_frequencies, best_fit_infections], axis=1)\n",
    "empirical_sizes = empirical_df.groupby('size').size()\n",
    "n_sizes = len(empirical_sizes.index.unique())\n",
    "\n",
    "which_sizes = empirical_sizes.index.unique()\n",
    "which_sizes = [2, 5, 8]\n",
    "\n",
    "vertical = True\n",
    "\n",
    "n_cols = 3\n",
    "n_rows = int(np.ceil(len(which_sizes) / n_cols))\n",
    "\n",
    "if vertical:\n",
    "    n_cols, n_rows = n_rows, n_cols\n",
    "\n",
    "\n",
    "fixed_ylims = False\n",
    "ylims_by_household_size = {\n",
    "    2: 6000,\n",
    "    5: 3000,\n",
    "    8: 300\n",
    "}\n",
    "\n",
    "fig, axes = plt.subplots(nrows=n_rows, ncols=n_cols)\n",
    "axis_generator = (ax for ax in np.ravel(axes))\n",
    "cmap = plt.get_cmap(\"tab10\")\n",
    "color_dict = {'model': cmap(0), 'data': cmap(1)}\n",
    "for k,g in combined_best_and_empirical.groupby('size'):\n",
    "    if k not in which_sizes:\n",
    "        continue\n",
    "    try:\n",
    "        ax = next(axis_generator)\n",
    "    except StopIteration:\n",
    "        break\n",
    "    try:\n",
    "        title = f\"Household size = {k} (# hh in data = {empirical_sizes[k]})\"\n",
    "    except KeyError:\n",
    "        continue\n",
    "    g = g.set_index(g.index.droplevel('size')) * empirical_sizes[k]\n",
    "    g.plot.bar(\n",
    "        ax=ax,\n",
    "        figsize=(5*n_cols,n_rows*4),\n",
    "        title=title,\n",
    "        xlabel=\"infections\",\n",
    "        ylabel=\"fraction\",\n",
    "        sharex=True,\n",
    "        color=color_dict,\n",
    "    ),\n",
    "    if fixed_ylims:\n",
    "        ax.set_ylim((0,  ylims_by_household_size[k]))\n",
    "    #plt.ylim((0,6000))\n",
    "\n",
    "plt.savefig(f'../batched_figs/{population_name}_data.png', dpi=300, bbox_inches='tight')"
   ]
  },
  {
   "cell_type": "code",
   "execution_count": 24,
   "id": "561a4a2d",
   "metadata": {},
   "outputs": [
    {
     "data": {
      "image/png": "[encoded data removed]",
      "text/plain": [
       "<Figure size 432x288 with 1 Axes>"
      ]
     },
     "metadata": {
      "needs_background": "light"
     },
     "output_type": "display_data"
    }
   ],
   "source": [
    "(empirical_counts.loc[0.0, 0.0, 0.0].groupby('size').sum()).plot.bar(color='green', logy=True)\n",
    "plt.ylim(1, 10500)\n",
    "plt.savefig(f'../batched_figs/{population_name}_household_histogram.png', dpi=300, bbox_inches='tight')"
   ]
  },
  {
   "cell_type": "code",
   "execution_count": null,
   "id": "0165dcb0",
   "metadata": {},
   "outputs": [],
   "source": []
  }
 ],
 "metadata": {
  "interpreter": {
   "hash": "03a37169ebecb45dcf20fa5c1f374fea92f87ddabb160d4575a3a031fd7e1e7d"
  },
  "kernelspec": {
   "display_name": "Python 3.9.5 ('.venv': poetry)",
   "language": "python",
   "name": "python3"
  },
  "language_info": {
   "codemirror_mode": {
    "name": "ipython",
    "version": 3
   },
   "file_extension": ".py",
   "mimetype": "text/x-python",
   "name": "python",
   "nbconvert_exporter": "python",
   "pygments_lexer": "ipython3",
   "version": "3.9.5"
  }
 },
 "nbformat": 4,
 "nbformat_minor": 5
}
