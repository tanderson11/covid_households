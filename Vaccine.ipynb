{
  "nbformat": 4,
  "nbformat_minor": 5,
  "metadata": {
    "colab": {
      "name": "Vaccine.ipynb",
      "provenance": [],
      "include_colab_link": true
    },
    "kernelspec": {
      "display_name": "Python 3",
      "language": "python",
      "name": "python3"
    },
    "language_info": {
      "codemirror_mode": {
        "name": "ipython",
        "version": 3
      },
      "file_extension": ".py",
      "mimetype": "text/x-python",
      "name": "python",
      "nbconvert_exporter": "python",
      "pygments_lexer": "ipython3",
      "version": "3.7.3"
    },
    "accelerator": "GPU"
  },
  "cells": [
    {
      "cell_type": "markdown",
      "metadata": {
        "id": "view-in-github",
        "colab_type": "text"
      },
      "source": [
        "<a href=\"https://colab.research.google.com/github/tanderson11/covid_households/blob/main/Vaccine.ipynb\" target=\"_parent\"><img src=\"https://colab.research.google.com/assets/colab-badge.svg\" alt=\"Open In Colab\"/></a>"
      ]
    },
    {
      "cell_type": "markdown",
      "metadata": {
        "id": "endless-spanking"
      },
      "source": [
        "# Global Initialization"
      ],
      "id": "endless-spanking"
    },
    {
      "cell_type": "markdown",
      "metadata": {
        "id": "compact-contamination"
      },
      "source": [
        "## Importing packages"
      ],
      "id": "compact-contamination"
    },
    {
      "cell_type": "code",
      "metadata": {
        "id": "widespread-session"
      },
      "source": [
        "import numpy as np\n",
        "import pandas as pd\n",
        "import matplotlib.pyplot as plt\n",
        "import collections\n",
        "import scipy.special\n",
        "import seaborn as sns\n",
        "import functools\n",
        "import scipy.stats\n",
        "import torch"
      ],
      "id": "widespread-session",
      "execution_count": 1,
      "outputs": []
    },
    {
      "cell_type": "markdown",
      "metadata": {
        "id": "gnyV_DK6cDCr"
      },
      "source": [
        "## Initializing GPU"
      ],
      "id": "gnyV_DK6cDCr"
    },
    {
      "cell_type": "code",
      "metadata": {
        "id": "PAuI5GXQcGZG"
      },
      "source": [
        "GPU = \"cuda:0\"\n",
        "torch.cuda.set_device(GPU)"
      ],
      "id": "PAuI5GXQcGZG",
      "execution_count": 2,
      "outputs": []
    },
    {
      "cell_type": "markdown",
      "metadata": {
        "id": "lesser-symphony"
      },
      "source": [
        "## Initializing constants"
      ],
      "id": "lesser-symphony"
    },
    {
      "cell_type": "code",
      "metadata": {
        "id": "cooked-bread",
        "jupyter": {
          "source_hidden": true
        }
      },
      "source": [
        "# Constants used to refer to states\n",
        "\n",
        "SUSCEPTIBLE_STATE = 0\n",
        "EXPOSED_STATE = 1\n",
        "INFECTIOUS_STATE = 2\n",
        "REMOVED_STATE = 3\n",
        "\n",
        "# Constants used to refer to axes\n",
        "HOUSEHOLDS_AXIS = 0\n",
        "INDIVIDUALS_AXIS = 1\n",
        "\n",
        "# Model parameter values\n",
        "delta_t = 0.1\n",
        "\n",
        "### Means\n",
        "LatentPeriod=4  #Latent period, days (1 day less than incubation period, to include presymptomatic transmission)\n",
        "DurMildInf=7 #Duration of mild infections, days (Equal to infectious period)\n",
        "\n",
        "### Standard deviations (not used if exponential waiting times)\n",
        "std_LatentPeriod=4  #Latent period, days (1 day less than incubation period, to include presymptomatic transmission)\n",
        "std_DurMildInf=4 #Duration of mild infections, days\n",
        "\n",
        "# Get gamma distribution parameters [tweaked from Alison's paper]\n",
        "mean_vec = np.array(\n",
        "      [1., LatentPeriod, DurMildInf, 1.])\n",
        "std_vec=np.array(\n",
        "      [1., std_LatentPeriod, std_DurMildInf, 1.])\n",
        "shape_vec=(mean_vec/std_vec)**2# This will contain shape values for each state\n",
        "scale_vec=(std_vec**2)/mean_vec # This will contain scale values for each state\n",
        "\n",
        "inf_waiting_states = [SUSCEPTIBLE_STATE, REMOVED_STATE]\n",
        "shape_vec[inf_waiting_states] = np.inf\n",
        "scale_vec[inf_waiting_states] = np.inf\n",
        "mean_vec[inf_waiting_states] = np.inf"
      ],
      "id": "cooked-bread",
      "execution_count": 3,
      "outputs": []
    },
    {
      "cell_type": "code",
      "metadata": {
        "id": "bearing-roulette",
        "jupyter": {
          "source_hidden": true
        }
      },
      "source": [
        "numpy_shape_vec = np.array(shape_vec)\n",
        "numpy_scale_vec = np.array(scale_vec)\n",
        "numpy_mean_vec = np.array(mean_vec)\n",
        "\n",
        "numpy_stationary_states = np.array(inf_waiting_states)"
      ],
      "id": "bearing-roulette",
      "execution_count": 4,
      "outputs": []
    },
    {
      "cell_type": "markdown",
      "metadata": {
        "id": "defensive-michigan"
      },
      "source": [
        "## State lengths"
      ],
      "id": "defensive-michigan"
    },
    {
      "cell_type": "code",
      "metadata": {
        "id": "involved-aviation",
        "jupyter": {
          "source_hidden": true
        }
      },
      "source": [
        "def gamma_state_length_sampler(new_state):\n",
        "    \"\"\"Duration in transitional state. Must be at least 1 time unit.\"\"\"\n",
        "    alphas = numpy_shape_vec[new_state]\n",
        "    betas = delta_t/numpy_scale_vec[new_state]\n",
        "    #key, subkey = random.split(key)\n",
        "    samples = np.round(np.random.gamma(alphas, size=alphas.shape) / betas)\n",
        "    \n",
        "    return 1 + samples.astype('float32') # Time must be at least 1."
      ],
      "id": "involved-aviation",
      "execution_count": 5,
      "outputs": []
    },
    {
      "cell_type": "code",
      "metadata": {
        "id": "ihshnJGXYZ1m"
      },
      "source": [
        "# Calculating the state lengths quickly with torch\n",
        "\n",
        "# torch's gamma distributions are parametrized with concentration and rate, but the documentation confirms concentration=alpha and rate=beta\n",
        "\n",
        "torch_shape_vec = torch.from_numpy(numpy_shape_vec).to(GPU) ## move to GPU\n",
        "torch_scale_vec = torch.from_numpy(numpy_scale_vec).to(GPU)\n",
        "\n",
        "DISTS = [torch.distributions.gamma.Gamma(torch.tensor([alpha]).to(GPU), torch.tensor([1.0]).to(GPU)) for alpha in torch_shape_vec]\n",
        "\n",
        "def torch_gamma_lengths(state, entrants):\n",
        "    dist = DISTS[state]\n",
        "    samples = dist.sample(entrants.shape)\n",
        "    beta = delta_t/torch_scale_vec[state]\n",
        "    samples = torch.round(samples / beta)\n",
        "    return torch.squeeze(1+samples) # Time must be at least 1."
      ],
      "id": "ihshnJGXYZ1m",
      "execution_count": 6,
      "outputs": []
    },
    {
      "cell_type": "code",
      "metadata": {
        "id": "bacterial-conducting",
        "jupyter": {
          "source_hidden": true
        }
      },
      "source": [
        "#Visualizing state lengths\n",
        "display = False\n",
        "if display:\n",
        "\n",
        "    states = [EXPOSED_STATE, INFECTIOUS_STATE]\n",
        "    state_names = [\"exposed\", \"infectious\"]\n",
        "\n",
        "    for s, n in zip(states, state_names):\n",
        "        dummy_state = np.full(10000, s)\n",
        "        samples = gamma_state_length_sampler(dummy_state)\n",
        "        #plt.hist(samples, bins=\"auto\")\n",
        "        plt.title(\"Histogram of state lengths for {0} state with auto bins\".format(n))\n",
        "        plt.xlabel(\"state length in time steps of size {0}\".format(delta_t))\n",
        "        plt.ylabel(\"# occurences\")\n",
        "        plt.show()\n",
        "        scaled = samples * delta_t\n",
        "        print(\"MEAN {0} days\".format(np.mean(scaled)))\n",
        "        print(\"VAR\", np.var(scaled))"
      ],
      "id": "bacterial-conducting",
      "execution_count": 7,
      "outputs": []
    },
    {
      "cell_type": "markdown",
      "metadata": {
        "id": "fresh-graphic"
      },
      "source": [
        "## Time course simulation"
      ],
      "id": "fresh-graphic"
    },
    {
      "cell_type": "code",
      "metadata": {
        "id": "cardiac-czech"
      },
      "source": [
        "def forward_time(state, get_state_lengths, beta_household, probability_matrix, importation_probability, duration=0, secondary_infections=True): # CLOSES AROUND DELTA_T\n",
        "    debug = False\n",
        "    # a matrix of probabilities with ith row jth column corresponding to the probability that ith individual is injected by the jth individual\n",
        "    p_mat = np.array(beta_household * delta_t * probability_matrix)\n",
        "\n",
        "    state_lengths = get_state_lengths(state)\n",
        "    \n",
        "    state_lengths[state == SUSCEPTIBLE_STATE] = np.inf\n",
        "    state_lengths[state == REMOVED_STATE] = np.inf\n",
        "    t = 0\n",
        "\n",
        "    import_flag = importation_probability.any()\n",
        "    if import_flag:\n",
        "        assert(duration>0), \"A steady importation rate is defined, but no duration was given.\"\n",
        "    total_introductions = np.sum((state == EXPOSED_STATE), axis=1)\n",
        "    \n",
        "    run_flag = True\n",
        "    while run_flag:\n",
        "        inf_mask = (state == INFECTIOUS_STATE)\n",
        "        sus_mask = (state == SUSCEPTIBLE_STATE)\n",
        "        \n",
        "        if import_flag and sus_mask.any(): # if importation is defined and at least one person is in a susceptible state, see if imports happen\n",
        "            mask = (importation_probability * delta_t * sus_mask > 0) # element wise selection of susceptible individuals\n",
        "            roll = np.zeros_like(importation_probability)\n",
        "            roll[mask] = np.random.rand(len(roll[mask]))\n",
        "            \n",
        "            importations = np.where(roll < importation_probability * delta_t * sus_mask, 1, 0)\n",
        "            total_introductions += np.sum(importations, axis=1)\n",
        "            \n",
        "            if debug and (importations > 0).any():\n",
        "                print(\"time\", t)\n",
        "                print(\"state\", state)\n",
        "                print(\"roll\", roll)\n",
        "                print('imps', importations)\n",
        "        else:\n",
        "            importations = np.zeros_like(state)\n",
        "        \n",
        "        if inf_mask.any() and sus_mask.any():\n",
        "            probabilities = p_mat * sus_mask * inf_mask.transpose(0, 2, 1) # transposing to take what amounts to an outer product in each household\n",
        "            #print(\"probs\", probabilities)\n",
        "            mask = probabilities > 0\n",
        "\n",
        "            roll = np.zeros_like(probabilities)\n",
        "            \n",
        "            roll[mask] = np.random.rand(len(roll[mask]))\n",
        "            hits = np.where(roll < probabilities, 1, 0)\n",
        "            #print(roll)\n",
        "            dstate = (np.sum(hits, axis=2, keepdims=True) >= 1)\n",
        "            #print(state, dstate)\n",
        "        else:\n",
        "            dstate = np.zeros_like(state)\n",
        "\n",
        "\n",
        "        dstate[importations == 1] = 1\n",
        "        \n",
        "        \n",
        "        state_lengths -= 1\n",
        "\n",
        "        # anyone who is done waiting advances; cut out negative times before update\n",
        "        #state_lengths = np.where(state_lengths <= 0, 0, state_lengths)\n",
        "        state_lengths[state_lengths <= 0] = 0\n",
        "\n",
        "        #dstate = np.where(state_lengths == 0, 1, dstate)\n",
        "        dstate[state_lengths == 0] = 1          \n",
        "\n",
        "        # remap state lengths if there were any changes\n",
        "        if (dstate != 0).any():\n",
        "            new_state = (state+dstate).astype('int32')\n",
        "            #print(\"dstate\", dstate)\n",
        "            #print(\"newstate\", new_state)\n",
        "            state_lengths[new_state != state] = get_state_lengths(new_state[new_state != state])\n",
        "            state_lengths[new_state == SUSCEPTIBLE_STATE] = np.inf\n",
        "            state_lengths[new_state == REMOVED_STATE] = np.inf\n",
        "\n",
        "            state = new_state\n",
        "\n",
        "        t += delta_t\n",
        "        if duration > 0:\n",
        "            run_flag = t <= duration\n",
        "        else:\n",
        "            run_flag = state[state == EXPOSED_STATE].any() or state[state == INFECTIOUS_STATE].any()\n",
        "    \n",
        "    return state != SUSCEPTIBLE_STATE\n",
        "    #return np.sum(state != SUSCEPTIBLE_STATE, axis=1) #include exposed and infectious states to catch boundary cases when time course has a fixed duration\n",
        "    #return np.sum(state == REMOVED_STATE, axis=1)"
      ],
      "id": "cardiac-czech",
      "execution_count": 8,
      "outputs": []
    },
    {
      "cell_type": "code",
      "metadata": {
        "id": "recent-child"
      },
      "source": [
        "def torch_forward_time(np_state, get_state_lengths, beta_household, np_probability_matrix, np_importation_probability, duration=0, secondary_infections=True): # CLOSES AROUND DELTA_T\n",
        "    debug = False  \n",
        "    #start = time.time()\n",
        "\n",
        "    ##  --- Move all numpy data structures on the GPU as pytorch tensors ---\n",
        "    GPU = \"cuda:0\"\n",
        "    # a matrix of probabilities with ith row jth column corresponding to the probability that ith individual is injected by the jth individual\n",
        "    probability_matrix = torch.from_numpy(np_probability_matrix).to(GPU)\n",
        "\n",
        "    state = torch.from_numpy(np_state).to(GPU)     ## move to GPU\n",
        "    #print(state.type())\n",
        "    use_torch_state_lengths = True\n",
        "    if use_torch_state_lengths:\n",
        "        state_lengths = torch.zeros_like(state, dtype=torch.double)\n",
        "        for s in range(SUSCEPTIBLE_STATE, REMOVED_STATE):\n",
        "            if state_lengths[state==s].nelement() > 0:\n",
        "                state_lengths[state==s] = get_state_lengths(s, state[state == s]) ## how long spent in each state; already on GPU\n",
        "    else:\n",
        "        np_state_lengths = get_state_lengths(np_state) ## how long spent in each state\n",
        "        state_lengths = torch.from_numpy(np_state_lengths).to(GPU)\n",
        "\n",
        "    importation_probability = torch.from_numpy(np_importation_probability).to(GPU)\n",
        "\n",
        "    #print(\"GPU overhead: \", str(time.time() - start))\n",
        "\n",
        "    ## --- Everything from here on out should be in the GPU and should be fast ---\n",
        "    p_mat = beta_household * delta_t * probability_matrix\n",
        "\n",
        "    state_lengths[state == SUSCEPTIBLE_STATE] = np.inf ## inf b/c doesn't change w/o infection\n",
        "    state_lengths[state == REMOVED_STATE] = np.inf     ## inf b/c doesn't change from removed\n",
        "    t = 0\n",
        "\n",
        "    import_flag = importation_probability.any()\n",
        "    if import_flag:\n",
        "        assert(duration>0), \"A steady importation rate is defined, but no duration was given.\"\n",
        "    total_introductions = torch.sum((state == EXPOSED_STATE), axis=1)\n",
        "  \n",
        "    run_flag = True\n",
        "    while run_flag:\n",
        "        \n",
        "        inf_mask = (state == INFECTIOUS_STATE)\n",
        "        sus_mask = (state == SUSCEPTIBLE_STATE)\n",
        "        \n",
        "        ## importing from outside the households\n",
        "        if import_flag and sus_mask.any(): # if importation is defined and at least one person is in a susceptible state, see if imports happen\n",
        "            mask = (importation_probability * delta_t * sus_mask > 0) # element wise selection of susceptible individuals\n",
        "            roll = torch.zeros_like(importation_probability, dtype = torch.float)\n",
        "\n",
        "            ## torch.rand can't work on GPU without existing cuda tensor\n",
        "            roll_shape = torch.Size((len(roll[mask]),))\n",
        "            random_tensor = torch.cuda.FloatTensor(roll_shape)\n",
        "            torch.rand(roll_shape, out=random_tensor) ## I'm 99% sure torch.rand is going to be the same as numpy TK\n",
        "\n",
        "            ## For sus people, the roll is used to see if they get infected\n",
        "            roll[mask] = random_tensor\n",
        "\n",
        "            ## if random value is less than susceptability per delta_t, in susceptible individuals, importation occurs\n",
        "            importations = torch.where(roll < importation_probability * delta_t * sus_mask, 1, 0)\n",
        "            total_introductions += torch.sum(importations, axis=1) # I think this is per household\n",
        "            \n",
        "            if debug and (importations > 0).any():\n",
        "                print(\"time\", t)\n",
        "                print(\"state\", state)\n",
        "                print(\"roll\", roll)\n",
        "                print('imps', importations)\n",
        "        else:\n",
        "            importations = torch.zeros_like(state, dtype = torch.float)\n",
        "        \n",
        "        ## infections within the households\n",
        "        if inf_mask.any() and sus_mask.any():\n",
        "            ## permute here works as np.transpose\n",
        "            probabilities = p_mat * sus_mask * inf_mask.permute(0, 2, 1) # transposing to take what amounts to an outer product in each household\n",
        "\n",
        "            ## do the same mask and random approach for infections, but within each\n",
        "            ## household it's a size-by-size matrix for odds each person infects each other person\n",
        "            mask = probabilities > 0 \n",
        "            roll = torch.zeros_like(probabilities, dtype = torch.float)\n",
        "\n",
        "            ## Again, this is just the faster version of torch.rand\n",
        "            roll_shape = torch.Size((len(roll[mask]),))\n",
        "            random_tensor = torch.cuda.FloatTensor(roll_shape)\n",
        "            torch.rand(roll_shape, out=random_tensor)\n",
        "\n",
        "            roll[mask] = random_tensor\n",
        "\n",
        "            ## Hits are where infections should be introduced\n",
        "            hits = torch.where(roll < probabilities, 1, 0)\n",
        "\n",
        "            ## dstate being change in state, so 1 if someone progresses\n",
        "            dstate = (torch.sum(hits, axis=2, keepdims=True) >= 1)\n",
        "        else:\n",
        "            dstate = torch.zeros_like(state)\n",
        "\n",
        "        ## importations change 1 state\n",
        "        dstate[importations == 1] = 1\n",
        "      \n",
        "        ## decay the state_lengths, so people progress toward next state\n",
        "        state_lengths -= 1\n",
        "\n",
        "        # anyone who is done waiting advances; cut out negative times before update, just in case\n",
        "        #state_lengths = np.where(state_lengths <= 0, 0, state_lengths)\n",
        "        state_lengths[state_lengths <= 0] = 0\n",
        "\n",
        "        #dstate = np.where(state_lengths == 0, 1, dstate)\n",
        "        #print(\"dstate\", dstate)\n",
        "        #print(\"state_lengths\", state_lengths)\n",
        "        dstate[state_lengths == 0] = 1          \n",
        "\n",
        "        # remap state lengths if there were any changes\n",
        "        if (dstate != 0).any():\n",
        "            new_state = (state+dstate).int()\n",
        "            \n",
        "            ## When patients move to a new state, we generate the length that they'll be\n",
        "            ## in that state. This is from a gamma distribution, which seems to work differently\n",
        "            ## in pytorch. So for now it has to move back to the CPU and numpy.\n",
        "            if use_torch_state_lengths:\n",
        "                for s in range(SUSCEPTIBLE_STATE, REMOVED_STATE):\n",
        "                    entrants = new_state[torch.logical_and(new_state != state, new_state==s)]\n",
        "                    #print(\"entrants\", entrants)\n",
        "                    #print(\"state\", state)\n",
        "                    #print(\"dstate\", dstate)\n",
        "                    #print(\"new state\", new_state)\n",
        "                    if entrants.nelement() > 0:\n",
        "                        #print(\"s\", s)\n",
        "                        assert s>SUSCEPTIBLE_STATE\n",
        "                        entrant_lengths = torch_gamma_lengths(s, entrants)\n",
        "                        state_lengths[torch.logical_and(new_state != state, new_state==s)] = entrant_lengths\n",
        "            else:\n",
        "                states_that_changed = new_state[new_state != state]\n",
        "                new_state_lengths = get_state_lengths(states_that_changed)\n",
        "\n",
        "                state_lengths[new_state != state] = new_state_lengths\n",
        "            state_lengths[new_state == SUSCEPTIBLE_STATE] = np.inf\n",
        "            state_lengths[new_state == REMOVED_STATE] = np.inf\n",
        "\n",
        "            state = new_state\n",
        "\n",
        "        t += delta_t ## update time\n",
        "        if duration > 0:\n",
        "            run_flag = t <= duration\n",
        "        else:\n",
        "            run_flag = state[state == EXPOSED_STATE].any() or state[state == INFECTIOUS_STATE].any()\n",
        "    \n",
        "    ## send back the the CPU\n",
        "    return_state = state.cpu().numpy()\n",
        "\n",
        "    #end = time.time()\n",
        "    #print(\"total time: \", str(end - start))\n",
        "  \n",
        "    return return_state != SUSCEPTIBLE_STATE\n",
        "    #return np.sum(state != SUSCEPTIBLE_STATE, axis=1) #include exposed and infectious states to catch boundary cases when time course has a fixed duration\n",
        "    #return np.sum(state == REMOVED_STATE, axis=1)"
      ],
      "id": "recent-child",
      "execution_count": 9,
      "outputs": []
    },
    {
      "cell_type": "markdown",
      "metadata": {
        "id": "grand-berlin"
      },
      "source": [
        "## Utility functions"
      ],
      "id": "grand-berlin"
    },
    {
      "cell_type": "markdown",
      "metadata": {
        "id": "square-baseline"
      },
      "source": [
        "### Likelihood"
      ],
      "id": "square-baseline"
    },
    {
      "cell_type": "markdown",
      "metadata": {
        "id": "extreme-cinema"
      },
      "source": [
        "Suppose that $(n, s, Y)$ is some empirical dataset of observed infections in a population of $n$ households of size $s$ where $y_{k}$ gives the number of households that exhibited $k$ infections.\n",
        "\n",
        "Suppose additionally, that $P$ is set of probabilities conditioned on a model such that $p_{k}$ gives the probability under the model that a household of size would yield $k$ infections at fixation. \n",
        "\n",
        "A natural question to ask -- and an important one for us -- is: What is the (log) likelihood that we would observe $Y$ under the model $P$? In familiar notation, we want to determine $\\mathcal{L} (Y | P) = \\mathcal{L} (P | Y)$.\n",
        "\n",
        "That likelihood is given as follows, using a multinomial:\n",
        "\n",
        "$$\\mathcal{L} (Y | P) = \\underbrace{\\frac{n!}{\\prod_k y_{k}!}}_{\\text{ways of grouping}} \\underbrace{\\prod_k \\left(p_{k} \\right)^{y_{k}}}_{\\text{probability group had k infections}}$$\n",
        "\n",
        "Note that the first term does not depend in any way on the $p_k$, and thus may be ignored in the computation of the likelihood.\n",
        "\n",
        "\n",
        "The $\\log$ likelihood is given after taking the $\\log$ of both sides:\n",
        "\n",
        "\\begin{align*}\\log \\left(\\mathcal{L} (Y | P)\\right) = \\log \\left( \\frac{n!}{\\prod_k y_{k}!} \\prod_k \\left(p_{k} \\right)^{y_{k}} \\right) = \\log \\frac{n!}{\\prod_k y_{k}!} + \\log \\prod_k \\left(p_{k} \\right)^{y_{k}}\\\\\n",
        "= \\log n! - \\sum_k \\log y_k! + \\sum_k \\log \\left(p_{k}^{y_{k}}\\right)\\\\\n",
        "= \\log n! - \\sum_k \\log y_k! + \\sum_k \\left(y_k \\log p_k\\right)\n",
        "\\end{align*}\n",
        "\n",
        "In computation of $\\log x!$ we use the fact that\n",
        "$$ \\log x! = \\sum_{i=1,\\ldots,x} \\log i$$\n",
        "\n",
        "To generalize the likelihood to populations with mixed household sizes, we simply sum the log likelihoods derived by considering subpopulations of fixed household size."
      ],
      "id": "extreme-cinema"
    },
    {
      "cell_type": "code",
      "metadata": {
        "id": "pretty-burst",
        "jupyter": {
          "source_hidden": true
        }
      },
      "source": [
        "def triangular_log(n):\n",
        "    return sum(np.log(range(1,n+1)))\n",
        "\n",
        "def use_simulated_data_as_likelihoods(df):    \n",
        "    size_groups = df.groupby(\"size\")\n",
        "    return size_groups[\"infections\"].value_counts(normalize=True)\n",
        "\n",
        "def measure_log_likelihood_new(observed, probabilities):\n",
        "    grouped = observed.groupby(\"size\") # groupby size\n",
        "    counts = grouped[\"infections\"].value_counts() # count number of households with k infections for all ks\n",
        "    probabilities = probabilities.reindex(counts.index, fill_value=0.0)\n",
        "    num_households = counts.sum(level=0) \n",
        "    #print(\"probs:\", probabilities)#, \"\\nLOGS\", np.log(probabilities))\n",
        "    #print(\"counts:\", counts)\n",
        "    #print (\"mult:\", (counts * np.log(probabilities)))\n",
        "    \n",
        "    # ditching the dropna because reindexing should ensure that it doesn't matter and I want to catch errors\n",
        "    log_probabilities = (counts * np.log(probabilities)).sum(level=0)\n",
        "    #log_probabilities = (counts * np.log(probabilities)).dropna().sum(level=0)\n",
        "    \n",
        "    log_multinomial = num_households.apply(triangular_log) - counts.apply(triangular_log).sum(level=0)\n",
        "    \n",
        "    return (log_probabilities+log_multinomial).sum()\n",
        "\n",
        "def calculate_likelihoods(frequencies_df, observed):\n",
        "    probabilities = use_simulated_data_as_likelihoods(frequencies_df)\n",
        "    logl = measure_log_likelihood_new(observed, probabilities)\n",
        "    \n",
        "    return logl"
      ],
      "id": "pretty-burst",
      "execution_count": 10,
      "outputs": []
    },
    {
      "cell_type": "markdown",
      "metadata": {
        "id": "driven-offset"
      },
      "source": [
        "### Plotting"
      ],
      "id": "driven-offset"
    },
    {
      "cell_type": "code",
      "metadata": {
        "id": "prescription-croatia",
        "jupyter": {
          "source_hidden": true
        }
      },
      "source": [
        "def make_bar_chart(df, axes=False, title_prefix=\"\"):\n",
        "    grouped = df.groupby([\"size\", \"infections\"])\n",
        "    regrouped = grouped[\"model\"].value_counts().unstack().groupby(\"size\")\n",
        "    #regrouped.plot.bar(figsize=(8,8), ylabel=\"count\")\n",
        "    \n",
        "    i = 0 \n",
        "    for k,g in regrouped:\n",
        "        try:\n",
        "            if axes.any():\n",
        "                g.plot.bar(ax=axes[i], ylabel=\"count\", title=\"{0}Distribution of # of infections in household for households of size {1}\".format(title_prefix,k))\n",
        "        except:\n",
        "            g.plot.bar(figsize=(8,8), ylabel=\"count\", title=\"{0}Distribution of # of infections in household for households of size {1}\".format(title_prefix,k))\n",
        "        i += 1"
      ],
      "id": "prescription-croatia",
      "execution_count": 11,
      "outputs": []
    },
    {
      "cell_type": "markdown",
      "metadata": {
        "id": "global-litigation"
      },
      "source": [
        "### Infection seeding"
      ],
      "id": "global-litigation"
    },
    {
      "cell_type": "code",
      "metadata": {
        "id": "derived-story",
        "jupyter": {
          "source_hidden": true
        }
      },
      "source": [
        "def seed_one_by_susceptibility(size, count, susceptibility):\n",
        "    initial_state = np.zeros((count, size, 1), dtype='int32') * SUSCEPTIBLE_STATE\n",
        "    \n",
        "    sus_p = [np.squeeze(susceptibility[i,:,:]) for i in range(count)]\n",
        "    choices = [np.random.choice(size, 1, p=sus/np.sum(sus)) for sus in sus_p]\n",
        "    \n",
        "    choices = np.array(choices).reshape(count)\n",
        "    #print(\"CHOICES\", choices)\n",
        "    \n",
        "    initial_state[np.arange(count), choices, 0] = EXPOSED_STATE\n",
        "    return initial_state\n",
        "\n",
        "def seed_zero(size, count, susceptibility):\n",
        "    initial_state = np.zeros((count,size,1), dtype='int32')\n",
        "    return initial_state"
      ],
      "id": "derived-story",
      "execution_count": 12,
      "outputs": []
    },
    {
      "cell_type": "markdown",
      "metadata": {
        "id": "further-blogger"
      },
      "source": [
        "## Class definitions"
      ],
      "id": "further-blogger"
    },
    {
      "cell_type": "markdown",
      "metadata": {
        "id": "biological-protocol"
      },
      "source": [
        "### Model"
      ],
      "id": "biological-protocol"
    },
    {
      "cell_type": "code",
      "metadata": {
        "id": "clear-preservation",
        "jupyter": {
          "source_hidden": true
        }
      },
      "source": [
        "class Model:\n",
        "    def __init__(self, name,\n",
        "                 state_length_dist=torch_gamma_lengths,\n",
        "                 inf_dist=np.ones,\n",
        "                 sus_dist=np.ones,\n",
        "                 initial_seeding=seed_one_by_susceptibility,\n",
        "                 household_beta=0,\n",
        "                 importation_rate=0,\n",
        "                 duration=0,\n",
        "                 vaccine=None,\n",
        "                 vaccination_method=None):\n",
        "        \n",
        "        self.name = name\n",
        "        self.state_length_dist = state_length_dist\n",
        "\n",
        "        self.seeding = initial_seeding\n",
        "        self.importation_rate = importation_rate\n",
        "        self.duration = duration\n",
        "\n",
        "        self.household_beta = household_beta\n",
        "\n",
        "        self.sus_dist = sus_dist\n",
        "        self.inf_dist = inf_dist\n",
        "        \n",
        "        assert (vaccine and vaccination_method) or (not vaccine and not vaccination_method)\n",
        "        self.vaccine=vaccine\n",
        "        self.vaccination_method = vaccination_method\n",
        "        \n",
        "    def run_trials(self, trials, sizes, household_beta=None):\n",
        "        \n",
        "        if household_beta:\n",
        "            beta = household_beta\n",
        "        else:\n",
        "            beta = self.household_beta\n",
        "        \n",
        "        if household_beta and self.household_beta:\n",
        "            print(\"Beta was handed to both the model and the run_trials method. Overriding with the function call value\")\n",
        "        \n",
        "        #size_of_one_trial = sum(sizes.values()) # total # of households\n",
        "        expanded_sizes = {size:count*trials for size,count in sizes.items()}\n",
        "\n",
        "        pop = Population(self, expanded_sizes)\n",
        "        pop.simulate_population(beta, duration=self.duration)\n",
        "        \n",
        "        #trialnums = [i for t in range(trials) for i in range(size_of_one_trial)]\n",
        "        \n",
        "        dfs = []\n",
        "        grouped = pop.df.groupby(\"size\")\n",
        "        for size, group in grouped:\n",
        "            count = sizes[size]\n",
        "            trialnums = [t for t in range(trials) for i in range(count)]\n",
        "            #print(size, count, trialnums)\n",
        "            group[\"trialnum\"] = trialnums\n",
        "            #print(group)\n",
        "            dfs.append(group)\n",
        "        #print(pop.df)\n",
        "        return pd.concat(dfs) #pop.df\n",
        "\n",
        "    def sample_hsar(self, sizes, household_beta=None, ignore_traits=True):\n",
        "        pop = Population(self, sizes)\n",
        "        return pop.sample_hsar(self.household_beta, ignore_traits=ignore_traits)"
      ],
      "id": "clear-preservation",
      "execution_count": 13,
      "outputs": []
    },
    {
      "cell_type": "markdown",
      "metadata": {
        "id": "figured-glucose"
      },
      "source": [
        "### Population and subpopulation"
      ],
      "id": "figured-glucose"
    },
    {
      "cell_type": "code",
      "metadata": {
        "id": "requested-promise",
        "jupyter": {
          "source_hidden": true
        }
      },
      "source": [
        "class Population:\n",
        "    def __init__(self, model, household_sizes):\n",
        "        self.model = model\n",
        "        self.subpops = [SubPopulation(self.model, size, count) for size, count in household_sizes.items()]\n",
        "        \n",
        "        sizes = [sp.size for sp in self.subpops for i in range(sp.count)]\n",
        "        self.df = pd.DataFrame({\"size\":sizes},\n",
        "                               columns = [\"size\",\"model\",\"infections\"])\n",
        "        self.df[\"model\"] = model.name\n",
        "\n",
        "    def simulate_population(self, household_beta=0, duration=0, trials=1):\n",
        "        #assert household_beta==0 or self.model.household_beta==0, \"Model has a defined household beta, but another household beta was passed to simulate\"\n",
        "        if household_beta > 0:\n",
        "            beta = household_beta\n",
        "        elif self.model.household_beta > 0:\n",
        "            beta = self.model.household_beta\n",
        "\n",
        "        for p in self.subpops:\n",
        "            infections = p.simulate_households(beta, duration)\n",
        "            #print(infections.shape)\n",
        "            \n",
        "            num_infections = np.sum(infections, axis=1)\n",
        "            self.df.loc[self.df[\"size\"]==p.size, 'infections'] = num_infections\n",
        "            \n",
        "            if self.model.vaccine:\n",
        "                self.df.loc[self.df[\"size\"]==p.size, 'num vaccinated'] = np.sum(p.inoculations, axis=1)\n",
        "                self.df.loc[self.df[\"size\"]==p.size, 'vaccinated infected'] = np.sum(infections * (p.inoculations == 1), axis=1)\n",
        "\n",
        "        self.df[\"infections\"] = pd.to_numeric(self.df[\"infections\"])\n",
        "        \n",
        "        if self.model.vaccine:\n",
        "            self.df[\"vaccinated infected\"] = pd.to_numeric(self.df[\"vaccinated infected\"])\n",
        "            self.df[\"unvaccinated infected\"] = self.df[\"infections\"] - self.df[\"vaccinated infected\"]\n",
        "            self.df[\"num vaccinated\"] = pd.to_numeric(self.df[\"num vaccinated\"])\n",
        "            self.df[\"num unvaccinated\"] = self.df[\"size\"] - self.df[\"num vaccinated\"]\n",
        "            \n",
        "        return self.df[\"infections\"]\n",
        "\n",
        "    def sample_hsar(self, household_beta, ignore_traits=True):\n",
        "        hsars = []\n",
        "        for p in self.subpops:\n",
        "            hsar = p.sample_hsar(household_beta, ignore_traits)\n",
        "            hsar = pd.Series(hsar)\n",
        "            hsar.name = p.size\n",
        "            hsars.append(hsar)\n",
        "            \n",
        "        hsar_df = pd.concat(hsars, axis=1)\n",
        "        #hsar_df.columns=[p.size for p in seelf.subpops]\n",
        "        #means.append(np.mean(hsars))\n",
        "        #stds.append(np.std(hsars))\n",
        "        hsar_df.index.name = \"sample\"\n",
        "        return hsar_df\n",
        "\n",
        "    def calculate_r0(self, household_beta):\n",
        "        for p in self.subpops:\n",
        "            r0 = p.sample_r0(household_beta)\n",
        "            #print(\"R0\", r0, r0.shape)\n",
        "            self.df.loc[self.df[\"size\"] == p.size, 'r0'] = r0\n",
        "            \n",
        "        return self.df[\"r0\"]\n",
        "\n",
        "    def likelihoods(self, observed):\n",
        "        probabilities = use_simulated_data_as_likelihoods(self.df)\n",
        "    \n",
        "        return logl\n",
        "\n",
        "class SubPopulation:\n",
        "    def __init__(self, model, size, count):\n",
        "        self.model = model\n",
        "        \n",
        "        self.size = size\n",
        "        self.count = count\n",
        "        self.susceptibility = model.sus_dist((count, size, 1))\n",
        "        self.infectiousness = model.inf_dist((count, 1, size))\n",
        "        \n",
        "        nd_eyes = np.stack([np.eye(size,size) for i in range(count)])\n",
        "        adjmat = 1 - nd_eyes\n",
        "        \n",
        "        if model.vaccine:\n",
        "            self.inoculations = model.vaccination_method((count, size, 1)) # a binary vector that tracks who received a vaccine\n",
        "            _inf_inocs = self.inoculations.transpose(0,2,1) # rearranging this vector to match the order of the infectivity vector\n",
        "            \n",
        "            vax_sus_vector = self.inoculations * model.vaccine.vax_sus\n",
        "            vax_sus_vector[self.inoculations == 0] = 1\n",
        "            vax_inf_vector = _inf_inocs * model.vaccine.vax_inf\n",
        "            vax_inf_vector[_inf_inocs == 0] = 1\n",
        "\n",
        "            self.susceptibility *= vax_sus_vector\n",
        "            self.infectiousness *= vax_inf_vector\n",
        "            #vaccination_pmat = (vax_sus_vector @ vax_inf_vector) # no need to multiply by adjmat, because it's already multiplied against prob_mat\n",
        "            #print(vaccination_pmat)\n",
        "            #\n",
        "            #self.probability_mat = self.probability_mat * vaccination_pmat # element-wise product to combine the parameters defined by vaccination and those defined otherwise\n",
        "        \n",
        "        self.probability_mat = (self.susceptibility @ self.infectiousness) * adjmat\n",
        "        #print(self.probability_mat)\n",
        "        \n",
        "    def simulate_households(self, household_beta, duration, silent=False):\n",
        "        if not silent:\n",
        "            #print(\"RUNNING POP\")\n",
        "            pass\n",
        "        \n",
        "        initial_state = self.model.seeding(self.size, self.count, self.susceptibility)\n",
        "        if self.model.importation_rate > 0 and initial_state.any():\n",
        "            print(\"WARNING: importation rate > 0 while initial infections were seeded. Did you intend this?\")\n",
        "        #print(\"INITIAL\",initial_state)\n",
        "        \n",
        "        infections = torch_forward_time(initial_state, self.model.state_length_dist, household_beta, self.probability_mat, self.model.importation_rate * self.susceptibility, duration)\n",
        "        \n",
        "        return infections\n",
        "    \n",
        "    def sample_hsar(self, household_beta, ignore_traits=True, silent=True):\n",
        "        if ignore_traits:\n",
        "            print(\"Sampling HSAR while ignoring traits of members of household\")\n",
        "\n",
        "            basic_sus = np.ones((self.count, self.size, 1))\n",
        "            basic_inf = np.ones((self.count, 1, self.size))\n",
        "\n",
        "            nd_eyes = np.stack([np.eye(self.size,self.size) for i in range(self.count)])\n",
        "            adjmat = 1 - nd_eyes\n",
        "            p_mat = household_beta * delta_t * (basic_sus @ basic_inf) * adjmat\n",
        "\n",
        "            print(\"Seeding uniformly at random (not taking susceptibility into account)\")\n",
        "            one_infection_state = seed_one_by_susceptibility(self.size, self.count, basic_sus)\n",
        "        else:\n",
        "            print(\"Sampling HSAR while including traits of members of household\")\n",
        "            p_mat = household_beta * delta_t * self.probability_mat\n",
        "\n",
        "            print(\"Seeding by susceptibility\")\n",
        "            one_infection_state =  seed_one_by_susceptibility(self.size, self.count, self.susceptibility)\n",
        "\n",
        "        assert SUSCEPTIBLE_STATE==0 # trying to set the state correctly but using an idiom that only makes sense if SUS_STATE==0\n",
        "        one_infection_state = ((INFECTIOUS_STATE / EXPOSED_STATE) * one_infection_state).astype('int64')\n",
        "        #print(\"Random state\", one_infection_state)\n",
        "        state_lengths = self.model.state_length_dist(one_infection_state)\n",
        "\n",
        "        #print(\"state lengths\", state_lengths)\n",
        "\n",
        "        state_lengths[one_infection_state == SUSCEPTIBLE_STATE] = np.inf\n",
        "        state_lengths[one_infection_state == REMOVED_STATE] = np.inf\n",
        "\n",
        "        #print(\"infections\", one_infection_state == INFECTIOUS_STATE)\n",
        "        times = state_lengths[one_infection_state == INFECTIOUS_STATE]\n",
        "        if not silent:\n",
        "            print(\"times\", times)\n",
        "\n",
        "        sus_mask = (one_infection_state == SUSCEPTIBLE_STATE)\n",
        "        inf_mask = (one_infection_state == INFECTIOUS_STATE)\n",
        "        probabilities = p_mat * sus_mask * inf_mask.transpose(0, 2, 1) # transposing to take what amounts to an outer product in each household\n",
        "        if not silent:\n",
        "            print(\"probability\", probabilities)\n",
        "            print(\"summed probs\", np.sum(probabilities, axis=(1,2)))\n",
        "            print(\"probability * time\", np.sum(probabilities, axis=(1,2)) * times)\n",
        "        return (np.sum(probabilities, axis=(1,2)) * times)\n",
        "\n",
        "\n",
        "    def sample_r0(self, household_beta, length_dist=False): # closed around delta_t\n",
        "        # assumes infection is introduced uniformly at random among household members\n",
        "        \n",
        "        # dividing by size to account for the fact that summing over this matrix effectively introduces size-many infections\n",
        "        daily_probabilities = (household_beta / self.size) * self.probability_mat\n",
        "        #print(daily_probabilities, daily_probabilities.shape)\n",
        "        if not length_dist:\n",
        "            time = self.model.state_length_dist((np.ones((self.size, self.count)) * INFECTIOUS_STATE).astype('int32')) # sample an infection length for each individual to mitigate variance\n",
        "                \n",
        "        else:     \n",
        "            time = length_dist((np.ones(self.size) * INFECTIOUS_STATE).astype('int32'))\n",
        "        print(daily_probabilities.shape)\n",
        "        #print(np.average(time, axis=1), delta_t, np.sum(daily_probabilities, axis=(1,2)))\n",
        "        return np.average(time, axis=0) * delta_t * np.sum(daily_probabilities, axis=(1,2))"
      ],
      "id": "requested-promise",
      "execution_count": 14,
      "outputs": []
    },
    {
      "cell_type": "markdown",
      "metadata": {
        "id": "boxed-devon"
      },
      "source": [
        "# Vaccination"
      ],
      "id": "boxed-devon"
    },
    {
      "cell_type": "code",
      "metadata": {
        "id": "hawaiian-visitor",
        "jupyter": {
          "source_hidden": true
        }
      },
      "source": [
        "# Long term\n",
        "## (1) estimation of the true parameter values (Big and long term)\n",
        "## (2) vaccination -> into the evictions model [also what about waves to rivulets]\n",
        "## (3) useful power calculator for household vaccine / intervention calculator"
      ],
      "id": "hawaiian-visitor",
      "execution_count": null,
      "outputs": []
    },
    {
      "cell_type": "markdown",
      "metadata": {
        "id": "through-armstrong"
      },
      "source": [
        "## Vaccine Initialization"
      ],
      "id": "through-armstrong"
    },
    {
      "cell_type": "markdown",
      "metadata": {
        "id": "distinct-surveillance"
      },
      "source": [
        "### Models"
      ],
      "id": "distinct-surveillance"
    },
    {
      "cell_type": "code",
      "metadata": {
        "id": "subject-sharing",
        "jupyter": {
          "source_hidden": true
        }
      },
      "source": [
        "class Vaccine:\n",
        "    def __init__(self, vax_sus=1.0, vax_inf=1.0):\n",
        "        self.vax_sus = vax_sus\n",
        "        self.vax_inf = vax_inf\n",
        "        \n",
        "class VaccineStudy:\n",
        "    \"\"\"\n",
        "    A class that hosts and runs a single vaccine study experiment.\n",
        "\n",
        "    ...\n",
        "\n",
        "    Attributes\n",
        "    ----------\n",
        "    All the attributes passed at object creation. Run `print(VaccineStudy.__init__.__doc__)` for more information. Additionally:\n",
        "\n",
        "    household_beta : float\n",
        "        the real probability per contact per day of transmission between individuals in household\n",
        "    household_sizes : dict\n",
        "        a dictionary containing the sizes of households in each arm of the study, and the number of households of that size\n",
        "    vax_sus : float\n",
        "        the real parameter that defines the susceptibility of vaccinated individuals (0.0 = 0% chance to be infected, 0.1=10% chance relative to unvaccinated)\n",
        "    vax_inf : float\n",
        "        the real parameter that defines the infectivity of vaccinated individuals (0.0 = 0% chance to cause infection, 0.1=10% chance relative to unvaccinated)\n",
        "    vax_m : Model\n",
        "        a Model object that packages the parameters necessary to simulate the vaccinated arm of the study\n",
        "    control_m : Model\n",
        "        a Model object that packages the parameters necessary to simulate the control arm of the study\n",
        "\n",
        "    Additionally, after running VaccineStudy.run_trials(# trials), the following useful attributes are available:\n",
        "\n",
        "    vax_df : DataFrame\n",
        "        the tabular data that describes the results of a time-forward simulation in the vaccinated arm\n",
        "    control_df : DataFrame\n",
        "        the tabular data that describes the results of a time-forward simulation in the control arm\n",
        "    \n",
        "    Methods\n",
        "    -------\n",
        "    run_trials(trials : int):\n",
        "        Conducts the study some number of times and stores the results in tables.\n",
        "\n",
        "        returns : DataFrame, DataFrame\n",
        "            the results in two pandas DataFrame, vax_df and control_df\n",
        "\n",
        "    ves():\n",
        "        Measures the vaccine effect on susceptibility. By calculating 1 - (fraction_vaccinated_infected / fraction_placebo_infected)\n",
        "\n",
        "        returns : Series\n",
        "            a labeled series of effects indexed by the trials (number of times a full study was simulated)\n",
        "\n",
        "    vetotal():\n",
        "        Measures the aggregate vaccine effect on infections. By calculating 1 - (fraction_infected_in_vaccinated_pop / fractionn_infected_in_placebo_pop)\n",
        "\n",
        "        returns : Series\n",
        "            a labeled series of effects indexed by the trials (number of times a full study was simulated)\n",
        "\n",
        "    vecontact():\n",
        "        Measures the vaccine effect on susceptibility. By calculating 1 - (fraction_vaccinated_infected / fraction_placebo_infected)\n",
        "\n",
        "        returns : Series\n",
        "            a labeled series of effects indexed by the trials (number of times a full study was simulated)\n",
        "\n",
        "    \"\"\"\n",
        "    def __init__(self, name, n_per_arm, sizes, hsar, es, et, duration, importation_rate, vaccination_method):\n",
        "        \"\"\"\n",
        "        Creates a VaccineStudy, which represents a two-armed study with a group of households receiving the vaccine and a group receiving the placebo.\n",
        "\n",
        "        Parameters\n",
        "        ----------\n",
        "        name : str\n",
        "            a name for the study\n",
        "        n_per_arm : int\n",
        "            the total number of households per arm of the study\n",
        "        sizes : list of ints\n",
        "            the household sizes among which to divide evenly the total number of households in the study\n",
        "        hsar : float\n",
        "            the desired average (over the household sizes specified) household secondary attack rate\n",
        "        es : float\n",
        "            the true parameter reduction in a vaccinated individual's susceptibility\n",
        "        hsarv : float\n",
        "            the hsar calculated relative to vaccinated individuals\n",
        "        duration : int\n",
        "            the duration of the experiment in days\n",
        "        importation_rate : float\n",
        "            the baseline (no vax) probability per individual per day of being infected from outside the household\n",
        "        vaccination_method : func\n",
        "            a function that takes in a shape of the form (count, size, 1) and returns a binary vector with 1s representing individuals who received the vaccine\n",
        "\n",
        "        Returns\n",
        "        ----------\n",
        "        VaccineStudy object\n",
        "        \"\"\"\n",
        "        # copy fields\n",
        "        self.name = name \n",
        "        self.es = es\n",
        "\n",
        "        self.et_method = et[1]\n",
        "        if self.et_method == 'hsarv':\n",
        "            self.hsarv = et[0]\n",
        "            self.et = et[0]\n",
        "        elif self.et_method == 'et':\n",
        "            self.et = et[0]\n",
        "        \n",
        "        self.sizes = sizes\n",
        "        self.n_per_arm = n_per_arm\n",
        "        self.duration = duration\n",
        "        self.importation_rate = importation_rate\n",
        "        self.vaccination_method = vaccination_method\n",
        "        \n",
        "        self.n_households = int(n_per_arm/len(sizes))\n",
        "\n",
        "        # gamma distributed state lengths with shape k and period length T\n",
        "        T = mean_vec[INFECTIOUS_STATE]\n",
        "        k = shape_vec[INFECTIOUS_STATE]\n",
        "        self.household_beta = (k/T) * ((1/(1-hsar)**(1/k))-1)\n",
        "\n",
        "        if self.et_method == 'hsarv':\n",
        "            implied_vbeta = (k/T) * ((1/(1-self.hsarv)**(1/k))-1) # the beta required to obtain hsar=hsarv\n",
        "            vax_inf = implied_vbeta / self.household_beta # the ratio of the vbeta and beta gives the infectiousness of vaccinated individuals\n",
        "        elif self.et_method == 'et':\n",
        "            vax_inf = 1-self.et\n",
        "\n",
        "        vax_sus = 1-es\n",
        "        vaccine = Vaccine(vax_sus=vax_sus, vax_inf=vax_inf)\n",
        "        self.vaccine=vaccine\n",
        "        placebo = Vaccine(vax_sus=1.0, vax_inf=1.0)\n",
        "\n",
        "        # this is incorrect for gamma distributed state lengths. \n",
        "        # what we actually want: what's the probability you infect one other contact before you recover\n",
        "        #self.household_beta = hsar / (DurMildInf * ((sum(sizes) - len(sizes))/ len(sizes)))\n",
        "\n",
        "        self.household_sizes = {x:self.n_households for x in sizes} #{4:n_households, 5:n_households, 6:n_households, 7:n_households, 8:n_households}\n",
        "    \n",
        "        v_name = \"{0} model es {1} {2} {3} intra beta = {4}\".format(name, es, self.et, self.et_method, self.household_beta)\n",
        "        c_name = \"control model with intra beta = {0}\".format(self.household_beta)\n",
        "        self.vax_m = Model(v_name, vaccine=vaccine, vaccination_method=vaccination_method, household_beta=self.household_beta, initial_seeding=seed_zero, importation_rate=importation_rate, duration=duration)\n",
        "        self.control_m = Model(c_name, vaccine=placebo, vaccination_method=vaccination_method, initial_seeding=seed_zero, household_beta=self.household_beta, importation_rate=importation_rate, duration=duration)\n",
        "    \n",
        "    def __repr__(self):\n",
        "        self_str = \"Vaccine study named {0} with:\\n\\tn_per_arm        = {1}\\n\\thousehold sizes  = {2}\\n\\tes, {10}        = {3}, {4}\\n\\tvax_sus, vax_inf   = {5}, {6}\\n\\tduration         = {7}\\n\\timportation rate = {8}\\n\\thousehold beta   = {9}\".format(self.name, self.n_per_arm, self.household_sizes, self.es, self.et, self.vaccine.vax_sus, self.vaccine.vax_inf, self.duration, self.importation_rate, self.household_beta, self.et_method)\n",
        "        return self_str\n",
        "    \n",
        "    def run_trials(self, trials, arms='both'):\n",
        "        print(\"Running study ...\\n\", str(self))\n",
        "\n",
        "        self.vax_df = []\n",
        "        self.control_df = []\n",
        "        if arms=='vax' or arms=='both':\n",
        "            self.vax_df = self.vax_m.run_trials(trials, self.household_sizes)\n",
        "        if arms=='control' or arms=='both':\n",
        "            self.control_df = self.control_m.run_trials(trials, self.household_sizes)\n",
        "        \n",
        "        return self.vax_df, self.control_df\n",
        "\n",
        "    def sample_hsar(self, samples):\n",
        "        sizes = {x:samples for x in self.sizes}\n",
        "        v_df = self.vax_m.sample_hsar(sizes, ignore_traits=False)\n",
        "        c_df = self.control_m.sample_hsar(sizes)\n",
        "        return v_df, c_df\n",
        "\n",
        "    def ves(self):\n",
        "        \"\"\"Vaccination effect on susceptibility using the placebo RR as baseline (equation 1/2 in Betz)\"\"\"\n",
        "        print(\"Calculating VEs ...\\n\", str(self))\n",
        "\n",
        "        vg = self.vax_df.groupby([\"trialnum\"])\n",
        "        vgs = vg.sum()\n",
        "        f_v = vg[\"vaccinated infected\"].sum() / vg[\"num vaccinated\"].sum()\n",
        "\n",
        "        cg = self.control_df.groupby([\"trialnum\"])\n",
        "        cgs = cg.sum()\n",
        "        f_c = cg[\"vaccinated infected\"].sum() / cg[\"num vaccinated\"].sum()     \n",
        "        \n",
        "        # fisher exact test record actual number of events: columns either vaccinated or in household with vaccination vs other and rows = individual was infected vs not\n",
        "        \n",
        "        # fisher exact test : comparing primary participants in households\n",
        "\n",
        "        ##             placebo | vaccinated\n",
        "        ##  uninfected\n",
        "        ##  -----\n",
        "        ##  infected\n",
        "\n",
        "        fisher_df = pd.concat([cgs[\"num vaccinated\"] - cgs[\"vaccinated infected\"], vgs[\"num vaccinated\"] - vgs[\"vaccinated infected\"], cgs[\"vaccinated infected\"], vgs[\"vaccinated infected\"]], axis=1)\n",
        "        fisher_df.columns =[\"cuinfected\", \"vuinfected\", \"cinfected\", \"vinfected\"]\n",
        "        p = fisher_df.apply(lambda row: (scipy.stats.fisher_exact([[row[\"cuinfected\"], row[\"vuinfected\"]], [row[\"cinfected\"], row[\"vinfected\"]]]))[1], axis=1) # index 1 to get p value\n",
        "        p.name = \"fisher p value\"\n",
        "\n",
        "        ve = 1. - f_v / f_c\n",
        "        #ve.name = \"VEs\"\n",
        "        ve.name = \"VE\"\n",
        "\n",
        "        return pd.concat([ve, p], axis=1)\n",
        "\n",
        "    def vecontact(self):\n",
        "        print(\"Calculating VEcontact ...\\n\", str(self))\n",
        "        vg = self.vax_df.groupby([\"trialnum\"])\n",
        "        vgs = vg.sum()\n",
        "        f_v = vg[\"unvaccinated infected\"].sum() / vg[\"num unvaccinated\"].sum()\n",
        "\n",
        "        cg = self.control_df.groupby([\"trialnum\"])\n",
        "        cgs = cg.sum()\n",
        "        f_c = cg[\"unvaccinated infected\"].sum() / cg[\"num unvaccinated\"].sum()\n",
        "\n",
        "        ve = 1. - f_v / f_c\n",
        "        #ve.name = \"VEcontact\"\n",
        "        ve.name = \"VE\"\n",
        "\n",
        "        # fisher exact test : comparing households by type but only unvaccinated\n",
        "        ##             control hh secondary (no placebo) | vaccinated hh secondary (no vax)\n",
        "        ##  uninfected\n",
        "        ##  -----\n",
        "        ##  infected\n",
        "\n",
        "\n",
        "        fisher_df = pd.concat([cgs[\"num unvaccinated\"]-cgs[\"unvaccinated infected\"], vgs[\"num unvaccinated\"]-vgs[\"unvaccinated infected\"], cgs[\"unvaccinated infected\"], vgs[\"unvaccinated infected\"]], axis=1)\n",
        "        fisher_df.columns =[\"cuinfected\", \"vuinfected\", \"cinfected\", \"vinfected\"]\n",
        "        p = fisher_df.apply(lambda row: (scipy.stats.fisher_exact([[row[\"cuinfected\"], row[\"vuinfected\"]], [row[\"cinfected\"], row[\"vinfected\"]]]))[1], axis=1) # index 1 to get p value\n",
        "        p.name = \"fisher p value\"\n",
        "\n",
        "        return pd.concat([ve, p], axis=1)\n",
        "\n",
        "    def vetotal(self):\n",
        "        print(\"Calculating VEtotal ...\\n\", str(self))\n",
        "        vg = self.vax_df.groupby([\"trialnum\"])\n",
        "        vgs = vg.sum()\n",
        "        f_v = vg[\"infections\"].sum() / vg[\"size\"].sum()\n",
        "        \n",
        "        cg = self.control_df.groupby([\"trialnum\"])\n",
        "        cgs = cg.sum()\n",
        "        f_c = cg[\"infections\"].sum() / cg[\"size\"].sum()\n",
        "\n",
        "        ve = 1. - (f_v)/(f_c)\n",
        "        #ve.name = \"VEtotal\"\n",
        "        ve.name = \"VE\"\n",
        "\n",
        "        # fisher exact test : comparing households by type\n",
        "\n",
        "                ##             control hh | vaccinated hh\n",
        "        ##  uninfected\n",
        "        ##  -----\n",
        "        ##  infected\n",
        "\n",
        "\n",
        "        fisher_df = pd.concat([cgs[\"size\"]-cgs[\"infections\"], vgs[\"size\"]-vgs[\"infections\"], cgs[\"infections\"], vgs[\"infections\"]], axis=1)\n",
        "        fisher_df.columns =[\"cuinfected\", \"vuinfected\", \"cinfected\", \"vinfected\"]\n",
        "        p = fisher_df.apply(lambda row: (scipy.stats.fisher_exact([[row[\"cuinfected\"], row[\"vuinfected\"]], [row[\"cinfected\"], row[\"vinfected\"]]]))[1], axis=1) # index 1 to get p value\n",
        "        p.name = \"fisher p value\"\n",
        "\n",
        "        return pd.concat([ve, p], axis=1)"
      ],
      "id": "subject-sharing",
      "execution_count": 85,
      "outputs": []
    },
    {
      "cell_type": "markdown",
      "metadata": {
        "id": "steady-analysis"
      },
      "source": [
        "### Utility functions + vaccination methods"
      ],
      "id": "steady-analysis"
    },
    {
      "cell_type": "code",
      "metadata": {
        "id": "joint-blair",
        "jupyter": {
          "source_hidden": true
        }
      },
      "source": [
        "def vaccinate_one(shape):\n",
        "    inoculations = np.zeros(shape)\n",
        "    inoculations[:, 0, :] = 1\n",
        "    return inoculations\n",
        "\n",
        "def vaccinate_number(shape, number_vaccinated):\n",
        "    inoculations = np.zeros(shape)\n",
        "    inoculations[:, np.aranage(number_vaccinated), :] = 1\n",
        "    return inoculations\n",
        "\n",
        "def vaccinate_fraction(shape, fraction_vaccinated):\n",
        "    inoculations = np.zeros(shape)\n",
        "    vaccinated_in_household = np.arange(np.around(shape[1] * fraction_vaccinated)).astype('int32') #axis 1 corresponds to the individuals in a household\n",
        "    if np.around(shape[1] * fraction_vaccinated) != shape[1] * fraction_vaccinated:\n",
        "        print(\"Warning, attempted to vaccinate fraction={0} of household with size={1}. Vaccinated {2}\".format(fraction_vaccinated, shape[1], np.around(shape[1] * fraction_vaccinated)))\n",
        "    inoculations[:, vaccinated_in_household, :] = 1\n",
        "    return inoculations"
      ],
      "id": "joint-blair",
      "execution_count": 16,
      "outputs": []
    },
    {
      "cell_type": "markdown",
      "metadata": {
        "id": "unlikely-incidence"
      },
      "source": [
        "### Statistic calculators"
      ],
      "id": "unlikely-incidence"
    },
    {
      "cell_type": "code",
      "metadata": {
        "id": "joined-cinema",
        "jupyter": {
          "source_hidden": true
        }
      },
      "source": [
        "def mean_confidence_interval(data, confidence=0.95):\n",
        "    a = 1.0 * np.array(data)\n",
        "    n = len(a)\n",
        "    m, se = np.mean(a), scipy.stats.sem(a)\n",
        "    h = se * scipy.stats.t.ppf((1 + confidence) / 2., n-1)\n",
        "    return m, m-h, m+h"
      ],
      "id": "joined-cinema",
      "execution_count": 17,
      "outputs": []
    },
    {
      "cell_type": "code",
      "metadata": {
        "id": "loved-bundle",
        "jupyter": {
          "source_hidden": true
        }
      },
      "source": [
        "# calculate power by passing two criteria. lambda threshold; fisher random p value 0.05\n",
        "# 95% of the time higher than 30% (effect)\n",
        "# how often is it statistically significant\n",
        "\n",
        "# run experiment, keep p values, how often do you reject null hypothesis\n",
        "# put in code the p value against 0 null hypthoses\n",
        "\n",
        "\n",
        "def power(ve, threshold, fisher_p_cutoff):\n",
        "    print(\"Calculating power\")# of {0}\".format(ve.name))\n",
        "    return ve[(ve[\"VE\"] > threshold) & (ve[\"fisher p value\"] < fisher_p_cutoff)][\"VE\"].count() / ve[\"VE\"].count()"
      ],
      "id": "loved-bundle",
      "execution_count": 18,
      "outputs": []
    },
    {
      "cell_type": "markdown",
      "metadata": {
        "id": "organic-capacity"
      },
      "source": [
        "## Vaccine forward simulations"
      ],
      "id": "organic-capacity"
    },
    {
      "cell_type": "markdown",
      "metadata": {
        "id": "veterinary-savage"
      },
      "source": [
        "### To run a vaccine forward simulation, you should take the following four steps:\n",
        "\n",
        "1. Specify the model parameters. These include, `n_per_arm`, `sizes`, `hsar`, `es`, `et`, `duration`, `importation_rate`, and `vaccination_method`. For definitions and more information see the documentation for the `VaccineStudy` class\n",
        "2. Create the `VaccineStudy` object: `study = VaccineStudy(name, n_per_arm, ...)`\n",
        "3. Run the study: `vax_dataframe, control_dataframe = study.run_trials(number of trials)`\n",
        "4. Investigate! Step 3 returns two pandas DataFrames objects. Try using `.head()`, `.describe()`, `.mean()` and other methods to see the contents. See the descriptions of available statistics below\n",
        "\n",
        "Try using `VaccineStudy.vecontact()` or `VaccineStudy.ves()` or `VaccineStudy.vetotal()`\n",
        "\n",
        "Defining and calculating $\\text{VE}_{\\text{S}}$:\n",
        "\n",
        "$$ \\text{VE}_{\\text{S}} = \\left.1 - \\frac{AR_v}{AR_p} = 1 - {n_v^+\\ /\\ (n_v^+ + n_v^-)} \\middle/ \\right. {n_p^+\\ /\\ (n_p^+ + n_{p}^-)}{}$$\n",
        "\n",
        "Defining and calculating $\\text{VE}_{\\text{contacts}}$:\n",
        "\n",
        "$$ \\text{VE}_{\\text{contact}} = \\left.1 - \\frac{AR_u}{AR_{np}} = 1 - {\\ n_u^+/\\ (n_u^+ + n_u^-)} \\middle/ \\right. {n_{np}^+\\ /\\ (n_{np}^+ + n_{np}^-)}$$\n",
        "\n",
        "where $\\pm$ refers to infected and uninfected individuals, $n_v$ refers to vaccinated individuals (who received the real vaccine), $n_u$ refers to unvaccinated individuals (in households where the vaccine was administered), $n_p$ refers to placebo-receiving individuals, and $n_{np}$ refers to individuals who received no placebo (in households where the placebo was administered).\n",
        "\n",
        "The term $AR$ (attack rate) is used as defined in the literature and should not be understood as a rate, but simply as the observed frequency of infections among a group such that $AR_v$, for example, is defined as the fraction of vaccinated individuals who were in fact infected.\n",
        "\n",
        "Defining and calculating $\\text{VE}_{\\text{total}}$:\n",
        "\n",
        "$$ \\text{VE}_{\\text{total}} = \\left.1 - \\frac{AR_{HV}}{AR_{HP}} = 1 - {n_{HV}^+\\ /\\ (n_{HV}^+ + n_{HV}^-)} \\middle/ \\right. {n_{HP}^+\\ /\\ (n_{HP}^+ + n_{HP}^-)}{}$$\n",
        "\n",
        "Heree the notation has changed slightly to allow $n_{HV}$ to refer to the total number of individuals in households that received a vaccine, ie $n_{HV} = n_{v} + n_{u}$."
      ],
      "id": "veterinary-savage"
    },
    {
      "cell_type": "markdown",
      "metadata": {
        "id": "dated-denver"
      },
      "source": [
        "### Vaccinating one individual"
      ],
      "id": "dated-denver"
    },
    {
      "cell_type": "code",
      "metadata": {
        "collapsed": true,
        "id": "entire-asset",
        "jupyter": {
          "outputs_hidden": true,
          "source_hidden": true
        },
        "colab": {
          "base_uri": "https://localhost:8080/"
        },
        "outputId": "007efb8a-21f4-41d4-fa5f-6ea5e69257ff"
      },
      "source": [
        "print(VaccineStudy.__init__.__doc__)"
      ],
      "id": "entire-asset",
      "execution_count": 64,
      "outputs": [
        {
          "output_type": "stream",
          "text": [
            "\n",
            "        Creates a VaccineStudy, which represents a two-armed study with a group of households receiving the vaccine and a group receiving the placebo.\n",
            "\n",
            "        Parameters\n",
            "        ----------\n",
            "        name : str\n",
            "            a name for the study\n",
            "        n_per_arm : int\n",
            "            the total number of households per arm of the study\n",
            "        sizes : list of ints\n",
            "            the household sizes among which to divide evenly the total number of households in the study\n",
            "        hsar : float\n",
            "            the desired average (over the household sizes specified) household secondary attack rate\n",
            "        es : float\n",
            "            the true parameter reduction in a vaccinated individual's susceptibility\n",
            "        hsarv : float\n",
            "            the hsar calculated relative to vaccinated individuals\n",
            "        duration : int\n",
            "            the duration of the experiment in days\n",
            "        importation_rate : float\n",
            "            the baseline (no vax) probability per individual per day of being infected from outside the household\n",
            "        vaccination_method : func\n",
            "            a function that takes in a shape of the form (count, size, 1) and returns a binary vector with 1s representing individuals who received the vaccine\n",
            "\n",
            "        Returns\n",
            "        ----------\n",
            "        VaccineStudy object\n",
            "        \n"
          ],
          "name": "stdout"
        }
      ]
    },
    {
      "cell_type": "code",
      "metadata": {
        "collapsed": true,
        "id": "single-british",
        "jupyter": {
          "outputs_hidden": true,
          "source_hidden": true
        }
      },
      "source": [
        "# Model parameters\n",
        "\n",
        "n_per_arm = 650\n",
        "sizes = [4,5,6,7,8] # the nhouseholds are divided evenly among the sizes\n",
        "\n",
        "hsar = 0.3 # the desired household sar when averaged over the sizes of the households\n",
        "hsarv = 0.1\n",
        "\n",
        "es = 0.7 # Would we prefer another name for this?\n",
        "\n",
        "## \n",
        "\n",
        "duration = 90 # days\n",
        "importation_probability_over_study = 0.03\n",
        "importation_rate = 1-(1-importation_probability_over_study)**(1/duration) # converting risk over study period to daily risk"
      ],
      "id": "single-british",
      "execution_count": 65,
      "outputs": []
    },
    {
      "cell_type": "code",
      "metadata": {
        "colab": {
          "base_uri": "https://localhost:8080/"
        },
        "collapsed": true,
        "id": "middle-connection",
        "jupyter": {
          "outputs_hidden": true,
          "source_hidden": true
        },
        "outputId": "0e938903-573a-4e07-8041-6ee6f5730f5d"
      },
      "source": [
        "# quick check that we did the risk correctly\n",
        "print(\"Got probability over period =\",(1-importation_rate)**90, \"Expected =\", 1-importation_probability_over_study)"
      ],
      "id": "middle-connection",
      "execution_count": 66,
      "outputs": [
        {
          "output_type": "stream",
          "text": [
            "Got probability over period = 0.9700000000000039 Expected = 0.97\n"
          ],
          "name": "stdout"
        }
      ]
    },
    {
      "cell_type": "code",
      "metadata": {
        "collapsed": true,
        "id": "chronic-responsibility",
        "jupyter": {
          "outputs_hidden": true,
          "source_hidden": true
        }
      },
      "source": [
        "one_vax_study = VaccineStudy(\"one vaccinated\", n_per_arm, sizes, hsar, es, (hsarv, 'hsarv'), duration, importation_rate, vaccinate_one)"
      ],
      "id": "chronic-responsibility",
      "execution_count": 67,
      "outputs": []
    },
    {
      "cell_type": "code",
      "metadata": {
        "colab": {
          "base_uri": "https://localhost:8080/"
        },
        "id": "fQnArymvYUBD",
        "outputId": "f32f4208-dd18-4868-f538-6975a9793ff8"
      },
      "source": [
        "print(\"Now we've created a VaccineStudy object. Let's learn more about it.\")\n",
        "print(VaccineStudy.__doc__)"
      ],
      "id": "fQnArymvYUBD",
      "execution_count": 68,
      "outputs": [
        {
          "output_type": "stream",
          "text": [
            "Now we've created a VaccineStudy object. Let's learn more about it.\n",
            "\n",
            "    A class that hosts and runs a single vaccine study experiment.\n",
            "\n",
            "    ...\n",
            "\n",
            "    Attributes\n",
            "    ----------\n",
            "    All the attributes passed at object creation. Run `print(VaccineStudy.__init__.__doc__)` for more information. Additionally:\n",
            "\n",
            "    household_beta : float\n",
            "        the real probability per contact per day of transmission between individuals in household\n",
            "    household_sizes : dict\n",
            "        a dictionary containing the sizes of households in each arm of the study, and the number of households of that size\n",
            "    vax_sus : float\n",
            "        the real parameter that defines the susceptibility of vaccinated individuals (0.0 = 0% chance to be infected, 0.1=10% chance relative to unvaccinated)\n",
            "    vax_inf : float\n",
            "        the real parameter that defines the infectivity of vaccinated individuals (0.0 = 0% chance to cause infection, 0.1=10% chance relative to unvaccinated)\n",
            "    vax_m : Model\n",
            "        a Model object that packages the parameters necessary to simulate the vaccinated arm of the study\n",
            "    control_m : Model\n",
            "        a Model object that packages the parameters necessary to simulate the control arm of the study\n",
            "\n",
            "    Additionally, after running VaccineStudy.run_trials(# trials), the following useful attributes are available:\n",
            "\n",
            "    vax_df : DataFrame\n",
            "        the tabular data that describes the results of a time-forward simulation in the vaccinated arm\n",
            "    control_df : DataFrame\n",
            "        the tabular data that describes the results of a time-forward simulation in the control arm\n",
            "    \n",
            "    Methods\n",
            "    -------\n",
            "    run_trials(trials : int):\n",
            "        Conducts the study some number of times and stores the results in tables.\n",
            "\n",
            "        returns : DataFrame, DataFrame\n",
            "            the results in two pandas DataFrame, vax_df and control_df\n",
            "\n",
            "    ves():\n",
            "        Measures the vaccine effect on susceptibility. By calculating 1 - (fraction_vaccinated_infected / fraction_placebo_infected)\n",
            "\n",
            "        returns : Series\n",
            "            a labeled series of effects indexed by the trials (number of times a full study was simulated)\n",
            "\n",
            "    vetotal():\n",
            "        Measures the aggregate vaccine effect on infections. By calculating 1 - (fraction_infected_in_vaccinated_pop / fractionn_infected_in_placebo_pop)\n",
            "\n",
            "        returns : Series\n",
            "            a labeled series of effects indexed by the trials (number of times a full study was simulated)\n",
            "\n",
            "    vecontact():\n",
            "        Measures the vaccine effect on susceptibility. By calculating 1 - (fraction_vaccinated_infected / fraction_placebo_infected)\n",
            "\n",
            "        returns : Series\n",
            "            a labeled series of effects indexed by the trials (number of times a full study was simulated)\n",
            "\n",
            "    \n"
          ],
          "name": "stdout"
        }
      ]
    },
    {
      "cell_type": "code",
      "metadata": {
        "colab": {
          "base_uri": "https://localhost:8080/",
          "height": 1000
        },
        "collapsed": true,
        "id": "affiliated-fifteen",
        "jupyter": {
          "outputs_hidden": true,
          "source_hidden": true
        },
        "outputId": "e21cb198-1a6f-414c-dd3a-6d6b0337294a"
      },
      "source": [
        "# Running the study some number of times\n",
        "trials = 200\n",
        "vax_df, control_df = one_vax_study.run_trials(trials)\n",
        "make_bar_chart(pd.concat([vax_df, control_df]))"
      ],
      "id": "affiliated-fifteen",
      "execution_count": 69,
      "outputs": [
        {
          "output_type": "stream",
          "text": [
            "Running study ...\n",
            " Vaccine study named one vaccinated with:\n",
            "\tn_per_arm        = 650\n",
            "\thousehold sizes  = {4: 130, 5: 130, 6: 130, 7: 130, 8: 130}\n",
            "\tes, hsarv        = 0.7, 0.1\n",
            "\tvax_sus, vax_inf   = 0.30000000000000004, 0.2833751573750291\n",
            "\tduration         = 90\n",
            "\timportation rate = 0.00033837837583827746\n",
            "\thousehold beta   = 0.054039348129324496\n"
          ],
          "name": "stdout"
        },
        {
          "output_type": "display_data",
          "data": {
            "image/png": "[encoded data removed]",
            "text/plain": [
              "<Figure size 576x576 with 1 Axes>"
            ]
          },
          "metadata": {
            "tags": [],
            "needs_background": "light"
          }
        },
        {
          "output_type": "display_data",
          "data": {
            "image/png": "[encoded data removed]",
            "text/plain": [
              "<Figure size 576x576 with 1 Axes>"
            ]
          },
          "metadata": {
            "tags": [],
            "needs_background": "light"
          }
        },
        {
          "output_type": "display_data",
          "data": {
            "image/png": "[encoded data removed]",
            "text/plain": [
              "<Figure size 576x576 with 1 Axes>"
            ]
          },
          "metadata": {
            "tags": [],
            "needs_background": "light"
          }
        },
        {
          "output_type": "display_data",
          "data": {
            "image/png": "[encoded data removed]",
            "text/plain": [
              "<Figure size 576x576 with 1 Axes>"
            ]
          },
          "metadata": {
            "tags": [],
            "needs_background": "light"
          }
        },
        {
          "output_type": "display_data",
          "data": {
            "image/png": "[encoded data removed]",
            "text/plain": [
              "<Figure size 576x576 with 1 Axes>"
            ]
          },
          "metadata": {
            "tags": [],
            "needs_background": "light"
          }
        }
      ]
    },
    {
      "cell_type": "markdown",
      "metadata": {
        "id": "exceptional-nursery"
      },
      "source": [
        "#### Helpful printouts"
      ],
      "id": "exceptional-nursery"
    },
    {
      "cell_type": "code",
      "metadata": {
        "colab": {
          "base_uri": "https://localhost:8080/"
        },
        "collapsed": true,
        "id": "senior-faith",
        "jupyter": {
          "outputs_hidden": true,
          "source_hidden": true
        },
        "outputId": "d84f999f-3f2a-477c-b967-ae28db19cf62"
      },
      "source": [
        "# Here I list the columns of the dataframes so you can know what kind of information is available in the tables\n",
        "print(\"Vaccination df columns\", vax_df.columns)\n",
        "print(\"Control df columns\", control_df.columns)"
      ],
      "id": "senior-faith",
      "execution_count": 70,
      "outputs": [
        {
          "output_type": "stream",
          "text": [
            "Vaccination df columns Index(['size', 'model', 'infections', 'num vaccinated', 'vaccinated infected',\n",
            "       'unvaccinated infected', 'num unvaccinated', 'trialnum'],\n",
            "      dtype='object')\n",
            "Control df columns Index(['size', 'model', 'infections', 'num vaccinated', 'vaccinated infected',\n",
            "       'unvaccinated infected', 'num unvaccinated', 'trialnum'],\n",
            "      dtype='object')\n"
          ],
          "name": "stdout"
        }
      ]
    },
    {
      "cell_type": "code",
      "metadata": {
        "colab": {
          "base_uri": "https://localhost:8080/"
        },
        "collapsed": true,
        "id": "earned-parcel",
        "jupyter": {
          "outputs_hidden": true,
          "source_hidden": true
        },
        "outputId": "92fd0603-966a-4c6d-937e-65335ca3e91e"
      },
      "source": [
        "# mean (over trials) number of placebo recepients who get infected\n",
        "mean = control_df[control_df[\"vaccinated infected\"] > 0].groupby(\"trialnum\")[\"vaccinated infected\"].count().mean()\n",
        "total = control_df.groupby(\"trialnum\")[\"num vaccinated\"].count().mean()\n",
        "print(\"Percent of placebo reccepients who were infected\")\n",
        "print(100 * mean / total)\n",
        "\n",
        "# mean (over trials) number of vaccinated recepients who get infected\n",
        "mean = vax_df[vax_df[\"vaccinated infected\"] > 0].groupby(\"trialnum\")[\"vaccinated infected\"].count().mean() \n",
        "total = vax_df.groupby(\"trialnum\")[\"num vaccinated\"].count().mean()\n",
        "print(\"Percent of vacccine reccepients who were infected\")\n",
        "100 * mean / total"
      ],
      "id": "earned-parcel",
      "execution_count": 71,
      "outputs": [
        {
          "output_type": "stream",
          "text": [
            "Percent of placebo reccepients who were infected\n",
            "10.177692307692308\n",
            "Percent of vacccine reccepients who were infected\n"
          ],
          "name": "stdout"
        },
        {
          "output_type": "execute_result",
          "data": {
            "text/plain": [
              "4.43"
            ]
          },
          "metadata": {
            "tags": []
          },
          "execution_count": 71
        }
      ]
    },
    {
      "cell_type": "code",
      "metadata": {
        "colab": {
          "base_uri": "https://localhost:8080/"
        },
        "collapsed": true,
        "id": "composed-church",
        "jupyter": {
          "outputs_hidden": true,
          "source_hidden": true
        },
        "outputId": "3894a047-1beb-4e08-dfd5-368c88f901b8"
      },
      "source": [
        "print(\"Mean percent of individuals infected in vaccinated households by household size\")\n",
        "infections = vax_df.groupby(\"size\")[\"infections\"].mean()\n",
        "size = vax_df.groupby(\"size\")[\"size\"].mean()\n",
        "print(infections / size * 100)\n",
        "\n",
        "print(\"Mean percent of individuals infected in unvaccinated households by household size\")\n",
        "infections = control_df.groupby(\"size\")[\"infections\"].mean()\n",
        "size = control_df.groupby(\"size\")[\"size\"].mean()\n",
        "print(infections / size * 100)"
      ],
      "id": "composed-church",
      "execution_count": 72,
      "outputs": [
        {
          "output_type": "stream",
          "text": [
            "Mean percent of individuals infected in vaccinated households by household size\n",
            "size\n",
            "4     4.421154\n",
            "5     5.735385\n",
            "6     7.592949\n",
            "7     9.604396\n",
            "8    12.026442\n",
            "dtype: float64\n",
            "Mean percent of individuals infected in unvaccinated households by household size\n",
            "size\n",
            "4     6.319231\n",
            "5     7.870769\n",
            "6     9.792949\n",
            "7    12.343956\n",
            "8    14.674038\n",
            "dtype: float64\n"
          ],
          "name": "stdout"
        }
      ]
    },
    {
      "cell_type": "code",
      "metadata": {
        "colab": {
          "base_uri": "https://localhost:8080/"
        },
        "collapsed": true,
        "id": "critical-lightweight",
        "jupyter": {
          "outputs_hidden": true,
          "source_hidden": true
        },
        "outputId": "db083f05-a767-44c0-c610-052087acc397"
      },
      "source": [
        "print(\"Percent of vaccinated households of size 4 experienced at least one importation?\")\n",
        "size_four = vax_df[vax_df[\"size\"] == 4]\n",
        "had_import = size_four[size_four[\"infections\"] > 0].count()\n",
        "\n",
        "print((had_import / size_four.count())[\"infections\"] * 100)\n",
        "\n",
        "print(\"Percent of control households of size 4 experienced at least one importation?\")\n",
        "size_four = control_df[control_df[\"size\"] == 4]\n",
        "had_import = size_four[size_four[\"infections\"] > 0].count()\n",
        "\n",
        "print((had_import / size_four.count())[\"infections\"] * 100)"
      ],
      "id": "critical-lightweight",
      "execution_count": 73,
      "outputs": [
        {
          "output_type": "stream",
          "text": [
            "Percent of vaccinated households of size 4 experienced at least one importation?\n",
            "9.73846153846154\n",
            "Percent of control households of size 4 experienced at least one importation?\n",
            "11.61923076923077\n"
          ],
          "name": "stdout"
        }
      ]
    },
    {
      "cell_type": "markdown",
      "metadata": {
        "id": "aware-knowing"
      },
      "source": [
        "#### VE calculation"
      ],
      "id": "aware-knowing"
    },
    {
      "cell_type": "code",
      "metadata": {
        "colab": {
          "base_uri": "https://localhost:8080/",
          "height": 752
        },
        "collapsed": true,
        "id": "first-christian",
        "jupyter": {
          "outputs_hidden": true,
          "source_hidden": true
        },
        "outputId": "6bd1d6da-64bc-4900-8e6f-728181265fbe"
      },
      "source": [
        "print(\"VEtotal\")\n",
        "\n",
        "vetotal_df = one_vax_study.vetotal()\n",
        "vetotal_df"
      ],
      "id": "first-christian",
      "execution_count": 74,
      "outputs": [
        {
          "output_type": "stream",
          "text": [
            "VEtotal\n",
            "Calculating VEtotal ...\n",
            " Vaccine study named one vaccinated with:\n",
            "\tn_per_arm        = 650\n",
            "\thousehold sizes  = {4: 130, 5: 130, 6: 130, 7: 130, 8: 130}\n",
            "\tes, hsarv        = 0.7, 0.1\n",
            "\tvax_sus, vax_inf   = 0.30000000000000004, 0.2833751573750291\n",
            "\tduration         = 90\n",
            "\timportation rate = 0.00033837837583827746\n",
            "\thousehold beta   = 0.054039348129324496\n"
          ],
          "name": "stdout"
        },
        {
          "output_type": "execute_result",
          "data": {
            "text/html": [
              "<div>\n",
              "<style scoped>\n",
              "    .dataframe tbody tr th:only-of-type {\n",
              "        vertical-align: middle;\n",
              "    }\n",
              "\n",
              "    .dataframe tbody tr th {\n",
              "        vertical-align: top;\n",
              "    }\n",
              "\n",
              "    .dataframe thead th {\n",
              "        text-align: right;\n",
              "    }\n",
              "</style>\n",
              "<table border=\"1\" class=\"dataframe\">\n",
              "  <thead>\n",
              "    <tr style=\"text-align: right;\">\n",
              "      <th></th>\n",
              "      <th>VE</th>\n",
              "      <th>fisher p value</th>\n",
              "    </tr>\n",
              "    <tr>\n",
              "      <th>trialnum</th>\n",
              "      <th></th>\n",
              "      <th></th>\n",
              "    </tr>\n",
              "  </thead>\n",
              "  <tbody>\n",
              "    <tr>\n",
              "      <th>0</th>\n",
              "      <td>0.218750</td>\n",
              "      <td>0.000286</td>\n",
              "    </tr>\n",
              "    <tr>\n",
              "      <th>1</th>\n",
              "      <td>0.241935</td>\n",
              "      <td>0.000072</td>\n",
              "    </tr>\n",
              "    <tr>\n",
              "      <th>2</th>\n",
              "      <td>0.169271</td>\n",
              "      <td>0.011345</td>\n",
              "    </tr>\n",
              "    <tr>\n",
              "      <th>3</th>\n",
              "      <td>0.255125</td>\n",
              "      <td>0.000023</td>\n",
              "    </tr>\n",
              "    <tr>\n",
              "      <th>4</th>\n",
              "      <td>0.020513</td>\n",
              "      <td>0.790709</td>\n",
              "    </tr>\n",
              "    <tr>\n",
              "      <th>...</th>\n",
              "      <td>...</td>\n",
              "      <td>...</td>\n",
              "    </tr>\n",
              "    <tr>\n",
              "      <th>195</th>\n",
              "      <td>0.183295</td>\n",
              "      <td>0.003273</td>\n",
              "    </tr>\n",
              "    <tr>\n",
              "      <th>196</th>\n",
              "      <td>0.159737</td>\n",
              "      <td>0.008545</td>\n",
              "    </tr>\n",
              "    <tr>\n",
              "      <th>197</th>\n",
              "      <td>0.251351</td>\n",
              "      <td>0.000155</td>\n",
              "    </tr>\n",
              "    <tr>\n",
              "      <th>198</th>\n",
              "      <td>0.169492</td>\n",
              "      <td>0.008238</td>\n",
              "    </tr>\n",
              "    <tr>\n",
              "      <th>199</th>\n",
              "      <td>0.249433</td>\n",
              "      <td>0.000035</td>\n",
              "    </tr>\n",
              "  </tbody>\n",
              "</table>\n",
              "<p>200 rows × 2 columns</p>\n",
              "</div>"
            ],
            "text/plain": [
              "                VE  fisher p value\n",
              "trialnum                          \n",
              "0         0.218750        0.000286\n",
              "1         0.241935        0.000072\n",
              "2         0.169271        0.011345\n",
              "3         0.255125        0.000023\n",
              "4         0.020513        0.790709\n",
              "...            ...             ...\n",
              "195       0.183295        0.003273\n",
              "196       0.159737        0.008545\n",
              "197       0.251351        0.000155\n",
              "198       0.169492        0.008238\n",
              "199       0.249433        0.000035\n",
              "\n",
              "[200 rows x 2 columns]"
            ]
          },
          "metadata": {
            "tags": []
          },
          "execution_count": 74
        }
      ]
    },
    {
      "cell_type": "code",
      "metadata": {
        "colab": {
          "base_uri": "https://localhost:8080/"
        },
        "collapsed": true,
        "id": "modern-sterling",
        "jupyter": {
          "outputs_hidden": true,
          "source_hidden": true
        },
        "outputId": "86c8c9a5-a63d-4e4d-caed-df9f573abe1b"
      },
      "source": [
        "print(\"Power calculation from VEtotal\")\n",
        "power(vetotal_df, 0.3, 0.05)"
      ],
      "id": "modern-sterling",
      "execution_count": 75,
      "outputs": [
        {
          "output_type": "stream",
          "text": [
            "Power calculation from VEtotal\n",
            "Calculating power\n"
          ],
          "name": "stdout"
        },
        {
          "output_type": "execute_result",
          "data": {
            "text/plain": [
              "0.215"
            ]
          },
          "metadata": {
            "tags": []
          },
          "execution_count": 75
        }
      ]
    },
    {
      "cell_type": "code",
      "metadata": {
        "colab": {
          "base_uri": "https://localhost:8080/",
          "height": 908
        },
        "collapsed": true,
        "id": "southeast-marking",
        "jupyter": {
          "outputs_hidden": true,
          "source_hidden": true
        },
        "outputId": "72e8522c-5eb9-4c02-cadc-3c8fb90dc02b"
      },
      "source": [
        "print(\"VEs\")\n",
        "ves_df = one_vax_study.ves()\n",
        "ves_df"
      ],
      "id": "southeast-marking",
      "execution_count": 76,
      "outputs": [
        {
          "output_type": "stream",
          "text": [
            "VEs\n",
            "Calculating VEs ...\n",
            " Vaccine study named one vaccinated with:\n",
            "\tn_per_arm        = 650\n",
            "\thousehold sizes  = {4: 130, 5: 130, 6: 130, 7: 130, 8: 130}\n",
            "\tes, hsarv        = 0.7, 0.1\n",
            "\tvax_sus, vax_inf   = 0.30000000000000004, 0.2833751573750291\n",
            "\tduration         = 90\n",
            "\timportation rate = 0.00033837837583827746\n",
            "\thousehold beta   = 0.054039348129324496\n"
          ],
          "name": "stdout"
        },
        {
          "output_type": "execute_result",
          "data": {
            "text/html": [
              "<div>\n",
              "<style scoped>\n",
              "    .dataframe tbody tr th:only-of-type {\n",
              "        vertical-align: middle;\n",
              "    }\n",
              "\n",
              "    .dataframe tbody tr th {\n",
              "        vertical-align: top;\n",
              "    }\n",
              "\n",
              "    .dataframe thead th {\n",
              "        text-align: right;\n",
              "    }\n",
              "</style>\n",
              "<table border=\"1\" class=\"dataframe\">\n",
              "  <thead>\n",
              "    <tr style=\"text-align: right;\">\n",
              "      <th></th>\n",
              "      <th>VE</th>\n",
              "      <th>fisher p value</th>\n",
              "    </tr>\n",
              "    <tr>\n",
              "      <th>trialnum</th>\n",
              "      <th></th>\n",
              "      <th></th>\n",
              "    </tr>\n",
              "  </thead>\n",
              "  <tbody>\n",
              "    <tr>\n",
              "      <th>0</th>\n",
              "      <td>0.590909</td>\n",
              "      <td>3.437182e-05</td>\n",
              "    </tr>\n",
              "    <tr>\n",
              "      <th>1</th>\n",
              "      <td>0.605634</td>\n",
              "      <td>8.445079e-06</td>\n",
              "    </tr>\n",
              "    <tr>\n",
              "      <th>2</th>\n",
              "      <td>0.482759</td>\n",
              "      <td>2.691873e-03</td>\n",
              "    </tr>\n",
              "    <tr>\n",
              "      <th>3</th>\n",
              "      <td>0.483871</td>\n",
              "      <td>1.767686e-03</td>\n",
              "    </tr>\n",
              "    <tr>\n",
              "      <th>4</th>\n",
              "      <td>0.516129</td>\n",
              "      <td>7.227209e-04</td>\n",
              "    </tr>\n",
              "    <tr>\n",
              "      <th>...</th>\n",
              "      <td>...</td>\n",
              "      <td>...</td>\n",
              "    </tr>\n",
              "    <tr>\n",
              "      <th>195</th>\n",
              "      <td>0.500000</td>\n",
              "      <td>4.879798e-04</td>\n",
              "    </tr>\n",
              "    <tr>\n",
              "      <th>196</th>\n",
              "      <td>0.522388</td>\n",
              "      <td>3.354476e-04</td>\n",
              "    </tr>\n",
              "    <tr>\n",
              "      <th>197</th>\n",
              "      <td>0.688525</td>\n",
              "      <td>1.331471e-06</td>\n",
              "    </tr>\n",
              "    <tr>\n",
              "      <th>198</th>\n",
              "      <td>0.691176</td>\n",
              "      <td>2.416520e-07</td>\n",
              "    </tr>\n",
              "    <tr>\n",
              "      <th>199</th>\n",
              "      <td>0.578125</td>\n",
              "      <td>7.482800e-05</td>\n",
              "    </tr>\n",
              "  </tbody>\n",
              "</table>\n",
              "<p>200 rows × 2 columns</p>\n",
              "</div>"
            ],
            "text/plain": [
              "                VE  fisher p value\n",
              "trialnum                          \n",
              "0         0.590909    3.437182e-05\n",
              "1         0.605634    8.445079e-06\n",
              "2         0.482759    2.691873e-03\n",
              "3         0.483871    1.767686e-03\n",
              "4         0.516129    7.227209e-04\n",
              "...            ...             ...\n",
              "195       0.500000    4.879798e-04\n",
              "196       0.522388    3.354476e-04\n",
              "197       0.688525    1.331471e-06\n",
              "198       0.691176    2.416520e-07\n",
              "199       0.578125    7.482800e-05\n",
              "\n",
              "[200 rows x 2 columns]"
            ]
          },
          "metadata": {
            "tags": []
          },
          "execution_count": 76
        }
      ]
    },
    {
      "cell_type": "code",
      "metadata": {
        "colab": {
          "base_uri": "https://localhost:8080/",
          "height": 106
        },
        "collapsed": true,
        "id": "nutritional-immune",
        "jupyter": {
          "outputs_hidden": true,
          "source_hidden": true
        },
        "outputId": "a4da270f-c458-4b4c-ed7d-0ab0a3154960"
      },
      "source": [
        "ves_df[\"VE\"].hist(cumulative=True)\n",
        "ves_df.mean()"
      ],
      "id": "nutritional-immune",
      "execution_count": 77,
      "outputs": [
        {
          "output_type": "execute_result",
          "data": {
            "text/plain": [
              "VE                0.559338\n",
              "fisher p value    0.004258\n",
              "dtype: float64"
            ]
          },
          "metadata": {
            "tags": []
          },
          "execution_count": 77
        },
        {
          "output_type": "display_data",
          "data": {
            "image/png": "[encoded data removed]",
            "text/plain": [
              "<Figure size 432x288 with 1 Axes>"
            ]
          },
          "metadata": {
            "tags": [],
            "needs_background": "light"
          }
        }
      ]
    },
    {
      "cell_type": "code",
      "metadata": {
        "colab": {
          "base_uri": "https://localhost:8080/"
        },
        "collapsed": true,
        "id": "arbitrary-expansion",
        "jupyter": {
          "outputs_hidden": true,
          "source_hidden": true
        },
        "outputId": "18fb5131-e200-44ab-f5f6-969b8bb34240"
      },
      "source": [
        "print(\"Power calculation from VEs\")\n",
        "power(ves_df, 0.3, 0.05) # df, threshold/lower_bound"
      ],
      "id": "arbitrary-expansion",
      "execution_count": 78,
      "outputs": [
        {
          "output_type": "stream",
          "text": [
            "Power calculation from VEs\n",
            "Calculating power\n"
          ],
          "name": "stdout"
        },
        {
          "output_type": "execute_result",
          "data": {
            "text/plain": [
              "0.98"
            ]
          },
          "metadata": {
            "tags": []
          },
          "execution_count": 78
        }
      ]
    },
    {
      "cell_type": "code",
      "metadata": {
        "colab": {
          "base_uri": "https://localhost:8080/",
          "height": 752
        },
        "collapsed": true,
        "id": "arabic-departure",
        "jupyter": {
          "outputs_hidden": true,
          "source_hidden": true
        },
        "outputId": "2860e114-ec38-44b4-9d34-ee0d3ba27df7"
      },
      "source": [
        "print(\"VEcontact\")\n",
        "vecontact_df = one_vax_study.vecontact()\n",
        "vecontact_df"
      ],
      "id": "arabic-departure",
      "execution_count": 79,
      "outputs": [
        {
          "output_type": "stream",
          "text": [
            "VEcontact\n",
            "Calculating VEcontact ...\n",
            " Vaccine study named one vaccinated with:\n",
            "\tn_per_arm        = 650\n",
            "\thousehold sizes  = {4: 130, 5: 130, 6: 130, 7: 130, 8: 130}\n",
            "\tes, hsarv        = 0.7, 0.1\n",
            "\tvax_sus, vax_inf   = 0.30000000000000004, 0.2833751573750291\n",
            "\tduration         = 90\n",
            "\timportation rate = 0.00033837837583827746\n",
            "\thousehold beta   = 0.054039348129324496\n"
          ],
          "name": "stdout"
        },
        {
          "output_type": "execute_result",
          "data": {
            "text/html": [
              "<div>\n",
              "<style scoped>\n",
              "    .dataframe tbody tr th:only-of-type {\n",
              "        vertical-align: middle;\n",
              "    }\n",
              "\n",
              "    .dataframe tbody tr th {\n",
              "        vertical-align: top;\n",
              "    }\n",
              "\n",
              "    .dataframe thead th {\n",
              "        text-align: right;\n",
              "    }\n",
              "</style>\n",
              "<table border=\"1\" class=\"dataframe\">\n",
              "  <thead>\n",
              "    <tr style=\"text-align: right;\">\n",
              "      <th></th>\n",
              "      <th>VE</th>\n",
              "      <th>fisher p value</th>\n",
              "    </tr>\n",
              "    <tr>\n",
              "      <th>trialnum</th>\n",
              "      <th></th>\n",
              "      <th></th>\n",
              "    </tr>\n",
              "  </thead>\n",
              "  <tbody>\n",
              "    <tr>\n",
              "      <th>0</th>\n",
              "      <td>0.154450</td>\n",
              "      <td>0.020645</td>\n",
              "    </tr>\n",
              "    <tr>\n",
              "      <th>1</th>\n",
              "      <td>0.170799</td>\n",
              "      <td>0.012432</td>\n",
              "    </tr>\n",
              "    <tr>\n",
              "      <th>2</th>\n",
              "      <td>0.113497</td>\n",
              "      <td>0.127047</td>\n",
              "    </tr>\n",
              "    <tr>\n",
              "      <th>3</th>\n",
              "      <td>0.217507</td>\n",
              "      <td>0.000956</td>\n",
              "    </tr>\n",
              "    <tr>\n",
              "      <th>4</th>\n",
              "      <td>-0.073171</td>\n",
              "      <td>0.351284</td>\n",
              "    </tr>\n",
              "    <tr>\n",
              "      <th>...</th>\n",
              "      <td>...</td>\n",
              "      <td>...</td>\n",
              "    </tr>\n",
              "    <tr>\n",
              "      <th>195</th>\n",
              "      <td>0.121884</td>\n",
              "      <td>0.080938</td>\n",
              "    </tr>\n",
              "    <tr>\n",
              "      <th>196</th>\n",
              "      <td>0.097436</td>\n",
              "      <td>0.148931</td>\n",
              "    </tr>\n",
              "    <tr>\n",
              "      <th>197</th>\n",
              "      <td>0.165049</td>\n",
              "      <td>0.027886</td>\n",
              "    </tr>\n",
              "    <tr>\n",
              "      <th>198</th>\n",
              "      <td>0.066667</td>\n",
              "      <td>0.368540</td>\n",
              "    </tr>\n",
              "    <tr>\n",
              "      <th>199</th>\n",
              "      <td>0.193634</td>\n",
              "      <td>0.003521</td>\n",
              "    </tr>\n",
              "  </tbody>\n",
              "</table>\n",
              "<p>200 rows × 2 columns</p>\n",
              "</div>"
            ],
            "text/plain": [
              "                VE  fisher p value\n",
              "trialnum                          \n",
              "0         0.154450        0.020645\n",
              "1         0.170799        0.012432\n",
              "2         0.113497        0.127047\n",
              "3         0.217507        0.000956\n",
              "4        -0.073171        0.351284\n",
              "...            ...             ...\n",
              "195       0.121884        0.080938\n",
              "196       0.097436        0.148931\n",
              "197       0.165049        0.027886\n",
              "198       0.066667        0.368540\n",
              "199       0.193634        0.003521\n",
              "\n",
              "[200 rows x 2 columns]"
            ]
          },
          "metadata": {
            "tags": []
          },
          "execution_count": 79
        }
      ]
    },
    {
      "cell_type": "code",
      "metadata": {
        "colab": {
          "base_uri": "https://localhost:8080/"
        },
        "collapsed": true,
        "id": "verbal-idaho",
        "jupyter": {
          "outputs_hidden": true,
          "source_hidden": true
        },
        "outputId": "3aca920b-e88e-4e8b-fa4a-f7796469a7eb"
      },
      "source": [
        "print(\"Power calculation from VEcontact\")\n",
        "# Old way\n",
        "# vecontact_df[vecontact_df > 0].count() / vecontact_df.count()\n",
        "\n",
        "# New way\n",
        "power(vecontact_df, 0.3, 0.05)"
      ],
      "id": "verbal-idaho",
      "execution_count": 80,
      "outputs": [
        {
          "output_type": "stream",
          "text": [
            "Power calculation from VEcontact\n",
            "Calculating power\n"
          ],
          "name": "stdout"
        },
        {
          "output_type": "execute_result",
          "data": {
            "text/plain": [
              "0.09"
            ]
          },
          "metadata": {
            "tags": []
          },
          "execution_count": 80
        }
      ]
    },
    {
      "cell_type": "markdown",
      "metadata": {
        "id": "hearing-satisfaction"
      },
      "source": [
        "#### Looping over n per arm"
      ],
      "id": "hearing-satisfaction"
    },
    {
      "cell_type": "code",
      "metadata": {
        "collapsed": true,
        "id": "intense-piano",
        "jupyter": {
          "outputs_hidden": true,
          "source_hidden": true
        }
      },
      "source": [
        "# Model parameters\n",
        "sizes = [4,5,6,7,8] # the nhouseholds are divided evenly among the sizes\n",
        "\n",
        "hsar = 0.3 # the desired household sar when averaged over the sizes of the households\n",
        "\n",
        "es = 0.7 # Would we prefer another name for this?\n",
        "#et = 0.3\n",
        "hsarv = 0.1\n",
        "\n",
        "## \n",
        "\n",
        "duration = 90 # days\n",
        "importation_rate = 0.01 / duration # 3 percent cumulative risk over study period => to units of / day"
      ],
      "id": "intense-piano",
      "execution_count": 81,
      "outputs": []
    },
    {
      "cell_type": "code",
      "metadata": {
        "collapsed": true,
        "id": "egyptian-camera",
        "jupyter": {
          "outputs_hidden": true,
          "source_hidden": true
        },
        "colab": {
          "base_uri": "https://localhost:8080/",
          "height": 357
        },
        "outputId": "1874184a-52ec-4b87-c857-d4de02ed8eb8"
      },
      "source": [
        "n_axis = np.linspace(400, 2000, 5)\n",
        "\n",
        "vec_pow = []\n",
        "vet_pow = []\n",
        "ves_pow = []\n",
        "for n in n_axis:\n",
        "    study = VaccineStudy(\"one vaccinated\", n, sizes, hsar, es, (hsarv, 'hsarv'), duration, importation_rate, vaccinate_one)\n",
        "    trials = 50\n",
        "    vax_df, control_df = study.run_trials(trials)\n",
        "    threshold = 0.3\n",
        "    fisher_p  = 0.05\n",
        "\n",
        "    vecontact_power = power(study.vecontact(), threshold, fisher_p)\n",
        "    vetotal_power   = power(study.vetotal(), threshold, fisher_p)\n",
        "    ves_power       = power(study.ves(), threshold, fisher_p)\n",
        "\n",
        "    vec_pow.append(vecontact_power)\n",
        "    vet_pow.append(vetotal_power)\n",
        "    ves_pow.append(ves_power)\n",
        "\n",
        "vec_pow = pd.Series(vec_pow)\n",
        "vec_pow.name=\"VEcontact\"\n",
        "vet_pow = pd.Series(vet_pow)\n",
        "vet_pow.name=\"VEtotal\"\n",
        "ves_pow = pd.Series(ves_pow)\n",
        "ves_pow.name=\"VEs\"\n",
        "\n",
        "\n",
        "pow_df = pd.concat([vec_pow, vet_pow, ves_pow], axis=1)\n",
        "pow_df.index = n_axis"
      ],
      "id": "egyptian-camera",
      "execution_count": 82,
      "outputs": [
        {
          "output_type": "error",
          "ename": "TypeError",
          "evalue": "ignored",
          "traceback": [
            "\u001b[0;31m---------------------------------------------------------------------------\u001b[0m",
            "\u001b[0;31mTypeError\u001b[0m                                 Traceback (most recent call last)",
            "\u001b[0;32m<ipython-input-82-6d3d45231058>\u001b[0m in \u001b[0;36m<module>\u001b[0;34m()\u001b[0m\n\u001b[1;32m      5\u001b[0m \u001b[0mves_pow\u001b[0m \u001b[0;34m=\u001b[0m \u001b[0;34m[\u001b[0m\u001b[0;34m]\u001b[0m\u001b[0;34m\u001b[0m\u001b[0;34m\u001b[0m\u001b[0m\n\u001b[1;32m      6\u001b[0m \u001b[0;32mfor\u001b[0m \u001b[0mn\u001b[0m \u001b[0;32min\u001b[0m \u001b[0mn_axis\u001b[0m\u001b[0;34m:\u001b[0m\u001b[0;34m\u001b[0m\u001b[0;34m\u001b[0m\u001b[0m\n\u001b[0;32m----> 7\u001b[0;31m     \u001b[0mstudy\u001b[0m \u001b[0;34m=\u001b[0m \u001b[0mVaccineStudy\u001b[0m\u001b[0;34m(\u001b[0m\u001b[0;34m\"one vaccinated\"\u001b[0m\u001b[0;34m,\u001b[0m \u001b[0mn\u001b[0m\u001b[0;34m,\u001b[0m \u001b[0msizes\u001b[0m\u001b[0;34m,\u001b[0m \u001b[0mhsar\u001b[0m\u001b[0;34m,\u001b[0m \u001b[0mes\u001b[0m\u001b[0;34m,\u001b[0m \u001b[0mhsarv\u001b[0m\u001b[0;34m,\u001b[0m \u001b[0mduration\u001b[0m\u001b[0;34m,\u001b[0m \u001b[0mimportation_rate\u001b[0m\u001b[0;34m,\u001b[0m \u001b[0mvaccinate_one\u001b[0m\u001b[0;34m)\u001b[0m\u001b[0;34m\u001b[0m\u001b[0;34m\u001b[0m\u001b[0m\n\u001b[0m\u001b[1;32m      8\u001b[0m     \u001b[0mtrials\u001b[0m \u001b[0;34m=\u001b[0m \u001b[0;36m50\u001b[0m\u001b[0;34m\u001b[0m\u001b[0;34m\u001b[0m\u001b[0m\n\u001b[1;32m      9\u001b[0m     \u001b[0mvax_df\u001b[0m\u001b[0;34m,\u001b[0m \u001b[0mcontrol_df\u001b[0m \u001b[0;34m=\u001b[0m \u001b[0mstudy\u001b[0m\u001b[0;34m.\u001b[0m\u001b[0mrun_trials\u001b[0m\u001b[0;34m(\u001b[0m\u001b[0mtrials\u001b[0m\u001b[0;34m)\u001b[0m\u001b[0;34m\u001b[0m\u001b[0;34m\u001b[0m\u001b[0m\n",
            "\u001b[0;32m<ipython-input-60-71393b8496ac>\u001b[0m in \u001b[0;36m__init__\u001b[0;34m(self, name, n_per_arm, sizes, hsar, es, et, duration, importation_rate, vaccination_method)\u001b[0m\n\u001b[1;32m     94\u001b[0m         \u001b[0mself\u001b[0m\u001b[0;34m.\u001b[0m\u001b[0mes\u001b[0m \u001b[0;34m=\u001b[0m \u001b[0mes\u001b[0m\u001b[0;34m\u001b[0m\u001b[0;34m\u001b[0m\u001b[0m\n\u001b[1;32m     95\u001b[0m \u001b[0;34m\u001b[0m\u001b[0m\n\u001b[0;32m---> 96\u001b[0;31m         \u001b[0mself\u001b[0m\u001b[0;34m.\u001b[0m\u001b[0met_method\u001b[0m \u001b[0;34m=\u001b[0m \u001b[0met\u001b[0m\u001b[0;34m[\u001b[0m\u001b[0;36m1\u001b[0m\u001b[0;34m]\u001b[0m\u001b[0;34m\u001b[0m\u001b[0;34m\u001b[0m\u001b[0m\n\u001b[0m\u001b[1;32m     97\u001b[0m         \u001b[0;32mif\u001b[0m \u001b[0mself\u001b[0m\u001b[0;34m.\u001b[0m\u001b[0met_method\u001b[0m \u001b[0;34m==\u001b[0m \u001b[0;34m'hsarv'\u001b[0m\u001b[0;34m:\u001b[0m\u001b[0;34m\u001b[0m\u001b[0;34m\u001b[0m\u001b[0m\n\u001b[1;32m     98\u001b[0m             \u001b[0mself\u001b[0m\u001b[0;34m.\u001b[0m\u001b[0mhsarv\u001b[0m \u001b[0;34m=\u001b[0m \u001b[0met\u001b[0m\u001b[0;34m[\u001b[0m\u001b[0;36m0\u001b[0m\u001b[0;34m]\u001b[0m\u001b[0;34m\u001b[0m\u001b[0;34m\u001b[0m\u001b[0m\n",
            "\u001b[0;31mTypeError\u001b[0m: 'float' object is not subscriptable"
          ]
        }
      ]
    },
    {
      "cell_type": "code",
      "metadata": {
        "collapsed": true,
        "id": "taken-sound",
        "jupyter": {
          "outputs_hidden": true,
          "source_hidden": true
        }
      },
      "source": [
        "#pow_df.index = n_axis\n",
        "pow_df.plot()\n",
        "#pow_df"
      ],
      "id": "taken-sound",
      "execution_count": null,
      "outputs": []
    },
    {
      "cell_type": "markdown",
      "metadata": {
        "id": "brazilian-membership"
      },
      "source": [
        "### Vaccinating a fraction of each household"
      ],
      "id": "brazilian-membership"
    },
    {
      "cell_type": "code",
      "metadata": {
        "collapsed": true,
        "jupyter": {
          "outputs_hidden": true,
          "source_hidden": true
        },
        "colab": {
          "base_uri": "https://localhost:8080/"
        },
        "id": "W84FXu3JcweL",
        "outputId": "f35d45b2-3112-4938-a558-d16c7a64044a"
      },
      "source": [
        "print(VaccineStudy.__init__.__doc__)"
      ],
      "id": "W84FXu3JcweL",
      "execution_count": 19,
      "outputs": [
        {
          "output_type": "stream",
          "text": [
            "\n",
            "        Creates a VaccineStudy, which represents a two-armed study with a group of households receiving the vaccine and a group receiving the placebo.\n",
            "\n",
            "        Parameters\n",
            "        ----------\n",
            "        name : str\n",
            "            a name for the study\n",
            "        n_per_arm : int\n",
            "            the total number of households per arm of the study\n",
            "        sizes : list of ints\n",
            "            the household sizes among which to divide evenly the total number of households in the study\n",
            "        hsar : float\n",
            "            the desired average (over the household sizes specified) household secondary attack rate\n",
            "        es : float\n",
            "            the true parameter reduction in a vaccinated individual's susceptibility\n",
            "        hsarv : float\n",
            "            the hsar calculated relative to vaccinated individuals\n",
            "        duration : int\n",
            "            the duration of the experiment in days\n",
            "        importation_rate : float\n",
            "            the baseline (no vax) probability per individual per day of being infected from outside the household\n",
            "        vaccination_method : func\n",
            "            a function that takes in a shape of the form (count, size, 1) and returns a binary vector with 1s representing individuals who received the vaccine\n",
            "\n",
            "        Returns\n",
            "        ----------\n",
            "        VaccineStudy object\n",
            "        \n"
          ],
          "name": "stdout"
        }
      ]
    },
    {
      "cell_type": "code",
      "metadata": {
        "collapsed": true,
        "jupyter": {
          "outputs_hidden": true,
          "source_hidden": true
        },
        "id": "ZUxVMRyQcweM"
      },
      "source": [
        "# Model parameters\n",
        "\n",
        "n_per_arm = 650\n",
        "sizes = [4,5,6,7,8] # the nhouseholds are divided evenly among the sizes\n",
        "\n",
        "hsar = 0.3 # the desired household sar when averaged over the sizes of the households\n",
        "hsarv = 0.1\n",
        "\n",
        "es = 0.7 # Would we prefer another name for this?\n",
        "\n",
        "vaccinate_half = functools.partial(vaccinate_fraction,fraction_vaccinated=0.5)\n",
        "\n",
        "duration = 90 # days\n",
        "importation_probability_over_study = 0.03\n",
        "importation_rate = 1-(1-importation_probability_over_study)**(1/duration) # converting risk over study period to daily risk"
      ],
      "id": "ZUxVMRyQcweM",
      "execution_count": 20,
      "outputs": []
    },
    {
      "cell_type": "code",
      "metadata": {
        "colab": {
          "base_uri": "https://localhost:8080/"
        },
        "collapsed": true,
        "jupyter": {
          "outputs_hidden": true,
          "source_hidden": true
        },
        "id": "gTADAm4UcweN",
        "outputId": "489caf43-9f9a-4888-a1c8-c021dcf5112a"
      },
      "source": [
        "# quick check that we did the risk correctly\n",
        "print(\"Got probability over period =\",(1-importation_rate)**90, \"Expected =\", 1-importation_probability_over_study)"
      ],
      "id": "gTADAm4UcweN",
      "execution_count": 21,
      "outputs": [
        {
          "output_type": "stream",
          "text": [
            "Got probability over period = 0.9700000000000039 Expected = 0.97\n"
          ],
          "name": "stdout"
        }
      ]
    },
    {
      "cell_type": "code",
      "metadata": {
        "collapsed": true,
        "jupyter": {
          "outputs_hidden": true,
          "source_hidden": true
        },
        "id": "m13UnV54cweN"
      },
      "source": [
        "half_vax_study = VaccineStudy(\"half vaccinated\", n_per_arm, sizes, hsar, es, (hsarv, 'hsarv'), duration, importation_rate, vaccinate_half)"
      ],
      "id": "m13UnV54cweN",
      "execution_count": 22,
      "outputs": []
    },
    {
      "cell_type": "code",
      "metadata": {
        "colab": {
          "base_uri": "https://localhost:8080/"
        },
        "id": "uMNpkOHPcweO",
        "outputId": "1caf6905-48c4-4f00-d0a3-cb957e059648"
      },
      "source": [
        "print(\"Now we've created a VaccineStudy object. Let's learn more about it.\")\n",
        "print(VaccineStudy.__doc__)"
      ],
      "id": "uMNpkOHPcweO",
      "execution_count": 23,
      "outputs": [
        {
          "output_type": "stream",
          "text": [
            "Now we've created a VaccineStudy object. Let's learn more about it.\n",
            "\n",
            "    A class that hosts and runs a single vaccine study experiment.\n",
            "\n",
            "    ...\n",
            "\n",
            "    Attributes\n",
            "    ----------\n",
            "    All the attributes passed at object creation. Run `print(VaccineStudy.__init__.__doc__)` for more information. Additionally:\n",
            "\n",
            "    household_beta : float\n",
            "        the real probability per contact per day of transmission between individuals in household\n",
            "    household_sizes : dict\n",
            "        a dictionary containing the sizes of households in each arm of the study, and the number of households of that size\n",
            "    vax_sus : float\n",
            "        the real parameter that defines the susceptibility of vaccinated individuals (0.0 = 0% chance to be infected, 0.1=10% chance relative to unvaccinated)\n",
            "    vax_inf : float\n",
            "        the real parameter that defines the infectivity of vaccinated individuals (0.0 = 0% chance to cause infection, 0.1=10% chance relative to unvaccinated)\n",
            "    vax_m : Model\n",
            "        a Model object that packages the parameters necessary to simulate the vaccinated arm of the study\n",
            "    control_m : Model\n",
            "        a Model object that packages the parameters necessary to simulate the control arm of the study\n",
            "\n",
            "    Additionally, after running VaccineStudy.run_trials(# trials), the following useful attributes are available:\n",
            "\n",
            "    vax_df : DataFrame\n",
            "        the tabular data that describes the results of a time-forward simulation in the vaccinated arm\n",
            "    control_df : DataFrame\n",
            "        the tabular data that describes the results of a time-forward simulation in the control arm\n",
            "    \n",
            "    Methods\n",
            "    -------\n",
            "    run_trials(trials : int):\n",
            "        Conducts the study some number of times and stores the results in tables.\n",
            "\n",
            "        returns : DataFrame, DataFrame\n",
            "            the results in two pandas DataFrame, vax_df and control_df\n",
            "\n",
            "    ves():\n",
            "        Measures the vaccine effect on susceptibility. By calculating 1 - (fraction_vaccinated_infected / fraction_placebo_infected)\n",
            "\n",
            "        returns : Series\n",
            "            a labeled series of effects indexed by the trials (number of times a full study was simulated)\n",
            "\n",
            "    vetotal():\n",
            "        Measures the aggregate vaccine effect on infections. By calculating 1 - (fraction_infected_in_vaccinated_pop / fractionn_infected_in_placebo_pop)\n",
            "\n",
            "        returns : Series\n",
            "            a labeled series of effects indexed by the trials (number of times a full study was simulated)\n",
            "\n",
            "    vecontact():\n",
            "        Measures the vaccine effect on susceptibility. By calculating 1 - (fraction_vaccinated_infected / fraction_placebo_infected)\n",
            "\n",
            "        returns : Series\n",
            "            a labeled series of effects indexed by the trials (number of times a full study was simulated)\n",
            "\n",
            "    \n"
          ],
          "name": "stdout"
        }
      ]
    },
    {
      "cell_type": "code",
      "metadata": {
        "colab": {
          "base_uri": "https://localhost:8080/",
          "height": 1000
        },
        "collapsed": true,
        "jupyter": {
          "outputs_hidden": true,
          "source_hidden": true
        },
        "id": "no-JtPglcweO",
        "outputId": "b47a7129-6c67-48dc-da48-1c2c0691aebb"
      },
      "source": [
        "# Running the study some number of times\n",
        "trials = 200\n",
        "vax_df, control_df = half_vax_study.run_trials(trials)\n",
        "make_bar_chart(pd.concat([vax_df, control_df]))"
      ],
      "id": "no-JtPglcweO",
      "execution_count": 24,
      "outputs": [
        {
          "output_type": "stream",
          "text": [
            "Running study ...\n",
            " Vaccine study named half vaccinateed with:\n",
            "\tn_per_arm        = 650\n",
            "\thousehold sizes  = {4: 130, 5: 130, 6: 130, 7: 130, 8: 130}\n",
            "\tes, hsarv        = 0.7, 0.1\n",
            "\tvax_sus, vax_inf   = 0.30000000000000004, 0.2833751573750291\n",
            "\tduration         = 90\n",
            "\timportation rate = 0.00033837837583827746\n",
            "\thousehold beta   = 0.054039348129324496\n",
            "Warning, attempted to vaccinate fraction=0.5 of household with size=5. Vaccinated 2.0\n",
            "Warning, attempted to vaccinate fraction=0.5 of household with size=7. Vaccinated 4.0\n",
            "Warning, attempted to vaccinate fraction=0.5 of household with size=5. Vaccinated 2.0\n",
            "Warning, attempted to vaccinate fraction=0.5 of household with size=7. Vaccinated 4.0\n"
          ],
          "name": "stdout"
        },
        {
          "output_type": "display_data",
          "data": {
            "image/png": "[encoded data removed]",
            "text/plain": [
              "<Figure size 576x576 with 1 Axes>"
            ]
          },
          "metadata": {
            "tags": [],
            "needs_background": "light"
          }
        },
        {
          "output_type": "display_data",
          "data": {
            "image/png": "[encoded data removed]",
            "text/plain": [
              "<Figure size 576x576 with 1 Axes>"
            ]
          },
          "metadata": {
            "tags": [],
            "needs_background": "light"
          }
        },
        {
          "output_type": "display_data",
          "data": {
            "image/png": "[encoded data removed]",
            "text/plain": [
              "<Figure size 576x576 with 1 Axes>"
            ]
          },
          "metadata": {
            "tags": [],
            "needs_background": "light"
          }
        },
        {
          "output_type": "display_data",
          "data": {
            "image/png": "[encoded data removed]",
            "text/plain": [
              "<Figure size 576x576 with 1 Axes>"
            ]
          },
          "metadata": {
            "tags": [],
            "needs_background": "light"
          }
        },
        {
          "output_type": "display_data",
          "data": {
            "image/png": "[encoded data removed]",
            "text/plain": [
              "<Figure size 576x576 with 1 Axes>"
            ]
          },
          "metadata": {
            "tags": [],
            "needs_background": "light"
          }
        }
      ]
    },
    {
      "cell_type": "markdown",
      "metadata": {
        "id": "YTOKr1opcweO"
      },
      "source": [
        "#### Helpful printouts"
      ],
      "id": "YTOKr1opcweO"
    },
    {
      "cell_type": "code",
      "metadata": {
        "colab": {
          "base_uri": "https://localhost:8080/"
        },
        "collapsed": true,
        "jupyter": {
          "outputs_hidden": true,
          "source_hidden": true
        },
        "id": "mSb54yW7cweO",
        "outputId": "c048605d-e80b-41c7-d4a9-d2b487fa4704"
      },
      "source": [
        "# Here I list the columns of the dataframes so you can know what kind of information is available in the tables\n",
        "print(\"Vaccination df columns\", vax_df.columns)\n",
        "print(\"Control df columns\", control_df.columns)"
      ],
      "id": "mSb54yW7cweO",
      "execution_count": 25,
      "outputs": [
        {
          "output_type": "stream",
          "text": [
            "Vaccination df columns Index(['size', 'model', 'infections', 'num vaccinated', 'vaccinated infected',\n",
            "       'unvaccinated infected', 'num unvaccinated', 'trialnum'],\n",
            "      dtype='object')\n",
            "Control df columns Index(['size', 'model', 'infections', 'num vaccinated', 'vaccinated infected',\n",
            "       'unvaccinated infected', 'num unvaccinated', 'trialnum'],\n",
            "      dtype='object')\n"
          ],
          "name": "stdout"
        }
      ]
    },
    {
      "cell_type": "code",
      "metadata": {
        "colab": {
          "base_uri": "https://localhost:8080/"
        },
        "collapsed": true,
        "jupyter": {
          "outputs_hidden": true,
          "source_hidden": true
        },
        "id": "N3avQ0MzcweP",
        "outputId": "80f84a6c-e508-43ef-f702-a4ba264313df"
      },
      "source": [
        "# mean (over trials) number of placebo recepients who get infected\n",
        "mean = control_df[control_df[\"vaccinated infected\"] > 0].groupby(\"trialnum\")[\"vaccinated infected\"].count().mean()\n",
        "total = control_df.groupby(\"trialnum\")[\"num vaccinated\"].count().mean()\n",
        "print(\"Percent of placebo reccepients who were infected\")\n",
        "print(100 * mean / total)\n",
        "\n",
        "# mean (over trials) number of vaccinated recepients who get infected\n",
        "mean = vax_df[vax_df[\"vaccinated infected\"] > 0].groupby(\"trialnum\")[\"vaccinated infected\"].count().mean() \n",
        "total = vax_df.groupby(\"trialnum\")[\"num vaccinated\"].count().mean()\n",
        "print(\"Percent of vacccine reccepients who were infected\")\n",
        "100 * mean / total"
      ],
      "id": "N3avQ0MzcweP",
      "execution_count": 26,
      "outputs": [
        {
          "output_type": "stream",
          "text": [
            "Percent of placebo reccepients who were infected\n",
            "13.825384615384616\n",
            "Percent of vacccine reccepients who were infected\n"
          ],
          "name": "stdout"
        },
        {
          "output_type": "execute_result",
          "data": {
            "text/plain": [
              "5.792307692307692"
            ]
          },
          "metadata": {
            "tags": []
          },
          "execution_count": 26
        }
      ]
    },
    {
      "cell_type": "code",
      "metadata": {
        "colab": {
          "base_uri": "https://localhost:8080/"
        },
        "collapsed": true,
        "jupyter": {
          "outputs_hidden": true,
          "source_hidden": true
        },
        "id": "G8Va6D6_cweP",
        "outputId": "f55b8386-7ed3-4061-94d1-aa02d0678bd9"
      },
      "source": [
        "print(\"Mean percent of individuals infected in vaccinated households by household size\")\n",
        "infections = vax_df.groupby(\"size\")[\"infections\"].mean()\n",
        "size = vax_df.groupby(\"size\")[\"size\"].mean()\n",
        "print(infections / size * 100)\n",
        "\n",
        "print(\"Mean percent of individuals infected in unvaccinated households by household size\")\n",
        "infections = control_df.groupby(\"size\")[\"infections\"].mean()\n",
        "size = control_df.groupby(\"size\")[\"size\"].mean()\n",
        "print(infections / size * 100)"
      ],
      "id": "G8Va6D6_cweP",
      "execution_count": 27,
      "outputs": [
        {
          "output_type": "stream",
          "text": [
            "Mean percent of individuals infected in vaccinated households by household size\n",
            "size\n",
            "4    2.803846\n",
            "5    4.036154\n",
            "6    3.917308\n",
            "7    3.726374\n",
            "8    5.290385\n",
            "dtype: float64\n",
            "Mean percent of individuals infected in unvaccinated households by household size\n",
            "size\n",
            "4     6.328846\n",
            "5     7.783846\n",
            "6    10.098718\n",
            "7    12.290110\n",
            "8    14.565385\n",
            "dtype: float64\n"
          ],
          "name": "stdout"
        }
      ]
    },
    {
      "cell_type": "code",
      "metadata": {
        "colab": {
          "base_uri": "https://localhost:8080/"
        },
        "collapsed": true,
        "jupyter": {
          "outputs_hidden": true,
          "source_hidden": true
        },
        "id": "lJOHpqMEcweQ",
        "outputId": "006097e8-4e0d-4a02-efef-8c1d795c61e7"
      },
      "source": [
        "print(\"Percent of vaccinated households of size 4 experienced at least one importation\")\n",
        "size_four = vax_df[vax_df[\"size\"] == 4]\n",
        "had_import = size_four[size_four[\"infections\"] > 0].count()\n",
        "\n",
        "print((had_import / size_four.count())[\"infections\"] * 100)\n",
        "\n",
        "print(\"Percent of control households of size 4 experienced at least one importation\")\n",
        "size_four = control_df[control_df[\"size\"] == 4]\n",
        "had_import = size_four[size_four[\"infections\"] > 0].count()\n",
        "\n",
        "print((had_import / size_four.count())[\"infections\"] * 100)"
      ],
      "id": "lJOHpqMEcweQ",
      "execution_count": 28,
      "outputs": [
        {
          "output_type": "stream",
          "text": [
            "Percent of vaccinated households of size 4 experienced at least one importation?\n",
            "7.484615384615384\n",
            "Percent of control households of size 4 experienced at least one importation?\n",
            "11.515384615384615\n"
          ],
          "name": "stdout"
        }
      ]
    },
    {
      "cell_type": "markdown",
      "metadata": {
        "id": "7gSn7o0wcweQ"
      },
      "source": [
        "#### VE calculation"
      ],
      "id": "7gSn7o0wcweQ"
    },
    {
      "cell_type": "code",
      "metadata": {
        "colab": {
          "base_uri": "https://localhost:8080/",
          "height": 628
        },
        "collapsed": true,
        "jupyter": {
          "outputs_hidden": true,
          "source_hidden": true
        },
        "id": "2U1IvtEqcweR",
        "outputId": "48361055-45c2-404c-dac2-8de7c9ae5968"
      },
      "source": [
        "print(\"VEtotal\")\n",
        "\n",
        "vetotal_df = half_vax_study.vetotal()\n",
        "vetotal_df"
      ],
      "id": "2U1IvtEqcweR",
      "execution_count": 29,
      "outputs": [
        {
          "output_type": "stream",
          "text": [
            "VEtotal\n",
            "Calculating VEtotal ...\n",
            " Vaccine study named half vaccinateed with:\n",
            "\tn_per_arm        = 650\n",
            "\thousehold sizes  = {4: 130, 5: 130, 6: 130, 7: 130, 8: 130}\n",
            "\tes, hsarv        = 0.7, 0.1\n",
            "\tvax_sus, vax_inf   = 0.30000000000000004, 0.2833751573750291\n",
            "\tduration         = 90\n",
            "\timportation rate = 0.00033837837583827746\n",
            "\thousehold beta   = 0.054039348129324496\n"
          ],
          "name": "stdout"
        },
        {
          "output_type": "execute_result",
          "data": {
            "text/html": [
              "<div>\n",
              "<style scoped>\n",
              "    .dataframe tbody tr th:only-of-type {\n",
              "        vertical-align: middle;\n",
              "    }\n",
              "\n",
              "    .dataframe tbody tr th {\n",
              "        vertical-align: top;\n",
              "    }\n",
              "\n",
              "    .dataframe thead th {\n",
              "        text-align: right;\n",
              "    }\n",
              "</style>\n",
              "<table border=\"1\" class=\"dataframe\">\n",
              "  <thead>\n",
              "    <tr style=\"text-align: right;\">\n",
              "      <th></th>\n",
              "      <th>VE</th>\n",
              "      <th>fisher p value</th>\n",
              "    </tr>\n",
              "    <tr>\n",
              "      <th>trialnum</th>\n",
              "      <th></th>\n",
              "      <th></th>\n",
              "    </tr>\n",
              "  </thead>\n",
              "  <tbody>\n",
              "    <tr>\n",
              "      <th>0</th>\n",
              "      <td>0.617849</td>\n",
              "      <td>5.088702e-31</td>\n",
              "    </tr>\n",
              "    <tr>\n",
              "      <th>1</th>\n",
              "      <td>0.674058</td>\n",
              "      <td>1.216864e-39</td>\n",
              "    </tr>\n",
              "    <tr>\n",
              "      <th>2</th>\n",
              "      <td>0.571802</td>\n",
              "      <td>1.227888e-22</td>\n",
              "    </tr>\n",
              "    <tr>\n",
              "      <th>3</th>\n",
              "      <td>0.536817</td>\n",
              "      <td>1.336862e-21</td>\n",
              "    </tr>\n",
              "    <tr>\n",
              "      <th>4</th>\n",
              "      <td>0.640827</td>\n",
              "      <td>6.684703e-30</td>\n",
              "    </tr>\n",
              "    <tr>\n",
              "      <th>...</th>\n",
              "      <td>...</td>\n",
              "      <td>...</td>\n",
              "    </tr>\n",
              "    <tr>\n",
              "      <th>195</th>\n",
              "      <td>0.680272</td>\n",
              "      <td>1.243661e-39</td>\n",
              "    </tr>\n",
              "    <tr>\n",
              "      <th>196</th>\n",
              "      <td>0.622426</td>\n",
              "      <td>1.429053e-31</td>\n",
              "    </tr>\n",
              "    <tr>\n",
              "      <th>197</th>\n",
              "      <td>0.561881</td>\n",
              "      <td>5.882245e-23</td>\n",
              "    </tr>\n",
              "    <tr>\n",
              "      <th>198</th>\n",
              "      <td>0.589286</td>\n",
              "      <td>1.822771e-28</td>\n",
              "    </tr>\n",
              "    <tr>\n",
              "      <th>199</th>\n",
              "      <td>0.548628</td>\n",
              "      <td>1.370127e-21</td>\n",
              "    </tr>\n",
              "  </tbody>\n",
              "</table>\n",
              "<p>200 rows × 2 columns</p>\n",
              "</div>"
            ],
            "text/plain": [
              "                VE  fisher p value\n",
              "trialnum                          \n",
              "0         0.617849    5.088702e-31\n",
              "1         0.674058    1.216864e-39\n",
              "2         0.571802    1.227888e-22\n",
              "3         0.536817    1.336862e-21\n",
              "4         0.640827    6.684703e-30\n",
              "...            ...             ...\n",
              "195       0.680272    1.243661e-39\n",
              "196       0.622426    1.429053e-31\n",
              "197       0.561881    5.882245e-23\n",
              "198       0.589286    1.822771e-28\n",
              "199       0.548628    1.370127e-21\n",
              "\n",
              "[200 rows x 2 columns]"
            ]
          },
          "metadata": {
            "tags": []
          },
          "execution_count": 29
        }
      ]
    },
    {
      "cell_type": "code",
      "metadata": {
        "colab": {
          "base_uri": "https://localhost:8080/"
        },
        "collapsed": true,
        "jupyter": {
          "outputs_hidden": true,
          "source_hidden": true
        },
        "id": "68IoCQvncweS",
        "outputId": "c96d335d-6e55-41a8-e727-24f9081c165f"
      },
      "source": [
        "print(\"Power calculation from VEtotal\")\n",
        "power(vetotal_df, 0.3, 0.05)"
      ],
      "id": "68IoCQvncweS",
      "execution_count": 30,
      "outputs": [
        {
          "output_type": "stream",
          "text": [
            "Power calculation from VEtotal\n",
            "Calculating power\n"
          ],
          "name": "stdout"
        },
        {
          "output_type": "execute_result",
          "data": {
            "text/plain": [
              "1.0"
            ]
          },
          "metadata": {
            "tags": []
          },
          "execution_count": 30
        }
      ]
    },
    {
      "cell_type": "code",
      "metadata": {
        "colab": {
          "base_uri": "https://localhost:8080/",
          "height": 628
        },
        "collapsed": true,
        "jupyter": {
          "outputs_hidden": true,
          "source_hidden": true
        },
        "id": "9Y_2lcaBcweS",
        "outputId": "7ead7b82-bebc-43a6-b12a-8e063c13529e"
      },
      "source": [
        "print(\"VEs\")\n",
        "ves_df = half_vax_study.ves()\n",
        "ves_df"
      ],
      "id": "9Y_2lcaBcweS",
      "execution_count": 31,
      "outputs": [
        {
          "output_type": "stream",
          "text": [
            "VEs\n",
            "Calculating VEs ...\n",
            " Vaccine study named half vaccinateed with:\n",
            "\tn_per_arm        = 650\n",
            "\thousehold sizes  = {4: 130, 5: 130, 6: 130, 7: 130, 8: 130}\n",
            "\tes, hsarv        = 0.7, 0.1\n",
            "\tvax_sus, vax_inf   = 0.30000000000000004, 0.2833751573750291\n",
            "\tduration         = 90\n",
            "\timportation rate = 0.00033837837583827746\n",
            "\thousehold beta   = 0.054039348129324496\n"
          ],
          "name": "stdout"
        },
        {
          "output_type": "execute_result",
          "data": {
            "text/html": [
              "<div>\n",
              "<style scoped>\n",
              "    .dataframe tbody tr th:only-of-type {\n",
              "        vertical-align: middle;\n",
              "    }\n",
              "\n",
              "    .dataframe tbody tr th {\n",
              "        vertical-align: top;\n",
              "    }\n",
              "\n",
              "    .dataframe thead th {\n",
              "        text-align: right;\n",
              "    }\n",
              "</style>\n",
              "<table border=\"1\" class=\"dataframe\">\n",
              "  <thead>\n",
              "    <tr style=\"text-align: right;\">\n",
              "      <th></th>\n",
              "      <th>VE</th>\n",
              "      <th>fisher p value</th>\n",
              "    </tr>\n",
              "    <tr>\n",
              "      <th>trialnum</th>\n",
              "      <th></th>\n",
              "      <th></th>\n",
              "    </tr>\n",
              "  </thead>\n",
              "  <tbody>\n",
              "    <tr>\n",
              "      <th>0</th>\n",
              "      <td>0.747706</td>\n",
              "      <td>1.011442e-25</td>\n",
              "    </tr>\n",
              "    <tr>\n",
              "      <th>1</th>\n",
              "      <td>0.820175</td>\n",
              "      <td>1.055449e-34</td>\n",
              "    </tr>\n",
              "    <tr>\n",
              "      <th>2</th>\n",
              "      <td>0.760204</td>\n",
              "      <td>3.940705e-24</td>\n",
              "    </tr>\n",
              "    <tr>\n",
              "      <th>3</th>\n",
              "      <td>0.735849</td>\n",
              "      <td>5.491239e-24</td>\n",
              "    </tr>\n",
              "    <tr>\n",
              "      <th>4</th>\n",
              "      <td>0.783251</td>\n",
              "      <td>4.328149e-27</td>\n",
              "    </tr>\n",
              "    <tr>\n",
              "      <th>...</th>\n",
              "      <td>...</td>\n",
              "      <td>...</td>\n",
              "    </tr>\n",
              "    <tr>\n",
              "      <th>195</th>\n",
              "      <td>0.793722</td>\n",
              "      <td>6.433988e-31</td>\n",
              "    </tr>\n",
              "    <tr>\n",
              "      <th>196</th>\n",
              "      <td>0.744395</td>\n",
              "      <td>5.112308e-26</td>\n",
              "    </tr>\n",
              "    <tr>\n",
              "      <th>197</th>\n",
              "      <td>0.712919</td>\n",
              "      <td>8.181519e-22</td>\n",
              "    </tr>\n",
              "    <tr>\n",
              "      <th>198</th>\n",
              "      <td>0.742358</td>\n",
              "      <td>1.531247e-26</td>\n",
              "    </tr>\n",
              "    <tr>\n",
              "      <th>199</th>\n",
              "      <td>0.689655</td>\n",
              "      <td>1.635329e-19</td>\n",
              "    </tr>\n",
              "  </tbody>\n",
              "</table>\n",
              "<p>200 rows × 2 columns</p>\n",
              "</div>"
            ],
            "text/plain": [
              "                VE  fisher p value\n",
              "trialnum                          \n",
              "0         0.747706    1.011442e-25\n",
              "1         0.820175    1.055449e-34\n",
              "2         0.760204    3.940705e-24\n",
              "3         0.735849    5.491239e-24\n",
              "4         0.783251    4.328149e-27\n",
              "...            ...             ...\n",
              "195       0.793722    6.433988e-31\n",
              "196       0.744395    5.112308e-26\n",
              "197       0.712919    8.181519e-22\n",
              "198       0.742358    1.531247e-26\n",
              "199       0.689655    1.635329e-19\n",
              "\n",
              "[200 rows x 2 columns]"
            ]
          },
          "metadata": {
            "tags": []
          },
          "execution_count": 31
        }
      ]
    },
    {
      "cell_type": "code",
      "metadata": {
        "colab": {
          "base_uri": "https://localhost:8080/",
          "height": 317
        },
        "collapsed": true,
        "jupyter": {
          "outputs_hidden": true,
          "source_hidden": true
        },
        "id": "B6hwjrQicweT",
        "outputId": "2c52c797-1c26-4a49-f5fc-bc6630ae9bfe"
      },
      "source": [
        "ves_df[\"VE\"].hist(cumulative=True)\n",
        "ves_df.mean()"
      ],
      "id": "B6hwjrQicweT",
      "execution_count": 32,
      "outputs": [
        {
          "output_type": "execute_result",
          "data": {
            "text/plain": [
              "VE                7.615635e-01\n",
              "fisher p value    9.466719e-14\n",
              "dtype: float64"
            ]
          },
          "metadata": {
            "tags": []
          },
          "execution_count": 32
        },
        {
          "output_type": "display_data",
          "data": {
            "image/png": "[encoded data removed]",
            "text/plain": [
              "<Figure size 432x288 with 1 Axes>"
            ]
          },
          "metadata": {
            "tags": [],
            "needs_background": "light"
          }
        }
      ]
    },
    {
      "cell_type": "code",
      "metadata": {
        "colab": {
          "base_uri": "https://localhost:8080/"
        },
        "collapsed": true,
        "jupyter": {
          "outputs_hidden": true,
          "source_hidden": true
        },
        "id": "KC93ISgecweU",
        "outputId": "0a4f7c8b-de15-4790-eaaf-665a77bf1cbc"
      },
      "source": [
        "print(\"Power calculation from VEs\")\n",
        "power(ves_df, 0.3, 0.05) # df, threshold/lower_bound"
      ],
      "id": "KC93ISgecweU",
      "execution_count": 33,
      "outputs": [
        {
          "output_type": "stream",
          "text": [
            "Power calculation from VEs\n",
            "Calculating power\n"
          ],
          "name": "stdout"
        },
        {
          "output_type": "execute_result",
          "data": {
            "text/plain": [
              "1.0"
            ]
          },
          "metadata": {
            "tags": []
          },
          "execution_count": 33
        }
      ]
    },
    {
      "cell_type": "code",
      "metadata": {
        "colab": {
          "base_uri": "https://localhost:8080/",
          "height": 628
        },
        "collapsed": true,
        "jupyter": {
          "outputs_hidden": true,
          "source_hidden": true
        },
        "id": "8w6FIgoXcweV",
        "outputId": "6dde66ea-a87d-4265-c77b-e872f6beb02b"
      },
      "source": [
        "print(\"VEcontact\")\n",
        "vecontact_df = half_vax_study.vecontact()\n",
        "vecontact_df"
      ],
      "id": "8w6FIgoXcweV",
      "execution_count": 34,
      "outputs": [
        {
          "output_type": "stream",
          "text": [
            "VEcontact\n",
            "Calculating VEcontact ...\n",
            " Vaccine study named half vaccinateed with:\n",
            "\tn_per_arm        = 650\n",
            "\thousehold sizes  = {4: 130, 5: 130, 6: 130, 7: 130, 8: 130}\n",
            "\tes, hsarv        = 0.7, 0.1\n",
            "\tvax_sus, vax_inf   = 0.30000000000000004, 0.2833751573750291\n",
            "\tduration         = 90\n",
            "\timportation rate = 0.00033837837583827746\n",
            "\thousehold beta   = 0.054039348129324496\n"
          ],
          "name": "stdout"
        },
        {
          "output_type": "execute_result",
          "data": {
            "text/html": [
              "<div>\n",
              "<style scoped>\n",
              "    .dataframe tbody tr th:only-of-type {\n",
              "        vertical-align: middle;\n",
              "    }\n",
              "\n",
              "    .dataframe tbody tr th {\n",
              "        vertical-align: top;\n",
              "    }\n",
              "\n",
              "    .dataframe thead th {\n",
              "        text-align: right;\n",
              "    }\n",
              "</style>\n",
              "<table border=\"1\" class=\"dataframe\">\n",
              "  <thead>\n",
              "    <tr style=\"text-align: right;\">\n",
              "      <th></th>\n",
              "      <th>VE</th>\n",
              "      <th>fisher p value</th>\n",
              "    </tr>\n",
              "    <tr>\n",
              "      <th>trialnum</th>\n",
              "      <th></th>\n",
              "      <th></th>\n",
              "    </tr>\n",
              "  </thead>\n",
              "  <tbody>\n",
              "    <tr>\n",
              "      <th>0</th>\n",
              "      <td>0.488584</td>\n",
              "      <td>8.320839e-10</td>\n",
              "    </tr>\n",
              "    <tr>\n",
              "      <th>1</th>\n",
              "      <td>0.524664</td>\n",
              "      <td>1.494636e-11</td>\n",
              "    </tr>\n",
              "    <tr>\n",
              "      <th>2</th>\n",
              "      <td>0.374332</td>\n",
              "      <td>3.519341e-05</td>\n",
              "    </tr>\n",
              "    <tr>\n",
              "      <th>3</th>\n",
              "      <td>0.334928</td>\n",
              "      <td>1.016132e-04</td>\n",
              "    </tr>\n",
              "    <tr>\n",
              "      <th>4</th>\n",
              "      <td>0.483696</td>\n",
              "      <td>3.590971e-08</td>\n",
              "    </tr>\n",
              "    <tr>\n",
              "      <th>...</th>\n",
              "      <td>...</td>\n",
              "      <td>...</td>\n",
              "    </tr>\n",
              "    <tr>\n",
              "      <th>195</th>\n",
              "      <td>0.564220</td>\n",
              "      <td>3.400477e-13</td>\n",
              "    </tr>\n",
              "    <tr>\n",
              "      <th>196</th>\n",
              "      <td>0.495327</td>\n",
              "      <td>7.302421e-10</td>\n",
              "    </tr>\n",
              "    <tr>\n",
              "      <th>197</th>\n",
              "      <td>0.400000</td>\n",
              "      <td>4.982596e-06</td>\n",
              "    </tr>\n",
              "    <tr>\n",
              "      <th>198</th>\n",
              "      <td>0.429224</td>\n",
              "      <td>1.291377e-07</td>\n",
              "    </tr>\n",
              "    <tr>\n",
              "      <th>199</th>\n",
              "      <td>0.404040</td>\n",
              "      <td>3.200046e-06</td>\n",
              "    </tr>\n",
              "  </tbody>\n",
              "</table>\n",
              "<p>200 rows × 2 columns</p>\n",
              "</div>"
            ],
            "text/plain": [
              "                VE  fisher p value\n",
              "trialnum                          \n",
              "0         0.488584    8.320839e-10\n",
              "1         0.524664    1.494636e-11\n",
              "2         0.374332    3.519341e-05\n",
              "3         0.334928    1.016132e-04\n",
              "4         0.483696    3.590971e-08\n",
              "...            ...             ...\n",
              "195       0.564220    3.400477e-13\n",
              "196       0.495327    7.302421e-10\n",
              "197       0.400000    4.982596e-06\n",
              "198       0.429224    1.291377e-07\n",
              "199       0.404040    3.200046e-06\n",
              "\n",
              "[200 rows x 2 columns]"
            ]
          },
          "metadata": {
            "tags": []
          },
          "execution_count": 34
        }
      ]
    },
    {
      "cell_type": "code",
      "metadata": {
        "colab": {
          "base_uri": "https://localhost:8080/"
        },
        "collapsed": true,
        "jupyter": {
          "outputs_hidden": true,
          "source_hidden": true
        },
        "id": "1xLd8hmZcweW",
        "outputId": "178b9877-01c3-4102-d96b-5d5a4a8bc1b5"
      },
      "source": [
        "print(\"Power calculation from VEcontact\")\n",
        "# New way\n",
        "power(vecontact_df, 0.3, 0.05)"
      ],
      "id": "1xLd8hmZcweW",
      "execution_count": 35,
      "outputs": [
        {
          "output_type": "stream",
          "text": [
            "Power calculation from VEcontact\n",
            "Calculating power\n"
          ],
          "name": "stdout"
        },
        {
          "output_type": "execute_result",
          "data": {
            "text/plain": [
              "0.95"
            ]
          },
          "metadata": {
            "tags": []
          },
          "execution_count": 35
        }
      ]
    },
    {
      "cell_type": "markdown",
      "metadata": {
        "id": "divided-prior"
      },
      "source": [
        "## Backing out true parameters"
      ],
      "id": "divided-prior"
    },
    {
      "cell_type": "code",
      "metadata": {
        "colab": {
          "base_uri": "https://localhost:8080/"
        },
        "id": "qmDv2c9Ykhn_",
        "outputId": "706bf6c4-0cdd-4abe-c62c-52b75df1baef"
      },
      "source": [
        "# Model parameters\n",
        "n_baseline = 800\n",
        "sizes = [4,5,6,7,8] # the nhouseholds are divided evenly among the sizes\n",
        "\n",
        "hsar = 0.3 # the desired household sar when averaged over the sizes of the households\n",
        "#hsarv = 0.1\n",
        "et=0.3\n",
        "\n",
        "es = 0.7 # Would we prefer another name for this?\n",
        "\n",
        "vaccination_method = functools.partial(vaccinate_fraction,fraction_vaccinated=0.5)\n",
        "\n",
        "duration = 90 # days\n",
        "importation_probability_over_study = 0.03\n",
        "importation_rate = 1-(1-importation_probability_over_study)**(1/duration) # converting risk over study period to daily risk\n",
        "\n",
        "baseline_study = VaccineStudy(\"half vaccinated\", n_per_arm, sizes, hsar, es, (et, 'et'), duration, importation_rate, vaccinate_half)\n",
        "baseline_vax_df, _ = baseline_study.run_trials(10, arms='vax')"
      ],
      "id": "qmDv2c9Ykhn_",
      "execution_count": 98,
      "outputs": [
        {
          "output_type": "stream",
          "text": [
            "Running study ...\n",
            " Vaccine study named half vaccinated with:\n",
            "\tn_per_arm        = 650\n",
            "\thousehold sizes  = {4: 130, 5: 130, 6: 130, 7: 130, 8: 130}\n",
            "\tes, et        = 0.7, 0.3\n",
            "\tvax_sus, vax_inf   = 0.30000000000000004, 0.7\n",
            "\tduration         = 90\n",
            "\timportation rate = 0.00033837837583827746\n",
            "\thousehold beta   = 0.054039348129324496\n",
            "Warning, attempted to vaccinate fraction=0.5 of household with size=5. Vaccinated 2.0\n",
            "Warning, attempted to vaccinate fraction=0.5 of household with size=7. Vaccinated 4.0\n"
          ],
          "name": "stdout"
        }
      ]
    },
    {
      "cell_type": "code",
      "metadata": {
        "colab": {
          "base_uri": "https://localhost:8080/"
        },
        "id": "C3kQsv2goCCT",
        "outputId": "1eaffff8-cf63-45b3-8da9-4b83119ea469"
      },
      "source": [
        "# Likelihood surface\n",
        "sus_axis = np.linspace(0.0, 1.0, 21)\n",
        "inf_axis = np.linspace(0.0, 1.0, 21)\n",
        "\n",
        "trials = 1 # only 1 trial here because we are creating one infinitely large simulated population\n",
        "inf_dfs = []\n",
        "for inf in inf_axis:\n",
        "    sus_dfs = []\n",
        "    for sus in sus_axis:\n",
        "        v_name = \"vax_sus={0}, vax_inf={1}\".format(sus,inf)\n",
        "        n_hh = 10000\n",
        "        study = VaccineStudy(v_name, n_hh, sizes, hsar, 1-sus, (1-inf, 'et'), duration, importation_rate, vaccination_method)\n",
        "        simulated_df, _ = study.run_trials(1, arms='vax')\n",
        "        baseline_grouped = baseline_vax_df.groupby(\"trialnum\")\n",
        "\n",
        "        logls = baseline_grouped.apply(lambda g: calculate_likelihoods(simulated_df, g))\n",
        "        logls.name = \"%.2f\" % sus\n",
        "        sus_dfs.append(logls)\n",
        "    \n",
        "    sus_df = pd.concat(sus_dfs, axis=1)\n",
        "    sus_df[\"inf\"] = inf\n",
        "    inf_dfs.append(sus_df)\n",
        "\n",
        "inf_df = pd.concat(inf_dfs)\n",
        "inf_df"
      ],
      "id": "C3kQsv2goCCT",
      "execution_count": null,
      "outputs": [
        {
          "output_type": "stream",
          "text": [
            "Running study ...\n",
            " Vaccine study named vax_sus=0.0, vax_inf=0.0 with:\n",
            "\tn_per_arm        = 10000\n",
            "\thousehold sizes  = {4: 2000, 5: 2000, 6: 2000, 7: 2000, 8: 2000}\n",
            "\tes, et        = 1.0, 1.0\n",
            "\tvax_sus, vax_inf   = 0.0, 0.0\n",
            "\tduration         = 90\n",
            "\timportation rate = 0.00033837837583827746\n",
            "\thousehold beta   = 0.054039348129324496\n",
            "Warning, attempted to vaccinate fraction=0.5 of household with size=5. Vaccinated 2.0\n",
            "Warning, attempted to vaccinate fraction=0.5 of household with size=7. Vaccinated 4.0\n"
          ],
          "name": "stdout"
        }
      ]
    },
    {
      "cell_type": "code",
      "metadata": {
        "colab": {
          "base_uri": "https://localhost:8080/",
          "height": 1000
        },
        "id": "VODiJJPW0hR3",
        "outputId": "f7b06b54-d125-42cf-ba0f-234cd14ffe2c"
      },
      "source": [
        ""
      ],
      "id": "VODiJJPW0hR3",
      "execution_count": 95,
      "outputs": [
        {
          "output_type": "execute_result",
          "data": {
            "text/html": [
              "<div>\n",
              "<style scoped>\n",
              "    .dataframe tbody tr th:only-of-type {\n",
              "        vertical-align: middle;\n",
              "    }\n",
              "\n",
              "    .dataframe tbody tr th {\n",
              "        vertical-align: top;\n",
              "    }\n",
              "\n",
              "    .dataframe thead th {\n",
              "        text-align: right;\n",
              "    }\n",
              "</style>\n",
              "<table border=\"1\" class=\"dataframe\">\n",
              "  <thead>\n",
              "    <tr style=\"text-align: right;\">\n",
              "      <th></th>\n",
              "      <th>0.00</th>\n",
              "      <th>0.20</th>\n",
              "      <th>0.40</th>\n",
              "      <th>0.60</th>\n",
              "      <th>0.80</th>\n",
              "      <th>1.00</th>\n",
              "      <th>inf</th>\n",
              "    </tr>\n",
              "    <tr>\n",
              "      <th>trialnum</th>\n",
              "      <th></th>\n",
              "      <th></th>\n",
              "      <th></th>\n",
              "      <th></th>\n",
              "      <th></th>\n",
              "      <th></th>\n",
              "      <th></th>\n",
              "    </tr>\n",
              "  </thead>\n",
              "  <tbody>\n",
              "    <tr>\n",
              "      <th>0</th>\n",
              "      <td>-inf</td>\n",
              "      <td>-inf</td>\n",
              "      <td>-inf</td>\n",
              "      <td>-65.700542</td>\n",
              "      <td>-64.132136</td>\n",
              "      <td>-67.150545</td>\n",
              "      <td>0.0</td>\n",
              "    </tr>\n",
              "    <tr>\n",
              "      <th>1</th>\n",
              "      <td>-inf</td>\n",
              "      <td>-inf</td>\n",
              "      <td>-inf</td>\n",
              "      <td>-47.532592</td>\n",
              "      <td>-56.304581</td>\n",
              "      <td>-52.961789</td>\n",
              "      <td>0.0</td>\n",
              "    </tr>\n",
              "    <tr>\n",
              "      <th>2</th>\n",
              "      <td>-inf</td>\n",
              "      <td>-inf</td>\n",
              "      <td>-inf</td>\n",
              "      <td>-53.386212</td>\n",
              "      <td>-61.493648</td>\n",
              "      <td>-59.117413</td>\n",
              "      <td>0.0</td>\n",
              "    </tr>\n",
              "    <tr>\n",
              "      <th>3</th>\n",
              "      <td>-inf</td>\n",
              "      <td>-inf</td>\n",
              "      <td>-inf</td>\n",
              "      <td>-64.343053</td>\n",
              "      <td>-65.721667</td>\n",
              "      <td>-65.746369</td>\n",
              "      <td>0.0</td>\n",
              "    </tr>\n",
              "    <tr>\n",
              "      <th>4</th>\n",
              "      <td>-inf</td>\n",
              "      <td>-inf</td>\n",
              "      <td>-50.467953</td>\n",
              "      <td>-47.778793</td>\n",
              "      <td>-49.081397</td>\n",
              "      <td>-53.571964</td>\n",
              "      <td>0.0</td>\n",
              "    </tr>\n",
              "    <tr>\n",
              "      <th>5</th>\n",
              "      <td>-inf</td>\n",
              "      <td>-inf</td>\n",
              "      <td>-54.658497</td>\n",
              "      <td>-53.595812</td>\n",
              "      <td>-56.574289</td>\n",
              "      <td>-57.773340</td>\n",
              "      <td>0.0</td>\n",
              "    </tr>\n",
              "    <tr>\n",
              "      <th>6</th>\n",
              "      <td>-inf</td>\n",
              "      <td>-inf</td>\n",
              "      <td>-54.920922</td>\n",
              "      <td>-60.649362</td>\n",
              "      <td>-62.688748</td>\n",
              "      <td>-68.250038</td>\n",
              "      <td>0.0</td>\n",
              "    </tr>\n",
              "    <tr>\n",
              "      <th>7</th>\n",
              "      <td>-inf</td>\n",
              "      <td>-inf</td>\n",
              "      <td>-inf</td>\n",
              "      <td>-55.195721</td>\n",
              "      <td>-59.964364</td>\n",
              "      <td>-59.652351</td>\n",
              "      <td>0.0</td>\n",
              "    </tr>\n",
              "    <tr>\n",
              "      <th>8</th>\n",
              "      <td>-inf</td>\n",
              "      <td>-inf</td>\n",
              "      <td>-inf</td>\n",
              "      <td>-53.738523</td>\n",
              "      <td>-57.204270</td>\n",
              "      <td>-62.551651</td>\n",
              "      <td>0.0</td>\n",
              "    </tr>\n",
              "    <tr>\n",
              "      <th>9</th>\n",
              "      <td>-inf</td>\n",
              "      <td>-inf</td>\n",
              "      <td>-inf</td>\n",
              "      <td>-51.309938</td>\n",
              "      <td>-59.556588</td>\n",
              "      <td>-60.420182</td>\n",
              "      <td>0.0</td>\n",
              "    </tr>\n",
              "    <tr>\n",
              "      <th>0</th>\n",
              "      <td>-inf</td>\n",
              "      <td>-inf</td>\n",
              "      <td>-52.305193</td>\n",
              "      <td>-54.258219</td>\n",
              "      <td>-61.193160</td>\n",
              "      <td>-65.964126</td>\n",
              "      <td>0.2</td>\n",
              "    </tr>\n",
              "    <tr>\n",
              "      <th>1</th>\n",
              "      <td>-inf</td>\n",
              "      <td>-inf</td>\n",
              "      <td>-51.865280</td>\n",
              "      <td>-52.299421</td>\n",
              "      <td>-54.910441</td>\n",
              "      <td>-55.118862</td>\n",
              "      <td>0.2</td>\n",
              "    </tr>\n",
              "    <tr>\n",
              "      <th>2</th>\n",
              "      <td>-inf</td>\n",
              "      <td>-inf</td>\n",
              "      <td>-51.275080</td>\n",
              "      <td>-54.862087</td>\n",
              "      <td>-57.392695</td>\n",
              "      <td>-62.376795</td>\n",
              "      <td>0.2</td>\n",
              "    </tr>\n",
              "    <tr>\n",
              "      <th>3</th>\n",
              "      <td>-inf</td>\n",
              "      <td>-inf</td>\n",
              "      <td>-59.818914</td>\n",
              "      <td>-56.467908</td>\n",
              "      <td>-60.814574</td>\n",
              "      <td>-63.350147</td>\n",
              "      <td>0.2</td>\n",
              "    </tr>\n",
              "    <tr>\n",
              "      <th>4</th>\n",
              "      <td>-inf</td>\n",
              "      <td>-inf</td>\n",
              "      <td>-inf</td>\n",
              "      <td>-50.727990</td>\n",
              "      <td>-52.482440</td>\n",
              "      <td>-57.599334</td>\n",
              "      <td>0.2</td>\n",
              "    </tr>\n",
              "    <tr>\n",
              "      <th>5</th>\n",
              "      <td>-inf</td>\n",
              "      <td>-inf</td>\n",
              "      <td>-inf</td>\n",
              "      <td>-49.980797</td>\n",
              "      <td>-51.685000</td>\n",
              "      <td>-55.792644</td>\n",
              "      <td>0.2</td>\n",
              "    </tr>\n",
              "    <tr>\n",
              "      <th>6</th>\n",
              "      <td>-inf</td>\n",
              "      <td>-55.171937</td>\n",
              "      <td>-55.192654</td>\n",
              "      <td>-55.911750</td>\n",
              "      <td>-65.412604</td>\n",
              "      <td>-67.384048</td>\n",
              "      <td>0.2</td>\n",
              "    </tr>\n",
              "    <tr>\n",
              "      <th>7</th>\n",
              "      <td>-inf</td>\n",
              "      <td>-inf</td>\n",
              "      <td>-50.221955</td>\n",
              "      <td>-53.037997</td>\n",
              "      <td>-57.472152</td>\n",
              "      <td>-60.943979</td>\n",
              "      <td>0.2</td>\n",
              "    </tr>\n",
              "    <tr>\n",
              "      <th>8</th>\n",
              "      <td>-inf</td>\n",
              "      <td>-inf</td>\n",
              "      <td>-47.775240</td>\n",
              "      <td>-51.745993</td>\n",
              "      <td>-58.428291</td>\n",
              "      <td>-63.705217</td>\n",
              "      <td>0.2</td>\n",
              "    </tr>\n",
              "    <tr>\n",
              "      <th>9</th>\n",
              "      <td>-inf</td>\n",
              "      <td>-inf</td>\n",
              "      <td>-50.347097</td>\n",
              "      <td>-55.195592</td>\n",
              "      <td>-55.787728</td>\n",
              "      <td>-62.559749</td>\n",
              "      <td>0.2</td>\n",
              "    </tr>\n",
              "    <tr>\n",
              "      <th>0</th>\n",
              "      <td>-inf</td>\n",
              "      <td>-inf</td>\n",
              "      <td>-54.582034</td>\n",
              "      <td>-49.977943</td>\n",
              "      <td>-61.360416</td>\n",
              "      <td>-66.152686</td>\n",
              "      <td>0.4</td>\n",
              "    </tr>\n",
              "    <tr>\n",
              "      <th>1</th>\n",
              "      <td>-inf</td>\n",
              "      <td>-inf</td>\n",
              "      <td>-51.254747</td>\n",
              "      <td>-55.494385</td>\n",
              "      <td>-61.717552</td>\n",
              "      <td>-66.884347</td>\n",
              "      <td>0.4</td>\n",
              "    </tr>\n",
              "    <tr>\n",
              "      <th>2</th>\n",
              "      <td>-inf</td>\n",
              "      <td>-inf</td>\n",
              "      <td>-47.733770</td>\n",
              "      <td>-51.551537</td>\n",
              "      <td>-59.874331</td>\n",
              "      <td>-63.804169</td>\n",
              "      <td>0.4</td>\n",
              "    </tr>\n",
              "    <tr>\n",
              "      <th>3</th>\n",
              "      <td>-inf</td>\n",
              "      <td>-inf</td>\n",
              "      <td>-57.244873</td>\n",
              "      <td>-57.356562</td>\n",
              "      <td>-63.765582</td>\n",
              "      <td>-67.226148</td>\n",
              "      <td>0.4</td>\n",
              "    </tr>\n",
              "    <tr>\n",
              "      <th>4</th>\n",
              "      <td>-inf</td>\n",
              "      <td>-inf</td>\n",
              "      <td>-48.441231</td>\n",
              "      <td>-51.873399</td>\n",
              "      <td>-59.446736</td>\n",
              "      <td>-59.987454</td>\n",
              "      <td>0.4</td>\n",
              "    </tr>\n",
              "    <tr>\n",
              "      <th>5</th>\n",
              "      <td>-inf</td>\n",
              "      <td>-inf</td>\n",
              "      <td>-50.723507</td>\n",
              "      <td>-52.556439</td>\n",
              "      <td>-57.298159</td>\n",
              "      <td>-61.762973</td>\n",
              "      <td>0.4</td>\n",
              "    </tr>\n",
              "    <tr>\n",
              "      <th>6</th>\n",
              "      <td>-inf</td>\n",
              "      <td>-57.362154</td>\n",
              "      <td>-52.944735</td>\n",
              "      <td>-54.395499</td>\n",
              "      <td>-64.358409</td>\n",
              "      <td>-68.521174</td>\n",
              "      <td>0.4</td>\n",
              "    </tr>\n",
              "    <tr>\n",
              "      <th>7</th>\n",
              "      <td>-inf</td>\n",
              "      <td>-50.099055</td>\n",
              "      <td>-49.899020</td>\n",
              "      <td>-50.978985</td>\n",
              "      <td>-57.355333</td>\n",
              "      <td>-63.027316</td>\n",
              "      <td>0.4</td>\n",
              "    </tr>\n",
              "    <tr>\n",
              "      <th>8</th>\n",
              "      <td>-inf</td>\n",
              "      <td>-52.364596</td>\n",
              "      <td>-49.115714</td>\n",
              "      <td>-54.878826</td>\n",
              "      <td>-59.630397</td>\n",
              "      <td>-65.865894</td>\n",
              "      <td>0.4</td>\n",
              "    </tr>\n",
              "    <tr>\n",
              "      <th>9</th>\n",
              "      <td>-inf</td>\n",
              "      <td>-inf</td>\n",
              "      <td>-49.347012</td>\n",
              "      <td>-51.390066</td>\n",
              "      <td>-59.952616</td>\n",
              "      <td>-64.311121</td>\n",
              "      <td>0.4</td>\n",
              "    </tr>\n",
              "    <tr>\n",
              "      <th>0</th>\n",
              "      <td>-inf</td>\n",
              "      <td>-inf</td>\n",
              "      <td>-51.286505</td>\n",
              "      <td>-56.332021</td>\n",
              "      <td>-64.128750</td>\n",
              "      <td>-67.819378</td>\n",
              "      <td>0.6</td>\n",
              "    </tr>\n",
              "    <tr>\n",
              "      <th>1</th>\n",
              "      <td>-inf</td>\n",
              "      <td>-inf</td>\n",
              "      <td>-50.898474</td>\n",
              "      <td>-55.909461</td>\n",
              "      <td>-64.135796</td>\n",
              "      <td>-72.605903</td>\n",
              "      <td>0.6</td>\n",
              "    </tr>\n",
              "    <tr>\n",
              "      <th>2</th>\n",
              "      <td>-inf</td>\n",
              "      <td>-inf</td>\n",
              "      <td>-48.051443</td>\n",
              "      <td>-52.561429</td>\n",
              "      <td>-61.108539</td>\n",
              "      <td>-65.750936</td>\n",
              "      <td>0.6</td>\n",
              "    </tr>\n",
              "    <tr>\n",
              "      <th>3</th>\n",
              "      <td>-inf</td>\n",
              "      <td>-inf</td>\n",
              "      <td>-54.186050</td>\n",
              "      <td>-56.810191</td>\n",
              "      <td>-65.678795</td>\n",
              "      <td>-69.664711</td>\n",
              "      <td>0.6</td>\n",
              "    </tr>\n",
              "    <tr>\n",
              "      <th>4</th>\n",
              "      <td>-inf</td>\n",
              "      <td>-48.917150</td>\n",
              "      <td>-52.947778</td>\n",
              "      <td>-52.304544</td>\n",
              "      <td>-59.924239</td>\n",
              "      <td>-68.091719</td>\n",
              "      <td>0.6</td>\n",
              "    </tr>\n",
              "    <tr>\n",
              "      <th>5</th>\n",
              "      <td>-inf</td>\n",
              "      <td>-inf</td>\n",
              "      <td>-49.831689</td>\n",
              "      <td>-53.132492</td>\n",
              "      <td>-61.239886</td>\n",
              "      <td>-64.644514</td>\n",
              "      <td>0.6</td>\n",
              "    </tr>\n",
              "    <tr>\n",
              "      <th>6</th>\n",
              "      <td>-inf</td>\n",
              "      <td>-inf</td>\n",
              "      <td>-49.523009</td>\n",
              "      <td>-59.033652</td>\n",
              "      <td>-65.775719</td>\n",
              "      <td>-69.577375</td>\n",
              "      <td>0.6</td>\n",
              "    </tr>\n",
              "    <tr>\n",
              "      <th>7</th>\n",
              "      <td>-inf</td>\n",
              "      <td>-inf</td>\n",
              "      <td>-47.118742</td>\n",
              "      <td>-50.848735</td>\n",
              "      <td>-61.460963</td>\n",
              "      <td>-64.400026</td>\n",
              "      <td>0.6</td>\n",
              "    </tr>\n",
              "    <tr>\n",
              "      <th>8</th>\n",
              "      <td>-inf</td>\n",
              "      <td>-44.216537</td>\n",
              "      <td>-47.963784</td>\n",
              "      <td>-54.421575</td>\n",
              "      <td>-62.309525</td>\n",
              "      <td>-68.424903</td>\n",
              "      <td>0.6</td>\n",
              "    </tr>\n",
              "    <tr>\n",
              "      <th>9</th>\n",
              "      <td>-inf</td>\n",
              "      <td>-inf</td>\n",
              "      <td>-51.043895</td>\n",
              "      <td>-52.664907</td>\n",
              "      <td>-61.070223</td>\n",
              "      <td>-72.516242</td>\n",
              "      <td>0.6</td>\n",
              "    </tr>\n",
              "    <tr>\n",
              "      <th>0</th>\n",
              "      <td>-inf</td>\n",
              "      <td>-inf</td>\n",
              "      <td>-55.608204</td>\n",
              "      <td>-56.233040</td>\n",
              "      <td>-65.951951</td>\n",
              "      <td>-71.214349</td>\n",
              "      <td>0.8</td>\n",
              "    </tr>\n",
              "    <tr>\n",
              "      <th>1</th>\n",
              "      <td>-inf</td>\n",
              "      <td>-inf</td>\n",
              "      <td>-55.340827</td>\n",
              "      <td>-59.856623</td>\n",
              "      <td>-74.842955</td>\n",
              "      <td>-85.021527</td>\n",
              "      <td>0.8</td>\n",
              "    </tr>\n",
              "    <tr>\n",
              "      <th>2</th>\n",
              "      <td>-inf</td>\n",
              "      <td>-inf</td>\n",
              "      <td>-49.172290</td>\n",
              "      <td>-53.349851</td>\n",
              "      <td>-60.889880</td>\n",
              "      <td>-74.155620</td>\n",
              "      <td>0.8</td>\n",
              "    </tr>\n",
              "    <tr>\n",
              "      <th>3</th>\n",
              "      <td>-inf</td>\n",
              "      <td>-58.151554</td>\n",
              "      <td>-51.680647</td>\n",
              "      <td>-61.004629</td>\n",
              "      <td>-64.835921</td>\n",
              "      <td>-76.156993</td>\n",
              "      <td>0.8</td>\n",
              "    </tr>\n",
              "    <tr>\n",
              "      <th>4</th>\n",
              "      <td>-inf</td>\n",
              "      <td>-inf</td>\n",
              "      <td>-52.657986</td>\n",
              "      <td>-55.820284</td>\n",
              "      <td>-64.394591</td>\n",
              "      <td>-75.704587</td>\n",
              "      <td>0.8</td>\n",
              "    </tr>\n",
              "    <tr>\n",
              "      <th>5</th>\n",
              "      <td>-inf</td>\n",
              "      <td>-inf</td>\n",
              "      <td>-52.321260</td>\n",
              "      <td>-55.152532</td>\n",
              "      <td>-65.428894</td>\n",
              "      <td>-72.271058</td>\n",
              "      <td>0.8</td>\n",
              "    </tr>\n",
              "    <tr>\n",
              "      <th>6</th>\n",
              "      <td>-inf</td>\n",
              "      <td>-53.245416</td>\n",
              "      <td>-51.040593</td>\n",
              "      <td>-56.904483</td>\n",
              "      <td>-63.171320</td>\n",
              "      <td>-76.808256</td>\n",
              "      <td>0.8</td>\n",
              "    </tr>\n",
              "    <tr>\n",
              "      <th>7</th>\n",
              "      <td>-inf</td>\n",
              "      <td>-49.564256</td>\n",
              "      <td>-52.132857</td>\n",
              "      <td>-53.588178</td>\n",
              "      <td>-62.276687</td>\n",
              "      <td>-75.352287</td>\n",
              "      <td>0.8</td>\n",
              "    </tr>\n",
              "    <tr>\n",
              "      <th>8</th>\n",
              "      <td>-inf</td>\n",
              "      <td>-46.424761</td>\n",
              "      <td>-51.762363</td>\n",
              "      <td>-54.622253</td>\n",
              "      <td>-65.390008</td>\n",
              "      <td>-77.203262</td>\n",
              "      <td>0.8</td>\n",
              "    </tr>\n",
              "    <tr>\n",
              "      <th>9</th>\n",
              "      <td>-inf</td>\n",
              "      <td>-inf</td>\n",
              "      <td>-50.693890</td>\n",
              "      <td>-57.637922</td>\n",
              "      <td>-66.239865</td>\n",
              "      <td>-79.017319</td>\n",
              "      <td>0.8</td>\n",
              "    </tr>\n",
              "    <tr>\n",
              "      <th>0</th>\n",
              "      <td>-inf</td>\n",
              "      <td>-52.398068</td>\n",
              "      <td>-51.746585</td>\n",
              "      <td>-59.548900</td>\n",
              "      <td>-72.303421</td>\n",
              "      <td>-77.727838</td>\n",
              "      <td>1.0</td>\n",
              "    </tr>\n",
              "    <tr>\n",
              "      <th>1</th>\n",
              "      <td>-inf</td>\n",
              "      <td>-53.436908</td>\n",
              "      <td>-53.848937</td>\n",
              "      <td>-65.503596</td>\n",
              "      <td>-76.458872</td>\n",
              "      <td>-89.226976</td>\n",
              "      <td>1.0</td>\n",
              "    </tr>\n",
              "    <tr>\n",
              "      <th>2</th>\n",
              "      <td>-inf</td>\n",
              "      <td>-inf</td>\n",
              "      <td>-47.486237</td>\n",
              "      <td>-58.982653</td>\n",
              "      <td>-66.927362</td>\n",
              "      <td>-78.097616</td>\n",
              "      <td>1.0</td>\n",
              "    </tr>\n",
              "    <tr>\n",
              "      <th>3</th>\n",
              "      <td>-inf</td>\n",
              "      <td>-inf</td>\n",
              "      <td>-54.915725</td>\n",
              "      <td>-64.526589</td>\n",
              "      <td>-71.490291</td>\n",
              "      <td>-84.324865</td>\n",
              "      <td>1.0</td>\n",
              "    </tr>\n",
              "    <tr>\n",
              "      <th>4</th>\n",
              "      <td>-inf</td>\n",
              "      <td>-inf</td>\n",
              "      <td>-52.169300</td>\n",
              "      <td>-59.657422</td>\n",
              "      <td>-74.304684</td>\n",
              "      <td>-80.511746</td>\n",
              "      <td>1.0</td>\n",
              "    </tr>\n",
              "    <tr>\n",
              "      <th>5</th>\n",
              "      <td>-inf</td>\n",
              "      <td>-inf</td>\n",
              "      <td>-49.538191</td>\n",
              "      <td>-59.676618</td>\n",
              "      <td>-69.779077</td>\n",
              "      <td>-76.961729</td>\n",
              "      <td>1.0</td>\n",
              "    </tr>\n",
              "    <tr>\n",
              "      <th>6</th>\n",
              "      <td>-inf</td>\n",
              "      <td>-50.102696</td>\n",
              "      <td>-51.797556</td>\n",
              "      <td>-63.720930</td>\n",
              "      <td>-73.821091</td>\n",
              "      <td>-77.161574</td>\n",
              "      <td>1.0</td>\n",
              "    </tr>\n",
              "    <tr>\n",
              "      <th>7</th>\n",
              "      <td>-inf</td>\n",
              "      <td>-inf</td>\n",
              "      <td>-48.775961</td>\n",
              "      <td>-61.115713</td>\n",
              "      <td>-69.448144</td>\n",
              "      <td>-79.907301</td>\n",
              "      <td>1.0</td>\n",
              "    </tr>\n",
              "    <tr>\n",
              "      <th>8</th>\n",
              "      <td>-inf</td>\n",
              "      <td>-45.749384</td>\n",
              "      <td>-48.788010</td>\n",
              "      <td>-60.107096</td>\n",
              "      <td>-71.000856</td>\n",
              "      <td>-83.681126</td>\n",
              "      <td>1.0</td>\n",
              "    </tr>\n",
              "    <tr>\n",
              "      <th>9</th>\n",
              "      <td>-inf</td>\n",
              "      <td>-inf</td>\n",
              "      <td>-52.198567</td>\n",
              "      <td>-59.925885</td>\n",
              "      <td>-72.258105</td>\n",
              "      <td>-85.395105</td>\n",
              "      <td>1.0</td>\n",
              "    </tr>\n",
              "  </tbody>\n",
              "</table>\n",
              "</div>"
            ],
            "text/plain": [
              "          0.00       0.20       0.40       0.60       0.80       1.00  inf\n",
              "trialnum                                                                  \n",
              "0         -inf       -inf       -inf -65.700542 -64.132136 -67.150545  0.0\n",
              "1         -inf       -inf       -inf -47.532592 -56.304581 -52.961789  0.0\n",
              "2         -inf       -inf       -inf -53.386212 -61.493648 -59.117413  0.0\n",
              "3         -inf       -inf       -inf -64.343053 -65.721667 -65.746369  0.0\n",
              "4         -inf       -inf -50.467953 -47.778793 -49.081397 -53.571964  0.0\n",
              "5         -inf       -inf -54.658497 -53.595812 -56.574289 -57.773340  0.0\n",
              "6         -inf       -inf -54.920922 -60.649362 -62.688748 -68.250038  0.0\n",
              "7         -inf       -inf       -inf -55.195721 -59.964364 -59.652351  0.0\n",
              "8         -inf       -inf       -inf -53.738523 -57.204270 -62.551651  0.0\n",
              "9         -inf       -inf       -inf -51.309938 -59.556588 -60.420182  0.0\n",
              "0         -inf       -inf -52.305193 -54.258219 -61.193160 -65.964126  0.2\n",
              "1         -inf       -inf -51.865280 -52.299421 -54.910441 -55.118862  0.2\n",
              "2         -inf       -inf -51.275080 -54.862087 -57.392695 -62.376795  0.2\n",
              "3         -inf       -inf -59.818914 -56.467908 -60.814574 -63.350147  0.2\n",
              "4         -inf       -inf       -inf -50.727990 -52.482440 -57.599334  0.2\n",
              "5         -inf       -inf       -inf -49.980797 -51.685000 -55.792644  0.2\n",
              "6         -inf -55.171937 -55.192654 -55.911750 -65.412604 -67.384048  0.2\n",
              "7         -inf       -inf -50.221955 -53.037997 -57.472152 -60.943979  0.2\n",
              "8         -inf       -inf -47.775240 -51.745993 -58.428291 -63.705217  0.2\n",
              "9         -inf       -inf -50.347097 -55.195592 -55.787728 -62.559749  0.2\n",
              "0         -inf       -inf -54.582034 -49.977943 -61.360416 -66.152686  0.4\n",
              "1         -inf       -inf -51.254747 -55.494385 -61.717552 -66.884347  0.4\n",
              "2         -inf       -inf -47.733770 -51.551537 -59.874331 -63.804169  0.4\n",
              "3         -inf       -inf -57.244873 -57.356562 -63.765582 -67.226148  0.4\n",
              "4         -inf       -inf -48.441231 -51.873399 -59.446736 -59.987454  0.4\n",
              "5         -inf       -inf -50.723507 -52.556439 -57.298159 -61.762973  0.4\n",
              "6         -inf -57.362154 -52.944735 -54.395499 -64.358409 -68.521174  0.4\n",
              "7         -inf -50.099055 -49.899020 -50.978985 -57.355333 -63.027316  0.4\n",
              "8         -inf -52.364596 -49.115714 -54.878826 -59.630397 -65.865894  0.4\n",
              "9         -inf       -inf -49.347012 -51.390066 -59.952616 -64.311121  0.4\n",
              "0         -inf       -inf -51.286505 -56.332021 -64.128750 -67.819378  0.6\n",
              "1         -inf       -inf -50.898474 -55.909461 -64.135796 -72.605903  0.6\n",
              "2         -inf       -inf -48.051443 -52.561429 -61.108539 -65.750936  0.6\n",
              "3         -inf       -inf -54.186050 -56.810191 -65.678795 -69.664711  0.6\n",
              "4         -inf -48.917150 -52.947778 -52.304544 -59.924239 -68.091719  0.6\n",
              "5         -inf       -inf -49.831689 -53.132492 -61.239886 -64.644514  0.6\n",
              "6         -inf       -inf -49.523009 -59.033652 -65.775719 -69.577375  0.6\n",
              "7         -inf       -inf -47.118742 -50.848735 -61.460963 -64.400026  0.6\n",
              "8         -inf -44.216537 -47.963784 -54.421575 -62.309525 -68.424903  0.6\n",
              "9         -inf       -inf -51.043895 -52.664907 -61.070223 -72.516242  0.6\n",
              "0         -inf       -inf -55.608204 -56.233040 -65.951951 -71.214349  0.8\n",
              "1         -inf       -inf -55.340827 -59.856623 -74.842955 -85.021527  0.8\n",
              "2         -inf       -inf -49.172290 -53.349851 -60.889880 -74.155620  0.8\n",
              "3         -inf -58.151554 -51.680647 -61.004629 -64.835921 -76.156993  0.8\n",
              "4         -inf       -inf -52.657986 -55.820284 -64.394591 -75.704587  0.8\n",
              "5         -inf       -inf -52.321260 -55.152532 -65.428894 -72.271058  0.8\n",
              "6         -inf -53.245416 -51.040593 -56.904483 -63.171320 -76.808256  0.8\n",
              "7         -inf -49.564256 -52.132857 -53.588178 -62.276687 -75.352287  0.8\n",
              "8         -inf -46.424761 -51.762363 -54.622253 -65.390008 -77.203262  0.8\n",
              "9         -inf       -inf -50.693890 -57.637922 -66.239865 -79.017319  0.8\n",
              "0         -inf -52.398068 -51.746585 -59.548900 -72.303421 -77.727838  1.0\n",
              "1         -inf -53.436908 -53.848937 -65.503596 -76.458872 -89.226976  1.0\n",
              "2         -inf       -inf -47.486237 -58.982653 -66.927362 -78.097616  1.0\n",
              "3         -inf       -inf -54.915725 -64.526589 -71.490291 -84.324865  1.0\n",
              "4         -inf       -inf -52.169300 -59.657422 -74.304684 -80.511746  1.0\n",
              "5         -inf       -inf -49.538191 -59.676618 -69.779077 -76.961729  1.0\n",
              "6         -inf -50.102696 -51.797556 -63.720930 -73.821091 -77.161574  1.0\n",
              "7         -inf       -inf -48.775961 -61.115713 -69.448144 -79.907301  1.0\n",
              "8         -inf -45.749384 -48.788010 -60.107096 -71.000856 -83.681126  1.0\n",
              "9         -inf       -inf -52.198567 -59.925885 -72.258105 -85.395105  1.0"
            ]
          },
          "metadata": {
            "tags": []
          },
          "execution_count": 95
        }
      ]
    },
    {
      "cell_type": "code",
      "metadata": {
        "colab": {
          "base_uri": "https://localhost:8080/",
          "height": 269
        },
        "id": "q3DoFwn8rOrG",
        "outputId": "e559e639-b2f4-46de-d29d-1a6115952b8a"
      },
      "source": [
        "df = inf_df.groupby('inf').mean()\n",
        "df = df.replace({-np.inf: np.nan}) # NOTE THIS IS NOT SAFE ALL THE TIME BECAUSE IT SKEWS MEAN TO READ MORE LIKELY DUE TO NANS\n",
        "\n",
        "df"
      ],
      "id": "q3DoFwn8rOrG",
      "execution_count": 96,
      "outputs": [
        {
          "output_type": "execute_result",
          "data": {
            "text/html": [
              "<div>\n",
              "<style scoped>\n",
              "    .dataframe tbody tr th:only-of-type {\n",
              "        vertical-align: middle;\n",
              "    }\n",
              "\n",
              "    .dataframe tbody tr th {\n",
              "        vertical-align: top;\n",
              "    }\n",
              "\n",
              "    .dataframe thead th {\n",
              "        text-align: right;\n",
              "    }\n",
              "</style>\n",
              "<table border=\"1\" class=\"dataframe\">\n",
              "  <thead>\n",
              "    <tr style=\"text-align: right;\">\n",
              "      <th></th>\n",
              "      <th>0.00</th>\n",
              "      <th>0.20</th>\n",
              "      <th>0.40</th>\n",
              "      <th>0.60</th>\n",
              "      <th>0.80</th>\n",
              "      <th>1.00</th>\n",
              "    </tr>\n",
              "    <tr>\n",
              "      <th>inf</th>\n",
              "      <th></th>\n",
              "      <th></th>\n",
              "      <th></th>\n",
              "      <th></th>\n",
              "      <th></th>\n",
              "      <th></th>\n",
              "    </tr>\n",
              "  </thead>\n",
              "  <tbody>\n",
              "    <tr>\n",
              "      <th>0.0</th>\n",
              "      <td>NaN</td>\n",
              "      <td>NaN</td>\n",
              "      <td>NaN</td>\n",
              "      <td>-55.323055</td>\n",
              "      <td>-59.272169</td>\n",
              "      <td>-60.719564</td>\n",
              "    </tr>\n",
              "    <tr>\n",
              "      <th>0.2</th>\n",
              "      <td>NaN</td>\n",
              "      <td>NaN</td>\n",
              "      <td>NaN</td>\n",
              "      <td>-53.448775</td>\n",
              "      <td>-57.557908</td>\n",
              "      <td>-61.479490</td>\n",
              "    </tr>\n",
              "    <tr>\n",
              "      <th>0.4</th>\n",
              "      <td>NaN</td>\n",
              "      <td>NaN</td>\n",
              "      <td>-51.128664</td>\n",
              "      <td>-53.045364</td>\n",
              "      <td>-60.475953</td>\n",
              "      <td>-64.754328</td>\n",
              "    </tr>\n",
              "    <tr>\n",
              "      <th>0.6</th>\n",
              "      <td>NaN</td>\n",
              "      <td>NaN</td>\n",
              "      <td>-50.285137</td>\n",
              "      <td>-54.401901</td>\n",
              "      <td>-62.683243</td>\n",
              "      <td>-68.349571</td>\n",
              "    </tr>\n",
              "    <tr>\n",
              "      <th>0.8</th>\n",
              "      <td>NaN</td>\n",
              "      <td>NaN</td>\n",
              "      <td>-52.241092</td>\n",
              "      <td>-56.416980</td>\n",
              "      <td>-65.342207</td>\n",
              "      <td>-76.290526</td>\n",
              "    </tr>\n",
              "    <tr>\n",
              "      <th>1.0</th>\n",
              "      <td>NaN</td>\n",
              "      <td>NaN</td>\n",
              "      <td>-51.126507</td>\n",
              "      <td>-61.276540</td>\n",
              "      <td>-71.779190</td>\n",
              "      <td>-81.299588</td>\n",
              "    </tr>\n",
              "  </tbody>\n",
              "</table>\n",
              "</div>"
            ],
            "text/plain": [
              "     0.00  0.20       0.40       0.60       0.80       1.00\n",
              "inf                                                        \n",
              "0.0   NaN   NaN        NaN -55.323055 -59.272169 -60.719564\n",
              "0.2   NaN   NaN        NaN -53.448775 -57.557908 -61.479490\n",
              "0.4   NaN   NaN -51.128664 -53.045364 -60.475953 -64.754328\n",
              "0.6   NaN   NaN -50.285137 -54.401901 -62.683243 -68.349571\n",
              "0.8   NaN   NaN -52.241092 -56.416980 -65.342207 -76.290526\n",
              "1.0   NaN   NaN -51.126507 -61.276540 -71.779190 -81.299588"
            ]
          },
          "metadata": {
            "tags": []
          },
          "execution_count": 96
        }
      ]
    },
    {
      "cell_type": "code",
      "metadata": {
        "colab": {
          "base_uri": "https://localhost:8080/",
          "height": 282
        },
        "id": "e3ubpxH0sWP4",
        "outputId": "51d66582-63cb-4a35-803c-f3c9cb70f3b7"
      },
      "source": [
        "sns.heatmap(df, mask=df.isna())"
      ],
      "id": "e3ubpxH0sWP4",
      "execution_count": 97,
      "outputs": [
        {
          "output_type": "execute_result",
          "data": {
            "text/plain": [
              "<matplotlib.axes._subplots.AxesSubplot at 0x7f381b2a4250>"
            ]
          },
          "metadata": {
            "tags": []
          },
          "execution_count": 97
        },
        {
          "output_type": "display_data",
          "data": {
            "image/png": "[encoded data removed]",
            "text/plain": [
              "<Figure size 432x288 with 2 Axes>"
            ]
          },
          "metadata": {
            "tags": [],
            "needs_background": "light"
          }
        }
      ]
    },
    {
      "cell_type": "markdown",
      "metadata": {
        "id": "statutory-forge"
      },
      "source": [
        "### Experiments with just modifying susceptibilities"
      ],
      "id": "statutory-forge"
    },
    {
      "cell_type": "code",
      "metadata": {
        "collapsed": true,
        "id": "headed-animation",
        "jupyter": {
          "outputs_hidden": true,
          "source_hidden": true
        }
      },
      "source": [
        "fractions_vaccinated = np.array([1/6, 2/6, 3/6, 4/6, 5/6, 6/6])\n",
        "susceptibilities = [0., 0.1, 0.2, 0.3]\n",
        "\n",
        "household_beta = 0.005\n",
        "duration = 45 # in days\n",
        "importation_rate = 0.00014\n",
        "household_sizes = {18:50}\n",
        "trials = 150\n",
        "\n",
        "dfs = []\n",
        "for s in susceptibilities:\n",
        "    effects = []\n",
        "    for f in fractions_vaccinated:\n",
        "        sus_dist = functools.partial(partial_immunity, fraction_vaccinated=f, susceptibility=s)\n",
        "\n",
        "        control_model = Model(\"control\", importation_rate=importation_rate, infection_seeding=seed_zero, duration=duration)\n",
        "        vaccinated_model = Model(\"vaccinated\", sus_dist=sus_dist, importation_rate=importation_rate, infection_seeding=seed_zero, duration=duration)\n",
        "\n",
        "        cdf = run_trials(control_model, trials, household_beta, household_sizes)\n",
        "        vdf = run_trials(vaccinated_model, trials, household_beta, household_sizes)\n",
        "\n",
        "        effect = vdf.groupby([\"trialnum\"]).mean() / cdf.groupby([\"trialnum\"]).mean()\n",
        "        effect[\"fraction vaccinated\"] = f\n",
        "\n",
        "        effects.append(effect)\n",
        "\n",
        "    effects = pd.concat(effects).drop(columns=\"size\")\n",
        "    effects[\"vaccinated susceptibility\"] = s\n",
        "\n",
        "    dfs.append(effects)\n",
        "\n",
        "effects_df = pd.concat(dfs)\n",
        "\n",
        "effects_df"
      ],
      "id": "headed-animation",
      "execution_count": null,
      "outputs": []
    },
    {
      "cell_type": "code",
      "metadata": {
        "collapsed": true,
        "id": "hourly-stewart",
        "jupyter": {
          "outputs_hidden": true,
          "source_hidden": true
        }
      },
      "source": [
        "grouped = effects_df.groupby([\"vaccinated susceptibility\", \"fraction vaccinated\"])\n",
        "\n",
        "mean_df = grouped.mean().unstack(level=0)\n",
        "mean_df.columns = mean_df.columns.get_level_values(1)\n",
        "\n",
        "std_df = grouped.std().unstack(level=0)\n",
        "std_df.columns = std_df.columns.get_level_values(1)\n",
        "\n",
        "mean_df.plot(title=\"Mean infections vaccinated / mean infections control at different fractions vaccinated\",yerr=std_df, ylabel=\"mean infections vaccinated / mean infections control\")"
      ],
      "id": "hourly-stewart",
      "execution_count": null,
      "outputs": []
    },
    {
      "cell_type": "code",
      "metadata": {
        "collapsed": true,
        "id": "dressed-atlanta",
        "jupyter": {
          "outputs_hidden": true,
          "source_hidden": true
        }
      },
      "source": [
        "# Likelihood surfaces in one parameter model (just varying sus)\n",
        "\n",
        "# setup\n",
        "household_beta = 0.005\n",
        "duration = 45 # in days\n",
        "importation_rate = 0.00014\n",
        "size = 50\n",
        "household_sizes = {18:size}\n",
        "\n",
        "# empirical figures\n",
        "many_sus = [0.05, 0.15, 0.25, 0.35, 0.45]\n",
        "fraction_vaccinated = 0.5\n",
        "\n",
        "\n",
        "trials = 20\n",
        "\n",
        "e_dfs = []\n",
        "for vax_sus in many_sus:\n",
        "\n",
        "    r0 = household_beta * size\n",
        "    mean_sus = (1-fraction_vaccinated)*1 + fraction_vaccinated * vax_sus\n",
        "\n",
        "    print(\"Implied R0: {0}\".format(r0))\n",
        "    print(\"Implied mean population susceptibility {0}\".format(mean_sus))\n",
        "\n",
        "    e_sus = functools.partial(partial_immunity, fraction_vaccinated=fraction_vaccinated, susceptibility=vax_sus)\n",
        "    e_model = Model(\"empirical vaccinated\", sus_dist=e_sus, importation_rate=importation_rate, infection_seeding=seed_zero, duration=duration)\n",
        "    _df = run_trials(e_model, trials, household_beta, household_sizes)\n",
        "    _df[\"vax_sus\"] = vax_sus\n",
        "    e_dfs.append(_df)\n",
        "\n",
        "e_df = pd.concat(e_dfs)\n",
        "\n",
        "e_df"
      ],
      "id": "dressed-atlanta",
      "execution_count": null,
      "outputs": []
    },
    {
      "cell_type": "code",
      "metadata": {
        "collapsed": true,
        "id": "nonprofit-genius",
        "jupyter": {
          "outputs_hidden": true,
          "source_hidden": true
        }
      },
      "source": [
        "e_df"
      ],
      "id": "nonprofit-genius",
      "execution_count": null,
      "outputs": []
    },
    {
      "cell_type": "code",
      "metadata": {
        "collapsed": true,
        "id": "crucial-heavy",
        "jupyter": {
          "outputs_hidden": true,
          "source_hidden": true
        }
      },
      "source": [
        "# Likelihood surface\n",
        "\n",
        "sus_axis = np.linspace(0.0, 1.0, 21)\n",
        "trials = 1\n",
        "household_sizes = {18:4000}\n",
        "\n",
        "dfs = []\n",
        "means = []\n",
        "\n",
        "for vax_sus in many_sus: # I don't need to have the for loop here: I'm doing too much work. I just need to compare to the for loop in the innermost position\n",
        "    logls = []\n",
        "    for sus in sus_axis:\n",
        "        sus_dist = functools.partial(partial_immunity, fraction_vaccinated=fraction_vaccinated, susceptibility=sus)\n",
        "        sus_model = Model(\"sus={0}\".format(sus), sus_dist=sus_dist, importation_rate=importation_rate, infection_seeding=seed_zero, duration=duration)\n",
        "        simulated_df = run_trials(sus_model, trials, household_beta, household_sizes)\n",
        "        print(\"vax_sus {0} guess sus {1}\".format(vax_sus, sus))\n",
        "        e_grouped = e_df.groupby([\"trialnum\"])\n",
        "        _logl = e_grouped.apply(lambda g: calculate_likelihoods(simulated_df, g[g[\"vax_sus\"] == vax_sus])) # this gives the loglikehihoods (for each trial) at the given vax_sus and guessed sus\n",
        "        _logl.name = \"%.2f\" % sus\n",
        "\n",
        "        logls.append(_logl)\n",
        "\n",
        "    logl = pd.concat(logls, axis=1)\n",
        "    logl[\"vax_sus\"] = vax_sus\n",
        "    dfs.append(logl)\n",
        "    #print(logl)\n",
        "    \n",
        "df = pd.concat(dfs)\n",
        "\n",
        "#print(\"Sus, mean infections\")\n",
        "#print(zip(sus_axis, means))\n",
        "#for logls in dfs:\n",
        "#    logls.plot()"
      ],
      "id": "crucial-heavy",
      "execution_count": null,
      "outputs": []
    },
    {
      "cell_type": "code",
      "metadata": {
        "collapsed": true,
        "id": "removable-completion",
        "jupyter": {
          "outputs_hidden": true,
          "source_hidden": true
        }
      },
      "source": [
        "# Some summary statistics about number of infections\n",
        "df.describe()"
      ],
      "id": "removable-completion",
      "execution_count": null,
      "outputs": []
    },
    {
      "cell_type": "code",
      "metadata": {
        "collapsed": true,
        "id": "genetic-property",
        "jupyter": {
          "outputs_hidden": true,
          "source_hidden": true
        }
      },
      "source": [
        "df = df.replace({-np.inf: None}) # NOTE THIS IS NOT SAFE ALL THE TIME BECAUSE IT SKEWS MEAN TO READ MORE LIKELY\n",
        "df"
      ],
      "id": "genetic-property",
      "execution_count": null,
      "outputs": []
    },
    {
      "cell_type": "code",
      "metadata": {
        "collapsed": true,
        "id": "motivated-karaoke",
        "jupyter": {
          "outputs_hidden": true,
          "source_hidden": true
        }
      },
      "source": [
        "df.groupby(\"vax_sus\").std()\n",
        "df.groupby(\"vax_sus\").mean()"
      ],
      "id": "motivated-karaoke",
      "execution_count": null,
      "outputs": []
    },
    {
      "cell_type": "code",
      "metadata": {
        "collapsed": true,
        "id": "ready-gasoline",
        "jupyter": {
          "outputs_hidden": true,
          "source_hidden": true
        }
      },
      "source": [
        "yerr = df.groupby(\"vax_sus\").std()\n",
        "df.groupby(\"vax_sus\").mean().T.plot(title=\"Log likelihood of observing the 'empirical' (r0={0} sus of vaccinated={1}) data versus susceptibility of vaccinated\".format(r0, vax_sus), yerr=yerr, ylabel=\"log likelihood\", xlabel=\"susceptibility guess\")"
      ],
      "id": "ready-gasoline",
      "execution_count": null,
      "outputs": []
    },
    {
      "cell_type": "markdown",
      "metadata": {
        "id": "declared-arrangement"
      },
      "source": [
        "### Likelihood surfaces in a 2 parameter model (sus and inf modified by vaccine)"
      ],
      "id": "declared-arrangement"
    },
    {
      "cell_type": "code",
      "metadata": {
        "collapsed": true,
        "id": "aging-newman",
        "jupyter": {
          "outputs_hidden": true,
          "source_hidden": true
        }
      },
      "source": [
        "# Likelihood surfaces in the two parameter model (sus and inf affected)\n",
        "\n",
        "# setup\n",
        "household_beta = 0.005\n",
        "duration = 45 # in days\n",
        "importation_rate = 0.00014\n",
        "size = 100\n",
        "household_sizes = {18:size}\n",
        "\n",
        "# empirical figures\n",
        "vax_sus = 0.3\n",
        "vax_inf = 0.5\n",
        "fraction_vaccinated = 0.5\n",
        "\n",
        "r0 = household_beta * size\n",
        "mean_sus = (1-fraction_vaccinated)*1 + fraction_vaccinated * vax_sus\n",
        "mean_inf = (1-fraction_vaccinated)*1 + fraction_vaccinated * vax_inf\n",
        "\n",
        "print(\"Implied R0: {0}\".format(r0))\n",
        "print(\"Implied mean population susceptibility {0}\".format(mean_sus))\n",
        "print(\"Implied mean population infectivity {0}\".format(mean_inf))\n",
        "\n",
        "\n",
        "e_sus = functools.partial(partial_immunity, fraction_vaccinated=fraction_vaccinated, susceptibility=vax_sus)\n",
        "e_inf = functools.partial(modified_infectivity, fraction_vaccinated=fraction_vaccinated, infectivity=vax_inf)\n",
        "e_model = Model(\"empirical vaccinated\", sus_dist=e_sus, inf_dist=e_inf, importation_rate=importation_rate, infection_seeding=seed_zero, duration=duration)\n",
        "trials = 20\n",
        "e_df = run_trials(e_model, trials, household_beta, household_sizes)\n",
        "\n",
        "e_df"
      ],
      "id": "aging-newman",
      "execution_count": null,
      "outputs": []
    },
    {
      "cell_type": "code",
      "metadata": {
        "collapsed": true,
        "id": "relative-model",
        "jupyter": {
          "outputs_hidden": true,
          "source_hidden": true
        }
      },
      "source": [
        "# Likelihood surface\n",
        "sus_axis = np.linspace(0.0, 1.0, 21)\n",
        "inf_axis = np.linspace(0.0, 1.0, 21)\n",
        "trials = 1 # only 1 trial here because we are creating one infinitely large simulated population\n",
        "household_sizes = {18:4000}\n",
        "fraction_vaccinated = 0.5\n",
        "\n",
        "inf_dfs = []\n",
        "for inf in inf_axis:\n",
        "    sus_dfs = []\n",
        "    inf_dist = functools.partial(modified_infectivity, fraction_vaccinated=fraction_vaccinated, infectivity=inf)\n",
        "    for sus in sus_axis:\n",
        "        sus_dist = functools.partial(partial_immunity, fraction_vaccinated=fraction_vaccinated, susceptibility=sus)\n",
        "        composite_model = Model(\"sus={0}\".format(sus), sus_dist=sus_dist, inf_dist=inf_dist, importation_rate=importation_rate, infection_seeding=seed_zero, duration=duration)\n",
        "        simulated_df = run_trials(composite_model, trials, household_beta, household_sizes)\n",
        "\n",
        "        #means.append(simulated_df[\"infections\"].mean())\n",
        "        e_grouped = e_df.groupby([\"trialnum\"])\n",
        "\n",
        "        logls = e_grouped.apply(lambda g: calculate_likelihoods(simulated_df, g))\n",
        "        logls.name = \"%.2f\" % sus\n",
        "        sus_dfs.append(logls)\n",
        "        #likelihoods(df, e_df.groupby([\"trialnum\"]))\n",
        "\n",
        "    sus_df = pd.concat(sus_dfs, axis=1)\n",
        "    sus_df[\"inf\"] = inf\n",
        "    inf_dfs.append(sus_df)\n",
        "\n",
        "inf_df = pd.concat(inf_dfs)\n",
        "inf_df\n",
        "#print(\"Sus, mean infections\")\n",
        "#print(zip(sus_axis, means)))\n",
        "\n",
        "df = inf_df.groupby('inf').mean()\n",
        "df = df.replace({-np.inf: np.nan}) # NOTE THIS IS NOT SAFE ALL THE TIME BECAUSE IT SKEWS MEAN TO READ MORE LIKELY\n",
        "\n",
        "df"
      ],
      "id": "relative-model",
      "execution_count": null,
      "outputs": []
    },
    {
      "cell_type": "code",
      "metadata": {
        "collapsed": true,
        "id": "functioning-soviet",
        "jupyter": {
          "outputs_hidden": true,
          "source_hidden": true
        }
      },
      "source": [
        "df = inf_df.groupby('inf').mean()\n",
        "df = df.replace({-np.inf: np.nan}) # NOTE THIS IS NOT SAFE ALL THE TIME BECAUSE IT SKEWS MEAN TO READ MORE LIKELY\n",
        "\n",
        "df"
      ],
      "id": "functioning-soviet",
      "execution_count": null,
      "outputs": []
    },
    {
      "cell_type": "code",
      "metadata": {
        "collapsed": true,
        "id": "developmental-classification",
        "jupyter": {
          "outputs_hidden": true,
          "source_hidden": true
        }
      },
      "source": [
        "sns.heatmap(df, mask=df.isna())"
      ],
      "id": "developmental-classification",
      "execution_count": null,
      "outputs": []
    },
    {
      "cell_type": "markdown",
      "metadata": {
        "id": "characteristic-juvenile"
      },
      "source": [
        "#### With variable rates of vaccination"
      ],
      "id": "characteristic-juvenile"
    },
    {
      "cell_type": "code",
      "metadata": {
        "collapsed": true,
        "id": "adjustable-termination",
        "jupyter": {
          "outputs_hidden": true,
          "source_hidden": true
        }
      },
      "source": [
        "# Likelihood surfaces in the two parameter model (sus and inf affected)\n",
        "\n",
        "# vaccine parameters\n",
        "vax_sus = 0.3\n",
        "vax_inf = 0.5\n",
        "\n",
        "# model parameters\n",
        "household_beta = 0.005\n",
        "duration = 45 # in days\n",
        "importation_rate = 0.00014\n",
        "size = 100\n",
        "household_sizes = {18:size}\n",
        "\n",
        "\n",
        "# model objects\n",
        "fractions = [0.2, 0.4, 0.6, 0.8, 1.0]\n",
        "\n",
        "e_models = []\n",
        "for f in fractions:\n",
        "    # model of vaccinated population\n",
        "    vax_sus_dist = functools.partial(partial_immunity, fraction_vaccinated=f, susceptibility=vax_sus)\n",
        "    vax_inf_dist = functools.partial(modified_infectivity, fraction_vaccinated=f, infectivity=vax_inf)\n",
        "\n",
        "    m = Model(f, sus_dist=vax_sus_dist, inf_dist=vax_inf_dist, importation_rate=importation_rate, infection_seeding=seed_zero, duration=duration)\n",
        "    e_models.append(m)\n",
        "\n",
        "\n",
        "    r0 = household_beta * size\n",
        "    mean_sus = (1-fraction_vaccinated)*1 + fraction_vaccinated * vax_sus\n",
        "    mean_inf = (1-fraction_vaccinated)*1 + fraction_vaccinated * vax_inf\n",
        "\n",
        "    print(\"Implied R0: {0}\".format(r0))\n",
        "    print(\"Implied mean population susceptibility {0}\".format(mean_sus))\n",
        "    print(\"Implied mean population infectivity {0}\".format(mean_inf))\n",
        "\n",
        "trials = 20\n",
        "e_dfs = []\n",
        "for m in e_models:\n",
        "    _df = run_trials(m, trials, household_beta, household_sizes)\n",
        "    _df[\"fraction vaccinated\"] = m.name\n",
        "\n",
        "    e_dfs.append(_df)\n",
        "\n",
        "e_df = pd.concat(e_dfs)\n",
        "\n",
        "e_df"
      ],
      "id": "adjustable-termination",
      "execution_count": null,
      "outputs": []
    },
    {
      "cell_type": "code",
      "metadata": {
        "collapsed": true,
        "id": "seasonal-consumption",
        "jupyter": {
          "outputs_hidden": true,
          "source_hidden": true
        }
      },
      "source": [
        "# Likelihood surface with mutiple fractions\n",
        "sus_axis = np.linspace(0.0, 1.0, 11)\n",
        "inf_axis = np.linspace(0.0, 1.0, 11)\n",
        "trials = 1 # only 1 trial here because we are trying to create one infinitely large simulated population\n",
        "household_sizes = {18:4500}\n",
        "\n",
        "fractions = [0.2, 0.4, 0.6, 0.8, 1.0]\n",
        "\n",
        "inf_dfs = []\n",
        "for inf in inf_axis:\n",
        "    sus_dfs = []\n",
        "    for sus in sus_axis:\n",
        "        logls = []\n",
        "        for f in fractions:\n",
        "            inf_dist = functools.partial(modified_infectivity, fraction_vaccinated=f, infectivity=inf)\n",
        "            sus_dist = functools.partial(partial_immunity, fraction_vaccinated=f, susceptibility=sus)\n",
        "\n",
        "            composite_model = Model(\"sus={0}\".format(sus), sus_dist=sus_dist, inf_dist=inf_dist, importation_rate=importation_rate, infection_seeding=seed_zero, duration=duration)\n",
        "            simulated_df = run_trials(composite_model, trials, household_beta, household_sizes)\n",
        "\n",
        "            e_grouped = e_df.groupby([\"trialnum\"])\n",
        "\n",
        "            _logl = e_grouped.apply(lambda g: calculate_likelihoods(simulated_df, g[g[\"fraction vaccinated\"] == f]))\n",
        "            _logl.name = \"%.2f\" % sus\n",
        "            print(_logl)\n",
        "            logls.append(_logl)\n",
        "        \n",
        "        logl = sum(logls) # the sum of the (log) likelihoods at a given fraction gives an overall likelihood for the mixed population\n",
        "        print(\"SUMMED:\", logl)\n",
        "        sus_dfs.append(logl)\n",
        "    sus_df = pd.concat(sus_dfs, axis=1)\n",
        "    sus_df[\"inf\"] = inf\n",
        "    inf_dfs.append(sus_df)\n",
        "\n",
        "df = pd.concat(inf_dfs)\n",
        "\n",
        "\n",
        "    #inf_df\n",
        "#print(\"Sus, mean infections\")\n",
        "#print(zip(sus_axis, means)))"
      ],
      "id": "seasonal-consumption",
      "execution_count": null,
      "outputs": []
    },
    {
      "cell_type": "code",
      "metadata": {
        "collapsed": true,
        "id": "found-asian",
        "jupyter": {
          "outputs_hidden": true,
          "source_hidden": true
        }
      },
      "source": [
        "df = pd.concat(inf_dfs)\n",
        "df"
      ],
      "id": "found-asian",
      "execution_count": null,
      "outputs": []
    },
    {
      "cell_type": "code",
      "metadata": {
        "collapsed": true,
        "id": "different-testing",
        "jupyter": {
          "outputs_hidden": true,
          "source_hidden": true
        }
      },
      "source": [
        "df = df.groupby('inf').median()\n",
        "df = df.replace({-np.inf: np.nan}) # NOTE THIS IS NOT SAFE ALL THE TIME BECAUSE IT SKEWS MEAN TO READ MORE LIKELY\n",
        "\n",
        "df"
      ],
      "id": "different-testing",
      "execution_count": null,
      "outputs": []
    },
    {
      "cell_type": "code",
      "metadata": {
        "collapsed": true,
        "id": "danish-ebony",
        "jupyter": {
          "outputs_hidden": true,
          "source_hidden": true
        }
      },
      "source": [
        "sns.heatmap(df, mask=df.isna())\n",
        "plt.xlabel(\"sus guess\")\n",
        "plt.ylabel(\"inf guess\")\n",
        "plt.title(\"Median log likelihood of observing empirical data at R0={0}, true sus={1}, true inf={2}, over {3} trials\".format(r0, vax_sus, vax_inf, trials))"
      ],
      "id": "danish-ebony",
      "execution_count": null,
      "outputs": []
    }
  ]
}