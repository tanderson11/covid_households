{
  "nbformat": 4,
  "nbformat_minor": 0,
  "metadata": {
    "colab": {
      "name": "Lab.ipynb",
      "provenance": [],
      "collapsed_sections": [
        "HKqa27GWFKnE",
        "RKWx-gMepyKX",
        "0n5-5yi0_dYu"
      ],
      "authorship_tag": "ABX9TyNNFv/N1yM5SIj8JWsCQBAS",
      "include_colab_link": true
    },
    "kernelspec": {
      "name": "python3",
      "display_name": "Python 3"
    },
    "language_info": {
      "name": "python"
    },
    "accelerator": "GPU"
  },
  "cells": [
    {
      "cell_type": "markdown",
      "metadata": {
        "id": "view-in-github",
        "colab_type": "text"
      },
      "source": [
        "<a href=\"https://colab.research.google.com/github/tanderson11/covid_households/blob/main/Lab.ipynb\" target=\"_parent\"><img src=\"https://colab.research.google.com/assets/colab-badge.svg\" alt=\"Open In Colab\"/></a>"
      ]
    },
    {
      "cell_type": "markdown",
      "metadata": {
        "id": "vFEfWUyjl_L-"
      },
      "source": [
        "# Example Laboratory"
      ]
    },
    {
      "cell_type": "markdown",
      "metadata": {
        "id": "IsWpiP3DFFMo"
      },
      "source": [
        "# Drive + Github Configuration\n",
        "\n",
        "If running for the first time, uncomment the necessary lines to create a token and clone the repository.\n",
        "\n",
        "You'll have to authenticate on google drive the first time and each time the runtime times out."
      ]
    },
    {
      "cell_type": "code",
      "metadata": {
        "colab": {
          "base_uri": "https://localhost:8080/"
        },
        "id": "ORzYVf06BhuU",
        "outputId": "9ec623ce-77b0-41f2-cb29-c15076abec8c"
      },
      "source": [
        "from google.colab import drive\n",
        "drive.mount('/content/gdrive')"
      ],
      "execution_count": null,
      "outputs": [
        {
          "output_type": "stream",
          "text": [
            "Drive already mounted at /content/gdrive; to attempt to forcibly remount, call drive.mount(\"/content/gdrive\", force_remount=True).\n"
          ],
          "name": "stdout"
        }
      ]
    },
    {
      "cell_type": "code",
      "metadata": {
        "colab": {
          "base_uri": "https://localhost:8080/"
        },
        "id": "I3fmCBmpDCZn",
        "outputId": "b547ec53-23bc-4de9-9ff2-a553262dc88c"
      },
      "source": [
        "%mkdir /content/gdrive/My\\ Drive/github\n",
        "%cd /content/gdrive/My\\ Drive/github"
      ],
      "execution_count": null,
      "outputs": [
        {
          "output_type": "stream",
          "text": [
            "mkdir: cannot create directory ‘/content/gdrive/My Drive/github’: File exists\n",
            "/content/gdrive/My Drive/github\n"
          ],
          "name": "stdout"
        }
      ]
    },
    {
      "cell_type": "code",
      "metadata": {
        "id": "M6mdtrqrgY1d"
      },
      "source": [
        "# Request a token and then add it to the line below and then uncomment both lines\n",
        "#!echo git_token=\\\"your_token_here\\\" > git_token.py\n",
        "#from git_token import git_token"
      ],
      "execution_count": null,
      "outputs": []
    },
    {
      "cell_type": "code",
      "metadata": {
        "id": "Bwvtxr_X15S-"
      },
      "source": [
        "repo_owner=\"tanderson11\"\n",
        "repository=\"covid_households\""
      ],
      "execution_count": null,
      "outputs": []
    },
    {
      "cell_type": "code",
      "metadata": {
        "id": "esTV8J3wD0tA"
      },
      "source": [
        "### UNCOMMENT THIS LINE TO CLONE FOR THE FIRST TIME\n",
        "#!git clone https://{git_token}@github.com/{repo_owner}/{repository}"
      ],
      "execution_count": null,
      "outputs": []
    },
    {
      "cell_type": "code",
      "metadata": {
        "colab": {
          "base_uri": "https://localhost:8080/"
        },
        "id": "bqQubdG6EpNl",
        "outputId": "7b52e7b2-f17c-418a-d1c3-f29132305e4f"
      },
      "source": [
        "%cd covid_households/\n",
        "!ls -al\n",
        "\n",
        "# this will put your token in the right folder; comment this line out after use to avoid error message\n",
        "#!mv ../git_token.py ./\n",
        "\n",
        "from git_token import git_token\n",
        "\n",
        "### UNCOMMENT THIS LINE TO PULL CHANGES\n",
        "#!git pull"
      ],
      "execution_count": null,
      "outputs": [
        {
          "output_type": "stream",
          "text": [
            "/content/gdrive/My Drive/github/covid_households\n",
            "total 586\n",
            "-rw------- 1 root root   1335 Apr 20 16:17 constants.py\n",
            "-rw------- 1 root root  29003 Apr 20 16:17 Example.ipynb\n",
            "-rw------- 1 root root   4144 Apr 20 16:17 forward_simulation.py\n",
            "drwx------ 8 root root   4096 Apr 21 13:45 .git\n",
            "-rw------- 1 root root   1385 Apr 20 20:02 .gitignore\n",
            "-rw------- 1 root root     53 Apr 20 20:04 git_token.py\n",
            "drwx------ 2 root root   4096 Apr 20 16:42 .ipynb_checkpoints\n",
            "-rw------- 1 root root    695 Apr 21 13:39 likelihood.py\n",
            "-rw------- 1 root root  11425 Apr 21 13:45 population.py\n",
            "drwx------ 2 root root   4096 Apr 20 16:18 __pycache__\n",
            "-rw------- 1 root root     18 Apr 20 16:17 README.md\n",
            "-rw------- 1 root root    123 Apr 20 16:28 settings.py\n",
            "-rw------- 1 root root   8220 Apr 20 16:37 torch_forward_simulation.py\n",
            "-rw------- 1 root root   1372 Apr 20 16:17 utilities.py\n",
            "-rw------- 1 root root 511698 Apr 20 16:17 Vaccine.ipynb\n",
            "-rw------- 1 root root  13575 Apr 21 13:42 vaccine.py\n"
          ],
          "name": "stdout"
        }
      ]
    },
    {
      "cell_type": "code",
      "metadata": {
        "colab": {
          "base_uri": "https://localhost:8080/"
        },
        "id": "71i8WsDcp6uN",
        "outputId": "8e5da4d2-9f64-46ca-f9b1-252342a325e0"
      },
      "source": [
        "!git status"
      ],
      "execution_count": null,
      "outputs": [
        {
          "output_type": "stream",
          "text": [
            "On branch main\n",
            "Your branch is up to date with 'origin/main'.\n",
            "\n",
            "Changes to be committed:\n",
            "  (use \"git reset HEAD <file>...\" to unstage)\n",
            "\n",
            "\t\u001b[32mrenamed:    Likelihood.py -> likelihood.py\u001b[m\n",
            "\t\u001b[32mrenamed:    InfectionModel.py -> population.py\u001b[m\n",
            "\t\u001b[32mrenamed:    Vaccine.py -> vaccine.py\u001b[m\n",
            "\n",
            "Changes not staged for commit:\n",
            "  (use \"git add <file>...\" to update what will be committed)\n",
            "  (use \"git checkout -- <file>...\" to discard changes in working directory)\n",
            "\n",
            "\t\u001b[31mmodified:   likelihood.py\u001b[m\n",
            "\t\u001b[31mmodified:   population.py\u001b[m\n",
            "\t\u001b[31mmodified:   vaccine.py\u001b[m\n",
            "\n"
          ],
          "name": "stdout"
        }
      ]
    },
    {
      "cell_type": "markdown",
      "metadata": {
        "id": "hJ3RdiUxl9p0"
      },
      "source": [
        ""
      ]
    },
    {
      "cell_type": "markdown",
      "metadata": {
        "id": "HKqa27GWFKnE"
      },
      "source": [
        "# Initialization"
      ]
    },
    {
      "cell_type": "code",
      "metadata": {
        "id": "bJP1Mq2YEtVX"
      },
      "source": [
        "# Initialization\n",
        "import importlib\n",
        "import vaccine\n",
        "import likelihood\n",
        "import utilities\n",
        "import pandas as pd\n",
        "import numpy as np\n",
        "import functools"
      ],
      "execution_count": null,
      "outputs": []
    },
    {
      "cell_type": "markdown",
      "metadata": {
        "id": "RKWx-gMepyKX"
      },
      "source": [
        "# Reload modules"
      ]
    },
    {
      "cell_type": "code",
      "metadata": {
        "colab": {
          "base_uri": "https://localhost:8080/"
        },
        "id": "uLZH04Xap0xj",
        "outputId": "d66d5103-0299-4111-9f10-79719d066f1c"
      },
      "source": [
        "importlib.reload(vaccine)\n",
        "importlib.reload(likelihood)\n",
        "importlib.reload(utilities)"
      ],
      "execution_count": null,
      "outputs": [
        {
          "output_type": "execute_result",
          "data": {
            "text/plain": [
              "<module 'utilities' from '/content/gdrive/My Drive/github/covid_households/utilities.py'>"
            ]
          },
          "metadata": {
            "tags": []
          },
          "execution_count": 13
        }
      ]
    },
    {
      "cell_type": "markdown",
      "metadata": {
        "id": "fepe3oDXFNYl"
      },
      "source": [
        "# Experiments"
      ]
    },
    {
      "cell_type": "code",
      "metadata": {
        "colab": {
          "base_uri": "https://localhost:8080/"
        },
        "id": "Lw0BM-CD6T7F",
        "outputId": "e3f65e25-7509-43fc-c0b3-19f3240057b6"
      },
      "source": [
        "# Shows the parameters we need to create a VaccineStudy\n",
        "print(vaccine.VaccineStudy.__init__.__doc__)"
      ],
      "execution_count": null,
      "outputs": [
        {
          "output_type": "stream",
          "text": [
            "\n",
            "        Creates a VaccineStudy, which represents a two-armed study with a group of households receiving the vaccine and a group receiving the placebo.\n",
            "\n",
            "        Parameters\n",
            "        ----------\n",
            "        name : str\n",
            "            a name for the study\n",
            "        n_per_arm : int\n",
            "            the total number of households per arm of the study\n",
            "        sizes : list of ints\n",
            "            the household sizes among which to divide evenly the total number of households in the study\n",
            "        hsar : float\n",
            "            the desired average (over the household sizes specified) household secondary attack rate\n",
            "        es : float\n",
            "            the true parameter reduction in a vaccinated individual's susceptibility\n",
            "        (et_method, et) : (string, float)\n",
            "            either a tuple of the form ('hsarv', float) to express the hsar calculated relative to vaccinated individuals\n",
            "            or of the form ('et', float) to express the relative infectivity reduction among vaccinated individuals\n",
            "        duration : int\n",
            "            the duration of the experiment in days\n",
            "        importation_rate : float\n",
            "            the baseline (no vax) probability per individual per day of being infected from outside the household\n",
            "        vaccination_method : func\n",
            "            a function that takes in a shape of the form (count, size, 1) and returns a binary vector with 1s representing individuals who received the vaccine\n",
            "\n",
            "        Returns\n",
            "        ----------\n",
            "        VaccineStudy object\n",
            "        \n"
          ],
          "name": "stdout"
        }
      ]
    },
    {
      "cell_type": "code",
      "metadata": {
        "id": "G36VhYLSE6or"
      },
      "source": [
        "# --- Setting parameters for a VaccineStudy ---\n",
        "\n",
        "n_per_arm = 50 # the number of households in each arm of the study (arms are 'vaccinated' and 'placebo')\n",
        "sizes = [8] # the number of households per arm are divided evenly among the sizes, if there are multiple \n",
        "#sizes = [4,5,6,7,8] \n",
        "\n",
        "\n",
        "hsar = 0.2 # the desired household sar\n",
        "hsarv = 0.1 # the hsar calculated in reference to vaccinated individuals (therefore encoding vaccine effect on infectivity)\n",
        "\n",
        "es = 0.7 # = 1 - the relative chance per contact of an infection passing to a vaccinated individual\n",
        "\n",
        "# Duration of the study and importation rate\n",
        "duration = 90 # days\n",
        "importation_probability_over_study = 0.1 # probability an unvaccinateed individual becomes infected over the whole course of the study\n",
        "\n",
        "# Specifying the vaccination protocol. Common methods such as vaccinating one individual, a fraction of individuals, or a fixed number of individuals are made available in vaccine.py\n",
        "vaccination_method = vaccine.vaccinate_one\n",
        "#vaccination_method = functools.partial(vaccinate_fraction,fraction_vaccinated=0.5)"
      ],
      "execution_count": null,
      "outputs": []
    },
    {
      "cell_type": "code",
      "metadata": {
        "id": "zR8MikMDE7IL"
      },
      "source": [
        "# --- Create a study object, which provides methods for easy simulation and calculation of statistics ---\n",
        "one_vax_study = vaccine.VaccineStudy(\"one vaccinated\", n_per_arm, sizes, hsar, es, (hsarv, 'hsarv'), duration, importation_probability_over_study, vaccination_method)"
      ],
      "execution_count": null,
      "outputs": []
    },
    {
      "cell_type": "code",
      "metadata": {
        "colab": {
          "base_uri": "https://localhost:8080/"
        },
        "id": "oJc134CQA9Yu",
        "outputId": "9871d5d4-098d-4e4b-865a-89e668af8844"
      },
      "source": [
        "# What can we do with a VaccineStudy object once we have one?\n",
        "print(vaccine.VaccineStudy.__doc__)"
      ],
      "execution_count": null,
      "outputs": [
        {
          "output_type": "stream",
          "text": [
            "\n",
            "    A class that hosts and runs a single vaccine study experiment.\n",
            "\n",
            "    ...\n",
            "\n",
            "    Attributes\n",
            "    ----------\n",
            "    All the attributes passed at object creation. Run `print(VaccineStudy.__init__.__doc__)` for more information. Additionally:\n",
            "\n",
            "    household_beta : float\n",
            "        the real probability per contact per day of transmission between individuals in a household\n",
            "    household_sizes : dict\n",
            "        a dictionary whose keys are the sizes of households in each arm of the study and whose values are the number of households of that size\n",
            "    r0 : DataFrame\n",
            "        a table of r0s calculated relative to unvacccinated households at each size\n",
            "    vax_sus : float\n",
            "        the real parameter that defines the susceptibility of vaccinated individuals (0.0 = 0% chance to be infected, 0.1=10% chance relative to unvaccinated)\n",
            "    vax_inf : float\n",
            "        the real parameter that defines the infectivity of vaccinated individuals (0.0 = 0% chance to cause infection, 0.1=10% chance relative to unvaccinated)\n",
            "    vax_m : Model\n",
            "        a Model object that packages the parameters necessary to simulate the vaccinated arm of the study\n",
            "    control_m : Model\n",
            "        a Model object that packages the parameters necessary to simulate the control arm of the study\n",
            "\n",
            "    Additionally, after running VaccineStudy.run_trials(# trials), the following useful attributes are available:\n",
            "\n",
            "    vax_df : DataFrame\n",
            "        the tabular data that describes the results of a time-forward simulation in the vaccinated arm\n",
            "    control_df : DataFrame\n",
            "        the tabular data that describes the results of a time-forward simulation in the control arm\n",
            "    \n",
            "    Methods\n",
            "    -------\n",
            "    run_trials(trials, arms=\"both\"):\n",
            "        Conducts the study a number of times equal to trials. Optional argument arms can be used to restrict simulation to relevant arms (\"vax\" or \"control\")\n",
            "\n",
            "        returns : DataFrame, DataFrame\n",
            "            the results in two pandas DataFrame, vax_df and control_df\n",
            "\n",
            "    ves():\n",
            "        Measures the vaccine effect on susceptibility. By calculating 1 - (fraction_vaccinated_infected / fraction_placebo_infected)\n",
            "\n",
            "        returns : Series\n",
            "            a labeled series of effects indexed by the trials (number of times a full study was simulated)\n",
            "\n",
            "    vetotal():\n",
            "        Measures the aggregate vaccine effect on infections. By calculating 1 - (fraction_infected_in_vaccinated_pop / fractionn_infected_in_placebo_pop)\n",
            "\n",
            "        returns : Series\n",
            "            a labeled series of effects indexed by the trials (number of times a full study was simulated)\n",
            "\n",
            "    vecontact():\n",
            "        Measures the vaccine effect on susceptibility. By calculating 1 - (fraction_vaccinated_infected / fraction_placebo_infected)\n",
            "\n",
            "        returns : Series\n",
            "            a labeled series of effects indexed by the trials (number of times a full study was simulated)\n",
            "\n",
            "    \n"
          ],
          "name": "stdout"
        }
      ]
    },
    {
      "cell_type": "code",
      "metadata": {
        "colab": {
          "base_uri": "https://localhost:8080/",
          "height": 702
        },
        "id": "I9HTdyi3E_OU",
        "outputId": "e853394a-361d-4bb8-e96d-07ac3b7c95d3"
      },
      "source": [
        "# --- Run the study some number of times ---\n",
        "trials = 1000\n",
        "vax_df, control_df = one_vax_study.run_trials(trials, arms=\"both\") # we collect the results of our study in two Pandas DataFrames. For more information see https://pandas.pydata.org/pandas-docs/stable/reference/api/pandas.DataFrame.html\n",
        "utilities.make_bar_chart(pd.concat([vax_df, control_df])) # look at histograms of infections to check for coherence or interesting results"
      ],
      "execution_count": null,
      "outputs": [
        {
          "output_type": "stream",
          "text": [
            "Running study ...\n",
            " Vaccine study named one vaccinated with:\n",
            "\tn_per_arm        = 50\n",
            "\thousehold sizes  = {8: 50}\n",
            "\tes, hsarv        = 0.700, 0.100\n",
            "\tvax_sus, vax_inf   = 0.300, 0.463\n",
            "\tduration         = 90\n",
            "\timportation rate = 0.001\n",
            "\thousehold beta   = 0.033\n",
            "\tmin r0, max r0   = 1.620, 1.620\n"
          ],
          "name": "stdout"
        },
        {
          "output_type": "display_data",
          "data": {
            "image/png": "[encoded data removed]",
            "text/plain": [
              "<Figure size 576x576 with 1 Axes>"
            ]
          },
          "metadata": {
            "tags": [],
            "needs_background": "light"
          }
        }
      ]
    },
    {
      "cell_type": "code",
      "metadata": {
        "colab": {
          "base_uri": "https://localhost:8080/",
          "height": 424
        },
        "id": "yjEJCNqDAPB2",
        "outputId": "cc792ab8-2f62-46fe-d379-e9c59f23df1f"
      },
      "source": [
        "# --- Analyze the results ---\n",
        "\n",
        "vax_df"
      ],
      "execution_count": null,
      "outputs": [
        {
          "output_type": "execute_result",
          "data": {
            "text/html": [
              "<div>\n",
              "<style scoped>\n",
              "    .dataframe tbody tr th:only-of-type {\n",
              "        vertical-align: middle;\n",
              "    }\n",
              "\n",
              "    .dataframe tbody tr th {\n",
              "        vertical-align: top;\n",
              "    }\n",
              "\n",
              "    .dataframe thead th {\n",
              "        text-align: right;\n",
              "    }\n",
              "</style>\n",
              "<table border=\"1\" class=\"dataframe\">\n",
              "  <thead>\n",
              "    <tr style=\"text-align: right;\">\n",
              "      <th></th>\n",
              "      <th>size</th>\n",
              "      <th>model</th>\n",
              "      <th>infections</th>\n",
              "      <th>num vaccinated</th>\n",
              "      <th>vaccinated infected</th>\n",
              "      <th>unvaccinated infected</th>\n",
              "      <th>num unvaccinated</th>\n",
              "      <th>trialnum</th>\n",
              "    </tr>\n",
              "  </thead>\n",
              "  <tbody>\n",
              "    <tr>\n",
              "      <th>0</th>\n",
              "      <td>8</td>\n",
              "      <td>one vaccinated model es 0.7 hsarv 0.1 intra be...</td>\n",
              "      <td>1</td>\n",
              "      <td>1.0</td>\n",
              "      <td>0</td>\n",
              "      <td>1</td>\n",
              "      <td>7.0</td>\n",
              "      <td>0</td>\n",
              "    </tr>\n",
              "    <tr>\n",
              "      <th>1</th>\n",
              "      <td>8</td>\n",
              "      <td>one vaccinated model es 0.7 hsarv 0.1 intra be...</td>\n",
              "      <td>5</td>\n",
              "      <td>1.0</td>\n",
              "      <td>0</td>\n",
              "      <td>5</td>\n",
              "      <td>7.0</td>\n",
              "      <td>0</td>\n",
              "    </tr>\n",
              "    <tr>\n",
              "      <th>2</th>\n",
              "      <td>8</td>\n",
              "      <td>one vaccinated model es 0.7 hsarv 0.1 intra be...</td>\n",
              "      <td>0</td>\n",
              "      <td>1.0</td>\n",
              "      <td>0</td>\n",
              "      <td>0</td>\n",
              "      <td>7.0</td>\n",
              "      <td>0</td>\n",
              "    </tr>\n",
              "    <tr>\n",
              "      <th>3</th>\n",
              "      <td>8</td>\n",
              "      <td>one vaccinated model es 0.7 hsarv 0.1 intra be...</td>\n",
              "      <td>5</td>\n",
              "      <td>1.0</td>\n",
              "      <td>0</td>\n",
              "      <td>5</td>\n",
              "      <td>7.0</td>\n",
              "      <td>0</td>\n",
              "    </tr>\n",
              "    <tr>\n",
              "      <th>4</th>\n",
              "      <td>8</td>\n",
              "      <td>one vaccinated model es 0.7 hsarv 0.1 intra be...</td>\n",
              "      <td>6</td>\n",
              "      <td>1.0</td>\n",
              "      <td>0</td>\n",
              "      <td>6</td>\n",
              "      <td>7.0</td>\n",
              "      <td>0</td>\n",
              "    </tr>\n",
              "    <tr>\n",
              "      <th>...</th>\n",
              "      <td>...</td>\n",
              "      <td>...</td>\n",
              "      <td>...</td>\n",
              "      <td>...</td>\n",
              "      <td>...</td>\n",
              "      <td>...</td>\n",
              "      <td>...</td>\n",
              "      <td>...</td>\n",
              "    </tr>\n",
              "    <tr>\n",
              "      <th>49995</th>\n",
              "      <td>8</td>\n",
              "      <td>one vaccinated model es 0.7 hsarv 0.1 intra be...</td>\n",
              "      <td>0</td>\n",
              "      <td>1.0</td>\n",
              "      <td>0</td>\n",
              "      <td>0</td>\n",
              "      <td>7.0</td>\n",
              "      <td>999</td>\n",
              "    </tr>\n",
              "    <tr>\n",
              "      <th>49996</th>\n",
              "      <td>8</td>\n",
              "      <td>one vaccinated model es 0.7 hsarv 0.1 intra be...</td>\n",
              "      <td>7</td>\n",
              "      <td>1.0</td>\n",
              "      <td>0</td>\n",
              "      <td>7</td>\n",
              "      <td>7.0</td>\n",
              "      <td>999</td>\n",
              "    </tr>\n",
              "    <tr>\n",
              "      <th>49997</th>\n",
              "      <td>8</td>\n",
              "      <td>one vaccinated model es 0.7 hsarv 0.1 intra be...</td>\n",
              "      <td>0</td>\n",
              "      <td>1.0</td>\n",
              "      <td>0</td>\n",
              "      <td>0</td>\n",
              "      <td>7.0</td>\n",
              "      <td>999</td>\n",
              "    </tr>\n",
              "    <tr>\n",
              "      <th>49998</th>\n",
              "      <td>8</td>\n",
              "      <td>one vaccinated model es 0.7 hsarv 0.1 intra be...</td>\n",
              "      <td>0</td>\n",
              "      <td>1.0</td>\n",
              "      <td>0</td>\n",
              "      <td>0</td>\n",
              "      <td>7.0</td>\n",
              "      <td>999</td>\n",
              "    </tr>\n",
              "    <tr>\n",
              "      <th>49999</th>\n",
              "      <td>8</td>\n",
              "      <td>one vaccinated model es 0.7 hsarv 0.1 intra be...</td>\n",
              "      <td>0</td>\n",
              "      <td>1.0</td>\n",
              "      <td>0</td>\n",
              "      <td>0</td>\n",
              "      <td>7.0</td>\n",
              "      <td>999</td>\n",
              "    </tr>\n",
              "  </tbody>\n",
              "</table>\n",
              "<p>50000 rows × 8 columns</p>\n",
              "</div>"
            ],
            "text/plain": [
              "       size  ... trialnum\n",
              "0         8  ...        0\n",
              "1         8  ...        0\n",
              "2         8  ...        0\n",
              "3         8  ...        0\n",
              "4         8  ...        0\n",
              "...     ...  ...      ...\n",
              "49995     8  ...      999\n",
              "49996     8  ...      999\n",
              "49997     8  ...      999\n",
              "49998     8  ...      999\n",
              "49999     8  ...      999\n",
              "\n",
              "[50000 rows x 8 columns]"
            ]
          },
          "metadata": {
            "tags": []
          },
          "execution_count": 16
        }
      ]
    },
    {
      "cell_type": "markdown",
      "metadata": {
        "id": "tTYwUO3p2Djg"
      },
      "source": [
        "# Making a git commit from changes to python backend\n",
        "\n",
        "To save this notebook use File > Save a copy in Github"
      ]
    },
    {
      "cell_type": "code",
      "metadata": {
        "colab": {
          "base_uri": "https://localhost:8080/"
        },
        "id": "mnPAmOsD2ACG",
        "outputId": "5f2a4d4a-5b8e-43e0-cc45-7dafa92a942b"
      },
      "source": [
        "!git add -A\n",
        "!git status"
      ],
      "execution_count": null,
      "outputs": [
        {
          "output_type": "stream",
          "text": [
            "On branch main\n",
            "Your branch is up to date with 'origin/main'.\n",
            "\n",
            "nothing to commit, working tree clean\n"
          ],
          "name": "stdout"
        }
      ]
    },
    {
      "cell_type": "code",
      "metadata": {
        "id": "OaRjJRgz2lRk"
      },
      "source": [
        "!git config --global user.email \"\"\n",
        "!git config --global user.email \"Thayer\""
      ],
      "execution_count": null,
      "outputs": []
    },
    {
      "cell_type": "code",
      "metadata": {
        "colab": {
          "base_uri": "https://localhost:8080/"
        },
        "id": "3tZeUimV2-Zk",
        "outputId": "88fc6841-9b56-4923-f9d1-6c2c0c5628c2"
      },
      "source": [
        "message = input(\"Commit message? \")\n",
        "\n",
        "!git commit -m \"{message}\""
      ],
      "execution_count": null,
      "outputs": [
        {
          "output_type": "stream",
          "text": [
            "Commit message? Refactor filenames. Better behavior for modules\n",
            "[main 6fdeff9] Refactor filenames. Better behavior for modules\n",
            " 3 files changed, 22 insertions(+), 20 deletions(-)\n",
            " rename Likelihood.py => likelihood.py (97%)\n",
            " rename InfectionModel.py => population.py (90%)\n",
            " rename Vaccine.py => vaccine.py (94%)\n"
          ],
          "name": "stdout"
        }
      ]
    },
    {
      "cell_type": "markdown",
      "metadata": {
        "id": "0n5-5yi0_dYu"
      },
      "source": [
        "# Pushing upstream"
      ]
    },
    {
      "cell_type": "code",
      "metadata": {
        "id": "s9cLEEJSwAf3"
      },
      "source": [
        "!git remote set-url origin https://{git_token}@github.com/{repo_owner}/{repository}"
      ],
      "execution_count": null,
      "outputs": []
    },
    {
      "cell_type": "code",
      "metadata": {
        "colab": {
          "base_uri": "https://localhost:8080/"
        },
        "id": "QzWA4B7Cr5MG",
        "outputId": "ed720d16-24d0-409b-e0fd-f8dd45c1ca95"
      },
      "source": [
        "!git pull"
      ],
      "execution_count": null,
      "outputs": [
        {
          "output_type": "stream",
          "text": [
            "Already up to date.\n"
          ],
          "name": "stdout"
        }
      ]
    },
    {
      "cell_type": "code",
      "metadata": {
        "id": "u1f1DCBt3HV1"
      },
      "source": [
        "#from git_token import git_token\n",
        "#!git remote set-url origin https://{git_token}@github.com/{username}/{repository}\n",
        "\n",
        "!git push"
      ],
      "execution_count": null,
      "outputs": []
    }
  ]
}