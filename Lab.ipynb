{
  "nbformat": 4,
  "nbformat_minor": 0,
  "metadata": {
    "colab": {
      "name": "Lab.ipynb",
      "provenance": [],
      "collapsed_sections": [
        "HKqa27GWFKnE",
        "tTYwUO3p2Djg"
      ],
      "authorship_tag": "ABX9TyPnPtpcyOEoDsWPcQ9P+s07",
      "include_colab_link": true
    },
    "kernelspec": {
      "name": "python3",
      "display_name": "Python 3"
    },
    "language_info": {
      "name": "python"
    },
    "accelerator": "GPU"
  },
  "cells": [
    {
      "cell_type": "markdown",
      "metadata": {
        "id": "view-in-github",
        "colab_type": "text"
      },
      "source": [
        "<a href=\"https://colab.research.google.com/github/tanderson11/covid_households/blob/main/Lab.ipynb\" target=\"_parent\"><img src=\"https://colab.research.google.com/assets/colab-badge.svg\" alt=\"Open In Colab\"/></a>"
      ]
    },
    {
      "cell_type": "markdown",
      "metadata": {
        "id": "IsWpiP3DFFMo"
      },
      "source": [
        "# Drive + Github Configuration\n",
        "\n",
        "If running for the first time, uncomment the necessary line to clone the repository\n",
        "\n",
        "You'll have to authenticate on google drive if the runtime times out."
      ]
    },
    {
      "cell_type": "code",
      "metadata": {
        "colab": {
          "base_uri": "https://localhost:8080/"
        },
        "id": "ORzYVf06BhuU",
        "outputId": "5d4787fa-8c72-4789-986b-913e66c89376"
      },
      "source": [
        "from google.colab import drive\n",
        "drive.mount('/content/gdrive')"
      ],
      "execution_count": 1,
      "outputs": [
        {
          "output_type": "stream",
          "text": [
            "Mounted at /content/gdrive\n"
          ],
          "name": "stdout"
        }
      ]
    },
    {
      "cell_type": "code",
      "metadata": {
        "colab": {
          "base_uri": "https://localhost:8080/"
        },
        "id": "I3fmCBmpDCZn",
        "outputId": "7b143491-467f-4bfe-df7d-fe018d7b6a41"
      },
      "source": [
        "%mkdir /content/gdrive/My\\ Drive/github\n",
        "%cd /content/gdrive/My\\ Drive/github"
      ],
      "execution_count": 2,
      "outputs": [
        {
          "output_type": "stream",
          "text": [
            "mkdir: cannot create directory ‘/content/gdrive/My Drive/github’: File exists\n",
            "/content/gdrive/My Drive/github\n"
          ],
          "name": "stdout"
        }
      ]
    },
    {
      "cell_type": "code",
      "metadata": {
        "id": "Bwvtxr_X15S-"
      },
      "source": [
        "username=\"tanderson11\"\n",
        "repository=\"covid_households\""
      ],
      "execution_count": 3,
      "outputs": []
    },
    {
      "cell_type": "code",
      "metadata": {
        "id": "esTV8J3wD0tA"
      },
      "source": [
        "### UNCOMMENT THIS LINE TO CLONE FOR THE FIRST TIME\n",
        "#!git clone https://github.com/tanderson11/covid_households.git\n",
        "\n",
        "### UNCOMMENT THIS LINE TO PULL CHANGES\n",
        "#!git pull"
      ],
      "execution_count": 4,
      "outputs": []
    },
    {
      "cell_type": "code",
      "metadata": {
        "colab": {
          "base_uri": "https://localhost:8080/"
        },
        "id": "bqQubdG6EpNl",
        "outputId": "10c926c7-8797-4c6c-fde2-f02257707e52"
      },
      "source": [
        "%cd covid_households/\n",
        "!ls -al\n",
        "\n",
        "# if using token interface\n",
        "#!echo git_token=\\\"your_token_here\\\" > git_token.py\n",
        "#from git_token import git_token\n",
        "#!git clone https://{git_token}@github.com/{username}/{repository}\n"
      ],
      "execution_count": 5,
      "outputs": [
        {
          "output_type": "stream",
          "text": [
            "/content/gdrive/My Drive/github/covid_households\n",
            "total 585\n",
            "-rw------- 1 root root   1335 Apr 20 16:17 constants.py\n",
            "-rw------- 1 root root  29003 Apr 20 16:17 Example.ipynb\n",
            "-rw------- 1 root root   4144 Apr 20 16:17 forward_simulation.py\n",
            "drwx------ 2 root root   4096 Apr 20 16:16 .git\n",
            "-rw------- 1 root root   1385 Apr 20 20:02 .gitignore\n",
            "-rw------- 1 root root     53 Apr 20 20:04 git_token.py\n",
            "-rw------- 1 root root  11325 Apr 21 00:26 InfectionModel.py\n",
            "drwx------ 2 root root   4096 Apr 20 16:42 .ipynb_checkpoints\n",
            "-rw------- 1 root root    675 Apr 20 16:17 Likelihood.py\n",
            "drwx------ 2 root root   4096 Apr 20 16:18 __pycache__\n",
            "-rw------- 1 root root     18 Apr 20 16:17 README.md\n",
            "-rw------- 1 root root    123 Apr 20 16:28 settings.py\n",
            "-rw------- 1 root root   8220 Apr 20 16:37 torch_forward_simulation.py\n",
            "-rw------- 1 root root   1372 Apr 20 16:17 utilities.py\n",
            "-rw------- 1 root root 511698 Apr 20 16:17 Vaccine.ipynb\n",
            "-rw------- 1 root root  13138 Apr 21 00:34 Vaccine.py\n"
          ],
          "name": "stdout"
        }
      ]
    },
    {
      "cell_type": "markdown",
      "metadata": {
        "id": "HKqa27GWFKnE"
      },
      "source": [
        "# Initialization"
      ]
    },
    {
      "cell_type": "code",
      "metadata": {
        "id": "bJP1Mq2YEtVX"
      },
      "source": [
        "# Initialization\n",
        "import pandas as pd\n",
        "import numpy as np\n",
        "from Vaccine import VaccineStudy\n",
        "import utilities"
      ],
      "execution_count": 6,
      "outputs": []
    },
    {
      "cell_type": "markdown",
      "metadata": {
        "id": "fepe3oDXFNYl"
      },
      "source": [
        "# Experiments"
      ]
    },
    {
      "cell_type": "code",
      "metadata": {
        "colab": {
          "base_uri": "https://localhost:8080/"
        },
        "id": "Lw0BM-CD6T7F",
        "outputId": "01205f61-75d3-4c23-9e62-a66f39bd21e1"
      },
      "source": [
        "# Shows the parameters we need to create a VaccineStudy\n",
        "print(VaccineStudy.__init__.__doc__)"
      ],
      "execution_count": 7,
      "outputs": [
        {
          "output_type": "stream",
          "text": [
            "\n",
            "        Creates a VaccineStudy, which represents a two-armed study with a group of households receiving the vaccine and a group receiving the placebo.\n",
            "\n",
            "        Parameters\n",
            "        ----------\n",
            "        name : str\n",
            "            a name for the study\n",
            "        n_per_arm : int\n",
            "            the total number of households per arm of the study\n",
            "        sizes : list of ints\n",
            "            the household sizes among which to divide evenly the total number of households in the study\n",
            "        hsar : float\n",
            "            the desired average (over the household sizes specified) household secondary attack rate\n",
            "        es : float\n",
            "            the true parameter reduction in a vaccinated individual's susceptibility\n",
            "        (et_method, et) : (string, float)\n",
            "            either a tuple of the form ('hsarv', float) to express the hsar calculated relative to vaccinated individuals\n",
            "            or of the form ('et', float) to express the relative infectivity reduction among vaccinated individuals\n",
            "        duration : int\n",
            "            the duration of the experiment in days\n",
            "        importation_rate : float\n",
            "            the baseline (no vax) probability per individual per day of being infected from outside the household\n",
            "        vaccination_method : func\n",
            "            a function that takes in a shape of the form (count, size, 1) and returns a binary vector with 1s representing individuals who received the vaccine\n",
            "\n",
            "        Returns\n",
            "        ----------\n",
            "        VaccineStudy object\n",
            "        \n"
          ],
          "name": "stdout"
        }
      ]
    },
    {
      "cell_type": "code",
      "metadata": {
        "id": "G36VhYLSE6or"
      },
      "source": [
        "# --- Setting parameters for a VaccineStudy ---\n",
        "\n",
        "n_per_arm = 50 # the number of households in each arm of the study (arms are 'vaccinated' and 'placebo')\n",
        "sizes = [8] # the number of households per arm are divided evenly among the sizes, if there are multiple \n",
        "#sizes = [4,5,6,7,8] \n",
        "\n",
        "\n",
        "hsar = 0.2 # the desired household sar\n",
        "hsarv = 0.1 # the hsar calculated in reference to vaccinated individuals (therefore encoding vaccine effect on infectivity)\n",
        "\n",
        "es = 0.7 # = 1 - the relative chance per contact of an infection passing to a vaccinated individual\n",
        "\n",
        "# Duration of the study and importation rate\n",
        "duration = 90 # days\n",
        "importation_probability_over_study = 0.1 # probability an unvaccinateed individual becomes infected over the whole course of the study\n",
        "importation_rate = 1-(1-importation_probability_over_study)**(1/duration) # converting risk over study period to daily risk\n",
        "\n",
        "# Specifying the vaccination protocol. Common methods such as vaccinating one individual, a fraction of individuals, or a fixed number of individuals are made available\n",
        "from Vaccine import vaccinate_one, vaccinate_number, vaccinate_fraction # vaccinates one individual in each household\n",
        "vaccination_method = vaccinate_one\n",
        "#vaccination_method = functools.partial(vaccinate_fraction,fraction_vaccinated=0.5)"
      ],
      "execution_count": 8,
      "outputs": []
    },
    {
      "cell_type": "code",
      "metadata": {
        "id": "zR8MikMDE7IL"
      },
      "source": [
        "# --- Create a study object, which provides methods for easy simulation and calculation of statistics ---\n",
        "one_vax_study = VaccineStudy(\"one vaccinated\", n_per_arm, sizes, hsar, es, (hsarv, 'hsarv'), duration, importation_rate, vaccination_method)"
      ],
      "execution_count": 9,
      "outputs": []
    },
    {
      "cell_type": "code",
      "metadata": {
        "colab": {
          "base_uri": "https://localhost:8080/",
          "height": 702
        },
        "id": "I9HTdyi3E_OU",
        "outputId": "d6e54fea-c81e-4651-c0a9-ae9466608e8a"
      },
      "source": [
        "# --- Run the study some number of times ---\n",
        "trials = 1000\n",
        "vax_df, control_df = one_vax_study.run_trials(trials, arms=\"both\") # we collect the results of our study in two Pandas DataFrames. For more information see https://pandas.pydata.org/pandas-docs/stable/reference/api/pandas.DataFrame.html\n",
        "utilities.make_bar_chart(pd.concat([vax_df, control_df])) # look at histograms of infections to check for coherence or interesting results"
      ],
      "execution_count": 10,
      "outputs": [
        {
          "output_type": "stream",
          "text": [
            "Running study ...\n",
            " Vaccine study named one vaccinated with:\n",
            "\tn_per_arm        = 50\n",
            "\thousehold sizes  = {8: 50}\n",
            "\tes, hsarv        = 0.700, 0.100\n",
            "\tvax_sus, vax_inf   = 0.300, 0.463\n",
            "\tduration         = 90\n",
            "\timportation rate = 0.001\n",
            "\thousehold beta   = 0.033\n",
            "\tmin r0, max r0   = 1.620, 1.620\n"
          ],
          "name": "stdout"
        },
        {
          "output_type": "display_data",
          "data": {
            "image/png": "[encoded data removed]",
            "text/plain": [
              "<Figure size 576x576 with 1 Axes>"
            ]
          },
          "metadata": {
            "tags": [],
            "needs_background": "light"
          }
        }
      ]
    },
    {
      "cell_type": "code",
      "metadata": {
        "colab": {
          "base_uri": "https://localhost:8080/",
          "height": 424
        },
        "id": "yjEJCNqDAPB2",
        "outputId": "b4896ffd-e489-4bd0-f108-3ae9c113ddee"
      },
      "source": [
        "# --- Analyze the results ---\n",
        "\n",
        "vax_df"
      ],
      "execution_count": 11,
      "outputs": [
        {
          "output_type": "execute_result",
          "data": {
            "text/html": [
              "<div>\n",
              "<style scoped>\n",
              "    .dataframe tbody tr th:only-of-type {\n",
              "        vertical-align: middle;\n",
              "    }\n",
              "\n",
              "    .dataframe tbody tr th {\n",
              "        vertical-align: top;\n",
              "    }\n",
              "\n",
              "    .dataframe thead th {\n",
              "        text-align: right;\n",
              "    }\n",
              "</style>\n",
              "<table border=\"1\" class=\"dataframe\">\n",
              "  <thead>\n",
              "    <tr style=\"text-align: right;\">\n",
              "      <th></th>\n",
              "      <th>size</th>\n",
              "      <th>model</th>\n",
              "      <th>infections</th>\n",
              "      <th>num vaccinated</th>\n",
              "      <th>vaccinated infected</th>\n",
              "      <th>unvaccinated infected</th>\n",
              "      <th>num unvaccinated</th>\n",
              "      <th>trialnum</th>\n",
              "    </tr>\n",
              "  </thead>\n",
              "  <tbody>\n",
              "    <tr>\n",
              "      <th>0</th>\n",
              "      <td>8</td>\n",
              "      <td>one vaccinated model es 0.7 0.1 hsarv intra be...</td>\n",
              "      <td>0</td>\n",
              "      <td>1.0</td>\n",
              "      <td>0</td>\n",
              "      <td>0</td>\n",
              "      <td>7.0</td>\n",
              "      <td>0</td>\n",
              "    </tr>\n",
              "    <tr>\n",
              "      <th>1</th>\n",
              "      <td>8</td>\n",
              "      <td>one vaccinated model es 0.7 0.1 hsarv intra be...</td>\n",
              "      <td>4</td>\n",
              "      <td>1.0</td>\n",
              "      <td>1</td>\n",
              "      <td>3</td>\n",
              "      <td>7.0</td>\n",
              "      <td>0</td>\n",
              "    </tr>\n",
              "    <tr>\n",
              "      <th>2</th>\n",
              "      <td>8</td>\n",
              "      <td>one vaccinated model es 0.7 0.1 hsarv intra be...</td>\n",
              "      <td>7</td>\n",
              "      <td>1.0</td>\n",
              "      <td>0</td>\n",
              "      <td>7</td>\n",
              "      <td>7.0</td>\n",
              "      <td>0</td>\n",
              "    </tr>\n",
              "    <tr>\n",
              "      <th>3</th>\n",
              "      <td>8</td>\n",
              "      <td>one vaccinated model es 0.7 0.1 hsarv intra be...</td>\n",
              "      <td>1</td>\n",
              "      <td>1.0</td>\n",
              "      <td>1</td>\n",
              "      <td>0</td>\n",
              "      <td>7.0</td>\n",
              "      <td>0</td>\n",
              "    </tr>\n",
              "    <tr>\n",
              "      <th>4</th>\n",
              "      <td>8</td>\n",
              "      <td>one vaccinated model es 0.7 0.1 hsarv intra be...</td>\n",
              "      <td>0</td>\n",
              "      <td>1.0</td>\n",
              "      <td>0</td>\n",
              "      <td>0</td>\n",
              "      <td>7.0</td>\n",
              "      <td>0</td>\n",
              "    </tr>\n",
              "    <tr>\n",
              "      <th>...</th>\n",
              "      <td>...</td>\n",
              "      <td>...</td>\n",
              "      <td>...</td>\n",
              "      <td>...</td>\n",
              "      <td>...</td>\n",
              "      <td>...</td>\n",
              "      <td>...</td>\n",
              "      <td>...</td>\n",
              "    </tr>\n",
              "    <tr>\n",
              "      <th>49995</th>\n",
              "      <td>8</td>\n",
              "      <td>one vaccinated model es 0.7 0.1 hsarv intra be...</td>\n",
              "      <td>0</td>\n",
              "      <td>1.0</td>\n",
              "      <td>0</td>\n",
              "      <td>0</td>\n",
              "      <td>7.0</td>\n",
              "      <td>999</td>\n",
              "    </tr>\n",
              "    <tr>\n",
              "      <th>49996</th>\n",
              "      <td>8</td>\n",
              "      <td>one vaccinated model es 0.7 0.1 hsarv intra be...</td>\n",
              "      <td>0</td>\n",
              "      <td>1.0</td>\n",
              "      <td>0</td>\n",
              "      <td>0</td>\n",
              "      <td>7.0</td>\n",
              "      <td>999</td>\n",
              "    </tr>\n",
              "    <tr>\n",
              "      <th>49997</th>\n",
              "      <td>8</td>\n",
              "      <td>one vaccinated model es 0.7 0.1 hsarv intra be...</td>\n",
              "      <td>0</td>\n",
              "      <td>1.0</td>\n",
              "      <td>0</td>\n",
              "      <td>0</td>\n",
              "      <td>7.0</td>\n",
              "      <td>999</td>\n",
              "    </tr>\n",
              "    <tr>\n",
              "      <th>49998</th>\n",
              "      <td>8</td>\n",
              "      <td>one vaccinated model es 0.7 0.1 hsarv intra be...</td>\n",
              "      <td>2</td>\n",
              "      <td>1.0</td>\n",
              "      <td>0</td>\n",
              "      <td>2</td>\n",
              "      <td>7.0</td>\n",
              "      <td>999</td>\n",
              "    </tr>\n",
              "    <tr>\n",
              "      <th>49999</th>\n",
              "      <td>8</td>\n",
              "      <td>one vaccinated model es 0.7 0.1 hsarv intra be...</td>\n",
              "      <td>0</td>\n",
              "      <td>1.0</td>\n",
              "      <td>0</td>\n",
              "      <td>0</td>\n",
              "      <td>7.0</td>\n",
              "      <td>999</td>\n",
              "    </tr>\n",
              "  </tbody>\n",
              "</table>\n",
              "<p>50000 rows × 8 columns</p>\n",
              "</div>"
            ],
            "text/plain": [
              "       size  ... trialnum\n",
              "0         8  ...        0\n",
              "1         8  ...        0\n",
              "2         8  ...        0\n",
              "3         8  ...        0\n",
              "4         8  ...        0\n",
              "...     ...  ...      ...\n",
              "49995     8  ...      999\n",
              "49996     8  ...      999\n",
              "49997     8  ...      999\n",
              "49998     8  ...      999\n",
              "49999     8  ...      999\n",
              "\n",
              "[50000 rows x 8 columns]"
            ]
          },
          "metadata": {
            "tags": []
          },
          "execution_count": 11
        }
      ]
    },
    {
      "cell_type": "markdown",
      "metadata": {
        "id": "tTYwUO3p2Djg"
      },
      "source": [
        "# Making a git commit from all changes\n",
        "\n",
        "Manually save notebook first! (And configure your name before running the first time)"
      ]
    },
    {
      "cell_type": "code",
      "metadata": {
        "colab": {
          "base_uri": "https://localhost:8080/"
        },
        "id": "mnPAmOsD2ACG",
        "outputId": "29ed1ac3-19f3-4eb6-bf4c-79628879ada8"
      },
      "source": [
        "!git add -A\n",
        "!git status"
      ],
      "execution_count": 12,
      "outputs": [
        {
          "output_type": "stream",
          "text": [
            "On branch main\n",
            "Your branch is up to date with 'origin/main'.\n",
            "\n",
            "Changes to be committed:\n",
            "  (use \"git reset HEAD <file>...\" to unstage)\n",
            "\n",
            "\t\u001b[32mmodified:   InfectionModel.py\u001b[m\n",
            "\t\u001b[32mmodified:   Vaccine.py\u001b[m\n",
            "\n"
          ],
          "name": "stdout"
        }
      ]
    },
    {
      "cell_type": "code",
      "metadata": {
        "id": "OaRjJRgz2lRk"
      },
      "source": [
        "!git config --global user.email \"\"\n",
        "!git config --global user.email \"Thayer\""
      ],
      "execution_count": 15,
      "outputs": []
    },
    {
      "cell_type": "code",
      "metadata": {
        "colab": {
          "base_uri": "https://localhost:8080/"
        },
        "id": "3tZeUimV2-Zk",
        "outputId": "9e6a3ba6-c17b-46aa-b583-0eb498d456e8"
      },
      "source": [
        "message = input(\"Commit message? \")\n",
        "\n",
        "!git commit -m \"{message}\""
      ],
      "execution_count": 16,
      "outputs": [
        {
          "output_type": "stream",
          "text": [
            "Commit message? Tweaking documentation and adding basic r0 calculator\n",
            "[main a6ddd69] Tweaking documentation and adding basic r0 calculator\n",
            " 2 files changed, 23 insertions(+), 15 deletions(-)\n"
          ],
          "name": "stdout"
        }
      ]
    },
    {
      "cell_type": "markdown",
      "metadata": {
        "id": "0n5-5yi0_dYu"
      },
      "source": [
        "# Pushing upstream"
      ]
    },
    {
      "cell_type": "code",
      "metadata": {
        "colab": {
          "base_uri": "https://localhost:8080/"
        },
        "id": "u1f1DCBt3HV1",
        "outputId": "38c7dffb-a66a-4978-ca99-d4ebfa36a0f0"
      },
      "source": [
        "from git_token import git_token\n",
        "\n",
        "!git remote set-url origin https://{git_token}@github.com/{username}/{repository}\n",
        "!git push"
      ],
      "execution_count": 18,
      "outputs": [
        {
          "output_type": "stream",
          "text": [
            "Counting objects: 4, done.\n",
            "Delta compression using up to 2 threads.\n",
            "Compressing objects: 100% (4/4), done.\n",
            "Writing objects: 100% (4/4), 1.14 KiB | 1.14 MiB/s, done.\n",
            "Total 4 (delta 3), reused 0 (delta 0)\n",
            "remote: Resolving deltas: 100% (3/3), completed with 3 local objects.\u001b[K\n",
            "To https://github.com/tanderson11/covid_households\n",
            "   f979b48..a6ddd69  main -> main\n"
          ],
          "name": "stdout"
        }
      ]
    }
  ]
}