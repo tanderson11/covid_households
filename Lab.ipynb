{
 "cells": [
  {
   "cell_type": "markdown",
   "metadata": {
    "colab_type": "text",
    "id": "view-in-github"
   },
   "source": [
    "<a href=\"https://colab.research.google.com/github/tanderson11/covid_households/blob/main/Lab.ipynb\" target=\"_parent\"><img src=\"https://colab.research.google.com/assets/colab-badge.svg\" alt=\"Open In Colab\"/></a>"
   ]
  },
  {
   "cell_type": "markdown",
   "metadata": {
    "id": "vFEfWUyjl_L-"
   },
   "source": [
    "# Example Laboratory"
   ]
  },
  {
   "cell_type": "markdown",
   "metadata": {
    "id": "IsWpiP3DFFMo"
   },
   "source": [
    "# Drive + Github Configuration\n",
    "\n",
    "If running for the first time, uncomment the necessary lines to create a token and clone the repository.\n",
    "\n",
    "You'll have to authenticate on google drive the first time and each time the runtime times out."
   ]
  },
  {
   "cell_type": "code",
   "execution_count": null,
   "metadata": {
    "colab": {
     "base_uri": "https://localhost:8080/"
    },
    "id": "ORzYVf06BhuU",
    "outputId": "9ec623ce-77b0-41f2-cb29-c15076abec8c"
   },
   "outputs": [
    {
     "name": "stdout",
     "output_type": "stream",
     "text": [
      "Drive already mounted at /content/gdrive; to attempt to forcibly remount, call drive.mount(\"/content/gdrive\", force_remount=True).\n"
     ]
    }
   ],
   "source": [
    "from google.colab import drive\n",
    "drive.mount('/content/gdrive')"
   ]
  },
  {
   "cell_type": "code",
   "execution_count": null,
   "metadata": {
    "colab": {
     "base_uri": "https://localhost:8080/"
    },
    "id": "I3fmCBmpDCZn",
    "outputId": "b547ec53-23bc-4de9-9ff2-a553262dc88c"
   },
   "outputs": [
    {
     "name": "stdout",
     "output_type": "stream",
     "text": [
      "mkdir: cannot create directory ‘/content/gdrive/My Drive/github’: File exists\n",
      "/content/gdrive/My Drive/github\n"
     ]
    }
   ],
   "source": [
    "%mkdir /content/gdrive/My\\ Drive/github\n",
    "%cd /content/gdrive/My\\ Drive/github"
   ]
  },
  {
   "cell_type": "code",
   "execution_count": 29,
   "metadata": {
    "id": "M6mdtrqrgY1d"
   },
   "outputs": [],
   "source": [
    "# Request a token and then add it to the line below and then uncomment both lines\n",
    "#!echo git_token=\\\"your_token_here\\\" > git_token.py\n",
    "#from git_token import git_token"
   ]
  },
  {
   "cell_type": "code",
   "execution_count": 30,
   "metadata": {
    "id": "Bwvtxr_X15S-"
   },
   "outputs": [],
   "source": [
    "repo_owner=\"tanderson11\"\n",
    "repository=\"covid_households\""
   ]
  },
  {
   "cell_type": "code",
   "execution_count": null,
   "metadata": {
    "id": "esTV8J3wD0tA"
   },
   "outputs": [],
   "source": [
    "### UNCOMMENT THIS LINE TO CLONE FOR THE FIRST TIME\n",
    "#!git clone https://{git_token}@github.com/{repo_owner}/{repository}"
   ]
  },
  {
   "cell_type": "code",
   "execution_count": null,
   "metadata": {
    "colab": {
     "base_uri": "https://localhost:8080/"
    },
    "id": "bqQubdG6EpNl",
    "outputId": "7b52e7b2-f17c-418a-d1c3-f29132305e4f"
   },
   "outputs": [
    {
     "name": "stdout",
     "output_type": "stream",
     "text": [
      "/content/gdrive/My Drive/github/covid_households\n",
      "total 586\n",
      "-rw------- 1 root root   1335 Apr 20 16:17 constants.py\n",
      "-rw------- 1 root root  29003 Apr 20 16:17 Example.ipynb\n",
      "-rw------- 1 root root   4144 Apr 20 16:17 forward_simulation.py\n",
      "drwx------ 8 root root   4096 Apr 21 13:45 .git\n",
      "-rw------- 1 root root   1385 Apr 20 20:02 .gitignore\n",
      "-rw------- 1 root root     53 Apr 20 20:04 git_token.py\n",
      "drwx------ 2 root root   4096 Apr 20 16:42 .ipynb_checkpoints\n",
      "-rw------- 1 root root    695 Apr 21 13:39 likelihood.py\n",
      "-rw------- 1 root root  11425 Apr 21 13:45 population.py\n",
      "drwx------ 2 root root   4096 Apr 20 16:18 __pycache__\n",
      "-rw------- 1 root root     18 Apr 20 16:17 README.md\n",
      "-rw------- 1 root root    123 Apr 20 16:28 settings.py\n",
      "-rw------- 1 root root   8220 Apr 20 16:37 torch_forward_simulation.py\n",
      "-rw------- 1 root root   1372 Apr 20 16:17 utilities.py\n",
      "-rw------- 1 root root 511698 Apr 20 16:17 Vaccine.ipynb\n",
      "-rw------- 1 root root  13575 Apr 21 13:42 vaccine.py\n"
     ]
    }
   ],
   "source": [
    "%cd covid_households/\n",
    "!ls -al\n",
    "\n",
    "# this will put your token in the right folder; comment this line out after use to avoid error message\n",
    "#!mv ../git_token.py ./\n",
    "\n",
    "from git_token import git_token\n",
    "\n",
    "### UNCOMMENT THIS LINE TO PULL CHANGES\n",
    "#!git pull"
   ]
  },
  {
   "cell_type": "code",
   "execution_count": null,
   "metadata": {
    "colab": {
     "base_uri": "https://localhost:8080/"
    },
    "id": "71i8WsDcp6uN",
    "outputId": "8e5da4d2-9f64-46ca-f9b1-252342a325e0"
   },
   "outputs": [
    {
     "name": "stdout",
     "output_type": "stream",
     "text": [
      "On branch main\n",
      "Your branch is up to date with 'origin/main'.\n",
      "\n",
      "Changes to be committed:\n",
      "  (use \"git reset HEAD <file>...\" to unstage)\n",
      "\n",
      "\t\u001b[32mrenamed:    Likelihood.py -> likelihood.py\u001b[m\n",
      "\t\u001b[32mrenamed:    InfectionModel.py -> population.py\u001b[m\n",
      "\t\u001b[32mrenamed:    Vaccine.py -> vaccine.py\u001b[m\n",
      "\n",
      "Changes not staged for commit:\n",
      "  (use \"git add <file>...\" to update what will be committed)\n",
      "  (use \"git checkout -- <file>...\" to discard changes in working directory)\n",
      "\n",
      "\t\u001b[31mmodified:   likelihood.py\u001b[m\n",
      "\t\u001b[31mmodified:   population.py\u001b[m\n",
      "\t\u001b[31mmodified:   vaccine.py\u001b[m\n",
      "\n"
     ]
    }
   ],
   "source": [
    "!git status"
   ]
  },
  {
   "cell_type": "markdown",
   "metadata": {
    "id": "HKqa27GWFKnE"
   },
   "source": [
    "# Initialization"
   ]
  },
  {
   "cell_type": "code",
   "execution_count": 1,
   "metadata": {
    "id": "bJP1Mq2YEtVX"
   },
   "outputs": [],
   "source": [
    "# Initialization\n",
    "import importlib\n",
    "import vaccine\n",
    "import likelihood\n",
    "import utilities\n",
    "import pandas as pd\n",
    "import numpy as np\n",
    "import functools"
   ]
  },
  {
   "cell_type": "markdown",
   "metadata": {
    "id": "RKWx-gMepyKX"
   },
   "source": [
    "# Reload modules"
   ]
  },
  {
   "cell_type": "code",
   "execution_count": 6,
   "metadata": {
    "colab": {
     "base_uri": "https://localhost:8080/"
    },
    "id": "uLZH04Xap0xj",
    "outputId": "d66d5103-0299-4111-9f10-79719d066f1c"
   },
   "outputs": [
    {
     "data": {
      "text/plain": [
       "<module 'utilities' from '/Users/thayer/covid_households/utilities.py'>"
      ]
     },
     "execution_count": 6,
     "metadata": {},
     "output_type": "execute_result"
    }
   ],
   "source": [
    "importlib.reload(vaccine)\n",
    "importlib.reload(likelihood)\n",
    "importlib.reload(utilities)"
   ]
  },
  {
   "cell_type": "markdown",
   "metadata": {
    "id": "fepe3oDXFNYl"
   },
   "source": [
    "# Experiments"
   ]
  },
  {
   "cell_type": "code",
   "execution_count": 2,
   "metadata": {
    "colab": {
     "base_uri": "https://localhost:8080/"
    },
    "id": "Lw0BM-CD6T7F",
    "outputId": "e3f65e25-7509-43fc-c0b3-19f3240057b6"
   },
   "outputs": [
    {
     "name": "stdout",
     "output_type": "stream",
     "text": [
      "\n",
      "        Creates a VaccineStudy, which represents a two-armed study with a group of households receiving the vaccine and a group receiving the placebo.\n",
      "\n",
      "        Parameters\n",
      "        ----------\n",
      "        name : str\n",
      "            a name for the study\n",
      "        n_per_arm : int\n",
      "            the total number of households per arm of the study\n",
      "        sizes : list of ints\n",
      "            the household sizes among which to divide evenly the total number of households in the study\n",
      "        hsar : float\n",
      "            the desired average (over the household sizes specified) household secondary attack rate\n",
      "        es : float\n",
      "            the true parameter reduction in a vaccinated individual's susceptibility\n",
      "        (et_method, et) : (string, float)\n",
      "            either a tuple of the form ('hsarv', float) to express the hsar calculated relative to vaccinated individuals\n",
      "            or of the form ('et', float) to express the relative infectivity reduction among vaccinated individuals\n",
      "        duration : int\n",
      "            the duration of the experiment in days\n",
      "        importation_rate : float\n",
      "            the baseline (no vax) probability per individual per day of being infected from outside the household\n",
      "        vaccination_method : func\n",
      "            a function that takes in a shape of the form (count, size, 1) and returns a binary vector with 1s representing individuals who received the vaccine\n",
      "\n",
      "        Returns\n",
      "        ----------\n",
      "        VaccineStudy object\n",
      "        \n"
     ]
    }
   ],
   "source": [
    "# Shows the parameters we need to create a VaccineStudy\n",
    "print(vaccine.VaccineStudy.__init__.__doc__)"
   ]
  },
  {
   "cell_type": "code",
   "execution_count": 2,
   "metadata": {
    "id": "G36VhYLSE6or"
   },
   "outputs": [],
   "source": [
    "# --- Setting parameters for a VaccineStudy ---\n",
    "\n",
    "n_per_arm = 50 # the number of households in each arm of the study (arms are 'vaccinated' and 'placebo')\n",
    "sizes = [8] # the number of households per arm are divided evenly among the sizes, if there are multiple \n",
    "#sizes = [4,5,6,7,8] \n",
    "\n",
    "\n",
    "hsar = 0.2 # the desired household sar\n",
    "hsarv = 0.1 # the hsar calculated in reference to vaccinated individuals (therefore encoding vaccine effect on infectivity)\n",
    "\n",
    "es = 0.7 # = 1 - the relative chance per contact of an infection passing to a vaccinated individual\n",
    "\n",
    "# Duration of the study and importation rate\n",
    "duration = 90 # days\n",
    "importation_probability_over_study = 0.1 # probability an unvaccinateed individual becomes infected over the whole course of the study\n",
    "\n",
    "# Specifying the vaccination protocol. Common methods such as vaccinating one individual, a fraction of individuals, or a fixed number of individuals are made available in vaccine.py\n",
    "vaccination_method = vaccine.vaccinate_one\n",
    "#vaccination_method = functools.partial(vaccinate_fraction,fraction_vaccinated=0.5)"
   ]
  },
  {
   "cell_type": "code",
   "execution_count": 3,
   "metadata": {
    "id": "zR8MikMDE7IL"
   },
   "outputs": [],
   "source": [
    "# --- Create a study object, which provides methods for easy simulation and calculation of statistics ---\n",
    "one_vax_study = vaccine.VaccineStudy(\"one vaccinated\", n_per_arm, sizes, hsar, es, (hsarv, 'hsarv'), duration, importation_probability_over_study, vaccination_method)"
   ]
  },
  {
   "cell_type": "code",
   "execution_count": null,
   "metadata": {
    "colab": {
     "base_uri": "https://localhost:8080/"
    },
    "id": "oJc134CQA9Yu",
    "outputId": "9871d5d4-098d-4e4b-865a-89e668af8844"
   },
   "outputs": [],
   "source": [
    "# What can we do with a VaccineStudy object once we have one?\n",
    "print(vaccine.VaccineStudy.__doc__)"
   ]
  },
  {
   "cell_type": "code",
   "execution_count": 6,
   "metadata": {},
   "outputs": [],
   "source": [
    "%matplotlib widget"
   ]
  },
  {
   "cell_type": "code",
   "execution_count": 7,
   "metadata": {
    "colab": {
     "base_uri": "https://localhost:8080/",
     "height": 702
    },
    "id": "I9HTdyi3E_OU",
    "outputId": "e853394a-361d-4bb8-e96d-07ac3b7c95d3"
   },
   "outputs": [
    {
     "name": "stdout",
     "output_type": "stream",
     "text": [
      "Running study ...\n",
      " Vaccine study named one vaccinated with:\n",
      "\tn_per_arm                = 50\n",
      "\thousehold sizes          = {8: 50}\n",
      "\tes, hsarv                = 0.700, 0.100\n",
      "\tvax_sus, vax_inf         = 0.300, 0.463\n",
      "\tseeding                  = <function seed_zero at 0x10fe2fd08>\n",
      "\tduration                 = 90\n",
      "\tnet /person import prob  = 0.100\n",
      "\timportation rate         = 0.001\n",
      "\thsar                     = 0.200\n",
      "\thousehold_beta           = 0.033\n",
      "\tmin r0, max r0           = 1.620, 1.620\n",
      "\n"
     ]
    },
    {
     "data": {
      "application/vnd.jupyter.widget-view+json": {
       "model_id": "f8c6aad2e08d4aa59027c22b6fecca37",
       "version_major": 2,
       "version_minor": 0
      },
      "text/plain": [
       "Canvas(toolbar=Toolbar(toolitems=[('Home', 'Reset original view', 'home', 'home'), ('Back', 'Back to previous …"
      ]
     },
     "metadata": {},
     "output_type": "display_data"
    }
   ],
   "source": [
    "# --- Run the study some number of times ---\n",
    "trials = 10\n",
    "vax_df, control_df = one_vax_study.run_trials(trials, arms=\"both\") # we collect the results of our study in two Pandas DataFrames. For more information see https://pandas.pydata.org/pandas-docs/stable/reference/api/pandas.DataFrame.html\n",
    "utilities.make_bar_chart(pd.concat([vax_df, control_df])) # look at histograms of infections to check for coherence or interesting results"
   ]
  },
  {
   "cell_type": "code",
   "execution_count": 18,
   "metadata": {
    "colab": {
     "base_uri": "https://localhost:8080/",
     "height": 424
    },
    "id": "yjEJCNqDAPB2",
    "outputId": "cc792ab8-2f62-46fe-d379-e9c59f23df1f"
   },
   "outputs": [
    {
     "data": {
      "text/html": [
       "<div>\n",
       "<style scoped>\n",
       "    .dataframe tbody tr th:only-of-type {\n",
       "        vertical-align: middle;\n",
       "    }\n",
       "\n",
       "    .dataframe tbody tr th {\n",
       "        vertical-align: top;\n",
       "    }\n",
       "\n",
       "    .dataframe thead th {\n",
       "        text-align: right;\n",
       "    }\n",
       "</style>\n",
       "<table border=\"1\" class=\"dataframe\">\n",
       "  <thead>\n",
       "    <tr style=\"text-align: right;\">\n",
       "      <th></th>\n",
       "      <th>size</th>\n",
       "      <th>model</th>\n",
       "      <th>infections</th>\n",
       "      <th>num vaccinated</th>\n",
       "      <th>vaccinated infected</th>\n",
       "      <th>unvaccinated infected</th>\n",
       "      <th>num unvaccinated</th>\n",
       "      <th>trialnum</th>\n",
       "    </tr>\n",
       "  </thead>\n",
       "  <tbody>\n",
       "    <tr>\n",
       "      <th>0</th>\n",
       "      <td>8</td>\n",
       "      <td>one vaccinated model es 0.7 hsarv 0.1 intra be...</td>\n",
       "      <td>3</td>\n",
       "      <td>1.0</td>\n",
       "      <td>0</td>\n",
       "      <td>3</td>\n",
       "      <td>7.0</td>\n",
       "      <td>0</td>\n",
       "    </tr>\n",
       "    <tr>\n",
       "      <th>1</th>\n",
       "      <td>8</td>\n",
       "      <td>one vaccinated model es 0.7 hsarv 0.1 intra be...</td>\n",
       "      <td>4</td>\n",
       "      <td>1.0</td>\n",
       "      <td>0</td>\n",
       "      <td>4</td>\n",
       "      <td>7.0</td>\n",
       "      <td>0</td>\n",
       "    </tr>\n",
       "    <tr>\n",
       "      <th>2</th>\n",
       "      <td>8</td>\n",
       "      <td>one vaccinated model es 0.7 hsarv 0.1 intra be...</td>\n",
       "      <td>0</td>\n",
       "      <td>1.0</td>\n",
       "      <td>0</td>\n",
       "      <td>0</td>\n",
       "      <td>7.0</td>\n",
       "      <td>0</td>\n",
       "    </tr>\n",
       "    <tr>\n",
       "      <th>3</th>\n",
       "      <td>8</td>\n",
       "      <td>one vaccinated model es 0.7 hsarv 0.1 intra be...</td>\n",
       "      <td>5</td>\n",
       "      <td>1.0</td>\n",
       "      <td>0</td>\n",
       "      <td>5</td>\n",
       "      <td>7.0</td>\n",
       "      <td>0</td>\n",
       "    </tr>\n",
       "    <tr>\n",
       "      <th>4</th>\n",
       "      <td>8</td>\n",
       "      <td>one vaccinated model es 0.7 hsarv 0.1 intra be...</td>\n",
       "      <td>5</td>\n",
       "      <td>1.0</td>\n",
       "      <td>0</td>\n",
       "      <td>5</td>\n",
       "      <td>7.0</td>\n",
       "      <td>0</td>\n",
       "    </tr>\n",
       "    <tr>\n",
       "      <th>...</th>\n",
       "      <td>...</td>\n",
       "      <td>...</td>\n",
       "      <td>...</td>\n",
       "      <td>...</td>\n",
       "      <td>...</td>\n",
       "      <td>...</td>\n",
       "      <td>...</td>\n",
       "      <td>...</td>\n",
       "    </tr>\n",
       "    <tr>\n",
       "      <th>495</th>\n",
       "      <td>8</td>\n",
       "      <td>one vaccinated model es 0.7 hsarv 0.1 intra be...</td>\n",
       "      <td>0</td>\n",
       "      <td>1.0</td>\n",
       "      <td>0</td>\n",
       "      <td>0</td>\n",
       "      <td>7.0</td>\n",
       "      <td>9</td>\n",
       "    </tr>\n",
       "    <tr>\n",
       "      <th>496</th>\n",
       "      <td>8</td>\n",
       "      <td>one vaccinated model es 0.7 hsarv 0.1 intra be...</td>\n",
       "      <td>3</td>\n",
       "      <td>1.0</td>\n",
       "      <td>1</td>\n",
       "      <td>2</td>\n",
       "      <td>7.0</td>\n",
       "      <td>9</td>\n",
       "    </tr>\n",
       "    <tr>\n",
       "      <th>497</th>\n",
       "      <td>8</td>\n",
       "      <td>one vaccinated model es 0.7 hsarv 0.1 intra be...</td>\n",
       "      <td>7</td>\n",
       "      <td>1.0</td>\n",
       "      <td>1</td>\n",
       "      <td>6</td>\n",
       "      <td>7.0</td>\n",
       "      <td>9</td>\n",
       "    </tr>\n",
       "    <tr>\n",
       "      <th>498</th>\n",
       "      <td>8</td>\n",
       "      <td>one vaccinated model es 0.7 hsarv 0.1 intra be...</td>\n",
       "      <td>1</td>\n",
       "      <td>1.0</td>\n",
       "      <td>0</td>\n",
       "      <td>1</td>\n",
       "      <td>7.0</td>\n",
       "      <td>9</td>\n",
       "    </tr>\n",
       "    <tr>\n",
       "      <th>499</th>\n",
       "      <td>8</td>\n",
       "      <td>one vaccinated model es 0.7 hsarv 0.1 intra be...</td>\n",
       "      <td>0</td>\n",
       "      <td>1.0</td>\n",
       "      <td>0</td>\n",
       "      <td>0</td>\n",
       "      <td>7.0</td>\n",
       "      <td>9</td>\n",
       "    </tr>\n",
       "  </tbody>\n",
       "</table>\n",
       "<p>500 rows × 8 columns</p>\n",
       "</div>"
      ],
      "text/plain": [
       "     size                                              model  infections  \\\n",
       "0       8  one vaccinated model es 0.7 hsarv 0.1 intra be...           3   \n",
       "1       8  one vaccinated model es 0.7 hsarv 0.1 intra be...           4   \n",
       "2       8  one vaccinated model es 0.7 hsarv 0.1 intra be...           0   \n",
       "3       8  one vaccinated model es 0.7 hsarv 0.1 intra be...           5   \n",
       "4       8  one vaccinated model es 0.7 hsarv 0.1 intra be...           5   \n",
       "..    ...                                                ...         ...   \n",
       "495     8  one vaccinated model es 0.7 hsarv 0.1 intra be...           0   \n",
       "496     8  one vaccinated model es 0.7 hsarv 0.1 intra be...           3   \n",
       "497     8  one vaccinated model es 0.7 hsarv 0.1 intra be...           7   \n",
       "498     8  one vaccinated model es 0.7 hsarv 0.1 intra be...           1   \n",
       "499     8  one vaccinated model es 0.7 hsarv 0.1 intra be...           0   \n",
       "\n",
       "     num vaccinated  vaccinated infected  unvaccinated infected  \\\n",
       "0               1.0                    0                      3   \n",
       "1               1.0                    0                      4   \n",
       "2               1.0                    0                      0   \n",
       "3               1.0                    0                      5   \n",
       "4               1.0                    0                      5   \n",
       "..              ...                  ...                    ...   \n",
       "495             1.0                    0                      0   \n",
       "496             1.0                    1                      2   \n",
       "497             1.0                    1                      6   \n",
       "498             1.0                    0                      1   \n",
       "499             1.0                    0                      0   \n",
       "\n",
       "     num unvaccinated  trialnum  \n",
       "0                 7.0         0  \n",
       "1                 7.0         0  \n",
       "2                 7.0         0  \n",
       "3                 7.0         0  \n",
       "4                 7.0         0  \n",
       "..                ...       ...  \n",
       "495               7.0         9  \n",
       "496               7.0         9  \n",
       "497               7.0         9  \n",
       "498               7.0         9  \n",
       "499               7.0         9  \n",
       "\n",
       "[500 rows x 8 columns]"
      ]
     },
     "execution_count": 18,
     "metadata": {},
     "output_type": "execute_result"
    }
   ],
   "source": [
    "# --- Analyze the results ---\n",
    "\n",
    "vax_df"
   ]
  },
  {
   "cell_type": "markdown",
   "metadata": {
    "id": "tTYwUO3p2Djg"
   },
   "source": [
    "# Making a git commit from changes to python backend\n",
    "\n",
    "To save this notebook use File > Save a copy in Github"
   ]
  },
  {
   "cell_type": "code",
   "execution_count": 35,
   "metadata": {
    "colab": {
     "base_uri": "https://localhost:8080/"
    },
    "id": "mnPAmOsD2ACG",
    "outputId": "5f2a4d4a-5b8e-43e0-cc45-7dafa92a942b"
   },
   "outputs": [
    {
     "name": "stdout",
     "output_type": "stream",
     "text": [
      "On branch main\n",
      "Your branch is up to date with 'origin/main'.\n",
      "\n",
      "nothing to commit, working tree clean\n"
     ]
    }
   ],
   "source": [
    "!git add -A\n",
    "!git status"
   ]
  },
  {
   "cell_type": "code",
   "execution_count": 36,
   "metadata": {
    "id": "OaRjJRgz2lRk"
   },
   "outputs": [],
   "source": [
    "!git config --global user.email \"\"\n",
    "!git config --global user.email \"Thayer\""
   ]
  },
  {
   "cell_type": "code",
   "execution_count": null,
   "metadata": {
    "colab": {
     "base_uri": "https://localhost:8080/"
    },
    "id": "3tZeUimV2-Zk",
    "outputId": "88fc6841-9b56-4923-f9d1-6c2c0c5628c2"
   },
   "outputs": [
    {
     "name": "stdout",
     "output_type": "stream",
     "text": [
      "Commit message? Refactor filenames. Better behavior for modules\n",
      "[main 6fdeff9] Refactor filenames. Better behavior for modules\n",
      " 3 files changed, 22 insertions(+), 20 deletions(-)\n",
      " rename Likelihood.py => likelihood.py (97%)\n",
      " rename InfectionModel.py => population.py (90%)\n",
      " rename Vaccine.py => vaccine.py (94%)\n"
     ]
    }
   ],
   "source": [
    "message = input(\"Commit message? \")\n",
    "\n",
    "!git commit -m \"{message}\""
   ]
  },
  {
   "cell_type": "markdown",
   "metadata": {
    "id": "0n5-5yi0_dYu"
   },
   "source": [
    "# Pushing upstream"
   ]
  },
  {
   "cell_type": "code",
   "execution_count": 33,
   "metadata": {
    "id": "s9cLEEJSwAf3"
   },
   "outputs": [],
   "source": [
    "!git remote set-url origin https://{git_token}@github.com/{repo_owner}/{repository}"
   ]
  },
  {
   "cell_type": "code",
   "execution_count": 34,
   "metadata": {
    "colab": {
     "base_uri": "https://localhost:8080/"
    },
    "id": "QzWA4B7Cr5MG",
    "outputId": "ed720d16-24d0-409b-e0fd-f8dd45c1ca95"
   },
   "outputs": [
    {
     "name": "stdout",
     "output_type": "stream",
     "text": [
      "Already up to date.\n"
     ]
    }
   ],
   "source": [
    "!git pull"
   ]
  },
  {
   "cell_type": "code",
   "execution_count": null,
   "metadata": {
    "id": "u1f1DCBt3HV1"
   },
   "outputs": [],
   "source": [
    "#from git_token import git_token\n",
    "#!git remote set-url origin https://{git_token}@github.com/{username}/{repository}\n",
    "\n",
    "!git push"
   ]
  }
 ],
 "metadata": {
  "accelerator": "GPU",
  "colab": {
   "authorship_tag": "ABX9TyO6dRM+p/Zl4uTu1tFO00qQ",
   "collapsed_sections": [
    "HKqa27GWFKnE",
    "RKWx-gMepyKX",
    "0n5-5yi0_dYu"
   ],
   "include_colab_link": true,
   "name": "Lab.ipynb",
   "provenance": []
  },
  "kernelspec": {
   "display_name": "Python 3",
   "language": "python",
   "name": "python3"
  },
  "language_info": {
   "codemirror_mode": {
    "name": "ipython",
    "version": 3
   },
   "file_extension": ".py",
   "mimetype": "text/x-python",
   "name": "python",
   "nbconvert_exporter": "python",
   "pygments_lexer": "ipython3",
   "version": "3.7.3"
  }
 },
 "nbformat": 4,
 "nbformat_minor": 4
}
