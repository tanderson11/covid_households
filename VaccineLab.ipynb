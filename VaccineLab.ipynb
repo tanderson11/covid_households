{
  "nbformat": 4,
  "nbformat_minor": 0,
  "metadata": {
    "accelerator": "GPU",
    "colab": {
      "name": "VaccineLab.ipynb",
      "provenance": [],
      "collapsed_sections": [
        "IsWpiP3DFFMo",
        "RKWx-gMepyKX",
        "-jnMbCiF-y3V",
        "Qlx0JIhoAElm",
        "BXuFoQiKSjpq",
        "YYvsrhBRtp3g",
        "0RpW0MUJt3EP"
      ],
      "toc_visible": true,
      "include_colab_link": true
    },
    "kernelspec": {
      "display_name": "Python 3",
      "language": "python",
      "name": "python3"
    },
    "language_info": {
      "codemirror_mode": {
        "name": "ipython",
        "version": 3
      },
      "file_extension": ".py",
      "mimetype": "text/x-python",
      "name": "python",
      "nbconvert_exporter": "python",
      "pygments_lexer": "ipython3",
      "version": "3.7.3"
    }
  },
  "cells": [
    {
      "cell_type": "markdown",
      "metadata": {
        "id": "view-in-github",
        "colab_type": "text"
      },
      "source": [
        "<a href=\"https://colab.research.google.com/github/tanderson11/covid_households/blob/main/VaccineLab.ipynb\" target=\"_parent\"><img src=\"https://colab.research.google.com/assets/colab-badge.svg\" alt=\"Open In Colab\"/></a>"
      ]
    },
    {
      "cell_type": "markdown",
      "metadata": {
        "id": "vFEfWUyjl_L-"
      },
      "source": [
        "# Vaccine Study Laboratory"
      ]
    },
    {
      "cell_type": "markdown",
      "metadata": {
        "id": "IsWpiP3DFFMo"
      },
      "source": [
        "# Drive + Github configuration\n",
        "\n",
        "* If you opened this notebook from Github, go to `File > Save a copy in Drive`.\n",
        "* If running for the first time, set `first_time_setup = True`\n",
        "* You'll have to authenticate on google drive the first time and each time the runtime times out.\n",
        "* To use tokens, fork the repository and go to `Github > User > Settings > Developer Settings > Personal access tokens`"
      ]
    },
    {
      "cell_type": "code",
      "metadata": {
        "id": "ZMjOwUq1w-wa"
      },
      "source": [
        "# A flag to clone the repository into your drive. See the >>> SETUP <<< lines to know what is affected\n",
        "# Set to false after running this set of cells once\n",
        "first_time_setup = False"
      ],
      "execution_count": null,
      "outputs": []
    },
    {
      "cell_type": "code",
      "metadata": {
        "colab": {
          "base_uri": "https://localhost:8080/"
        },
        "id": "ORzYVf06BhuU",
        "outputId": "f8d3df53-b47a-47a0-94a7-2638edd93212"
      },
      "source": [
        "from google.colab import drive\n",
        "drive.mount('/content/gdrive')"
      ],
      "execution_count": null,
      "outputs": [
        {
          "output_type": "stream",
          "text": [
            "Mounted at /content/gdrive\n"
          ],
          "name": "stdout"
        }
      ]
    },
    {
      "cell_type": "code",
      "metadata": {
        "colab": {
          "base_uri": "https://localhost:8080/"
        },
        "id": "I3fmCBmpDCZn",
        "outputId": "06dbc59f-9114-4ea3-f74a-8d9f8ab529f3"
      },
      "source": [
        "%mkdir /content/gdrive/My\\ Drive/github\n",
        "%cd /content/gdrive/My\\ Drive/github"
      ],
      "execution_count": null,
      "outputs": [
        {
          "output_type": "stream",
          "text": [
            "mkdir: cannot create directory ‘/content/gdrive/My Drive/github’: File exists\n",
            "/content/gdrive/My Drive/github\n"
          ],
          "name": "stdout"
        }
      ]
    },
    {
      "cell_type": "code",
      "metadata": {
        "id": "J0qVcYVio4mo"
      },
      "source": [
        "# If you've forked the repository, point to your own username and repository name (if different)\n",
        "repo_owner=\"tanderson11\"\n",
        "repository=\"covid_households\"\n",
        "\n",
        "# >>> SETUP: <<<\n",
        "if first_time_setup:\n",
        "    !git clone https://github.com/{repo_owner}/{repository}.git\n",
        "\n",
        "# >>> TOKEN SETUP: <<<\n",
        "# If you're using token authentication (recommended), add your token and uncomment the lines below instead\n",
        "\n",
        "#!echo git_token=\\\"your_token_here\\\" > git_token.py\n",
        "#from git_token import git_token\n",
        "\n",
        "#!git clone https://{git_token}@github.com/{repo_owner}/{repository}"
      ],
      "execution_count": null,
      "outputs": []
    },
    {
      "cell_type": "code",
      "metadata": {
        "colab": {
          "base_uri": "https://localhost:8080/"
        },
        "id": "bqQubdG6EpNl",
        "outputId": "5ea22aba-a2a7-418c-c91f-9ff72ef7ca87"
      },
      "source": [
        "%cd covid_households/\n",
        "!ls -a\n",
        "\n",
        "# >>> TOKEN SETUP: <<<\n",
        "# this will put your token in the right folder; comment this line out after use to avoid an error message\n",
        "#!mv ../git_token.py ./\n",
        "\n",
        "from git_token import git_token"
      ],
      "execution_count": null,
      "outputs": [
        {
          "output_type": "stream",
          "text": [
            "/content/gdrive/My Drive/github/covid_households\n",
            "baseline_df.hdf        git_token.py\t\t    study.txt\n",
            "comparison_df.hdf      .ipynb_checkpoints\t    SuperspreadingLab.ipynb\n",
            "constants.py\t       Lab.ipynb\t\t    torch_forward_simulation.py\n",
            "df.hdf\t\t       likelihood.py\t\t    traits.py\n",
            "experiments\t       ParameterInferenceLab.ipynb  utilities.py\n",
            "forward_simulation.py  population.py\t\t    vaccine_experiments\n",
            "funfigures_new.py      power_df_one_vaccinated.hdf  Vaccine.ipynb\n",
            "funfigures.py\t       __pycache__\t\t    VaccineLab.ipynb\n",
            ".git\t\t       README.md\t\t    vaccine.py\n",
            ".gitignore\t       settings.py\n"
          ],
          "name": "stdout"
        }
      ]
    },
    {
      "cell_type": "markdown",
      "metadata": {
        "id": "HKqa27GWFKnE"
      },
      "source": [
        "# Initialization\n",
        "\n",
        "Call this once each runtime after Drive configuration to import the module"
      ]
    },
    {
      "cell_type": "code",
      "metadata": {
        "id": "bJP1Mq2YEtVX",
        "colab": {
          "base_uri": "https://localhost:8080/"
        },
        "outputId": "204fa080-f1e9-432a-ddd9-6fe562a81285"
      },
      "source": [
        "# Initialization\n",
        "!pip install fisher\n",
        "\n",
        "import importlib\n",
        "import vaccine\n",
        "import likelihood\n",
        "import utilities\n",
        "import pandas as pd\n",
        "import numpy as np\n",
        "import functools\n",
        "import matplotlib.pyplot as plt"
      ],
      "execution_count": null,
      "outputs": [
        {
          "output_type": "stream",
          "text": [
            "Collecting fisher\n",
            "\u001b[?25l  Downloading https://files.pythonhosted.org/packages/bd/8b/951ab577d41d2bb7704e802173ea1de96918894d90636bfdf24477321f4f/fisher-0.1.9.tar.gz (145kB)\n",
            "\u001b[K     |████████████████████████████████| 153kB 11.7MB/s \n",
            "\u001b[?25hBuilding wheels for collected packages: fisher\n",
            "  Building wheel for fisher (setup.py) ... \u001b[?25l\u001b[?25hdone\n",
            "  Created wheel for fisher: filename=fisher-0.1.9-cp37-cp37m-linux_x86_64.whl size=297388 sha256=21f6e202aaa29dadbcc99d4cfe858c116d0dab40b2d3ed1c768bfe451905e05b\n",
            "  Stored in directory: /root/.cache/pip/wheels/31/8f/38/afe68425deaf5d2e62578ab3b2b503906f3b4282d65cf8cafb\n",
            "Successfully built fisher\n",
            "Installing collected packages: fisher\n",
            "Successfully installed fisher-0.1.9\n"
          ],
          "name": "stdout"
        }
      ]
    },
    {
      "cell_type": "markdown",
      "metadata": {
        "id": "RKWx-gMepyKX"
      },
      "source": [
        "# Reload modules\n",
        "\n",
        "Call this if you change any .py files in the drive"
      ]
    },
    {
      "cell_type": "code",
      "metadata": {
        "colab": {
          "base_uri": "https://localhost:8080/"
        },
        "id": "uLZH04Xap0xj",
        "outputId": "41de43fc-8e9d-4696-e940-ba89ba25b3b6"
      },
      "source": [
        "importlib.reload(vaccine)\n",
        "importlib.reload(likelihood)\n",
        "importlib.reload(utilities)\n",
        "#importlib.reload(population)"
      ],
      "execution_count": null,
      "outputs": [
        {
          "output_type": "execute_result",
          "data": {
            "text/plain": [
              "<module 'utilities' from '/content/gdrive/My Drive/github/covid_households/utilities.py'>"
            ]
          },
          "metadata": {
            "tags": []
          },
          "execution_count": 36
        }
      ]
    },
    {
      "cell_type": "markdown",
      "metadata": {
        "id": "-jnMbCiF-y3V"
      },
      "source": [
        "# Basic infection model"
      ]
    },
    {
      "cell_type": "markdown",
      "metadata": {
        "id": "xsjuaECH-0mr"
      },
      "source": [
        "(Currently in overleaf)"
      ]
    },
    {
      "cell_type": "markdown",
      "metadata": {
        "id": "Qlx0JIhoAElm"
      },
      "source": [
        "# Modeling vaccination"
      ]
    },
    {
      "cell_type": "markdown",
      "metadata": {
        "id": "JrkbGpxWAKuR"
      },
      "source": [
        "To add vaccination to the basic model, we introduce two near parameters:\n",
        "\n",
        "\n",
        "*   $v_s$: the relative susceptibility of the vaccinated\n",
        "*   $v_f$: the relative infectivity of the vaccinated\n",
        "\n",
        "\n",
        "\n",
        "The governing equation for the basic model includes the possibility for an individual's susceptibility and infectivity to vary from the baseline:\n",
        "\n",
        "\\begin{align*}\n",
        "    P_{ij} \\Delta t = \\beta \\Delta t s_i f_j \\delta(X_i = \\text{S})  \\delta (X_j = \\text{I})\n",
        "\\end{align*}\n",
        "\n",
        "The terms $s_i$ and $f_j$ are entries in $\\boldsymbol{s}$, a vector of susceptibilities, and $\\boldsymbol{f}$, a vector of infectivities. The $i$th entry corresponds to the $i$th individual.\n",
        "\n",
        "To model vaccination, we assume that these susceptibilities and infectivities are a property of the individual's vaccination status. Let $\\boldsymbol{V}$ be a vector that encodes the vaccination status of each person. $V_i = 1$ if individual $i$ was vaccinated and $0$ otherwise.\n",
        "\n",
        "In other words, we have:\n",
        "\n",
        "\\begin{align*}\n",
        "    \\boldsymbol{s}: s_i = \\begin{cases} v_s & V_i = 1\\\\ 1 & V_i = 0\\end{cases}\\\\\n",
        "    \\boldsymbol{f}: f_i = \\begin{cases} v_f & V_i = 1\\\\ 1 & V_i = 0\\end{cases}\n",
        "\\end{align*}\n",
        "\n",
        "The two parameters $v_s$ and $v_f$ exactly characterize the effect of vaccination, but they can be thought about in a variety of different ways or under a variety of different names.\n",
        "\n",
        "*   $e_s$: the (per-contact) effect of the vaccine on susceptibility. $e_s = 1 - v_s$.\n",
        "*   $e_f$: the (per-contact) effect of the vaccine on infectivity. $e_f = 1 - v_f$.\n",
        "\n",
        "For $v_f$ in particular, it's often helpful to specify the infectivity as an HSAR relative to vaccinated individuals.\n",
        "\n",
        "*   $\\text{hsar}_v$: the HSAR calculated relative to a vaccinated individual. In other words, the probability that a vaccinated individual infects one contact over the course of their infection.\n",
        "\n",
        "If the HSAR calculated relative to a baseline individual is $\\text{hsar}$, then $\\text{hsar}_v$ is related to $v_f$ as:\n",
        "\n",
        "\\begin{align*}\n",
        "v_f = \\frac{\\frac{1}{(1-\\text{hsar}_v)^{1/k}} - 1}{\\frac{1}{(1-\\text{hsar})^{1/k}} - 1}\n",
        "\\end{align*}\n",
        "\n",
        "where $k$ is the shape of the gamma distribution of time spent in the infectious state.\n",
        "\n",
        "(TK: fact-check this last part with the way the gamma distribution is defined)\n",
        "\n",
        "\n"
      ]
    },
    {
      "cell_type": "markdown",
      "metadata": {
        "id": "fepe3oDXFNYl"
      },
      "source": [
        "# Experiments\n",
        "\n",
        "Run your experiments and interact with VaccineStudy objects within this block of cells"
      ]
    },
    {
      "cell_type": "markdown",
      "metadata": {
        "id": "BXuFoQiKSjpq"
      },
      "source": [
        "## Minimal Example"
      ]
    },
    {
      "cell_type": "markdown",
      "metadata": {
        "id": "7JiHmgbHX_zq"
      },
      "source": [
        "Here is a minimal example of building a VaccineStudy object and then running its method `power_vs_sample_size` to create a table of data that shows the power of the study design versus sample size.\n",
        "\n",
        "Running these cells to a high degree of accuracy can take as much as 40 minutes."
      ]
    },
    {
      "cell_type": "code",
      "metadata": {
        "id": "FMj-nOzBSpJi"
      },
      "source": [
        "# --- Setting parameters for a VaccineStudy ---\n",
        "\n",
        "hsar = 0.2 # the desired household sar\n",
        "hsarv = 0.10 # the hsar calculated in reference to vaccinated individuals (therefore encoding vaccine effect on infectivity)\n",
        "es = 0.7 # = 1 - the relative chance per contact of an infection passing to a vaccinated individual\n",
        "\n",
        "# Duration of the study and importation rate\n",
        "duration = 90 # days\n",
        "importation_probability_over_study = 0.1 # probability an unvaccinateed individual becomes infected over the whole course of the study\n",
        "vaccination_method = vaccine.vaccinate_one\n",
        "\n",
        "study = vaccine.VaccineStudy(\"one vaccinated\", hsar, es, (hsarv, 'hsarv'), duration, importation_probability_over_study, vaccination_method)"
      ],
      "execution_count": null,
      "outputs": []
    },
    {
      "cell_type": "code",
      "metadata": {
        "id": "g2XS-34TYSwh"
      },
      "source": [
        "sizes = [4,5,6,7,8] \n",
        "n_axis = np.linspace(50, 1600, 75)\n",
        "thresholds = [0.0, 0.1, 0.2, 0.3, 0.4]\n",
        "fisher_p  = 0.05\n",
        "trials = 800 # number of trials conducted at each point"
      ],
      "execution_count": null,
      "outputs": []
    },
    {
      "cell_type": "code",
      "metadata": {
        "id": "RLDWyoK7Ycw1"
      },
      "source": [
        "power_df = study.power_vs_sample_size(sizes, n_axis, thresholds, fisher_p, trials)"
      ],
      "execution_count": null,
      "outputs": []
    },
    {
      "cell_type": "code",
      "metadata": {
        "colab": {
          "base_uri": "https://localhost:8080/",
          "height": 255
        },
        "id": "Fwh0Efe9Ygwf",
        "outputId": "f8194ac1-7b60-4e95-a314-33faac527a35"
      },
      "source": [
        "power_df.head()"
      ],
      "execution_count": null,
      "outputs": [
        {
          "output_type": "execute_result",
          "data": {
            "text/html": [
              "<div>\n",
              "<style scoped>\n",
              "    .dataframe tbody tr th:only-of-type {\n",
              "        vertical-align: middle;\n",
              "    }\n",
              "\n",
              "    .dataframe tbody tr th {\n",
              "        vertical-align: top;\n",
              "    }\n",
              "\n",
              "    .dataframe thead tr th {\n",
              "        text-align: left;\n",
              "    }\n",
              "</style>\n",
              "<table border=\"1\" class=\"dataframe\">\n",
              "  <thead>\n",
              "    <tr>\n",
              "      <th>threshold</th>\n",
              "      <th>0.0</th>\n",
              "      <th>0.1</th>\n",
              "      <th>0.2</th>\n",
              "      <th>0.3</th>\n",
              "      <th>0.4</th>\n",
              "      <th>0.0</th>\n",
              "      <th>0.1</th>\n",
              "      <th>0.2</th>\n",
              "      <th>0.3</th>\n",
              "      <th>0.4</th>\n",
              "      <th>0.0</th>\n",
              "      <th>0.1</th>\n",
              "      <th>0.2</th>\n",
              "      <th>0.3</th>\n",
              "      <th>0.4</th>\n",
              "    </tr>\n",
              "    <tr>\n",
              "      <th>VE type</th>\n",
              "      <th>VEtotal</th>\n",
              "      <th>VEtotal</th>\n",
              "      <th>VEtotal</th>\n",
              "      <th>VEtotal</th>\n",
              "      <th>VEtotal</th>\n",
              "      <th>VEprimary</th>\n",
              "      <th>VEprimary</th>\n",
              "      <th>VEprimary</th>\n",
              "      <th>VEprimary</th>\n",
              "      <th>VEprimary</th>\n",
              "      <th>VEsecondary</th>\n",
              "      <th>VEsecondary</th>\n",
              "      <th>VEsecondary</th>\n",
              "      <th>VEsecondary</th>\n",
              "      <th>VEsecondary</th>\n",
              "    </tr>\n",
              "  </thead>\n",
              "  <tbody>\n",
              "    <tr>\n",
              "      <th>50.000000</th>\n",
              "      <td>0.3750</td>\n",
              "      <td>0.3750</td>\n",
              "      <td>0.37500</td>\n",
              "      <td>0.31750</td>\n",
              "      <td>0.17000</td>\n",
              "      <td>0.40125</td>\n",
              "      <td>0.40125</td>\n",
              "      <td>0.40125</td>\n",
              "      <td>0.40125</td>\n",
              "      <td>0.40125</td>\n",
              "      <td>0.24500</td>\n",
              "      <td>0.24500</td>\n",
              "      <td>0.24500</td>\n",
              "      <td>0.21750</td>\n",
              "      <td>0.10250</td>\n",
              "    </tr>\n",
              "    <tr>\n",
              "      <th>70.945946</th>\n",
              "      <td>0.4200</td>\n",
              "      <td>0.4200</td>\n",
              "      <td>0.42000</td>\n",
              "      <td>0.30000</td>\n",
              "      <td>0.12625</td>\n",
              "      <td>0.58000</td>\n",
              "      <td>0.58000</td>\n",
              "      <td>0.58000</td>\n",
              "      <td>0.58000</td>\n",
              "      <td>0.58000</td>\n",
              "      <td>0.28500</td>\n",
              "      <td>0.28500</td>\n",
              "      <td>0.28500</td>\n",
              "      <td>0.18750</td>\n",
              "      <td>0.07125</td>\n",
              "    </tr>\n",
              "    <tr>\n",
              "      <th>91.891892</th>\n",
              "      <td>0.4900</td>\n",
              "      <td>0.4900</td>\n",
              "      <td>0.48625</td>\n",
              "      <td>0.26125</td>\n",
              "      <td>0.08750</td>\n",
              "      <td>0.70000</td>\n",
              "      <td>0.70000</td>\n",
              "      <td>0.70000</td>\n",
              "      <td>0.70000</td>\n",
              "      <td>0.70000</td>\n",
              "      <td>0.29625</td>\n",
              "      <td>0.29625</td>\n",
              "      <td>0.29375</td>\n",
              "      <td>0.13875</td>\n",
              "      <td>0.03500</td>\n",
              "    </tr>\n",
              "    <tr>\n",
              "      <th>112.837838</th>\n",
              "      <td>0.5575</td>\n",
              "      <td>0.5575</td>\n",
              "      <td>0.52125</td>\n",
              "      <td>0.28375</td>\n",
              "      <td>0.08000</td>\n",
              "      <td>0.79125</td>\n",
              "      <td>0.79125</td>\n",
              "      <td>0.79125</td>\n",
              "      <td>0.79125</td>\n",
              "      <td>0.79125</td>\n",
              "      <td>0.35625</td>\n",
              "      <td>0.35625</td>\n",
              "      <td>0.34625</td>\n",
              "      <td>0.14375</td>\n",
              "      <td>0.03625</td>\n",
              "    </tr>\n",
              "    <tr>\n",
              "      <th>133.783784</th>\n",
              "      <td>0.5850</td>\n",
              "      <td>0.5850</td>\n",
              "      <td>0.51500</td>\n",
              "      <td>0.23625</td>\n",
              "      <td>0.08000</td>\n",
              "      <td>0.88750</td>\n",
              "      <td>0.88750</td>\n",
              "      <td>0.88750</td>\n",
              "      <td>0.88750</td>\n",
              "      <td>0.88750</td>\n",
              "      <td>0.36500</td>\n",
              "      <td>0.36500</td>\n",
              "      <td>0.32000</td>\n",
              "      <td>0.13375</td>\n",
              "      <td>0.03750</td>\n",
              "    </tr>\n",
              "  </tbody>\n",
              "</table>\n",
              "</div>"
            ],
            "text/plain": [
              "threshold      0.0     0.1      0.2  ...                     0.3         0.4\n",
              "VE type    VEtotal VEtotal  VEtotal  ... VEsecondary VEsecondary VEsecondary\n",
              "50.000000   0.3750  0.3750  0.37500  ...     0.24500     0.21750     0.10250\n",
              "70.945946   0.4200  0.4200  0.42000  ...     0.28500     0.18750     0.07125\n",
              "91.891892   0.4900  0.4900  0.48625  ...     0.29375     0.13875     0.03500\n",
              "112.837838  0.5575  0.5575  0.52125  ...     0.34625     0.14375     0.03625\n",
              "133.783784  0.5850  0.5850  0.51500  ...     0.32000     0.13375     0.03750\n",
              "\n",
              "[5 rows x 15 columns]"
            ]
          },
          "metadata": {
            "tags": []
          },
          "execution_count": 11
        }
      ]
    },
    {
      "cell_type": "code",
      "metadata": {
        "colab": {
          "base_uri": "https://localhost:8080/",
          "height": 1000
        },
        "id": "3TvrvfaSYmE6",
        "outputId": "61cf7359-cddb-45eb-897a-f53ca4b3bb04"
      },
      "source": [
        "for k,g in power_df.groupby(\"threshold\", axis=1):\n",
        "    g.plot()\n",
        "    plt.xlabel(\"number of households\")\n",
        "    plt.ylabel(\"power\")"
      ],
      "execution_count": null,
      "outputs": [
        {
          "output_type": "display_data",
          "data": {
            "image/png": "[encoded data removed]",
            "text/plain": [
              "<Figure size 432x288 with 1 Axes>"
            ]
          },
          "metadata": {
            "tags": [],
            "needs_background": "light"
          }
        },
        {
          "output_type": "display_data",
          "data": {
            "image/png": "[encoded data removed]",
            "text/plain": [
              "<Figure size 432x288 with 1 Axes>"
            ]
          },
          "metadata": {
            "tags": [],
            "needs_background": "light"
          }
        },
        {
          "output_type": "display_data",
          "data": {
            "image/png": "[encoded data removed]",
            "text/plain": [
              "<Figure size 432x288 with 1 Axes>"
            ]
          },
          "metadata": {
            "tags": [],
            "needs_background": "light"
          }
        },
        {
          "output_type": "display_data",
          "data": {
            "image/png": "[encoded data removed]",
            "text/plain": [
              "<Figure size 432x288 with 1 Axes>"
            ]
          },
          "metadata": {
            "tags": [],
            "needs_background": "light"
          }
        },
        {
          "output_type": "display_data",
          "data": {
            "image/png": "[encoded data removed]",
            "text/plain": [
              "<Figure size 432x288 with 1 Axes>"
            ]
          },
          "metadata": {
            "tags": [],
            "needs_background": "light"
          }
        }
      ]
    },
    {
      "cell_type": "markdown",
      "metadata": {
        "id": "YYvsrhBRtp3g"
      },
      "source": [
        "## Basic objects and examples"
      ]
    },
    {
      "cell_type": "code",
      "metadata": {
        "id": "FexC5KAXvtg6"
      },
      "source": [
        "print_documentation = True"
      ],
      "execution_count": null,
      "outputs": []
    },
    {
      "cell_type": "code",
      "metadata": {
        "colab": {
          "base_uri": "https://localhost:8080/"
        },
        "id": "Lw0BM-CD6T7F",
        "outputId": "38f481ca-6214-442d-f8d3-2d2c2c0dafad"
      },
      "source": [
        "# Shows the parameters we need to create a VaccineStudy\n",
        "if print_documentation:\n",
        "    print(vaccine.VaccineStudy.__init__.__doc__)"
      ],
      "execution_count": null,
      "outputs": [
        {
          "output_type": "stream",
          "text": [
            "\n",
            "        Creates a VaccineStudy, which represents a two-armed study with a group of households receiving the vaccine and a group receiving the placebo.\n",
            "\n",
            "        Parameters\n",
            "        ----------\n",
            "        name : str\n",
            "            a name for the study\n",
            "        hsar : float\n",
            "            the desired average (over the household sizes specified) household secondary attack rate\n",
            "        es : float\n",
            "            the true parameter reduction in a vaccinated individual's susceptibility\n",
            "        (et_method, et) : (string, float)\n",
            "            either a tuple of the form ('hsarv', float) to express the hsar calculated relative to vaccinated individuals\n",
            "            or of the form ('et', float) to express the relative infectivity reduction among vaccinated individuals\n",
            "        duration : int\n",
            "            the duration of the experiment in days\n",
            "        importation_rate : float\n",
            "            the baseline (no vax) probability per individual per day of being infected from outside the household\n",
            "        vaccination_method : func\n",
            "            a function that takes in a shape of the form (count, size, 1) and returns a binary vector with 1s representing individuals who received the vaccine\n",
            "\n",
            "        Returns\n",
            "        ----------\n",
            "        VaccineStudy object\n",
            "        \n"
          ],
          "name": "stdout"
        }
      ]
    },
    {
      "cell_type": "code",
      "metadata": {
        "id": "G36VhYLSE6or"
      },
      "source": [
        "# --- Setting parameters for a VaccineStudy ---\n",
        "\n",
        "hsar = 0.2 # the desired household sar\n",
        "hsarv = 0.1 # the hsar calculated in reference to vaccinated individuals (therefore encoding vaccine effect on infectivity)\n",
        "\n",
        "es = 0.7 # = 1 - the relative chance per contact of an infection passing to a vaccinated individual\n",
        "\n",
        "# Duration of the study and importation rate\n",
        "duration = 90 # days\n",
        "importation_probability_over_study = 0.1 # probability an unvaccinateed individual becomes infected over the whole course of the study\n",
        "\n",
        "# Specifying the vaccination protocol. Common methods such as vaccinating one individual, a fraction of individuals, or a fixed number of individuals are made available in vaccine.py\n",
        "vaccination_method = vaccine.vaccinate_one\n",
        "#vaccination_method = functools.partial(vaccinate_fraction,fraction_vaccinated=0.5)"
      ],
      "execution_count": null,
      "outputs": []
    },
    {
      "cell_type": "code",
      "metadata": {
        "id": "zR8MikMDE7IL"
      },
      "source": [
        "# --- Create a study object, which provides methods for easy simulation and calculation of statistics ---\n",
        "one_vax_study = vaccine.VaccineStudy(\"one vaccinated\", hsar, es, (hsarv, 'hsarv'), duration, importation_probability_over_study, vaccination_method)"
      ],
      "execution_count": null,
      "outputs": []
    },
    {
      "cell_type": "code",
      "metadata": {
        "id": "oJc134CQA9Yu"
      },
      "source": [
        "# What can we do with a VaccineStudy object once we have one?\n",
        "if print_documentation:\n",
        "    print(vaccine.VaccineStudy.__doc__)"
      ],
      "execution_count": null,
      "outputs": []
    },
    {
      "cell_type": "code",
      "metadata": {
        "colab": {
          "base_uri": "https://localhost:8080/",
          "height": 750
        },
        "id": "I9HTdyi3E_OU",
        "outputId": "10e00044-2631-48af-dbbf-86db55eb9c14"
      },
      "source": [
        "# --- Run the study some number of times ---\n",
        "n_per_arm = 50 # the number of households in each arm of the study (arms are 'vaccinated' and 'placebo')\n",
        "sizes = [8] # the number of households per arm are divided evenly among the sizes, if there are multiple \n",
        "trials = 500\n",
        "vax_df, control_df = one_vax_study.run_trials((sizes, n_per_arm), trials, arms=\"both\") # we collect the results of our study in two Pandas DataFrames. For more information see https://pandas.pydata.org/pandas-docs/stable/reference/api/pandas.DataFrame.html\n",
        "utilities.make_bar_chart(pd.concat([vax_df, control_df])) # look at histograms of infections to check for coherence or interesting results"
      ],
      "execution_count": null,
      "outputs": [
        {
          "output_type": "stream",
          "text": [
            "Running study ...\n",
            " Vaccine study named one vaccinated with:\n",
            "\tes, hsarv                = 0.700, 0.100\n",
            "\tvax_sus, vax_inf         = 0.300, 0.463\n",
            "\tseeding                  = <function seed_zero at 0x7f5ceb183560>\n",
            "\tduration                 = 90\n",
            "\tnet /person import prob  = 0.100\n",
            "\timportation rate         = 0.001\n",
            "\thsar                     = 0.200\n",
            "\thousehold_beta           = 0.033\n",
            "\n",
            "\thousehold_sizes          = {8: 50}\n",
            "\n"
          ],
          "name": "stdout"
        },
        {
          "output_type": "display_data",
          "data": {
            "image/png": "[encoded data removed]",
            "text/plain": [
              "<Figure size 576x576 with 1 Axes>"
            ]
          },
          "metadata": {
            "tags": [],
            "needs_background": "light"
          }
        }
      ]
    },
    {
      "cell_type": "code",
      "metadata": {
        "colab": {
          "base_uri": "https://localhost:8080/",
          "height": 606
        },
        "id": "yjEJCNqDAPB2",
        "outputId": "1bba7ac3-e9d5-46df-92c4-b8dbd57df38b"
      },
      "source": [
        "# --- Analyze the results ---\n",
        "vax_df"
      ],
      "execution_count": null,
      "outputs": [
        {
          "output_type": "execute_result",
          "data": {
            "text/html": [
              "<div>\n",
              "<style scoped>\n",
              "    .dataframe tbody tr th:only-of-type {\n",
              "        vertical-align: middle;\n",
              "    }\n",
              "\n",
              "    .dataframe tbody tr th {\n",
              "        vertical-align: top;\n",
              "    }\n",
              "\n",
              "    .dataframe thead th {\n",
              "        text-align: right;\n",
              "    }\n",
              "</style>\n",
              "<table border=\"1\" class=\"dataframe\">\n",
              "  <thead>\n",
              "    <tr style=\"text-align: right;\">\n",
              "      <th></th>\n",
              "      <th>size</th>\n",
              "      <th>model</th>\n",
              "      <th>infections</th>\n",
              "      <th>num vaccinated</th>\n",
              "      <th>vaccinated infected</th>\n",
              "      <th>unvaccinated infected</th>\n",
              "      <th>num unvaccinated</th>\n",
              "      <th>trialnum</th>\n",
              "    </tr>\n",
              "  </thead>\n",
              "  <tbody>\n",
              "    <tr>\n",
              "      <th>0</th>\n",
              "      <td>8</td>\n",
              "      <td>one vaccinated model es 0.7 hsarv 0.1 intra be...</td>\n",
              "      <td>1</td>\n",
              "      <td>1.0</td>\n",
              "      <td>0</td>\n",
              "      <td>1</td>\n",
              "      <td>7.0</td>\n",
              "      <td>0</td>\n",
              "    </tr>\n",
              "    <tr>\n",
              "      <th>1</th>\n",
              "      <td>8</td>\n",
              "      <td>one vaccinated model es 0.7 hsarv 0.1 intra be...</td>\n",
              "      <td>0</td>\n",
              "      <td>1.0</td>\n",
              "      <td>0</td>\n",
              "      <td>0</td>\n",
              "      <td>7.0</td>\n",
              "      <td>0</td>\n",
              "    </tr>\n",
              "    <tr>\n",
              "      <th>2</th>\n",
              "      <td>8</td>\n",
              "      <td>one vaccinated model es 0.7 hsarv 0.1 intra be...</td>\n",
              "      <td>0</td>\n",
              "      <td>1.0</td>\n",
              "      <td>0</td>\n",
              "      <td>0</td>\n",
              "      <td>7.0</td>\n",
              "      <td>0</td>\n",
              "    </tr>\n",
              "    <tr>\n",
              "      <th>3</th>\n",
              "      <td>8</td>\n",
              "      <td>one vaccinated model es 0.7 hsarv 0.1 intra be...</td>\n",
              "      <td>5</td>\n",
              "      <td>1.0</td>\n",
              "      <td>0</td>\n",
              "      <td>5</td>\n",
              "      <td>7.0</td>\n",
              "      <td>0</td>\n",
              "    </tr>\n",
              "    <tr>\n",
              "      <th>4</th>\n",
              "      <td>8</td>\n",
              "      <td>one vaccinated model es 0.7 hsarv 0.1 intra be...</td>\n",
              "      <td>1</td>\n",
              "      <td>1.0</td>\n",
              "      <td>1</td>\n",
              "      <td>0</td>\n",
              "      <td>7.0</td>\n",
              "      <td>0</td>\n",
              "    </tr>\n",
              "    <tr>\n",
              "      <th>...</th>\n",
              "      <td>...</td>\n",
              "      <td>...</td>\n",
              "      <td>...</td>\n",
              "      <td>...</td>\n",
              "      <td>...</td>\n",
              "      <td>...</td>\n",
              "      <td>...</td>\n",
              "      <td>...</td>\n",
              "    </tr>\n",
              "    <tr>\n",
              "      <th>24995</th>\n",
              "      <td>8</td>\n",
              "      <td>one vaccinated model es 0.7 hsarv 0.1 intra be...</td>\n",
              "      <td>2</td>\n",
              "      <td>1.0</td>\n",
              "      <td>0</td>\n",
              "      <td>2</td>\n",
              "      <td>7.0</td>\n",
              "      <td>499</td>\n",
              "    </tr>\n",
              "    <tr>\n",
              "      <th>24996</th>\n",
              "      <td>8</td>\n",
              "      <td>one vaccinated model es 0.7 hsarv 0.1 intra be...</td>\n",
              "      <td>0</td>\n",
              "      <td>1.0</td>\n",
              "      <td>0</td>\n",
              "      <td>0</td>\n",
              "      <td>7.0</td>\n",
              "      <td>499</td>\n",
              "    </tr>\n",
              "    <tr>\n",
              "      <th>24997</th>\n",
              "      <td>8</td>\n",
              "      <td>one vaccinated model es 0.7 hsarv 0.1 intra be...</td>\n",
              "      <td>4</td>\n",
              "      <td>1.0</td>\n",
              "      <td>0</td>\n",
              "      <td>4</td>\n",
              "      <td>7.0</td>\n",
              "      <td>499</td>\n",
              "    </tr>\n",
              "    <tr>\n",
              "      <th>24998</th>\n",
              "      <td>8</td>\n",
              "      <td>one vaccinated model es 0.7 hsarv 0.1 intra be...</td>\n",
              "      <td>0</td>\n",
              "      <td>1.0</td>\n",
              "      <td>0</td>\n",
              "      <td>0</td>\n",
              "      <td>7.0</td>\n",
              "      <td>499</td>\n",
              "    </tr>\n",
              "    <tr>\n",
              "      <th>24999</th>\n",
              "      <td>8</td>\n",
              "      <td>one vaccinated model es 0.7 hsarv 0.1 intra be...</td>\n",
              "      <td>1</td>\n",
              "      <td>1.0</td>\n",
              "      <td>1</td>\n",
              "      <td>0</td>\n",
              "      <td>7.0</td>\n",
              "      <td>499</td>\n",
              "    </tr>\n",
              "  </tbody>\n",
              "</table>\n",
              "<p>25000 rows × 8 columns</p>\n",
              "</div>"
            ],
            "text/plain": [
              "       size  ... trialnum\n",
              "0         8  ...        0\n",
              "1         8  ...        0\n",
              "2         8  ...        0\n",
              "3         8  ...        0\n",
              "4         8  ...        0\n",
              "...     ...  ...      ...\n",
              "24995     8  ...      499\n",
              "24996     8  ...      499\n",
              "24997     8  ...      499\n",
              "24998     8  ...      499\n",
              "24999     8  ...      499\n",
              "\n",
              "[25000 rows x 8 columns]"
            ]
          },
          "metadata": {
            "tags": []
          },
          "execution_count": 19
        }
      ]
    },
    {
      "cell_type": "code",
      "metadata": {
        "colab": {
          "base_uri": "https://localhost:8080/"
        },
        "id": "EywYFRmmr3pq",
        "outputId": "1caad4fc-f0c4-4473-c900-74597294ec9f"
      },
      "source": [
        "# mean (over trials) number of placebo recepients who get infected\n",
        "mean = control_df[control_df[\"vaccinated infected\"] > 0].groupby(\"trialnum\")[\"vaccinated infected\"].count().mean()\n",
        "total = control_df.groupby(\"trialnum\")[\"num vaccinated\"].count().mean()\n",
        "print(\"Percent of placebo reccepients who were infected\")\n",
        "print(100 * mean / total)\n",
        "\n",
        "# mean (over trials) number of vaccinated recepients who get infected\n",
        "mean = vax_df[vax_df[\"vaccinated infected\"] > 0].groupby(\"trialnum\")[\"vaccinated infected\"].count().mean() \n",
        "total = vax_df.groupby(\"trialnum\")[\"num vaccinated\"].count().mean()\n",
        "print(\"Percent of vacccine reccepients who were infected\")\n",
        "100 * mean / total"
      ],
      "execution_count": null,
      "outputs": [
        {
          "output_type": "stream",
          "text": [
            "Percent of placebo reccepients who were infected\n",
            "31.632\n",
            "Percent of vacccine reccepients who were infected\n"
          ],
          "name": "stdout"
        },
        {
          "output_type": "execute_result",
          "data": {
            "text/plain": [
              "12.976"
            ]
          },
          "metadata": {
            "tags": []
          },
          "execution_count": 20
        }
      ]
    },
    {
      "cell_type": "code",
      "metadata": {
        "colab": {
          "base_uri": "https://localhost:8080/"
        },
        "id": "xcOoAniysdRa",
        "outputId": "0f190dcb-0fa1-42a8-e818-d3950fdcb9c6"
      },
      "source": [
        "print(\"Mean percent of individuals infected in vaccinated households by household size\")\n",
        "infections = vax_df.groupby(\"size\")[\"infections\"].mean()\n",
        "size = vax_df.groupby(\"size\")[\"size\"].mean()\n",
        "print(infections / size * 100)\n",
        "\n",
        "print(\"Mean percent of individuals infected in unvaccinated households by household size\")\n",
        "infections = control_df.groupby(\"size\")[\"infections\"].mean()\n",
        "size = control_df.groupby(\"size\")[\"size\"].mean()\n",
        "print(infections / size * 100)"
      ],
      "execution_count": null,
      "outputs": [
        {
          "output_type": "stream",
          "text": [
            "Mean percent of individuals infected in vaccinated households by household size\n",
            "size\n",
            "8    25.8605\n",
            "dtype: float64\n",
            "Mean percent of individuals infected in unvaccinated households by household size\n",
            "size\n",
            "8    31.6795\n",
            "dtype: float64\n"
          ],
          "name": "stdout"
        }
      ]
    },
    {
      "cell_type": "markdown",
      "metadata": {
        "id": "0RpW0MUJt3EP"
      },
      "source": [
        "## Calculating Vaccine Effects (VE)"
      ]
    },
    {
      "cell_type": "markdown",
      "metadata": {
        "id": "iGIuDjx_t8PX"
      },
      "source": [
        "After simulating a two-armed study (see the above work), it's important to have measures of the vaccine's effect in order to assess clinical usefulness.\n",
        "\n",
        "Assessing a vaccine's effect on the 'true' infection dynamics is a difficult inference problem, so it's typically best to calculate a variety of summary statistics that quantify the observed vaccine's effects relative to congruent individuals in the placebo/control arm.\n",
        "\n",
        "To describe these quantities, it's helpful to use the following language: \"primary individuals\" receieved the intervention directly, be it the vaccine or the placebo; \"secondary individuals\" did not receive the intervention but are in a household with someone who did (typically, everyone who is not primary is secondary). See the table below for the terms used to identify different groups:\n",
        "\n",
        "|  | Vaccinated households | Control households\n",
        "| ------------- |:-------------:| :-----:|\n",
        "| Primary       | v,p | c,p |\n",
        "| Secondary     | v,s | c,s |\n",
        "| Everyone     | v | c |\n",
        "\n",
        "This python module makes three such statistics available by default:\n",
        "\n",
        "*  VEtotal: the vaccine's aggregate effect. Measured by comparing outcomes for all individuals in each arm.\n",
        "*  VEprimary: the vaccine's effect on susceptibility. Measured by comparing outcomes for primary study individuals across the two arms.\n",
        "*  VEsecondary: the vaccine's effect on transmission. Measured by comparing outcomes for secondary individuals across the two arms.\n",
        "\n",
        "All these quantities are calculated as $1 - RR$ where $RR$ is the risk ratio calculated between the two congruent groups named above. In other words:\n",
        "\n",
        "$$\\text{VE}_{\\text{total}} = 1 - \\frac{f_{v}}{f_{c}}\\\\\n",
        "\\text{VE}_{\\text{primary}} = 1 - \\frac{f_{v,p}}{f_{c,p}}\\\\\n",
        "\\text{VE}_{\\text{secondary}} = 1 - \\frac{f_{v,s}}{f_{c,s}}$$\n",
        "\n",
        "where, for example, $f_{v,p}$ denotes the fraction of primary individuals in households that received vaccine (in contrast to placebo) who were infected when the study concluded.\n",
        "\n",
        "The statistical significance of these effects is determined using [Fisher's exact test](https://en.wikipedia.org/wiki/Fisher%27s_exact_test)."
      ]
    },
    {
      "cell_type": "code",
      "metadata": {
        "colab": {
          "base_uri": "https://localhost:8080/",
          "height": 745
        },
        "id": "2AhQ-U4PshVe",
        "outputId": "a1f4f792-98eb-4598-ed3a-1bd067a9a1d0"
      },
      "source": [
        "print(\"VEtotal\")\n",
        "vetotal_df = one_vax_study.ve(\"VEtotal\")\n",
        "vetotal_df"
      ],
      "execution_count": null,
      "outputs": [
        {
          "output_type": "stream",
          "text": [
            "VEtotal\n",
            "Calculating VEtotal ...\n",
            " Vaccine study named one vaccinated with:\n",
            "\tes, hsarv                = 0.700, 0.100\n",
            "\tvax_sus, vax_inf         = 0.300, 0.463\n",
            "\tseeding                  = <function seed_zero at 0x7f5ceb183560>\n",
            "\tduration                 = 90\n",
            "\tnet /person import prob  = 0.100\n",
            "\timportation rate         = 0.001\n",
            "\thsar                     = 0.200\n",
            "\thousehold_beta           = 0.033\n",
            "\n"
          ],
          "name": "stdout"
        },
        {
          "output_type": "execute_result",
          "data": {
            "text/html": [
              "<div>\n",
              "<style scoped>\n",
              "    .dataframe tbody tr th:only-of-type {\n",
              "        vertical-align: middle;\n",
              "    }\n",
              "\n",
              "    .dataframe tbody tr th {\n",
              "        vertical-align: top;\n",
              "    }\n",
              "\n",
              "    .dataframe thead th {\n",
              "        text-align: right;\n",
              "    }\n",
              "</style>\n",
              "<table border=\"1\" class=\"dataframe\">\n",
              "  <thead>\n",
              "    <tr style=\"text-align: right;\">\n",
              "      <th></th>\n",
              "      <th>VE</th>\n",
              "      <th>fisher p value</th>\n",
              "    </tr>\n",
              "  </thead>\n",
              "  <tbody>\n",
              "    <tr>\n",
              "      <th>0</th>\n",
              "      <td>0.419162</td>\n",
              "      <td>0.000002</td>\n",
              "    </tr>\n",
              "    <tr>\n",
              "      <th>1</th>\n",
              "      <td>-0.109244</td>\n",
              "      <td>0.360558</td>\n",
              "    </tr>\n",
              "    <tr>\n",
              "      <th>2</th>\n",
              "      <td>0.189189</td>\n",
              "      <td>0.102904</td>\n",
              "    </tr>\n",
              "    <tr>\n",
              "      <th>3</th>\n",
              "      <td>0.200000</td>\n",
              "      <td>0.075579</td>\n",
              "    </tr>\n",
              "    <tr>\n",
              "      <th>4</th>\n",
              "      <td>0.495798</td>\n",
              "      <td>0.000004</td>\n",
              "    </tr>\n",
              "    <tr>\n",
              "      <th>...</th>\n",
              "      <td>...</td>\n",
              "      <td>...</td>\n",
              "    </tr>\n",
              "    <tr>\n",
              "      <th>495</th>\n",
              "      <td>0.051282</td>\n",
              "      <td>0.695398</td>\n",
              "    </tr>\n",
              "    <tr>\n",
              "      <th>496</th>\n",
              "      <td>0.009615</td>\n",
              "      <td>1.000000</td>\n",
              "    </tr>\n",
              "    <tr>\n",
              "      <th>497</th>\n",
              "      <td>0.026087</td>\n",
              "      <td>0.875387</td>\n",
              "    </tr>\n",
              "    <tr>\n",
              "      <th>498</th>\n",
              "      <td>-0.336735</td>\n",
              "      <td>0.012224</td>\n",
              "    </tr>\n",
              "    <tr>\n",
              "      <th>499</th>\n",
              "      <td>0.018349</td>\n",
              "      <td>0.936540</td>\n",
              "    </tr>\n",
              "  </tbody>\n",
              "</table>\n",
              "<p>500 rows × 2 columns</p>\n",
              "</div>"
            ],
            "text/plain": [
              "           VE  fisher p value\n",
              "0    0.419162        0.000002\n",
              "1   -0.109244        0.360558\n",
              "2    0.189189        0.102904\n",
              "3    0.200000        0.075579\n",
              "4    0.495798        0.000004\n",
              "..        ...             ...\n",
              "495  0.051282        0.695398\n",
              "496  0.009615        1.000000\n",
              "497  0.026087        0.875387\n",
              "498 -0.336735        0.012224\n",
              "499  0.018349        0.936540\n",
              "\n",
              "[500 rows x 2 columns]"
            ]
          },
          "metadata": {
            "tags": []
          },
          "execution_count": 22
        }
      ]
    },
    {
      "cell_type": "code",
      "metadata": {
        "colab": {
          "base_uri": "https://localhost:8080/",
          "height": 122
        },
        "id": "4HaA6i-Mv2wA",
        "outputId": "68e6aa14-aa7b-47f1-94e7-7efbbedd9cea"
      },
      "source": [
        "vetotal_df[\"VE\"].hist(cumulative=True)\n",
        "plt.title(\"Cumulative histogram of VEtotal\")\n",
        "plt.xlabel(\"VE\")\n",
        "plt.ylabel(\"count\")\n",
        "print(\"Means:\")\n",
        "vetotal_df.mean()"
      ],
      "execution_count": null,
      "outputs": [
        {
          "output_type": "stream",
          "text": [
            "Means:\n"
          ],
          "name": "stdout"
        },
        {
          "output_type": "execute_result",
          "data": {
            "text/plain": [
              "VE                0.159544\n",
              "fisher p value    0.226898\n",
              "dtype: float64"
            ]
          },
          "metadata": {
            "tags": []
          },
          "execution_count": 23
        },
        {
          "output_type": "display_data",
          "data": {
            "image/png": "[encoded data removed]",
            "text/plain": [
              "<Figure size 432x288 with 1 Axes>"
            ]
          },
          "metadata": {
            "tags": [],
            "needs_background": "light"
          }
        }
      ]
    },
    {
      "cell_type": "code",
      "metadata": {
        "colab": {
          "base_uri": "https://localhost:8080/",
          "height": 745
        },
        "id": "SHrnetC60Um7",
        "outputId": "3d856cfc-edcc-4a6a-9124-e440693793db"
      },
      "source": [
        "print(\"VEprimary\")\n",
        "\n",
        "veprimary_df = one_vax_study.ve(\"VEprimary\")\n",
        "veprimary_df"
      ],
      "execution_count": null,
      "outputs": [
        {
          "output_type": "stream",
          "text": [
            "VEprimary\n",
            "Calculating VEprimary ...\n",
            " Vaccine study named one vaccinated with:\n",
            "\tes, hsarv                = 0.700, 0.100\n",
            "\tvax_sus, vax_inf         = 0.300, 0.463\n",
            "\tseeding                  = <function seed_zero at 0x7f5ceb183560>\n",
            "\tduration                 = 90\n",
            "\tnet /person import prob  = 0.100\n",
            "\timportation rate         = 0.001\n",
            "\thsar                     = 0.200\n",
            "\thousehold_beta           = 0.033\n",
            "\n"
          ],
          "name": "stdout"
        },
        {
          "output_type": "execute_result",
          "data": {
            "text/html": [
              "<div>\n",
              "<style scoped>\n",
              "    .dataframe tbody tr th:only-of-type {\n",
              "        vertical-align: middle;\n",
              "    }\n",
              "\n",
              "    .dataframe tbody tr th {\n",
              "        vertical-align: top;\n",
              "    }\n",
              "\n",
              "    .dataframe thead th {\n",
              "        text-align: right;\n",
              "    }\n",
              "</style>\n",
              "<table border=\"1\" class=\"dataframe\">\n",
              "  <thead>\n",
              "    <tr style=\"text-align: right;\">\n",
              "      <th></th>\n",
              "      <th>VE</th>\n",
              "      <th>fisher p value</th>\n",
              "    </tr>\n",
              "  </thead>\n",
              "  <tbody>\n",
              "    <tr>\n",
              "      <th>0</th>\n",
              "      <td>0.761905</td>\n",
              "      <td>0.000473</td>\n",
              "    </tr>\n",
              "    <tr>\n",
              "      <th>1</th>\n",
              "      <td>0.588235</td>\n",
              "      <td>0.033774</td>\n",
              "    </tr>\n",
              "    <tr>\n",
              "      <th>2</th>\n",
              "      <td>0.583333</td>\n",
              "      <td>0.108370</td>\n",
              "    </tr>\n",
              "    <tr>\n",
              "      <th>3</th>\n",
              "      <td>0.416667</td>\n",
              "      <td>0.307989</td>\n",
              "    </tr>\n",
              "    <tr>\n",
              "      <th>4</th>\n",
              "      <td>0.937500</td>\n",
              "      <td>0.000077</td>\n",
              "    </tr>\n",
              "    <tr>\n",
              "      <th>...</th>\n",
              "      <td>...</td>\n",
              "      <td>...</td>\n",
              "    </tr>\n",
              "    <tr>\n",
              "      <th>495</th>\n",
              "      <td>0.692308</td>\n",
              "      <td>0.031013</td>\n",
              "    </tr>\n",
              "    <tr>\n",
              "      <th>496</th>\n",
              "      <td>0.583333</td>\n",
              "      <td>0.108370</td>\n",
              "    </tr>\n",
              "    <tr>\n",
              "      <th>497</th>\n",
              "      <td>0.583333</td>\n",
              "      <td>0.108370</td>\n",
              "    </tr>\n",
              "    <tr>\n",
              "      <th>498</th>\n",
              "      <td>0.333333</td>\n",
              "      <td>0.453912</td>\n",
              "    </tr>\n",
              "    <tr>\n",
              "      <th>499</th>\n",
              "      <td>0.600000</td>\n",
              "      <td>0.047859</td>\n",
              "    </tr>\n",
              "  </tbody>\n",
              "</table>\n",
              "<p>500 rows × 2 columns</p>\n",
              "</div>"
            ],
            "text/plain": [
              "           VE  fisher p value\n",
              "0    0.761905        0.000473\n",
              "1    0.588235        0.033774\n",
              "2    0.583333        0.108370\n",
              "3    0.416667        0.307989\n",
              "4    0.937500        0.000077\n",
              "..        ...             ...\n",
              "495  0.692308        0.031013\n",
              "496  0.583333        0.108370\n",
              "497  0.583333        0.108370\n",
              "498  0.333333        0.453912\n",
              "499  0.600000        0.047859\n",
              "\n",
              "[500 rows x 2 columns]"
            ]
          },
          "metadata": {
            "tags": []
          },
          "execution_count": 24
        }
      ]
    },
    {
      "cell_type": "code",
      "metadata": {
        "colab": {
          "base_uri": "https://localhost:8080/",
          "height": 122
        },
        "id": "hrN_uXtZ0Um_",
        "outputId": "a825c000-ffe7-486a-ca8c-0a8cae655c4a"
      },
      "source": [
        "veprimary_df[\"VE\"].hist(cumulative=True)\n",
        "plt.title(\"Cumulative histogram of VEprimary\")\n",
        "plt.xlabel(\"VE\")\n",
        "plt.ylabel(\"count\")\n",
        "print(\"Means:\")\n",
        "veprimary_df.mean()"
      ],
      "execution_count": null,
      "outputs": [
        {
          "output_type": "stream",
          "text": [
            "Means:\n"
          ],
          "name": "stdout"
        },
        {
          "output_type": "execute_result",
          "data": {
            "text/plain": [
              "VE                0.569002\n",
              "fisher p value    0.144076\n",
              "dtype: float64"
            ]
          },
          "metadata": {
            "tags": []
          },
          "execution_count": 25
        },
        {
          "output_type": "display_data",
          "data": {
            "image/png": "[encoded data removed]",
            "text/plain": [
              "<Figure size 432x288 with 1 Axes>"
            ]
          },
          "metadata": {
            "tags": [],
            "needs_background": "light"
          }
        }
      ]
    },
    {
      "cell_type": "code",
      "metadata": {
        "colab": {
          "base_uri": "https://localhost:8080/",
          "height": 745
        },
        "id": "hjlAhLkG0sbC",
        "outputId": "66414860-9967-4a8a-9123-21e1becfb6b2"
      },
      "source": [
        "print(\"VEsecondary\")\n",
        "\n",
        "vesecondary_df = one_vax_study.ve(\"VEsecondary\")\n",
        "vesecondary_df"
      ],
      "execution_count": null,
      "outputs": [
        {
          "output_type": "stream",
          "text": [
            "VEsecondary\n",
            "Calculating VEsecondary ...\n",
            " Vaccine study named one vaccinated with:\n",
            "\tes, hsarv                = 0.700, 0.100\n",
            "\tvax_sus, vax_inf         = 0.300, 0.463\n",
            "\tseeding                  = <function seed_zero at 0x7f5ceb183560>\n",
            "\tduration                 = 90\n",
            "\tnet /person import prob  = 0.100\n",
            "\timportation rate         = 0.001\n",
            "\thsar                     = 0.200\n",
            "\thousehold_beta           = 0.033\n",
            "\n"
          ],
          "name": "stdout"
        },
        {
          "output_type": "execute_result",
          "data": {
            "text/html": [
              "<div>\n",
              "<style scoped>\n",
              "    .dataframe tbody tr th:only-of-type {\n",
              "        vertical-align: middle;\n",
              "    }\n",
              "\n",
              "    .dataframe tbody tr th {\n",
              "        vertical-align: top;\n",
              "    }\n",
              "\n",
              "    .dataframe thead th {\n",
              "        text-align: right;\n",
              "    }\n",
              "</style>\n",
              "<table border=\"1\" class=\"dataframe\">\n",
              "  <thead>\n",
              "    <tr style=\"text-align: right;\">\n",
              "      <th></th>\n",
              "      <th>VE</th>\n",
              "      <th>fisher p value</th>\n",
              "    </tr>\n",
              "  </thead>\n",
              "  <tbody>\n",
              "    <tr>\n",
              "      <th>0</th>\n",
              "      <td>0.369863</td>\n",
              "      <td>0.000022</td>\n",
              "    </tr>\n",
              "    <tr>\n",
              "      <th>1</th>\n",
              "      <td>-0.225490</td>\n",
              "      <td>0.075558</td>\n",
              "    </tr>\n",
              "    <tr>\n",
              "      <th>2</th>\n",
              "      <td>0.141414</td>\n",
              "      <td>0.264289</td>\n",
              "    </tr>\n",
              "    <tr>\n",
              "      <th>3</th>\n",
              "      <td>0.174757</td>\n",
              "      <td>0.147027</td>\n",
              "    </tr>\n",
              "    <tr>\n",
              "      <th>4</th>\n",
              "      <td>0.427184</td>\n",
              "      <td>0.000109</td>\n",
              "    </tr>\n",
              "    <tr>\n",
              "      <th>...</th>\n",
              "      <td>...</td>\n",
              "      <td>...</td>\n",
              "    </tr>\n",
              "    <tr>\n",
              "      <th>495</th>\n",
              "      <td>-0.028846</td>\n",
              "      <td>0.869180</td>\n",
              "    </tr>\n",
              "    <tr>\n",
              "      <th>496</th>\n",
              "      <td>-0.065217</td>\n",
              "      <td>0.670922</td>\n",
              "    </tr>\n",
              "    <tr>\n",
              "      <th>497</th>\n",
              "      <td>-0.038835</td>\n",
              "      <td>0.804609</td>\n",
              "    </tr>\n",
              "    <tr>\n",
              "      <th>498</th>\n",
              "      <td>-0.430233</td>\n",
              "      <td>0.002899</td>\n",
              "    </tr>\n",
              "    <tr>\n",
              "      <th>499</th>\n",
              "      <td>-0.074468</td>\n",
              "      <td>0.613012</td>\n",
              "    </tr>\n",
              "  </tbody>\n",
              "</table>\n",
              "<p>500 rows × 2 columns</p>\n",
              "</div>"
            ],
            "text/plain": [
              "           VE  fisher p value\n",
              "0    0.369863        0.000022\n",
              "1   -0.225490        0.075558\n",
              "2    0.141414        0.264289\n",
              "3    0.174757        0.147027\n",
              "4    0.427184        0.000109\n",
              "..        ...             ...\n",
              "495 -0.028846        0.869180\n",
              "496 -0.065217        0.670922\n",
              "497 -0.038835        0.804609\n",
              "498 -0.430233        0.002899\n",
              "499 -0.074468        0.613012\n",
              "\n",
              "[500 rows x 2 columns]"
            ]
          },
          "metadata": {
            "tags": []
          },
          "execution_count": 26
        }
      ]
    },
    {
      "cell_type": "code",
      "metadata": {
        "colab": {
          "base_uri": "https://localhost:8080/",
          "height": 122
        },
        "id": "_Dh49xpQ0sbD",
        "outputId": "25021426-68ed-4997-cf43-d4e7fe32da23"
      },
      "source": [
        "vesecondary_df[\"VE\"].hist(cumulative=True)\n",
        "plt.title(\"Cumulative histogram of VEsecondary\")\n",
        "plt.xlabel(\"VE\")\n",
        "plt.ylabel(\"count\")\n",
        "print(\"Means:\")\n",
        "vesecondary_df.mean()"
      ],
      "execution_count": null,
      "outputs": [
        {
          "output_type": "stream",
          "text": [
            "Means:\n"
          ],
          "name": "stdout"
        },
        {
          "output_type": "execute_result",
          "data": {
            "text/plain": [
              "VE                0.099732\n",
              "fisher p value    0.265666\n",
              "dtype: float64"
            ]
          },
          "metadata": {
            "tags": []
          },
          "execution_count": 27
        },
        {
          "output_type": "display_data",
          "data": {
            "image/png": "[encoded data removed]",
            "text/plain": [
              "<Figure size 432x288 with 1 Axes>"
            ]
          },
          "metadata": {
            "tags": [],
            "needs_background": "light"
          }
        }
      ]
    },
    {
      "cell_type": "markdown",
      "metadata": {
        "id": "NAJK90tSuFqW"
      },
      "source": [
        "## Power calculations"
      ]
    },
    {
      "cell_type": "markdown",
      "metadata": {
        "id": "exSq0OuE1v3j"
      },
      "source": [
        "After measuring a vaccine effect in a number of simulated trials, it's important to get a measure of power -- the probability that a real effect would be detected by a study if the effect is present.\n",
        "\n",
        "The power is conditioned on two choices:\n",
        "\n",
        "*   p-value: the cutoff for statistical significance used to conclude if an effect was detected.\n",
        "*   Effect size threshold: the magnitude of VE that must be reached to conclude the study a success.\n",
        "\n"
      ]
    },
    {
      "cell_type": "code",
      "metadata": {
        "colab": {
          "base_uri": "https://localhost:8080/"
        },
        "id": "A3TvGBrzwMUB",
        "outputId": "165dd2a9-4987-450b-fb9e-d65ffbb72bff"
      },
      "source": [
        "# we can call the module's power function for VEtotal at 99% significance looking for effects of any size\n",
        "vaccine.power(vetotal_df, 0.01, threshold=0.0)"
      ],
      "execution_count": null,
      "outputs": [
        {
          "output_type": "stream",
          "text": [
            "Calculating power\n"
          ],
          "name": "stdout"
        },
        {
          "output_type": "execute_result",
          "data": {
            "text/plain": [
              "0.386"
            ]
          },
          "metadata": {
            "tags": []
          },
          "execution_count": 28
        }
      ]
    },
    {
      "cell_type": "code",
      "metadata": {
        "colab": {
          "base_uri": "https://localhost:8080/"
        },
        "id": "tnZDlylA7Kll",
        "outputId": "4fdae207-01f4-4673-c36e-db0c254701cb"
      },
      "source": [
        "# we call the module's power function at 95% significance looking for effects of VEprimary >= 0.3\n",
        "vaccine.power(veprimary_df, 0.05, threshold=0.3)"
      ],
      "execution_count": null,
      "outputs": [
        {
          "output_type": "stream",
          "text": [
            "Calculating power\n"
          ],
          "name": "stdout"
        },
        {
          "output_type": "execute_result",
          "data": {
            "text/plain": [
              "0.548"
            ]
          },
          "metadata": {
            "tags": []
          },
          "execution_count": 29
        }
      ]
    },
    {
      "cell_type": "markdown",
      "metadata": {
        "id": "15BJMBjS8IoO"
      },
      "source": [
        "To see if a study design is feasible, it's helpful to look at power as a function of sample size."
      ]
    },
    {
      "cell_type": "code",
      "metadata": {
        "collapsed": true,
        "id": "intense-piano"
      },
      "source": [
        "# --- Setting parameters for a VaccineStudy ---\n",
        "hsar = 0.2 # the desired household sar\n",
        "hsarv = 0.10 # the hsar calculated in reference to vaccinated individuals (therefore encoding vaccine effect on infectivity)\n",
        "es = 0.7 # = 1 - the relative chance per contact of an infection passing to a vaccinated individual\n",
        "# Duration of the study and importation rate\n",
        "duration = 90 # days\n",
        "importation_probability_over_study = 0.1 # probability an unvaccinateed individual becomes infected over the whole course of the study\n",
        "# Specifying the vaccination protocol. Common methods such as vaccinating one individual, a fraction of individuals, or a fixed number of individuals are made available in vaccine.py\n",
        "vaccination_method = vaccine.vaccinate_one\n",
        "\n",
        "study = vaccine.VaccineStudy(\"one vaccinated\", hsar, es, (hsarv, 'hsarv'), duration, importation_probability_over_study, vaccination_method)\n"
      ],
      "execution_count": null,
      "outputs": []
    },
    {
      "cell_type": "code",
      "metadata": {
        "collapsed": true,
        "id": "egyptian-camera"
      },
      "source": [
        "sizes = [4,5,6,7,8] \n",
        "n_axis = np.linspace(50, 1600, 75)\n",
        "thresholds = [0.0, 0.1, 0.2, 0.3, 0.4]\n",
        "fisher_p  = 0.05"
      ],
      "execution_count": null,
      "outputs": []
    },
    {
      "cell_type": "code",
      "metadata": {
        "id": "taken-sound"
      },
      "source": [
        "power_df = study.power_vs_sample_size(sizes, n_axis, thresholds, fisher_p, 800)"
      ],
      "execution_count": null,
      "outputs": []
    },
    {
      "cell_type": "code",
      "metadata": {
        "colab": {
          "base_uri": "https://localhost:8080/",
          "height": 255
        },
        "id": "K7w_-vkpzYZq",
        "outputId": "57df0439-0e68-4f44-bb5e-9a8a16e6d76f"
      },
      "source": [
        "power_df.head()"
      ],
      "execution_count": null,
      "outputs": [
        {
          "output_type": "execute_result",
          "data": {
            "text/html": [
              "<div>\n",
              "<style scoped>\n",
              "    .dataframe tbody tr th:only-of-type {\n",
              "        vertical-align: middle;\n",
              "    }\n",
              "\n",
              "    .dataframe tbody tr th {\n",
              "        vertical-align: top;\n",
              "    }\n",
              "\n",
              "    .dataframe thead tr th {\n",
              "        text-align: left;\n",
              "    }\n",
              "</style>\n",
              "<table border=\"1\" class=\"dataframe\">\n",
              "  <thead>\n",
              "    <tr>\n",
              "      <th>threshold</th>\n",
              "      <th>0.0</th>\n",
              "      <th>0.1</th>\n",
              "      <th>0.2</th>\n",
              "      <th>0.3</th>\n",
              "      <th>0.4</th>\n",
              "      <th>0.0</th>\n",
              "      <th>0.1</th>\n",
              "      <th>0.2</th>\n",
              "      <th>0.3</th>\n",
              "      <th>0.4</th>\n",
              "      <th>0.0</th>\n",
              "      <th>0.1</th>\n",
              "      <th>0.2</th>\n",
              "      <th>0.3</th>\n",
              "      <th>0.4</th>\n",
              "    </tr>\n",
              "    <tr>\n",
              "      <th>VE type</th>\n",
              "      <th>VEtotal</th>\n",
              "      <th>VEtotal</th>\n",
              "      <th>VEtotal</th>\n",
              "      <th>VEtotal</th>\n",
              "      <th>VEtotal</th>\n",
              "      <th>VEprimary</th>\n",
              "      <th>VEprimary</th>\n",
              "      <th>VEprimary</th>\n",
              "      <th>VEprimary</th>\n",
              "      <th>VEprimary</th>\n",
              "      <th>VEsecondary</th>\n",
              "      <th>VEsecondary</th>\n",
              "      <th>VEsecondary</th>\n",
              "      <th>VEsecondary</th>\n",
              "      <th>VEsecondary</th>\n",
              "    </tr>\n",
              "  </thead>\n",
              "  <tbody>\n",
              "    <tr>\n",
              "      <th>100.000000</th>\n",
              "      <td>0.4900</td>\n",
              "      <td>0.4900</td>\n",
              "      <td>0.4700</td>\n",
              "      <td>0.2275</td>\n",
              "      <td>0.0775</td>\n",
              "      <td>0.7775</td>\n",
              "      <td>0.7775</td>\n",
              "      <td>0.7775</td>\n",
              "      <td>0.7775</td>\n",
              "      <td>0.7775</td>\n",
              "      <td>0.2650</td>\n",
              "      <td>0.2650</td>\n",
              "      <td>0.2600</td>\n",
              "      <td>0.1325</td>\n",
              "      <td>0.0250</td>\n",
              "    </tr>\n",
              "    <tr>\n",
              "      <th>130.612245</th>\n",
              "      <td>0.5375</td>\n",
              "      <td>0.5375</td>\n",
              "      <td>0.4750</td>\n",
              "      <td>0.2300</td>\n",
              "      <td>0.0425</td>\n",
              "      <td>0.8925</td>\n",
              "      <td>0.8925</td>\n",
              "      <td>0.8925</td>\n",
              "      <td>0.8925</td>\n",
              "      <td>0.8925</td>\n",
              "      <td>0.3200</td>\n",
              "      <td>0.3200</td>\n",
              "      <td>0.2825</td>\n",
              "      <td>0.0900</td>\n",
              "      <td>0.0125</td>\n",
              "    </tr>\n",
              "    <tr>\n",
              "      <th>161.224490</th>\n",
              "      <td>0.5800</td>\n",
              "      <td>0.5800</td>\n",
              "      <td>0.4675</td>\n",
              "      <td>0.2000</td>\n",
              "      <td>0.0350</td>\n",
              "      <td>0.9350</td>\n",
              "      <td>0.9350</td>\n",
              "      <td>0.9350</td>\n",
              "      <td>0.9350</td>\n",
              "      <td>0.9325</td>\n",
              "      <td>0.3450</td>\n",
              "      <td>0.3450</td>\n",
              "      <td>0.2600</td>\n",
              "      <td>0.0925</td>\n",
              "      <td>0.0100</td>\n",
              "    </tr>\n",
              "    <tr>\n",
              "      <th>191.836735</th>\n",
              "      <td>0.6650</td>\n",
              "      <td>0.6650</td>\n",
              "      <td>0.5000</td>\n",
              "      <td>0.1650</td>\n",
              "      <td>0.0200</td>\n",
              "      <td>0.9800</td>\n",
              "      <td>0.9800</td>\n",
              "      <td>0.9800</td>\n",
              "      <td>0.9800</td>\n",
              "      <td>0.9750</td>\n",
              "      <td>0.4000</td>\n",
              "      <td>0.4000</td>\n",
              "      <td>0.2525</td>\n",
              "      <td>0.0650</td>\n",
              "      <td>0.0075</td>\n",
              "    </tr>\n",
              "    <tr>\n",
              "      <th>222.448980</th>\n",
              "      <td>0.6950</td>\n",
              "      <td>0.6950</td>\n",
              "      <td>0.4925</td>\n",
              "      <td>0.1600</td>\n",
              "      <td>0.0250</td>\n",
              "      <td>0.9900</td>\n",
              "      <td>0.9900</td>\n",
              "      <td>0.9900</td>\n",
              "      <td>0.9900</td>\n",
              "      <td>0.9825</td>\n",
              "      <td>0.4075</td>\n",
              "      <td>0.4075</td>\n",
              "      <td>0.2375</td>\n",
              "      <td>0.0550</td>\n",
              "      <td>0.0075</td>\n",
              "    </tr>\n",
              "  </tbody>\n",
              "</table>\n",
              "</div>"
            ],
            "text/plain": [
              "threshold      0.0     0.1     0.2  ...                     0.3         0.4\n",
              "VE type    VEtotal VEtotal VEtotal  ... VEsecondary VEsecondary VEsecondary\n",
              "100.000000  0.4900  0.4900  0.4700  ...      0.2600      0.1325      0.0250\n",
              "130.612245  0.5375  0.5375  0.4750  ...      0.2825      0.0900      0.0125\n",
              "161.224490  0.5800  0.5800  0.4675  ...      0.2600      0.0925      0.0100\n",
              "191.836735  0.6650  0.6650  0.5000  ...      0.2525      0.0650      0.0075\n",
              "222.448980  0.6950  0.6950  0.4925  ...      0.2375      0.0550      0.0075\n",
              "\n",
              "[5 rows x 15 columns]"
            ]
          },
          "metadata": {
            "tags": []
          },
          "execution_count": 36
        }
      ]
    },
    {
      "cell_type": "code",
      "metadata": {
        "id": "cLG8GHhPdDlj",
        "colab": {
          "base_uri": "https://localhost:8080/"
        },
        "outputId": "f7926efd-4e5b-41ef-961d-7b3940168f26"
      },
      "source": [
        "!mkdir ./vaccine_experiments\n",
        "!cd ./vaccine_experiments\n",
        "power_df.to_hdf(\"power_df_one_vaccinated.hdf\", key=\"power_df\")\n",
        "import sys\n",
        "original_stdout = sys.stdout\n",
        "with open('study.txt', 'w') as f:\n",
        "    sys.stdout = f\n",
        "    print(study)\n",
        "    sys.stdout = original_stdout"
      ],
      "execution_count": null,
      "outputs": [
        {
          "output_type": "stream",
          "text": [
            "mkdir: cannot create directory ‘./vaccine_experiments’: File exists\n"
          ],
          "name": "stdout"
        },
        {
          "output_type": "stream",
          "text": [
            "/usr/local/lib/python3.7/dist-packages/tables/path.py:112: NaturalNameWarning: object name is not a valid Python identifier: 'axis0_nameVE type'; it does not match the pattern ``^[a-zA-Z_][a-zA-Z0-9_]*$``; you will not be able to use natural naming to access this object; using ``getattr()`` will still work, though\n",
            "  NaturalNameWarning)\n",
            "/usr/local/lib/python3.7/dist-packages/tables/path.py:112: NaturalNameWarning: object name is not a valid Python identifier: 'block0_items_nameVE type'; it does not match the pattern ``^[a-zA-Z_][a-zA-Z0-9_]*$``; you will not be able to use natural naming to access this object; using ``getattr()`` will still work, though\n",
            "  NaturalNameWarning)\n"
          ],
          "name": "stderr"
        }
      ]
    },
    {
      "cell_type": "code",
      "metadata": {
        "id": "Ky6B05DH1E9p",
        "colab": {
          "base_uri": "https://localhost:8080/",
          "height": 1000
        },
        "outputId": "cd66e6f2-bbac-4562-dab9-ce51c546b9d3"
      },
      "source": [
        "for k,g in power_df.groupby(\"threshold\", axis=1):\n",
        "    g.plot()"
      ],
      "execution_count": null,
      "outputs": [
        {
          "output_type": "display_data",
          "data": {
            "image/png": "[encoded data removed]",
            "text/plain": [
              "<Figure size 432x288 with 1 Axes>"
            ]
          },
          "metadata": {
            "tags": [],
            "needs_background": "light"
          }
        },
        {
          "output_type": "display_data",
          "data": {
            "image/png": "[encoded data removed]",
            "text/plain": [
              "<Figure size 432x288 with 1 Axes>"
            ]
          },
          "metadata": {
            "tags": [],
            "needs_background": "light"
          }
        },
        {
          "output_type": "display_data",
          "data": {
            "image/png": "[encoded data removed]",
            "text/plain": [
              "<Figure size 432x288 with 1 Axes>"
            ]
          },
          "metadata": {
            "tags": [],
            "needs_background": "light"
          }
        },
        {
          "output_type": "display_data",
          "data": {
            "image/png": "[encoded data removed]",
            "text/plain": [
              "<Figure size 432x288 with 1 Axes>"
            ]
          },
          "metadata": {
            "tags": [],
            "needs_background": "light"
          }
        },
        {
          "output_type": "display_data",
          "data": {
            "image/png": "[encoded data removed]",
            "text/plain": [
              "<Figure size 432x288 with 1 Axes>"
            ]
          },
          "metadata": {
            "tags": [],
            "needs_background": "light"
          }
        }
      ]
    },
    {
      "cell_type": "markdown",
      "metadata": {
        "id": "tTYwUO3p2Djg"
      },
      "source": [
        "# Making a git commit from changes to python backend\n",
        "\n",
        "To save this notebook use `File > Save a copy in Github`"
      ]
    },
    {
      "cell_type": "code",
      "metadata": {
        "id": "mnPAmOsD2ACG"
      },
      "source": [
        "!git add -A\n",
        "!git status\n",
        "!git diff --cached"
      ],
      "execution_count": null,
      "outputs": []
    },
    {
      "cell_type": "code",
      "metadata": {
        "id": "OaRjJRgz2lRk"
      },
      "source": [
        "!git config --global user.email \"\"\n",
        "!git config --global user.email \"Thayer\""
      ],
      "execution_count": null,
      "outputs": []
    },
    {
      "cell_type": "code",
      "metadata": {
        "colab": {
          "base_uri": "https://localhost:8080/"
        },
        "id": "3tZeUimV2-Zk",
        "outputId": "2f5214c8-9799-4624-83b1-a53d28784c64"
      },
      "source": [
        "message = input(\"Commit message? \")\n",
        "\n",
        "!git commit -m \"{message}\""
      ],
      "execution_count": null,
      "outputs": [
        {
          "output_type": "stream",
          "text": [
            "Commit message? Resolving merge conflict\n",
            "[main 9fdf852] Resolving merge conflict\n"
          ],
          "name": "stdout"
        }
      ]
    },
    {
      "cell_type": "markdown",
      "metadata": {
        "id": "0n5-5yi0_dYu"
      },
      "source": [
        "# Pushing upstream or pulling changes\n",
        "\n",
        "Use `File > Save a copy in Github` to save this notebook. Use these cells to commit changes to the python backend or pull changes from the origin."
      ]
    },
    {
      "cell_type": "code",
      "metadata": {
        "id": "s9cLEEJSwAf3"
      },
      "source": [
        "!git remote set-url origin https://{git_token}@github.com/{repo_owner}/{repository}"
      ],
      "execution_count": null,
      "outputs": []
    },
    {
      "cell_type": "code",
      "metadata": {
        "colab": {
          "base_uri": "https://localhost:8080/"
        },
        "id": "QzWA4B7Cr5MG",
        "outputId": "48e8eb22-7c47-4f47-a682-cc78e24211cc"
      },
      "source": [
        "!git pull\n",
        "!git commit -m 'Merged'"
      ],
      "execution_count": null,
      "outputs": [
        {
          "output_type": "stream",
          "text": [
            "Already up to date.\n",
            "On branch main\n",
            "Your branch is ahead of 'origin/main' by 2 commits.\n",
            "  (use \"git push\" to publish your local commits)\n",
            "\n",
            "nothing to commit, working tree clean\n"
          ],
          "name": "stdout"
        }
      ]
    },
    {
      "cell_type": "code",
      "metadata": {
        "colab": {
          "base_uri": "https://localhost:8080/"
        },
        "id": "u1f1DCBt3HV1",
        "outputId": "3ac552c1-28e8-4d56-fc3d-b06e5b3acc22"
      },
      "source": [
        "!git push"
      ],
      "execution_count": null,
      "outputs": [
        {
          "output_type": "stream",
          "text": [
            "Counting objects: 8, done.\n",
            "Delta compression using up to 2 threads.\n",
            "Compressing objects:  12% (1/8)   \rCompressing objects:  25% (2/8)   \rCompressing objects:  37% (3/8)   \rCompressing objects:  50% (4/8)   \rCompressing objects:  62% (5/8)   \rCompressing objects:  75% (6/8)   \rCompressing objects:  87% (7/8)   \rCompressing objects: 100% (8/8)   \rCompressing objects: 100% (8/8), done.\n",
            "Writing objects:  12% (1/8)   \rWriting objects:  25% (2/8)   \rWriting objects:  37% (3/8)   \rWriting objects:  50% (4/8)   \rWriting objects:  62% (5/8)   \rWriting objects:  75% (6/8)   \rWriting objects:  87% (7/8)   \rWriting objects: 100% (8/8)   \rWriting objects: 100% (8/8), 1.12 KiB | 383.00 KiB/s, done.\n",
            "Total 8 (delta 6), reused 0 (delta 0)\n",
            "remote: Resolving deltas:   0% (0/6)\u001b[K\rremote: Resolving deltas:  16% (1/6)\u001b[K\rremote: Resolving deltas:  33% (2/6)\u001b[K\rremote: Resolving deltas:  50% (3/6)\u001b[K\rremote: Resolving deltas:  66% (4/6)\u001b[K\rremote: Resolving deltas:  83% (5/6)\u001b[K\rremote: Resolving deltas: 100% (6/6)\u001b[K\rremote: Resolving deltas: 100% (6/6), completed with 4 local objects.\u001b[K\n",
            "To https://github.com/tanderson11/covid_households\n",
            "   f7ed928..134634f  main -> main\n"
          ],
          "name": "stdout"
        }
      ]
    }
  ]
}