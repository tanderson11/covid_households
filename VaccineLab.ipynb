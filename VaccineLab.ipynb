{
  "nbformat": 4,
  "nbformat_minor": 0,
  "metadata": {
    "accelerator": "GPU",
    "colab": {
      "name": "VaccineLab.ipynb",
      "provenance": [],
      "collapsed_sections": [
        "IsWpiP3DFFMo",
        "HKqa27GWFKnE",
        "RKWx-gMepyKX"
      ],
      "toc_visible": true,
      "include_colab_link": true
    },
    "kernelspec": {
      "display_name": "Python 3",
      "language": "python",
      "name": "python3"
    },
    "language_info": {
      "codemirror_mode": {
        "name": "ipython",
        "version": 3
      },
      "file_extension": ".py",
      "mimetype": "text/x-python",
      "name": "python",
      "nbconvert_exporter": "python",
      "pygments_lexer": "ipython3",
      "version": "3.7.3"
    }
  },
  "cells": [
    {
      "cell_type": "markdown",
      "metadata": {
        "id": "view-in-github",
        "colab_type": "text"
      },
      "source": [
        "<a href=\"https://colab.research.google.com/github/tanderson11/covid_households/blob/main/VaccineLab.ipynb\" target=\"_parent\"><img src=\"https://colab.research.google.com/assets/colab-badge.svg\" alt=\"Open In Colab\"/></a>"
      ]
    },
    {
      "cell_type": "markdown",
      "metadata": {
        "id": "vFEfWUyjl_L-"
      },
      "source": [
        "# Vaccine Study Laboratory"
      ]
    },
    {
      "cell_type": "markdown",
      "metadata": {
        "id": "IsWpiP3DFFMo"
      },
      "source": [
        "# Drive + Github configuration\n",
        "\n",
        "* If you opened this notebook from Github, go to `File > Save a copy in Drive`.\n",
        "* If running for the first time, set `first_time_setup = True`\n",
        "* You'll have to authenticate on google drive the first time and each time the runtime times out.\n",
        "* To use tokens, fork the repository and go to `Github > User > Settings > Developer Settings > Personal access tokens`"
      ]
    },
    {
      "cell_type": "code",
      "metadata": {
        "id": "ZMjOwUq1w-wa"
      },
      "source": [
        "# A flag to clone the repository into your drive. See the >>> SETUP <<< lines to know what is affected\n",
        "# Set to false after running this set of cells once\n",
        "first_time_setup = False"
      ],
      "execution_count": 1,
      "outputs": []
    },
    {
      "cell_type": "code",
      "metadata": {
        "colab": {
          "base_uri": "https://localhost:8080/"
        },
        "id": "ORzYVf06BhuU",
        "outputId": "137b76d2-a188-4a55-97e6-db74aa30b90a"
      },
      "source": [
        "from google.colab import drive\n",
        "drive.mount('/content/gdrive')"
      ],
      "execution_count": 2,
      "outputs": [
        {
          "output_type": "stream",
          "text": [
            "Drive already mounted at /content/gdrive; to attempt to forcibly remount, call drive.mount(\"/content/gdrive\", force_remount=True).\n"
          ],
          "name": "stdout"
        }
      ]
    },
    {
      "cell_type": "code",
      "metadata": {
        "colab": {
          "base_uri": "https://localhost:8080/"
        },
        "id": "I3fmCBmpDCZn",
        "outputId": "d9b4989e-215d-4c9f-cf3c-e75b7b36d002"
      },
      "source": [
        "%mkdir /content/gdrive/My\\ Drive/github\n",
        "%cd /content/gdrive/My\\ Drive/github"
      ],
      "execution_count": 3,
      "outputs": [
        {
          "output_type": "stream",
          "text": [
            "mkdir: cannot create directory ‘/content/gdrive/My Drive/github’: File exists\n",
            "/content/gdrive/My Drive/github\n"
          ],
          "name": "stdout"
        }
      ]
    },
    {
      "cell_type": "code",
      "metadata": {
        "id": "J0qVcYVio4mo"
      },
      "source": [
        "# If you've forked the repository, point to your own username and repository name (if different)\n",
        "repo_owner=\"tanderson11\"\n",
        "repository=\"covid_households\"\n",
        "\n",
        "# >>> SETUP: <<<\n",
        "if first_time_setup:\n",
        "    !git clone https://github.com/{repo_owner}/{repository}.git\n",
        "\n",
        "# >>> TOKEN SETUP: <<<\n",
        "# If you're using token authentication (recommended), add your token and uncomment the lines below instead\n",
        "\n",
        "#!echo git_token=\\\"your_token_here\\\" > git_token.py\n",
        "#from git_token import git_token\n",
        "\n",
        "#!git clone https://{git_token}@github.com/{repo_owner}/{repository}"
      ],
      "execution_count": 4,
      "outputs": []
    },
    {
      "cell_type": "code",
      "metadata": {
        "colab": {
          "base_uri": "https://localhost:8080/"
        },
        "id": "bqQubdG6EpNl",
        "outputId": "47254ada-435c-4c49-f391-e8011ec5de35"
      },
      "source": [
        "%cd covid_households/\n",
        "!ls -a\n",
        "\n",
        "# >>> TOKEN SETUP: <<<\n",
        "# this will put your token in the right folder; comment this line out after use to avoid an error message\n",
        "#!mv ../git_token.py ./\n",
        "\n",
        "from git_token import git_token"
      ],
      "execution_count": 5,
      "outputs": [
        {
          "output_type": "stream",
          "text": [
            "/content/gdrive/My Drive/github/covid_households\n",
            "baseline_df.hdf        .gitignore\t\t    settings.py\n",
            "comparison_df.hdf      git_token.py\t\t    SuperspreadingLab.ipynb\n",
            "constants.py\t       .ipynb_checkpoints\t    torch_forward_simulation.py\n",
            "df.hdf\t\t       Lab.ipynb\t\t    traits.py\n",
            "experiments\t       likelihood.py\t\t    utilities.py\n",
            "forward_simulation.py  ParameterInferenceLab.ipynb  Vaccine.ipynb\n",
            "funfigures_new.py      population.py\t\t    VaccineLab.ipynb\n",
            "funfigures.py\t       __pycache__\t\t    vaccine.py\n",
            ".git\t\t       README.md\n"
          ],
          "name": "stdout"
        }
      ]
    },
    {
      "cell_type": "markdown",
      "metadata": {
        "id": "HKqa27GWFKnE"
      },
      "source": [
        "# Initialization\n",
        "\n",
        "Call this once each runtime after Drive configuration to import the module"
      ]
    },
    {
      "cell_type": "code",
      "metadata": {
        "id": "bJP1Mq2YEtVX"
      },
      "source": [
        "# Initialization\n",
        "import importlib\n",
        "import vaccine\n",
        "import likelihood\n",
        "import utilities\n",
        "import pandas as pd\n",
        "import numpy as np\n",
        "import functools\n",
        "import matplotlib.pyplot as plt"
      ],
      "execution_count": 6,
      "outputs": []
    },
    {
      "cell_type": "markdown",
      "metadata": {
        "id": "RKWx-gMepyKX"
      },
      "source": [
        "# Reload modules\n",
        "\n",
        "Call this if you change any .py files in the drive"
      ]
    },
    {
      "cell_type": "code",
      "metadata": {
        "colab": {
          "base_uri": "https://localhost:8080/"
        },
        "id": "uLZH04Xap0xj",
        "outputId": "9ebb6e83-e353-47ac-a913-7cb829c4cd00"
      },
      "source": [
        "importlib.reload(vaccine)\n",
        "importlib.reload(likelihood)\n",
        "importlib.reload(utilities)\n",
        "importlib.reload(population)"
      ],
      "execution_count": null,
      "outputs": [
        {
          "output_type": "execute_result",
          "data": {
            "text/plain": [
              "<module 'utilities' from '/content/gdrive/My Drive/github/covid_households/utilities.py'>"
            ]
          },
          "metadata": {
            "tags": []
          },
          "execution_count": 14
        }
      ]
    },
    {
      "cell_type": "markdown",
      "metadata": {
        "id": "-jnMbCiF-y3V"
      },
      "source": [
        "# Basic infection model"
      ]
    },
    {
      "cell_type": "markdown",
      "metadata": {
        "id": "xsjuaECH-0mr"
      },
      "source": [
        "(Currently in overleaf)"
      ]
    },
    {
      "cell_type": "markdown",
      "metadata": {
        "id": "Qlx0JIhoAElm"
      },
      "source": [
        "# Modeling vaccination"
      ]
    },
    {
      "cell_type": "markdown",
      "metadata": {
        "id": "JrkbGpxWAKuR"
      },
      "source": [
        "To add vaccination to the basic model, we introduce two near parameters:\n",
        "\n",
        "\n",
        "*   $v_s$: the relative susceptibility of the vaccinated\n",
        "*   $v_f$: the relative infectivity of the vaccinated\n",
        "\n",
        "\n",
        "\n",
        "The governing equation for the basic model includes the possibility for an individual's susceptibility and infectivity to vary from the baseline:\n",
        "\n",
        "\\begin{align*}\n",
        "    P_{ij} \\Delta t = \\beta \\Delta t s_i f_j \\delta(X_i = \\text{S})  \\delta (X_j = \\text{I})\n",
        "\\end{align*}\n",
        "\n",
        "The terms $s_i$ and $f_j$ are entries in $\\boldsymbol{s}$, a vector of susceptibilities, and $\\boldsymbol{f}$, a vector of infectivities. The $i$th entry corresponds to the $i$th individual.\n",
        "\n",
        "To model vaccination, we assume that these susceptibilities and infectivities are a property of the individual's vaccination status. Let $\\boldsymbol{V}$ be a vector that encodes the vaccination status of each person. $V_i = 1$ if individual $i$ was vaccinated and $0$ otherwise.\n",
        "\n",
        "In other words, we have:\n",
        "\n",
        "\\begin{align*}\n",
        "    \\boldsymbol{s}: s_i = \\begin{cases} v_s & V_i = 1\\\\ 1 & V_i = 0\\end{cases}\\\\\n",
        "    \\boldsymbol{f}: f_i = \\begin{cases} v_f & V_i = 1\\\\ 1 & V_i = 0\\end{cases}\n",
        "\\end{align*}\n",
        "\n",
        "The two parameters $v_s$ and $v_f$ exactly characterize the effect of vaccination, but they can be thought about in a variety of different ways or under a variety of different names.\n",
        "\n",
        "*   $e_s$: the effect of the vaccine on susceptibility. $e_s = 1 - v_s$.\n",
        "*   $e_f$: the effect of the vaccine on infectivity. $e_f = 1 - v_f$.\n",
        "\n",
        "For $v_f$ in particular, it's often helpful to specify the infectivity as an HSAR relative to vaccinated individuals.\n",
        "\n",
        "*   $\\text{hsar}_v$: the HSAR calculated relative to a vaccinated individual. In other words, the probability that a vaccinated individual infects one contact over the course of their infection.\n",
        "\n",
        "If the HSAR calculated relative to a baseline individual is $\\text{hsar}$, then $\\text{hsar}_v$ is related to $v_f$ as:\n",
        "\n",
        "\\begin{align*}\n",
        "v_f = \\frac{\\frac{1}{(1-\\text{hsar}_v)^{1/k}} - 1}{\\frac{1}{(1-\\text{hsar})^{1/k}} - 1}\n",
        "\\end{align*}\n",
        "\n",
        "where $k$ is the shape of the gamma distribution of time spent in the infectious state.\n",
        "\n",
        "(TK: fact-check this last part with the way the gamma distribution is defined)\n",
        "\n",
        "\n"
      ]
    },
    {
      "cell_type": "markdown",
      "metadata": {
        "id": "fepe3oDXFNYl"
      },
      "source": [
        "# Experiments\n",
        "\n",
        "Run your experiments and interact with VaccineStudy objects within this block of cells"
      ]
    },
    {
      "cell_type": "markdown",
      "metadata": {
        "id": "RamGjhgkwvNM"
      },
      "source": [
        "- Infection model\n",
        "- Vaccine model\n",
        "- "
      ]
    },
    {
      "cell_type": "markdown",
      "metadata": {
        "id": "YYvsrhBRtp3g"
      },
      "source": [
        "## Basic objects and examples"
      ]
    },
    {
      "cell_type": "code",
      "metadata": {
        "id": "FexC5KAXvtg6"
      },
      "source": [
        "print_documentation = True"
      ],
      "execution_count": 7,
      "outputs": []
    },
    {
      "cell_type": "code",
      "metadata": {
        "colab": {
          "base_uri": "https://localhost:8080/"
        },
        "id": "Lw0BM-CD6T7F",
        "outputId": "36d38c84-1726-4592-f7c4-c92eb496d1e6"
      },
      "source": [
        "# Shows the parameters we need to create a VaccineStudy\n",
        "if print_documentation:\n",
        "    print(vaccine.VaccineStudy.__init__.__doc__)"
      ],
      "execution_count": 8,
      "outputs": [
        {
          "output_type": "stream",
          "text": [
            "\n",
            "        Creates a VaccineStudy, which represents a two-armed study with a group of households receiving the vaccine and a group receiving the placebo.\n",
            "\n",
            "        Parameters\n",
            "        ----------\n",
            "        name : str\n",
            "            a name for the study\n",
            "        n_per_arm : int\n",
            "            the total number of households per arm of the study\n",
            "        sizes : list of ints\n",
            "            the household sizes among which to divide evenly the total number of households in the study\n",
            "        hsar : float\n",
            "            the desired average (over the household sizes specified) household secondary attack rate\n",
            "        es : float\n",
            "            the true parameter reduction in a vaccinated individual's susceptibility\n",
            "        (et_method, et) : (string, float)\n",
            "            either a tuple of the form ('hsarv', float) to express the hsar calculated relative to vaccinated individuals\n",
            "            or of the form ('et', float) to express the relative infectivity reduction among vaccinated individuals\n",
            "        duration : int\n",
            "            the duration of the experiment in days\n",
            "        importation_rate : float\n",
            "            the baseline (no vax) probability per individual per day of being infected from outside the household\n",
            "        vaccination_method : func\n",
            "            a function that takes in a shape of the form (count, size, 1) and returns a binary vector with 1s representing individuals who received the vaccine\n",
            "\n",
            "        Returns\n",
            "        ----------\n",
            "        VaccineStudy object\n",
            "        \n"
          ],
          "name": "stdout"
        }
      ]
    },
    {
      "cell_type": "code",
      "metadata": {
        "id": "G36VhYLSE6or"
      },
      "source": [
        "# --- Setting parameters for a VaccineStudy ---\n",
        "\n",
        "n_per_arm = 50 # the number of households in each arm of the study (arms are 'vaccinated' and 'placebo')\n",
        "sizes = [8] # the number of households per arm are divided evenly among the sizes, if there are multiple \n",
        "#sizes = [4,5,6,7,8] \n",
        "\n",
        "\n",
        "hsar = 0.2 # the desired household sar\n",
        "hsarv = 0.1 # the hsar calculated in reference to vaccinated individuals (therefore encoding vaccine effect on infectivity)\n",
        "\n",
        "es = 0.7 # = 1 - the relative chance per contact of an infection passing to a vaccinated individual\n",
        "\n",
        "# Duration of the study and importation rate\n",
        "duration = 90 # days\n",
        "importation_probability_over_study = 0.1 # probability an unvaccinateed individual becomes infected over the whole course of the study\n",
        "\n",
        "# Specifying the vaccination protocol. Common methods such as vaccinating one individual, a fraction of individuals, or a fixed number of individuals are made available in vaccine.py\n",
        "vaccination_method = vaccine.vaccinate_one\n",
        "#vaccination_method = functools.partial(vaccinate_fraction,fraction_vaccinated=0.5)"
      ],
      "execution_count": 9,
      "outputs": []
    },
    {
      "cell_type": "code",
      "metadata": {
        "id": "zR8MikMDE7IL"
      },
      "source": [
        "# --- Create a study object, which provides methods for easy simulation and calculation of statistics ---\n",
        "one_vax_study = vaccine.VaccineStudy(\"one vaccinated\", n_per_arm, sizes, hsar, es, (hsarv, 'hsarv'), duration, importation_probability_over_study, vaccination_method)"
      ],
      "execution_count": 10,
      "outputs": []
    },
    {
      "cell_type": "code",
      "metadata": {
        "id": "oJc134CQA9Yu",
        "colab": {
          "base_uri": "https://localhost:8080/"
        },
        "outputId": "38f3fe41-663d-4aed-a5ce-edb5fff201e2"
      },
      "source": [
        "# What can we do with a VaccineStudy object once we have one?\n",
        "if print_documentation:\n",
        "    print(vaccine.VaccineStudy.__doc__)"
      ],
      "execution_count": 11,
      "outputs": [
        {
          "output_type": "stream",
          "text": [
            "\n",
            "    A class that hosts and runs a single vaccine study experiment.\n",
            "\n",
            "    ...\n",
            "\n",
            "    Attributes\n",
            "    ----------\n",
            "    All the attributes passed at object creation. Run `print(VaccineStudy.__init__.__doc__)` for more information. Additionally:\n",
            "\n",
            "    household_beta : float\n",
            "        the real probability per contact per day of transmission between individuals in a household\n",
            "    household_sizes : dict\n",
            "        a dictionary whose keys are the sizes of households in each arm of the study and whose values are the number of households of that size\n",
            "    r0 : DataFrame\n",
            "        a table of r0s calculated relative to unvacccinated households at each size\n",
            "    vax_sus : float\n",
            "        the real parameter that defines the susceptibility of vaccinated individuals (0.0 = 0% chance to be infected, 0.1=10% chance relative to unvaccinated)\n",
            "    vax_inf : float\n",
            "        the real parameter that defines the infectivity of vaccinated individuals (0.0 = 0% chance to cause infection, 0.1=10% chance relative to unvaccinated)\n",
            "    vax_m : Model\n",
            "        a Model object that packages the parameters necessary to simulate the vaccinated arm of the study\n",
            "    control_m : Model\n",
            "        a Model object that packages the parameters necessary to simulate the control arm of the study\n",
            "\n",
            "    Additionally, after running VaccineStudy.run_trials(# trials), the following useful attributes are available:\n",
            "\n",
            "    vax_df : DataFrame\n",
            "        the tabular data that describes the results of a time-forward simulation in the vaccinated arm\n",
            "    control_df : DataFrame\n",
            "        the tabular data that describes the results of a time-forward simulation in the control arm\n",
            "    \n",
            "    Methods\n",
            "    -------\n",
            "    run_trials(trials, arms=\"both\"):\n",
            "        Conducts the study a number of times equal to trials. Optional argument arms can be used to restrict simulation to relevant arms (\"vax\" or \"control\")\n",
            "\n",
            "        returns : DataFrame, DataFrame\n",
            "            the results in two pandas DataFrame, vax_df and control_df\n",
            "\n",
            "    ves():\n",
            "        Measures the vaccine effect on susceptibility. By calculating 1 - (fraction_vaccinated_infected / fraction_placebo_infected)\n",
            "\n",
            "        returns : Series\n",
            "            a labeled series of effects indexed by the trials (number of times a full study was simulated)\n",
            "\n",
            "    vetotal():\n",
            "        Measures the aggregate vaccine effect on infections. By calculating 1 - (fraction_infected_in_vaccinated_pop / fractionn_infected_in_placebo_pop)\n",
            "\n",
            "        returns : Series\n",
            "            a labeled series of effects indexed by the trials (number of times a full study was simulated)\n",
            "\n",
            "    vecontact():\n",
            "        Measures the vaccine effect on susceptibility. By calculating 1 - (fraction_vaccinated_infected / fraction_placebo_infected)\n",
            "\n",
            "        returns : Series\n",
            "            a labeled series of effects indexed by the trials (number of times a full study was simulated)\n",
            "\n",
            "    \n"
          ],
          "name": "stdout"
        }
      ]
    },
    {
      "cell_type": "code",
      "metadata": {
        "colab": {
          "base_uri": "https://localhost:8080/",
          "height": 767
        },
        "id": "I9HTdyi3E_OU",
        "outputId": "7c9c20b9-e7ec-44b2-8c4c-a743228d9b1b"
      },
      "source": [
        "# --- Run the study some number of times ---\n",
        "trials = 100\n",
        "vax_df, control_df = one_vax_study.run_trials(trials, arms=\"both\") # we collect the results of our study in two Pandas DataFrames. For more information see https://pandas.pydata.org/pandas-docs/stable/reference/api/pandas.DataFrame.html\n",
        "utilities.make_bar_chart(pd.concat([vax_df, control_df])) # look at histograms of infections to check for coherence or interesting results"
      ],
      "execution_count": 12,
      "outputs": [
        {
          "output_type": "stream",
          "text": [
            "Running study ...\n",
            " Vaccine study named one vaccinated with:\n",
            "\tn_per_arm                = 50\n",
            "\thousehold sizes          = {8: 50}\n",
            "\tes, hsarv                = 0.700, 0.100\n",
            "\tvax_sus, vax_inf         = 0.300, 0.463\n",
            "\tseeding                  = <function seed_zero at 0x7f85763243b0>\n",
            "\tduration                 = 90\n",
            "\tnet /person import prob  = 0.100\n",
            "\timportation rate         = 0.001\n",
            "\thsar                     = 0.200\n",
            "\thousehold_beta           = 0.033\n",
            "\tmin r0, max r0           = 1.620, 1.620\n",
            "\n"
          ],
          "name": "stdout"
        },
        {
          "output_type": "display_data",
          "data": {
            "image/png": "[encoded data removed]",
            "text/plain": [
              "<Figure size 576x576 with 1 Axes>"
            ]
          },
          "metadata": {
            "tags": [],
            "needs_background": "light"
          }
        }
      ]
    },
    {
      "cell_type": "code",
      "metadata": {
        "colab": {
          "base_uri": "https://localhost:8080/",
          "height": 606
        },
        "id": "yjEJCNqDAPB2",
        "outputId": "341956bb-f06f-48c1-ad29-3bda83532260"
      },
      "source": [
        "# --- Analyze the results ---\n",
        "\n",
        "vax_df"
      ],
      "execution_count": 13,
      "outputs": [
        {
          "output_type": "execute_result",
          "data": {
            "text/html": [
              "<div>\n",
              "<style scoped>\n",
              "    .dataframe tbody tr th:only-of-type {\n",
              "        vertical-align: middle;\n",
              "    }\n",
              "\n",
              "    .dataframe tbody tr th {\n",
              "        vertical-align: top;\n",
              "    }\n",
              "\n",
              "    .dataframe thead th {\n",
              "        text-align: right;\n",
              "    }\n",
              "</style>\n",
              "<table border=\"1\" class=\"dataframe\">\n",
              "  <thead>\n",
              "    <tr style=\"text-align: right;\">\n",
              "      <th></th>\n",
              "      <th>size</th>\n",
              "      <th>model</th>\n",
              "      <th>infections</th>\n",
              "      <th>num vaccinated</th>\n",
              "      <th>vaccinated infected</th>\n",
              "      <th>unvaccinated infected</th>\n",
              "      <th>num unvaccinated</th>\n",
              "      <th>trialnum</th>\n",
              "    </tr>\n",
              "  </thead>\n",
              "  <tbody>\n",
              "    <tr>\n",
              "      <th>0</th>\n",
              "      <td>8</td>\n",
              "      <td>one vaccinated model es 0.7 hsarv 0.1 intra be...</td>\n",
              "      <td>2</td>\n",
              "      <td>1.0</td>\n",
              "      <td>0</td>\n",
              "      <td>2</td>\n",
              "      <td>7.0</td>\n",
              "      <td>0</td>\n",
              "    </tr>\n",
              "    <tr>\n",
              "      <th>1</th>\n",
              "      <td>8</td>\n",
              "      <td>one vaccinated model es 0.7 hsarv 0.1 intra be...</td>\n",
              "      <td>2</td>\n",
              "      <td>1.0</td>\n",
              "      <td>0</td>\n",
              "      <td>2</td>\n",
              "      <td>7.0</td>\n",
              "      <td>0</td>\n",
              "    </tr>\n",
              "    <tr>\n",
              "      <th>2</th>\n",
              "      <td>8</td>\n",
              "      <td>one vaccinated model es 0.7 hsarv 0.1 intra be...</td>\n",
              "      <td>0</td>\n",
              "      <td>1.0</td>\n",
              "      <td>0</td>\n",
              "      <td>0</td>\n",
              "      <td>7.0</td>\n",
              "      <td>0</td>\n",
              "    </tr>\n",
              "    <tr>\n",
              "      <th>3</th>\n",
              "      <td>8</td>\n",
              "      <td>one vaccinated model es 0.7 hsarv 0.1 intra be...</td>\n",
              "      <td>4</td>\n",
              "      <td>1.0</td>\n",
              "      <td>0</td>\n",
              "      <td>4</td>\n",
              "      <td>7.0</td>\n",
              "      <td>0</td>\n",
              "    </tr>\n",
              "    <tr>\n",
              "      <th>4</th>\n",
              "      <td>8</td>\n",
              "      <td>one vaccinated model es 0.7 hsarv 0.1 intra be...</td>\n",
              "      <td>0</td>\n",
              "      <td>1.0</td>\n",
              "      <td>0</td>\n",
              "      <td>0</td>\n",
              "      <td>7.0</td>\n",
              "      <td>0</td>\n",
              "    </tr>\n",
              "    <tr>\n",
              "      <th>...</th>\n",
              "      <td>...</td>\n",
              "      <td>...</td>\n",
              "      <td>...</td>\n",
              "      <td>...</td>\n",
              "      <td>...</td>\n",
              "      <td>...</td>\n",
              "      <td>...</td>\n",
              "      <td>...</td>\n",
              "    </tr>\n",
              "    <tr>\n",
              "      <th>4995</th>\n",
              "      <td>8</td>\n",
              "      <td>one vaccinated model es 0.7 hsarv 0.1 intra be...</td>\n",
              "      <td>0</td>\n",
              "      <td>1.0</td>\n",
              "      <td>0</td>\n",
              "      <td>0</td>\n",
              "      <td>7.0</td>\n",
              "      <td>99</td>\n",
              "    </tr>\n",
              "    <tr>\n",
              "      <th>4996</th>\n",
              "      <td>8</td>\n",
              "      <td>one vaccinated model es 0.7 hsarv 0.1 intra be...</td>\n",
              "      <td>0</td>\n",
              "      <td>1.0</td>\n",
              "      <td>0</td>\n",
              "      <td>0</td>\n",
              "      <td>7.0</td>\n",
              "      <td>99</td>\n",
              "    </tr>\n",
              "    <tr>\n",
              "      <th>4997</th>\n",
              "      <td>8</td>\n",
              "      <td>one vaccinated model es 0.7 hsarv 0.1 intra be...</td>\n",
              "      <td>1</td>\n",
              "      <td>1.0</td>\n",
              "      <td>0</td>\n",
              "      <td>1</td>\n",
              "      <td>7.0</td>\n",
              "      <td>99</td>\n",
              "    </tr>\n",
              "    <tr>\n",
              "      <th>4998</th>\n",
              "      <td>8</td>\n",
              "      <td>one vaccinated model es 0.7 hsarv 0.1 intra be...</td>\n",
              "      <td>0</td>\n",
              "      <td>1.0</td>\n",
              "      <td>0</td>\n",
              "      <td>0</td>\n",
              "      <td>7.0</td>\n",
              "      <td>99</td>\n",
              "    </tr>\n",
              "    <tr>\n",
              "      <th>4999</th>\n",
              "      <td>8</td>\n",
              "      <td>one vaccinated model es 0.7 hsarv 0.1 intra be...</td>\n",
              "      <td>6</td>\n",
              "      <td>1.0</td>\n",
              "      <td>1</td>\n",
              "      <td>5</td>\n",
              "      <td>7.0</td>\n",
              "      <td>99</td>\n",
              "    </tr>\n",
              "  </tbody>\n",
              "</table>\n",
              "<p>5000 rows × 8 columns</p>\n",
              "</div>"
            ],
            "text/plain": [
              "      size  ... trialnum\n",
              "0        8  ...        0\n",
              "1        8  ...        0\n",
              "2        8  ...        0\n",
              "3        8  ...        0\n",
              "4        8  ...        0\n",
              "...    ...  ...      ...\n",
              "4995     8  ...       99\n",
              "4996     8  ...       99\n",
              "4997     8  ...       99\n",
              "4998     8  ...       99\n",
              "4999     8  ...       99\n",
              "\n",
              "[5000 rows x 8 columns]"
            ]
          },
          "metadata": {
            "tags": []
          },
          "execution_count": 13
        }
      ]
    },
    {
      "cell_type": "code",
      "metadata": {
        "colab": {
          "base_uri": "https://localhost:8080/"
        },
        "id": "EywYFRmmr3pq",
        "outputId": "508f1027-cc22-4031-97e2-0e5158c2accf"
      },
      "source": [
        "# mean (over trials) number of placebo recepients who get infected\n",
        "mean = control_df[control_df[\"vaccinated infected\"] > 0].groupby(\"trialnum\")[\"vaccinated infected\"].count().mean()\n",
        "total = control_df.groupby(\"trialnum\")[\"num vaccinated\"].count().mean()\n",
        "print(\"Percent of placebo reccepients who were infected\")\n",
        "print(100 * mean / total)\n",
        "\n",
        "# mean (over trials) number of vaccinated recepients who get infected\n",
        "mean = vax_df[vax_df[\"vaccinated infected\"] > 0].groupby(\"trialnum\")[\"vaccinated infected\"].count().mean() \n",
        "total = vax_df.groupby(\"trialnum\")[\"num vaccinated\"].count().mean()\n",
        "print(\"Percent of vacccine reccepients who were infected\")\n",
        "100 * mean / total"
      ],
      "execution_count": 14,
      "outputs": [
        {
          "output_type": "stream",
          "text": [
            "Percent of placebo reccepients who were infected\n",
            "31.18\n",
            "Percent of vacccine reccepients who were infected\n"
          ],
          "name": "stdout"
        },
        {
          "output_type": "execute_result",
          "data": {
            "text/plain": [
              "13.06"
            ]
          },
          "metadata": {
            "tags": []
          },
          "execution_count": 14
        }
      ]
    },
    {
      "cell_type": "code",
      "metadata": {
        "colab": {
          "base_uri": "https://localhost:8080/"
        },
        "id": "xcOoAniysdRa",
        "outputId": "707cf72d-6f75-4ee4-eecf-8ecef254d96c"
      },
      "source": [
        "print(\"Mean percent of individuals infected in vaccinated households by household size\")\n",
        "infections = vax_df.groupby(\"size\")[\"infections\"].mean()\n",
        "size = vax_df.groupby(\"size\")[\"size\"].mean()\n",
        "print(infections / size * 100)\n",
        "\n",
        "print(\"Mean percent of individuals infected in unvaccinated households by household size\")\n",
        "infections = control_df.groupby(\"size\")[\"infections\"].mean()\n",
        "size = control_df.groupby(\"size\")[\"size\"].mean()\n",
        "print(infections / size * 100)"
      ],
      "execution_count": 15,
      "outputs": [
        {
          "output_type": "stream",
          "text": [
            "Mean percent of individuals infected in vaccinated households by household size\n",
            "size\n",
            "8    25.67\n",
            "dtype: float64\n",
            "Mean percent of individuals infected in unvaccinated households by household size\n",
            "size\n",
            "8    31.775\n",
            "dtype: float64\n"
          ],
          "name": "stdout"
        }
      ]
    },
    {
      "cell_type": "markdown",
      "metadata": {
        "id": "0RpW0MUJt3EP"
      },
      "source": [
        "## Calculating Vaccine Effects (VE)"
      ]
    },
    {
      "cell_type": "markdown",
      "metadata": {
        "id": "iGIuDjx_t8PX"
      },
      "source": [
        "After simulating a two-armed study (see the above work), it's important to have measures of the vaccine's effect in order to assess clinical usefulness.\n",
        "\n",
        "Assessing a vaccine's effect on the 'true' infection dynamics is a difficult inference problem, so it's typically best to calculate a variety of summary statistics that quantify the observed vaccine's effects relative to congruent individuals in the placebo/control arm.\n",
        "\n",
        "To describe these quantities, it's helpful to use the following language: \"primary individuals\" receieved the intervention directly, be it the vaccine or the placebo; \"secondary individuals\" did not receive the intervention but are in a household with someone who did (typically, everyone who is not primary is secondary). See the table below for the terms used to identify different groups:\n",
        "\n",
        "|  | Vaccinated households | Control households\n",
        "| ------------- |:-------------:| :-----:|\n",
        "| Primary       | v,p | c,p |\n",
        "| Secondary     | v,s | c,s |\n",
        "| Everyone     | v | c |\n",
        "\n",
        "This python module makes three such statistics available by default:\n",
        "\n",
        "*  VEtotal: the vaccine's aggregate effect. Measured by comparing outcomes for all individuals in each arm.\n",
        "*  VEs: the vaccine's effect on susceptibility. Measured by comparing outcomes for primary study individuals across the two arms.\n",
        "*  VEcontact: the vaccine's effect on transmission. Measured by comparing outcomes for secondary individuals across the two arms.\n",
        "\n",
        "All these quantities are calculated as $1 - RR$ where $RR$ is the risk ratio calculated between the two congruent groups named above. In other words:\n",
        "\n",
        "$$\\text{VE}_{\\text{total}} = 1 - \\frac{f_{v}}{f_{c}}\\\\\n",
        "\\text{VE}_{\\text{s}} = 1 - \\frac{f_{v,p}}{f_{c,p}}\\\\\n",
        "\\text{VE}_{\\text{contact}} = 1 - \\frac{f_{v,s}}{f_{c,s}}$$\n",
        "\n",
        "where, for example, $f_{v,p}$ denotes the fraction of primary individuals in households that received vaccine (in contrast to placebo) who were infected when the study concluded.\n",
        "\n",
        "The statistical significance of these effects is determined using [Fisher's exact test](https://en.wikipedia.org/wiki/Fisher%27s_exact_test)."
      ]
    },
    {
      "cell_type": "code",
      "metadata": {
        "colab": {
          "base_uri": "https://localhost:8080/",
          "height": 705
        },
        "id": "2AhQ-U4PshVe",
        "outputId": "29720780-36f3-40c9-8a27-0891a69ad07f"
      },
      "source": [
        "print(\"VEtotal\")\n",
        "\n",
        "vetotal_df = one_vax_study.vetotal()\n",
        "vetotal_df"
      ],
      "execution_count": 16,
      "outputs": [
        {
          "output_type": "stream",
          "text": [
            "VEtotal\n",
            "Calculating VEtotal ...\n",
            " Vaccine study named one vaccinated with:\n",
            "\tn_per_arm                = 50\n",
            "\thousehold sizes          = {8: 50}\n",
            "\tes, hsarv                = 0.700, 0.100\n",
            "\tvax_sus, vax_inf         = 0.300, 0.463\n",
            "\tseeding                  = <function seed_zero at 0x7f85763243b0>\n",
            "\tduration                 = 90\n",
            "\tnet /person import prob  = 0.100\n",
            "\timportation rate         = 0.001\n",
            "\thsar                     = 0.200\n",
            "\thousehold_beta           = 0.033\n",
            "\tmin r0, max r0           = 1.620, 1.620\n",
            "\n"
          ],
          "name": "stdout"
        },
        {
          "output_type": "execute_result",
          "data": {
            "text/html": [
              "<div>\n",
              "<style scoped>\n",
              "    .dataframe tbody tr th:only-of-type {\n",
              "        vertical-align: middle;\n",
              "    }\n",
              "\n",
              "    .dataframe tbody tr th {\n",
              "        vertical-align: top;\n",
              "    }\n",
              "\n",
              "    .dataframe thead th {\n",
              "        text-align: right;\n",
              "    }\n",
              "</style>\n",
              "<table border=\"1\" class=\"dataframe\">\n",
              "  <thead>\n",
              "    <tr style=\"text-align: right;\">\n",
              "      <th></th>\n",
              "      <th>VE</th>\n",
              "      <th>fisher p value</th>\n",
              "    </tr>\n",
              "    <tr>\n",
              "      <th>trialnum</th>\n",
              "      <th></th>\n",
              "      <th></th>\n",
              "    </tr>\n",
              "  </thead>\n",
              "  <tbody>\n",
              "    <tr>\n",
              "      <th>0</th>\n",
              "      <td>0.432624</td>\n",
              "      <td>0.000002</td>\n",
              "    </tr>\n",
              "    <tr>\n",
              "      <th>1</th>\n",
              "      <td>0.358209</td>\n",
              "      <td>0.000190</td>\n",
              "    </tr>\n",
              "    <tr>\n",
              "      <th>2</th>\n",
              "      <td>0.260504</td>\n",
              "      <td>0.015324</td>\n",
              "    </tr>\n",
              "    <tr>\n",
              "      <th>3</th>\n",
              "      <td>0.351145</td>\n",
              "      <td>0.000327</td>\n",
              "    </tr>\n",
              "    <tr>\n",
              "      <th>4</th>\n",
              "      <td>0.080000</td>\n",
              "      <td>0.562332</td>\n",
              "    </tr>\n",
              "    <tr>\n",
              "      <th>...</th>\n",
              "      <td>...</td>\n",
              "      <td>...</td>\n",
              "    </tr>\n",
              "    <tr>\n",
              "      <th>95</th>\n",
              "      <td>0.267717</td>\n",
              "      <td>0.008892</td>\n",
              "    </tr>\n",
              "    <tr>\n",
              "      <th>96</th>\n",
              "      <td>-0.284404</td>\n",
              "      <td>0.021876</td>\n",
              "    </tr>\n",
              "    <tr>\n",
              "      <th>97</th>\n",
              "      <td>0.114754</td>\n",
              "      <td>0.309858</td>\n",
              "    </tr>\n",
              "    <tr>\n",
              "      <th>98</th>\n",
              "      <td>0.368056</td>\n",
              "      <td>0.000052</td>\n",
              "    </tr>\n",
              "    <tr>\n",
              "      <th>99</th>\n",
              "      <td>0.315315</td>\n",
              "      <td>0.004430</td>\n",
              "    </tr>\n",
              "  </tbody>\n",
              "</table>\n",
              "<p>100 rows × 2 columns</p>\n",
              "</div>"
            ],
            "text/plain": [
              "                VE  fisher p value\n",
              "trialnum                          \n",
              "0         0.432624        0.000002\n",
              "1         0.358209        0.000190\n",
              "2         0.260504        0.015324\n",
              "3         0.351145        0.000327\n",
              "4         0.080000        0.562332\n",
              "...            ...             ...\n",
              "95        0.267717        0.008892\n",
              "96       -0.284404        0.021876\n",
              "97        0.114754        0.309858\n",
              "98        0.368056        0.000052\n",
              "99        0.315315        0.004430\n",
              "\n",
              "[100 rows x 2 columns]"
            ]
          },
          "metadata": {
            "tags": []
          },
          "execution_count": 16
        }
      ]
    },
    {
      "cell_type": "code",
      "metadata": {
        "colab": {
          "base_uri": "https://localhost:8080/",
          "height": 363
        },
        "id": "4HaA6i-Mv2wA",
        "outputId": "bfa0602d-1853-4ef7-80fa-eed6da536eb8"
      },
      "source": [
        "vetotal_df[\"VE\"].hist(cumulative=True)\n",
        "plt.title(\"Cumulative histogram of VEtotal\")\n",
        "plt.xlabel(\"VE\")\n",
        "plt.ylabel(\"count\")\n",
        "print(\"Means:\")\n",
        "vetotal_df.mean()"
      ],
      "execution_count": 17,
      "outputs": [
        {
          "output_type": "stream",
          "text": [
            "Means:\n"
          ],
          "name": "stdout"
        },
        {
          "output_type": "execute_result",
          "data": {
            "text/plain": [
              "VE                0.175172\n",
              "fisher p value    0.201384\n",
              "dtype: float64"
            ]
          },
          "metadata": {
            "tags": []
          },
          "execution_count": 17
        },
        {
          "output_type": "display_data",
          "data": {
            "image/png": "[encoded data removed]",
            "text/plain": [
              "<Figure size 432x288 with 1 Axes>"
            ]
          },
          "metadata": {
            "tags": [],
            "needs_background": "light"
          }
        }
      ]
    },
    {
      "cell_type": "code",
      "metadata": {
        "colab": {
          "base_uri": "https://localhost:8080/",
          "height": 705
        },
        "id": "SHrnetC60Um7",
        "outputId": "67f8d704-b49f-48e6-a39d-732460c61949"
      },
      "source": [
        "print(\"VEs\")\n",
        "\n",
        "ves_df = one_vax_study.ves()\n",
        "ves_df"
      ],
      "execution_count": 18,
      "outputs": [
        {
          "output_type": "stream",
          "text": [
            "VEs\n",
            "Calculating VEs ...\n",
            " Vaccine study named one vaccinated with:\n",
            "\tn_per_arm                = 50\n",
            "\thousehold sizes          = {8: 50}\n",
            "\tes, hsarv                = 0.700, 0.100\n",
            "\tvax_sus, vax_inf         = 0.300, 0.463\n",
            "\tseeding                  = <function seed_zero at 0x7f85763243b0>\n",
            "\tduration                 = 90\n",
            "\tnet /person import prob  = 0.100\n",
            "\timportation rate         = 0.001\n",
            "\thsar                     = 0.200\n",
            "\thousehold_beta           = 0.033\n",
            "\tmin r0, max r0           = 1.620, 1.620\n",
            "\n"
          ],
          "name": "stdout"
        },
        {
          "output_type": "execute_result",
          "data": {
            "text/html": [
              "<div>\n",
              "<style scoped>\n",
              "    .dataframe tbody tr th:only-of-type {\n",
              "        vertical-align: middle;\n",
              "    }\n",
              "\n",
              "    .dataframe tbody tr th {\n",
              "        vertical-align: top;\n",
              "    }\n",
              "\n",
              "    .dataframe thead th {\n",
              "        text-align: right;\n",
              "    }\n",
              "</style>\n",
              "<table border=\"1\" class=\"dataframe\">\n",
              "  <thead>\n",
              "    <tr style=\"text-align: right;\">\n",
              "      <th></th>\n",
              "      <th>VE</th>\n",
              "      <th>fisher p value</th>\n",
              "    </tr>\n",
              "    <tr>\n",
              "      <th>trialnum</th>\n",
              "      <th></th>\n",
              "      <th></th>\n",
              "    </tr>\n",
              "  </thead>\n",
              "  <tbody>\n",
              "    <tr>\n",
              "      <th>0</th>\n",
              "      <td>0.761905</td>\n",
              "      <td>0.000473</td>\n",
              "    </tr>\n",
              "    <tr>\n",
              "      <th>1</th>\n",
              "      <td>0.666667</td>\n",
              "      <td>0.009115</td>\n",
              "    </tr>\n",
              "    <tr>\n",
              "      <th>2</th>\n",
              "      <td>0.705882</td>\n",
              "      <td>0.007005</td>\n",
              "    </tr>\n",
              "    <tr>\n",
              "      <th>3</th>\n",
              "      <td>0.400000</td>\n",
              "      <td>0.241424</td>\n",
              "    </tr>\n",
              "    <tr>\n",
              "      <th>4</th>\n",
              "      <td>0.300000</td>\n",
              "      <td>0.595463</td>\n",
              "    </tr>\n",
              "    <tr>\n",
              "      <th>...</th>\n",
              "      <td>...</td>\n",
              "      <td>...</td>\n",
              "    </tr>\n",
              "    <tr>\n",
              "      <th>95</th>\n",
              "      <td>0.562500</td>\n",
              "      <td>0.055865</td>\n",
              "    </tr>\n",
              "    <tr>\n",
              "      <th>96</th>\n",
              "      <td>0.466667</td>\n",
              "      <td>0.153062</td>\n",
              "    </tr>\n",
              "    <tr>\n",
              "      <th>97</th>\n",
              "      <td>0.437500</td>\n",
              "      <td>0.165154</td>\n",
              "    </tr>\n",
              "    <tr>\n",
              "      <th>98</th>\n",
              "      <td>0.625000</td>\n",
              "      <td>0.028347</td>\n",
              "    </tr>\n",
              "    <tr>\n",
              "      <th>99</th>\n",
              "      <td>0.600000</td>\n",
              "      <td>0.047859</td>\n",
              "    </tr>\n",
              "  </tbody>\n",
              "</table>\n",
              "<p>100 rows × 2 columns</p>\n",
              "</div>"
            ],
            "text/plain": [
              "                VE  fisher p value\n",
              "trialnum                          \n",
              "0         0.761905        0.000473\n",
              "1         0.666667        0.009115\n",
              "2         0.705882        0.007005\n",
              "3         0.400000        0.241424\n",
              "4         0.300000        0.595463\n",
              "...            ...             ...\n",
              "95        0.562500        0.055865\n",
              "96        0.466667        0.153062\n",
              "97        0.437500        0.165154\n",
              "98        0.625000        0.028347\n",
              "99        0.600000        0.047859\n",
              "\n",
              "[100 rows x 2 columns]"
            ]
          },
          "metadata": {
            "tags": []
          },
          "execution_count": 18
        }
      ]
    },
    {
      "cell_type": "code",
      "metadata": {
        "colab": {
          "base_uri": "https://localhost:8080/",
          "height": 363
        },
        "id": "hrN_uXtZ0Um_",
        "outputId": "e56bbd5e-760d-41ab-d4e6-889016edafdf"
      },
      "source": [
        "ves_df[\"VE\"].hist(cumulative=True)\n",
        "plt.title(\"Cumulative histogram of VEs\")\n",
        "plt.xlabel(\"VE\")\n",
        "plt.ylabel(\"count\")\n",
        "print(\"Means:\")\n",
        "ves_df.mean()"
      ],
      "execution_count": 19,
      "outputs": [
        {
          "output_type": "stream",
          "text": [
            "Means:\n"
          ],
          "name": "stdout"
        },
        {
          "output_type": "execute_result",
          "data": {
            "text/plain": [
              "VE                0.567588\n",
              "fisher p value    0.141650\n",
              "dtype: float64"
            ]
          },
          "metadata": {
            "tags": []
          },
          "execution_count": 19
        },
        {
          "output_type": "display_data",
          "data": {
            "image/png": "[encoded data removed]",
            "text/plain": [
              "<Figure size 432x288 with 1 Axes>"
            ]
          },
          "metadata": {
            "tags": [],
            "needs_background": "light"
          }
        }
      ]
    },
    {
      "cell_type": "code",
      "metadata": {
        "colab": {
          "base_uri": "https://localhost:8080/",
          "height": 705
        },
        "id": "hjlAhLkG0sbC",
        "outputId": "9a5b4bcb-ee4e-430a-f26e-8604a29c2288"
      },
      "source": [
        "print(\"VEs\")\n",
        "\n",
        "vecontact_df = one_vax_study.vecontact()\n",
        "vecontact_df"
      ],
      "execution_count": 20,
      "outputs": [
        {
          "output_type": "stream",
          "text": [
            "VEs\n",
            "Calculating VEcontact ...\n",
            " Vaccine study named one vaccinated with:\n",
            "\tn_per_arm                = 50\n",
            "\thousehold sizes          = {8: 50}\n",
            "\tes, hsarv                = 0.700, 0.100\n",
            "\tvax_sus, vax_inf         = 0.300, 0.463\n",
            "\tseeding                  = <function seed_zero at 0x7f85763243b0>\n",
            "\tduration                 = 90\n",
            "\tnet /person import prob  = 0.100\n",
            "\timportation rate         = 0.001\n",
            "\thsar                     = 0.200\n",
            "\thousehold_beta           = 0.033\n",
            "\tmin r0, max r0           = 1.620, 1.620\n",
            "\n"
          ],
          "name": "stdout"
        },
        {
          "output_type": "execute_result",
          "data": {
            "text/html": [
              "<div>\n",
              "<style scoped>\n",
              "    .dataframe tbody tr th:only-of-type {\n",
              "        vertical-align: middle;\n",
              "    }\n",
              "\n",
              "    .dataframe tbody tr th {\n",
              "        vertical-align: top;\n",
              "    }\n",
              "\n",
              "    .dataframe thead th {\n",
              "        text-align: right;\n",
              "    }\n",
              "</style>\n",
              "<table border=\"1\" class=\"dataframe\">\n",
              "  <thead>\n",
              "    <tr style=\"text-align: right;\">\n",
              "      <th></th>\n",
              "      <th>VE</th>\n",
              "      <th>fisher p value</th>\n",
              "    </tr>\n",
              "    <tr>\n",
              "      <th>trialnum</th>\n",
              "      <th></th>\n",
              "      <th></th>\n",
              "    </tr>\n",
              "  </thead>\n",
              "  <tbody>\n",
              "    <tr>\n",
              "      <th>0</th>\n",
              "      <td>0.375000</td>\n",
              "      <td>0.000198</td>\n",
              "    </tr>\n",
              "    <tr>\n",
              "      <th>1</th>\n",
              "      <td>0.310345</td>\n",
              "      <td>0.003161</td>\n",
              "    </tr>\n",
              "    <tr>\n",
              "      <th>2</th>\n",
              "      <td>0.186275</td>\n",
              "      <td>0.122729</td>\n",
              "    </tr>\n",
              "    <tr>\n",
              "      <th>3</th>\n",
              "      <td>0.344828</td>\n",
              "      <td>0.000927</td>\n",
              "    </tr>\n",
              "    <tr>\n",
              "      <th>4</th>\n",
              "      <td>0.055556</td>\n",
              "      <td>0.727043</td>\n",
              "    </tr>\n",
              "    <tr>\n",
              "      <th>...</th>\n",
              "      <td>...</td>\n",
              "      <td>...</td>\n",
              "    </tr>\n",
              "    <tr>\n",
              "      <th>95</th>\n",
              "      <td>0.225225</td>\n",
              "      <td>0.043528</td>\n",
              "    </tr>\n",
              "    <tr>\n",
              "      <th>96</th>\n",
              "      <td>-0.404255</td>\n",
              "      <td>0.002741</td>\n",
              "    </tr>\n",
              "    <tr>\n",
              "      <th>97</th>\n",
              "      <td>0.066038</td>\n",
              "      <td>0.618307</td>\n",
              "    </tr>\n",
              "    <tr>\n",
              "      <th>98</th>\n",
              "      <td>0.335938</td>\n",
              "      <td>0.000544</td>\n",
              "    </tr>\n",
              "    <tr>\n",
              "      <th>99</th>\n",
              "      <td>0.270833</td>\n",
              "      <td>0.026132</td>\n",
              "    </tr>\n",
              "  </tbody>\n",
              "</table>\n",
              "<p>100 rows × 2 columns</p>\n",
              "</div>"
            ],
            "text/plain": [
              "                VE  fisher p value\n",
              "trialnum                          \n",
              "0         0.375000        0.000198\n",
              "1         0.310345        0.003161\n",
              "2         0.186275        0.122729\n",
              "3         0.344828        0.000927\n",
              "4         0.055556        0.727043\n",
              "...            ...             ...\n",
              "95        0.225225        0.043528\n",
              "96       -0.404255        0.002741\n",
              "97        0.066038        0.618307\n",
              "98        0.335938        0.000544\n",
              "99        0.270833        0.026132\n",
              "\n",
              "[100 rows x 2 columns]"
            ]
          },
          "metadata": {
            "tags": []
          },
          "execution_count": 20
        }
      ]
    },
    {
      "cell_type": "code",
      "metadata": {
        "colab": {
          "base_uri": "https://localhost:8080/",
          "height": 363
        },
        "id": "_Dh49xpQ0sbD",
        "outputId": "d44f608a-899a-4f7e-c77a-bad183ac4bf5"
      },
      "source": [
        "vecontact_df[\"VE\"].hist(cumulative=True)\n",
        "plt.title(\"Cumulative histogram of VEcontact\")\n",
        "plt.xlabel(\"VE\")\n",
        "plt.ylabel(\"count\")\n",
        "print(\"Means:\")\n",
        "vecontact_df.mean()"
      ],
      "execution_count": 21,
      "outputs": [
        {
          "output_type": "stream",
          "text": [
            "Means:\n"
          ],
          "name": "stdout"
        },
        {
          "output_type": "execute_result",
          "data": {
            "text/plain": [
              "VE                0.119057\n",
              "fisher p value    0.254032\n",
              "dtype: float64"
            ]
          },
          "metadata": {
            "tags": []
          },
          "execution_count": 21
        },
        {
          "output_type": "display_data",
          "data": {
            "image/png": "[encoded data removed]",
            "text/plain": [
              "<Figure size 432x288 with 1 Axes>"
            ]
          },
          "metadata": {
            "tags": [],
            "needs_background": "light"
          }
        }
      ]
    },
    {
      "cell_type": "markdown",
      "metadata": {
        "id": "NAJK90tSuFqW"
      },
      "source": [
        "## Power calculations"
      ]
    },
    {
      "cell_type": "markdown",
      "metadata": {
        "id": "exSq0OuE1v3j"
      },
      "source": [
        "After measuring a vaccine effect in a number of simulated trials, it's important to get a measure of power -- the probability that a real effect would be detected by a study if the effect is present.\n",
        "\n",
        "The power is conditioned on two choices:\n",
        "\n",
        "*   p-value: the cutoff for statistical significance used to conclude if an effect was detected.\n",
        "*   Effect size threshold: the magnitude of VE that must be reached to conclude the study a success.\n",
        "\n"
      ]
    },
    {
      "cell_type": "code",
      "metadata": {
        "id": "A3TvGBrzwMUB",
        "colab": {
          "base_uri": "https://localhost:8080/"
        },
        "outputId": "586af72c-1e5d-42b6-dd3a-ffd85cfd715c"
      },
      "source": [
        "# we call the module's power function for VEtotal at 99% significance looking for effects of any size\n",
        "vaccine.power(vetotal_df, 0.01, threshold=0.0)"
      ],
      "execution_count": 28,
      "outputs": [
        {
          "output_type": "stream",
          "text": [
            "Calculating power\n"
          ],
          "name": "stdout"
        },
        {
          "output_type": "execute_result",
          "data": {
            "text/plain": [
              "0.4"
            ]
          },
          "metadata": {
            "tags": []
          },
          "execution_count": 28
        }
      ]
    },
    {
      "cell_type": "code",
      "metadata": {
        "colab": {
          "base_uri": "https://localhost:8080/"
        },
        "id": "tnZDlylA7Kll",
        "outputId": "4013d381-0e7c-46cc-8b61-c34610770e7e"
      },
      "source": [
        "# we call the module's power function at 95% significance looking for effects of VEs >= 0.3\n",
        "vaccine.power(ves_df, 0.05, threshold=0.3)"
      ],
      "execution_count": 27,
      "outputs": [
        {
          "output_type": "stream",
          "text": [
            "Calculating power\n"
          ],
          "name": "stdout"
        },
        {
          "output_type": "execute_result",
          "data": {
            "text/plain": [
              "0.56"
            ]
          },
          "metadata": {
            "tags": []
          },
          "execution_count": 27
        }
      ]
    },
    {
      "cell_type": "markdown",
      "metadata": {
        "id": "15BJMBjS8IoO"
      },
      "source": [
        "To see if a study design is feasible, it's helpful to look at power as a function of sample size."
      ]
    },
    {
      "cell_type": "code",
      "metadata": {
        "collapsed": true,
        "id": "intense-piano",
        "jupyter": {
          "outputs_hidden": true,
          "source_hidden": true
        }
      },
      "source": [
        "# --- Setting parameters for a VaccineStudy ---\n",
        "\n",
        "# no n_per_arm specified because we want it to vary\n",
        "sizes = [4,5,6,7,8] \n",
        "\n",
        "\n",
        "hsar = 0.2 # the desired household sar\n",
        "hsarv = 0.1 # the hsar calculated in reference to vaccinated individuals (therefore encoding vaccine effect on infectivity)\n",
        "\n",
        "es = 0.5 # = 1 - the relative chance per contact of an infection passing to a vaccinated individual\n",
        "\n",
        "# Duration of the study and importation rate\n",
        "duration = 90 # days\n",
        "importation_probability_over_study = 0.1 # probability an unvaccinateed individual becomes infected over the whole course of the study\n",
        "\n",
        "# Specifying the vaccination protocol. Common methods such as vaccinating one individual, a fraction of individuals, or a fixed number of individuals are made available in vaccine.py\n",
        "vaccination_method = vaccine.vaccinate_one\n",
        "#vaccination_method = functools.partial(vaccinate_fraction,fraction_vaccinated=0.5)"
      ],
      "execution_count": 44,
      "outputs": []
    },
    {
      "cell_type": "code",
      "metadata": {
        "collapsed": true,
        "id": "egyptian-camera",
        "jupyter": {
          "outputs_hidden": true,
          "source_hidden": true
        },
        "colab": {
          "base_uri": "https://localhost:8080/"
        },
        "outputId": "ca128766-ee76-4a4f-d1f4-d94b706cf3c3"
      },
      "source": [
        "n_axis = np.linspace(100, 2000, 35)\n",
        "\n",
        "threshold = 0.0\n",
        "fisher_p  = 0.05\n",
        "\n",
        "\n",
        "vec_pow = []\n",
        "vet_pow = []\n",
        "ves_pow = []\n",
        "for n in n_axis:\n",
        "    study = vaccine.VaccineStudy(\"one vaccinated\", n, sizes, hsar, es, (hsarv, 'hsarv'), duration, importation_probability_over_study, vaccination_method)\n",
        "    trials = 100\n",
        "    vax_df, control_df = study.run_trials(trials)\n",
        "\n",
        "    vecontact_power = vaccine.power(study.vecontact(), fisher_p, threshold=threshold)\n",
        "    vetotal_power   = vaccine.power(study.vetotal(), fisher_p, threshold=threshold)\n",
        "    ves_power       = vaccine.power(study.ves(), fisher_p, threshold=threshold)\n",
        "\n",
        "    vec_pow.append(vecontact_power)\n",
        "    vet_pow.append(vetotal_power)\n",
        "    ves_pow.append(ves_power)\n",
        "\n",
        "vec_pow = pd.Series(vec_pow)\n",
        "vec_pow.name=\"VEcontact\"\n",
        "vet_pow = pd.Series(vet_pow)\n",
        "vet_pow.name=\"VEtotal\"\n",
        "ves_pow = pd.Series(ves_pow)\n",
        "ves_pow.name=\"VEs\""
      ],
      "execution_count": null,
      "outputs": [
        {
          "output_type": "stream",
          "text": [
            "Running study ...\n",
            " Vaccine study named one vaccinated with:\n",
            "\tn_per_arm                = 100.0\n",
            "\thousehold sizes          = {4: 20, 5: 20, 6: 20, 7: 20, 8: 20}\n",
            "\tes, hsarv                = 0.500, 0.100\n",
            "\tvax_sus, vax_inf         = 0.500, 0.463\n",
            "\tseeding                  = <function seed_zero at 0x7f85763243b0>\n",
            "\tduration                 = 90\n",
            "\tnet /person import prob  = 0.100\n",
            "\timportation rate         = 0.001\n",
            "\thsar                     = 0.200\n",
            "\thousehold_beta           = 0.033\n",
            "\tmin r0, max r0           = 0.694, 1.620\n",
            "\n",
            "Calculating VEcontact ...\n",
            " Vaccine study named one vaccinated with:\n",
            "\tn_per_arm                = 100.0\n",
            "\thousehold sizes          = {4: 20, 5: 20, 6: 20, 7: 20, 8: 20}\n",
            "\tes, hsarv                = 0.500, 0.100\n",
            "\tvax_sus, vax_inf         = 0.500, 0.463\n",
            "\tseeding                  = <function seed_zero at 0x7f85763243b0>\n",
            "\tduration                 = 90\n",
            "\tnet /person import prob  = 0.100\n",
            "\timportation rate         = 0.001\n",
            "\thsar                     = 0.200\n",
            "\thousehold_beta           = 0.033\n",
            "\tmin r0, max r0           = 0.694, 1.620\n",
            "\n",
            "Calculating power\n",
            "Calculating VEtotal ...\n",
            " Vaccine study named one vaccinated with:\n",
            "\tn_per_arm                = 100.0\n",
            "\thousehold sizes          = {4: 20, 5: 20, 6: 20, 7: 20, 8: 20}\n",
            "\tes, hsarv                = 0.500, 0.100\n",
            "\tvax_sus, vax_inf         = 0.500, 0.463\n",
            "\tseeding                  = <function seed_zero at 0x7f85763243b0>\n",
            "\tduration                 = 90\n",
            "\tnet /person import prob  = 0.100\n",
            "\timportation rate         = 0.001\n",
            "\thsar                     = 0.200\n",
            "\thousehold_beta           = 0.033\n",
            "\tmin r0, max r0           = 0.694, 1.620\n",
            "\n",
            "Calculating power\n",
            "Calculating VEs ...\n",
            " Vaccine study named one vaccinated with:\n",
            "\tn_per_arm                = 100.0\n",
            "\thousehold sizes          = {4: 20, 5: 20, 6: 20, 7: 20, 8: 20}\n",
            "\tes, hsarv                = 0.500, 0.100\n",
            "\tvax_sus, vax_inf         = 0.500, 0.463\n",
            "\tseeding                  = <function seed_zero at 0x7f85763243b0>\n",
            "\tduration                 = 90\n",
            "\tnet /person import prob  = 0.100\n",
            "\timportation rate         = 0.001\n",
            "\thsar                     = 0.200\n",
            "\thousehold_beta           = 0.033\n",
            "\tmin r0, max r0           = 0.694, 1.620\n",
            "\n",
            "Calculating power\n",
            "Running study ...\n",
            " Vaccine study named one vaccinated with:\n",
            "\tn_per_arm                = 155.88235294117646\n",
            "\thousehold sizes          = {4: 31, 5: 31, 6: 31, 7: 31, 8: 31}\n",
            "\tes, hsarv                = 0.500, 0.100\n",
            "\tvax_sus, vax_inf         = 0.500, 0.463\n",
            "\tseeding                  = <function seed_zero at 0x7f85763243b0>\n",
            "\tduration                 = 90\n",
            "\tnet /person import prob  = 0.100\n",
            "\timportation rate         = 0.001\n",
            "\thsar                     = 0.200\n",
            "\thousehold_beta           = 0.033\n",
            "\tmin r0, max r0           = 0.694, 1.620\n",
            "\n",
            "Calculating VEcontact ...\n",
            " Vaccine study named one vaccinated with:\n",
            "\tn_per_arm                = 155.88235294117646\n",
            "\thousehold sizes          = {4: 31, 5: 31, 6: 31, 7: 31, 8: 31}\n",
            "\tes, hsarv                = 0.500, 0.100\n",
            "\tvax_sus, vax_inf         = 0.500, 0.463\n",
            "\tseeding                  = <function seed_zero at 0x7f85763243b0>\n",
            "\tduration                 = 90\n",
            "\tnet /person import prob  = 0.100\n",
            "\timportation rate         = 0.001\n",
            "\thsar                     = 0.200\n",
            "\thousehold_beta           = 0.033\n",
            "\tmin r0, max r0           = 0.694, 1.620\n",
            "\n",
            "Calculating power\n",
            "Calculating VEtotal ...\n",
            " Vaccine study named one vaccinated with:\n",
            "\tn_per_arm                = 155.88235294117646\n",
            "\thousehold sizes          = {4: 31, 5: 31, 6: 31, 7: 31, 8: 31}\n",
            "\tes, hsarv                = 0.500, 0.100\n",
            "\tvax_sus, vax_inf         = 0.500, 0.463\n",
            "\tseeding                  = <function seed_zero at 0x7f85763243b0>\n",
            "\tduration                 = 90\n",
            "\tnet /person import prob  = 0.100\n",
            "\timportation rate         = 0.001\n",
            "\thsar                     = 0.200\n",
            "\thousehold_beta           = 0.033\n",
            "\tmin r0, max r0           = 0.694, 1.620\n",
            "\n",
            "Calculating power\n",
            "Calculating VEs ...\n",
            " Vaccine study named one vaccinated with:\n",
            "\tn_per_arm                = 155.88235294117646\n",
            "\thousehold sizes          = {4: 31, 5: 31, 6: 31, 7: 31, 8: 31}\n",
            "\tes, hsarv                = 0.500, 0.100\n",
            "\tvax_sus, vax_inf         = 0.500, 0.463\n",
            "\tseeding                  = <function seed_zero at 0x7f85763243b0>\n",
            "\tduration                 = 90\n",
            "\tnet /person import prob  = 0.100\n",
            "\timportation rate         = 0.001\n",
            "\thsar                     = 0.200\n",
            "\thousehold_beta           = 0.033\n",
            "\tmin r0, max r0           = 0.694, 1.620\n",
            "\n",
            "Calculating power\n",
            "Running study ...\n",
            " Vaccine study named one vaccinated with:\n",
            "\tn_per_arm                = 211.76470588235293\n",
            "\thousehold sizes          = {4: 42, 5: 42, 6: 42, 7: 42, 8: 42}\n",
            "\tes, hsarv                = 0.500, 0.100\n",
            "\tvax_sus, vax_inf         = 0.500, 0.463\n",
            "\tseeding                  = <function seed_zero at 0x7f85763243b0>\n",
            "\tduration                 = 90\n",
            "\tnet /person import prob  = 0.100\n",
            "\timportation rate         = 0.001\n",
            "\thsar                     = 0.200\n",
            "\thousehold_beta           = 0.033\n",
            "\tmin r0, max r0           = 0.694, 1.620\n",
            "\n",
            "Calculating VEcontact ...\n",
            " Vaccine study named one vaccinated with:\n",
            "\tn_per_arm                = 211.76470588235293\n",
            "\thousehold sizes          = {4: 42, 5: 42, 6: 42, 7: 42, 8: 42}\n",
            "\tes, hsarv                = 0.500, 0.100\n",
            "\tvax_sus, vax_inf         = 0.500, 0.463\n",
            "\tseeding                  = <function seed_zero at 0x7f85763243b0>\n",
            "\tduration                 = 90\n",
            "\tnet /person import prob  = 0.100\n",
            "\timportation rate         = 0.001\n",
            "\thsar                     = 0.200\n",
            "\thousehold_beta           = 0.033\n",
            "\tmin r0, max r0           = 0.694, 1.620\n",
            "\n",
            "Calculating power\n",
            "Calculating VEtotal ...\n",
            " Vaccine study named one vaccinated with:\n",
            "\tn_per_arm                = 211.76470588235293\n",
            "\thousehold sizes          = {4: 42, 5: 42, 6: 42, 7: 42, 8: 42}\n",
            "\tes, hsarv                = 0.500, 0.100\n",
            "\tvax_sus, vax_inf         = 0.500, 0.463\n",
            "\tseeding                  = <function seed_zero at 0x7f85763243b0>\n",
            "\tduration                 = 90\n",
            "\tnet /person import prob  = 0.100\n",
            "\timportation rate         = 0.001\n",
            "\thsar                     = 0.200\n",
            "\thousehold_beta           = 0.033\n",
            "\tmin r0, max r0           = 0.694, 1.620\n",
            "\n",
            "Calculating power\n",
            "Calculating VEs ...\n",
            " Vaccine study named one vaccinated with:\n",
            "\tn_per_arm                = 211.76470588235293\n",
            "\thousehold sizes          = {4: 42, 5: 42, 6: 42, 7: 42, 8: 42}\n",
            "\tes, hsarv                = 0.500, 0.100\n",
            "\tvax_sus, vax_inf         = 0.500, 0.463\n",
            "\tseeding                  = <function seed_zero at 0x7f85763243b0>\n",
            "\tduration                 = 90\n",
            "\tnet /person import prob  = 0.100\n",
            "\timportation rate         = 0.001\n",
            "\thsar                     = 0.200\n",
            "\thousehold_beta           = 0.033\n",
            "\tmin r0, max r0           = 0.694, 1.620\n",
            "\n",
            "Calculating power\n",
            "Running study ...\n",
            " Vaccine study named one vaccinated with:\n",
            "\tn_per_arm                = 267.6470588235294\n",
            "\thousehold sizes          = {4: 53, 5: 53, 6: 53, 7: 53, 8: 53}\n",
            "\tes, hsarv                = 0.500, 0.100\n",
            "\tvax_sus, vax_inf         = 0.500, 0.463\n",
            "\tseeding                  = <function seed_zero at 0x7f85763243b0>\n",
            "\tduration                 = 90\n",
            "\tnet /person import prob  = 0.100\n",
            "\timportation rate         = 0.001\n",
            "\thsar                     = 0.200\n",
            "\thousehold_beta           = 0.033\n",
            "\tmin r0, max r0           = 0.694, 1.620\n",
            "\n",
            "Calculating VEcontact ...\n",
            " Vaccine study named one vaccinated with:\n",
            "\tn_per_arm                = 267.6470588235294\n",
            "\thousehold sizes          = {4: 53, 5: 53, 6: 53, 7: 53, 8: 53}\n",
            "\tes, hsarv                = 0.500, 0.100\n",
            "\tvax_sus, vax_inf         = 0.500, 0.463\n",
            "\tseeding                  = <function seed_zero at 0x7f85763243b0>\n",
            "\tduration                 = 90\n",
            "\tnet /person import prob  = 0.100\n",
            "\timportation rate         = 0.001\n",
            "\thsar                     = 0.200\n",
            "\thousehold_beta           = 0.033\n",
            "\tmin r0, max r0           = 0.694, 1.620\n",
            "\n",
            "Calculating power\n",
            "Calculating VEtotal ...\n",
            " Vaccine study named one vaccinated with:\n",
            "\tn_per_arm                = 267.6470588235294\n",
            "\thousehold sizes          = {4: 53, 5: 53, 6: 53, 7: 53, 8: 53}\n",
            "\tes, hsarv                = 0.500, 0.100\n",
            "\tvax_sus, vax_inf         = 0.500, 0.463\n",
            "\tseeding                  = <function seed_zero at 0x7f85763243b0>\n",
            "\tduration                 = 90\n",
            "\tnet /person import prob  = 0.100\n",
            "\timportation rate         = 0.001\n",
            "\thsar                     = 0.200\n",
            "\thousehold_beta           = 0.033\n",
            "\tmin r0, max r0           = 0.694, 1.620\n",
            "\n",
            "Calculating power\n",
            "Calculating VEs ...\n",
            " Vaccine study named one vaccinated with:\n",
            "\tn_per_arm                = 267.6470588235294\n",
            "\thousehold sizes          = {4: 53, 5: 53, 6: 53, 7: 53, 8: 53}\n",
            "\tes, hsarv                = 0.500, 0.100\n",
            "\tvax_sus, vax_inf         = 0.500, 0.463\n",
            "\tseeding                  = <function seed_zero at 0x7f85763243b0>\n",
            "\tduration                 = 90\n",
            "\tnet /person import prob  = 0.100\n",
            "\timportation rate         = 0.001\n",
            "\thsar                     = 0.200\n",
            "\thousehold_beta           = 0.033\n",
            "\tmin r0, max r0           = 0.694, 1.620\n",
            "\n",
            "Calculating power\n",
            "Running study ...\n",
            " Vaccine study named one vaccinated with:\n",
            "\tn_per_arm                = 323.52941176470586\n",
            "\thousehold sizes          = {4: 64, 5: 64, 6: 64, 7: 64, 8: 64}\n",
            "\tes, hsarv                = 0.500, 0.100\n",
            "\tvax_sus, vax_inf         = 0.500, 0.463\n",
            "\tseeding                  = <function seed_zero at 0x7f85763243b0>\n",
            "\tduration                 = 90\n",
            "\tnet /person import prob  = 0.100\n",
            "\timportation rate         = 0.001\n",
            "\thsar                     = 0.200\n",
            "\thousehold_beta           = 0.033\n",
            "\tmin r0, max r0           = 0.694, 1.620\n",
            "\n",
            "Calculating VEcontact ...\n",
            " Vaccine study named one vaccinated with:\n",
            "\tn_per_arm                = 323.52941176470586\n",
            "\thousehold sizes          = {4: 64, 5: 64, 6: 64, 7: 64, 8: 64}\n",
            "\tes, hsarv                = 0.500, 0.100\n",
            "\tvax_sus, vax_inf         = 0.500, 0.463\n",
            "\tseeding                  = <function seed_zero at 0x7f85763243b0>\n",
            "\tduration                 = 90\n",
            "\tnet /person import prob  = 0.100\n",
            "\timportation rate         = 0.001\n",
            "\thsar                     = 0.200\n",
            "\thousehold_beta           = 0.033\n",
            "\tmin r0, max r0           = 0.694, 1.620\n",
            "\n",
            "Calculating power\n",
            "Calculating VEtotal ...\n",
            " Vaccine study named one vaccinated with:\n",
            "\tn_per_arm                = 323.52941176470586\n",
            "\thousehold sizes          = {4: 64, 5: 64, 6: 64, 7: 64, 8: 64}\n",
            "\tes, hsarv                = 0.500, 0.100\n",
            "\tvax_sus, vax_inf         = 0.500, 0.463\n",
            "\tseeding                  = <function seed_zero at 0x7f85763243b0>\n",
            "\tduration                 = 90\n",
            "\tnet /person import prob  = 0.100\n",
            "\timportation rate         = 0.001\n",
            "\thsar                     = 0.200\n",
            "\thousehold_beta           = 0.033\n",
            "\tmin r0, max r0           = 0.694, 1.620\n",
            "\n",
            "Calculating power\n",
            "Calculating VEs ...\n",
            " Vaccine study named one vaccinated with:\n",
            "\tn_per_arm                = 323.52941176470586\n",
            "\thousehold sizes          = {4: 64, 5: 64, 6: 64, 7: 64, 8: 64}\n",
            "\tes, hsarv                = 0.500, 0.100\n",
            "\tvax_sus, vax_inf         = 0.500, 0.463\n",
            "\tseeding                  = <function seed_zero at 0x7f85763243b0>\n",
            "\tduration                 = 90\n",
            "\tnet /person import prob  = 0.100\n",
            "\timportation rate         = 0.001\n",
            "\thsar                     = 0.200\n",
            "\thousehold_beta           = 0.033\n",
            "\tmin r0, max r0           = 0.694, 1.620\n",
            "\n",
            "Calculating power\n",
            "Running study ...\n",
            " Vaccine study named one vaccinated with:\n",
            "\tn_per_arm                = 379.4117647058824\n",
            "\thousehold sizes          = {4: 75, 5: 75, 6: 75, 7: 75, 8: 75}\n",
            "\tes, hsarv                = 0.500, 0.100\n",
            "\tvax_sus, vax_inf         = 0.500, 0.463\n",
            "\tseeding                  = <function seed_zero at 0x7f85763243b0>\n",
            "\tduration                 = 90\n",
            "\tnet /person import prob  = 0.100\n",
            "\timportation rate         = 0.001\n",
            "\thsar                     = 0.200\n",
            "\thousehold_beta           = 0.033\n",
            "\tmin r0, max r0           = 0.694, 1.620\n",
            "\n",
            "Calculating VEcontact ...\n",
            " Vaccine study named one vaccinated with:\n",
            "\tn_per_arm                = 379.4117647058824\n",
            "\thousehold sizes          = {4: 75, 5: 75, 6: 75, 7: 75, 8: 75}\n",
            "\tes, hsarv                = 0.500, 0.100\n",
            "\tvax_sus, vax_inf         = 0.500, 0.463\n",
            "\tseeding                  = <function seed_zero at 0x7f85763243b0>\n",
            "\tduration                 = 90\n",
            "\tnet /person import prob  = 0.100\n",
            "\timportation rate         = 0.001\n",
            "\thsar                     = 0.200\n",
            "\thousehold_beta           = 0.033\n",
            "\tmin r0, max r0           = 0.694, 1.620\n",
            "\n",
            "Calculating power\n",
            "Calculating VEtotal ...\n",
            " Vaccine study named one vaccinated with:\n",
            "\tn_per_arm                = 379.4117647058824\n",
            "\thousehold sizes          = {4: 75, 5: 75, 6: 75, 7: 75, 8: 75}\n",
            "\tes, hsarv                = 0.500, 0.100\n",
            "\tvax_sus, vax_inf         = 0.500, 0.463\n",
            "\tseeding                  = <function seed_zero at 0x7f85763243b0>\n",
            "\tduration                 = 90\n",
            "\tnet /person import prob  = 0.100\n",
            "\timportation rate         = 0.001\n",
            "\thsar                     = 0.200\n",
            "\thousehold_beta           = 0.033\n",
            "\tmin r0, max r0           = 0.694, 1.620\n",
            "\n",
            "Calculating power\n",
            "Calculating VEs ...\n",
            " Vaccine study named one vaccinated with:\n",
            "\tn_per_arm                = 379.4117647058824\n",
            "\thousehold sizes          = {4: 75, 5: 75, 6: 75, 7: 75, 8: 75}\n",
            "\tes, hsarv                = 0.500, 0.100\n",
            "\tvax_sus, vax_inf         = 0.500, 0.463\n",
            "\tseeding                  = <function seed_zero at 0x7f85763243b0>\n",
            "\tduration                 = 90\n",
            "\tnet /person import prob  = 0.100\n",
            "\timportation rate         = 0.001\n",
            "\thsar                     = 0.200\n",
            "\thousehold_beta           = 0.033\n",
            "\tmin r0, max r0           = 0.694, 1.620\n",
            "\n",
            "Calculating power\n",
            "Running study ...\n",
            " Vaccine study named one vaccinated with:\n",
            "\tn_per_arm                = 435.29411764705884\n",
            "\thousehold sizes          = {4: 87, 5: 87, 6: 87, 7: 87, 8: 87}\n",
            "\tes, hsarv                = 0.500, 0.100\n",
            "\tvax_sus, vax_inf         = 0.500, 0.463\n",
            "\tseeding                  = <function seed_zero at 0x7f85763243b0>\n",
            "\tduration                 = 90\n",
            "\tnet /person import prob  = 0.100\n",
            "\timportation rate         = 0.001\n",
            "\thsar                     = 0.200\n",
            "\thousehold_beta           = 0.033\n",
            "\tmin r0, max r0           = 0.694, 1.620\n",
            "\n",
            "Calculating VEcontact ...\n",
            " Vaccine study named one vaccinated with:\n",
            "\tn_per_arm                = 435.29411764705884\n",
            "\thousehold sizes          = {4: 87, 5: 87, 6: 87, 7: 87, 8: 87}\n",
            "\tes, hsarv                = 0.500, 0.100\n",
            "\tvax_sus, vax_inf         = 0.500, 0.463\n",
            "\tseeding                  = <function seed_zero at 0x7f85763243b0>\n",
            "\tduration                 = 90\n",
            "\tnet /person import prob  = 0.100\n",
            "\timportation rate         = 0.001\n",
            "\thsar                     = 0.200\n",
            "\thousehold_beta           = 0.033\n",
            "\tmin r0, max r0           = 0.694, 1.620\n",
            "\n",
            "Calculating power\n",
            "Calculating VEtotal ...\n",
            " Vaccine study named one vaccinated with:\n",
            "\tn_per_arm                = 435.29411764705884\n",
            "\thousehold sizes          = {4: 87, 5: 87, 6: 87, 7: 87, 8: 87}\n",
            "\tes, hsarv                = 0.500, 0.100\n",
            "\tvax_sus, vax_inf         = 0.500, 0.463\n",
            "\tseeding                  = <function seed_zero at 0x7f85763243b0>\n",
            "\tduration                 = 90\n",
            "\tnet /person import prob  = 0.100\n",
            "\timportation rate         = 0.001\n",
            "\thsar                     = 0.200\n",
            "\thousehold_beta           = 0.033\n",
            "\tmin r0, max r0           = 0.694, 1.620\n",
            "\n",
            "Calculating power\n",
            "Calculating VEs ...\n",
            " Vaccine study named one vaccinated with:\n",
            "\tn_per_arm                = 435.29411764705884\n",
            "\thousehold sizes          = {4: 87, 5: 87, 6: 87, 7: 87, 8: 87}\n",
            "\tes, hsarv                = 0.500, 0.100\n",
            "\tvax_sus, vax_inf         = 0.500, 0.463\n",
            "\tseeding                  = <function seed_zero at 0x7f85763243b0>\n",
            "\tduration                 = 90\n",
            "\tnet /person import prob  = 0.100\n",
            "\timportation rate         = 0.001\n",
            "\thsar                     = 0.200\n",
            "\thousehold_beta           = 0.033\n",
            "\tmin r0, max r0           = 0.694, 1.620\n",
            "\n",
            "Calculating power\n",
            "Running study ...\n",
            " Vaccine study named one vaccinated with:\n",
            "\tn_per_arm                = 491.1764705882353\n",
            "\thousehold sizes          = {4: 98, 5: 98, 6: 98, 7: 98, 8: 98}\n",
            "\tes, hsarv                = 0.500, 0.100\n",
            "\tvax_sus, vax_inf         = 0.500, 0.463\n",
            "\tseeding                  = <function seed_zero at 0x7f85763243b0>\n",
            "\tduration                 = 90\n",
            "\tnet /person import prob  = 0.100\n",
            "\timportation rate         = 0.001\n",
            "\thsar                     = 0.200\n",
            "\thousehold_beta           = 0.033\n",
            "\tmin r0, max r0           = 0.694, 1.620\n",
            "\n",
            "Calculating VEcontact ...\n",
            " Vaccine study named one vaccinated with:\n",
            "\tn_per_arm                = 491.1764705882353\n",
            "\thousehold sizes          = {4: 98, 5: 98, 6: 98, 7: 98, 8: 98}\n",
            "\tes, hsarv                = 0.500, 0.100\n",
            "\tvax_sus, vax_inf         = 0.500, 0.463\n",
            "\tseeding                  = <function seed_zero at 0x7f85763243b0>\n",
            "\tduration                 = 90\n",
            "\tnet /person import prob  = 0.100\n",
            "\timportation rate         = 0.001\n",
            "\thsar                     = 0.200\n",
            "\thousehold_beta           = 0.033\n",
            "\tmin r0, max r0           = 0.694, 1.620\n",
            "\n",
            "Calculating power\n",
            "Calculating VEtotal ...\n",
            " Vaccine study named one vaccinated with:\n",
            "\tn_per_arm                = 491.1764705882353\n",
            "\thousehold sizes          = {4: 98, 5: 98, 6: 98, 7: 98, 8: 98}\n",
            "\tes, hsarv                = 0.500, 0.100\n",
            "\tvax_sus, vax_inf         = 0.500, 0.463\n",
            "\tseeding                  = <function seed_zero at 0x7f85763243b0>\n",
            "\tduration                 = 90\n",
            "\tnet /person import prob  = 0.100\n",
            "\timportation rate         = 0.001\n",
            "\thsar                     = 0.200\n",
            "\thousehold_beta           = 0.033\n",
            "\tmin r0, max r0           = 0.694, 1.620\n",
            "\n",
            "Calculating power\n",
            "Calculating VEs ...\n",
            " Vaccine study named one vaccinated with:\n",
            "\tn_per_arm                = 491.1764705882353\n",
            "\thousehold sizes          = {4: 98, 5: 98, 6: 98, 7: 98, 8: 98}\n",
            "\tes, hsarv                = 0.500, 0.100\n",
            "\tvax_sus, vax_inf         = 0.500, 0.463\n",
            "\tseeding                  = <function seed_zero at 0x7f85763243b0>\n",
            "\tduration                 = 90\n",
            "\tnet /person import prob  = 0.100\n",
            "\timportation rate         = 0.001\n",
            "\thsar                     = 0.200\n",
            "\thousehold_beta           = 0.033\n",
            "\tmin r0, max r0           = 0.694, 1.620\n",
            "\n",
            "Calculating power\n",
            "Running study ...\n",
            " Vaccine study named one vaccinated with:\n",
            "\tn_per_arm                = 547.0588235294117\n",
            "\thousehold sizes          = {4: 109, 5: 109, 6: 109, 7: 109, 8: 109}\n",
            "\tes, hsarv                = 0.500, 0.100\n",
            "\tvax_sus, vax_inf         = 0.500, 0.463\n",
            "\tseeding                  = <function seed_zero at 0x7f85763243b0>\n",
            "\tduration                 = 90\n",
            "\tnet /person import prob  = 0.100\n",
            "\timportation rate         = 0.001\n",
            "\thsar                     = 0.200\n",
            "\thousehold_beta           = 0.033\n",
            "\tmin r0, max r0           = 0.694, 1.620\n",
            "\n",
            "Calculating VEcontact ...\n",
            " Vaccine study named one vaccinated with:\n",
            "\tn_per_arm                = 547.0588235294117\n",
            "\thousehold sizes          = {4: 109, 5: 109, 6: 109, 7: 109, 8: 109}\n",
            "\tes, hsarv                = 0.500, 0.100\n",
            "\tvax_sus, vax_inf         = 0.500, 0.463\n",
            "\tseeding                  = <function seed_zero at 0x7f85763243b0>\n",
            "\tduration                 = 90\n",
            "\tnet /person import prob  = 0.100\n",
            "\timportation rate         = 0.001\n",
            "\thsar                     = 0.200\n",
            "\thousehold_beta           = 0.033\n",
            "\tmin r0, max r0           = 0.694, 1.620\n",
            "\n",
            "Calculating power\n",
            "Calculating VEtotal ...\n",
            " Vaccine study named one vaccinated with:\n",
            "\tn_per_arm                = 547.0588235294117\n",
            "\thousehold sizes          = {4: 109, 5: 109, 6: 109, 7: 109, 8: 109}\n",
            "\tes, hsarv                = 0.500, 0.100\n",
            "\tvax_sus, vax_inf         = 0.500, 0.463\n",
            "\tseeding                  = <function seed_zero at 0x7f85763243b0>\n",
            "\tduration                 = 90\n",
            "\tnet /person import prob  = 0.100\n",
            "\timportation rate         = 0.001\n",
            "\thsar                     = 0.200\n",
            "\thousehold_beta           = 0.033\n",
            "\tmin r0, max r0           = 0.694, 1.620\n",
            "\n",
            "Calculating power\n",
            "Calculating VEs ...\n",
            " Vaccine study named one vaccinated with:\n",
            "\tn_per_arm                = 547.0588235294117\n",
            "\thousehold sizes          = {4: 109, 5: 109, 6: 109, 7: 109, 8: 109}\n",
            "\tes, hsarv                = 0.500, 0.100\n",
            "\tvax_sus, vax_inf         = 0.500, 0.463\n",
            "\tseeding                  = <function seed_zero at 0x7f85763243b0>\n",
            "\tduration                 = 90\n",
            "\tnet /person import prob  = 0.100\n",
            "\timportation rate         = 0.001\n",
            "\thsar                     = 0.200\n",
            "\thousehold_beta           = 0.033\n",
            "\tmin r0, max r0           = 0.694, 1.620\n",
            "\n",
            "Calculating power\n",
            "Running study ...\n",
            " Vaccine study named one vaccinated with:\n",
            "\tn_per_arm                = 602.9411764705883\n",
            "\thousehold sizes          = {4: 120, 5: 120, 6: 120, 7: 120, 8: 120}\n",
            "\tes, hsarv                = 0.500, 0.100\n",
            "\tvax_sus, vax_inf         = 0.500, 0.463\n",
            "\tseeding                  = <function seed_zero at 0x7f85763243b0>\n",
            "\tduration                 = 90\n",
            "\tnet /person import prob  = 0.100\n",
            "\timportation rate         = 0.001\n",
            "\thsar                     = 0.200\n",
            "\thousehold_beta           = 0.033\n",
            "\tmin r0, max r0           = 0.694, 1.620\n",
            "\n",
            "Calculating VEcontact ...\n",
            " Vaccine study named one vaccinated with:\n",
            "\tn_per_arm                = 602.9411764705883\n",
            "\thousehold sizes          = {4: 120, 5: 120, 6: 120, 7: 120, 8: 120}\n",
            "\tes, hsarv                = 0.500, 0.100\n",
            "\tvax_sus, vax_inf         = 0.500, 0.463\n",
            "\tseeding                  = <function seed_zero at 0x7f85763243b0>\n",
            "\tduration                 = 90\n",
            "\tnet /person import prob  = 0.100\n",
            "\timportation rate         = 0.001\n",
            "\thsar                     = 0.200\n",
            "\thousehold_beta           = 0.033\n",
            "\tmin r0, max r0           = 0.694, 1.620\n",
            "\n",
            "Calculating power\n",
            "Calculating VEtotal ...\n",
            " Vaccine study named one vaccinated with:\n",
            "\tn_per_arm                = 602.9411764705883\n",
            "\thousehold sizes          = {4: 120, 5: 120, 6: 120, 7: 120, 8: 120}\n",
            "\tes, hsarv                = 0.500, 0.100\n",
            "\tvax_sus, vax_inf         = 0.500, 0.463\n",
            "\tseeding                  = <function seed_zero at 0x7f85763243b0>\n",
            "\tduration                 = 90\n",
            "\tnet /person import prob  = 0.100\n",
            "\timportation rate         = 0.001\n",
            "\thsar                     = 0.200\n",
            "\thousehold_beta           = 0.033\n",
            "\tmin r0, max r0           = 0.694, 1.620\n",
            "\n",
            "Calculating power\n",
            "Calculating VEs ...\n",
            " Vaccine study named one vaccinated with:\n",
            "\tn_per_arm                = 602.9411764705883\n",
            "\thousehold sizes          = {4: 120, 5: 120, 6: 120, 7: 120, 8: 120}\n",
            "\tes, hsarv                = 0.500, 0.100\n",
            "\tvax_sus, vax_inf         = 0.500, 0.463\n",
            "\tseeding                  = <function seed_zero at 0x7f85763243b0>\n",
            "\tduration                 = 90\n",
            "\tnet /person import prob  = 0.100\n",
            "\timportation rate         = 0.001\n",
            "\thsar                     = 0.200\n",
            "\thousehold_beta           = 0.033\n",
            "\tmin r0, max r0           = 0.694, 1.620\n",
            "\n",
            "Calculating power\n",
            "Running study ...\n",
            " Vaccine study named one vaccinated with:\n",
            "\tn_per_arm                = 658.8235294117648\n",
            "\thousehold sizes          = {4: 131, 5: 131, 6: 131, 7: 131, 8: 131}\n",
            "\tes, hsarv                = 0.500, 0.100\n",
            "\tvax_sus, vax_inf         = 0.500, 0.463\n",
            "\tseeding                  = <function seed_zero at 0x7f85763243b0>\n",
            "\tduration                 = 90\n",
            "\tnet /person import prob  = 0.100\n",
            "\timportation rate         = 0.001\n",
            "\thsar                     = 0.200\n",
            "\thousehold_beta           = 0.033\n",
            "\tmin r0, max r0           = 0.694, 1.620\n",
            "\n",
            "Calculating VEcontact ...\n",
            " Vaccine study named one vaccinated with:\n",
            "\tn_per_arm                = 658.8235294117648\n",
            "\thousehold sizes          = {4: 131, 5: 131, 6: 131, 7: 131, 8: 131}\n",
            "\tes, hsarv                = 0.500, 0.100\n",
            "\tvax_sus, vax_inf         = 0.500, 0.463\n",
            "\tseeding                  = <function seed_zero at 0x7f85763243b0>\n",
            "\tduration                 = 90\n",
            "\tnet /person import prob  = 0.100\n",
            "\timportation rate         = 0.001\n",
            "\thsar                     = 0.200\n",
            "\thousehold_beta           = 0.033\n",
            "\tmin r0, max r0           = 0.694, 1.620\n",
            "\n",
            "Calculating power\n",
            "Calculating VEtotal ...\n",
            " Vaccine study named one vaccinated with:\n",
            "\tn_per_arm                = 658.8235294117648\n",
            "\thousehold sizes          = {4: 131, 5: 131, 6: 131, 7: 131, 8: 131}\n",
            "\tes, hsarv                = 0.500, 0.100\n",
            "\tvax_sus, vax_inf         = 0.500, 0.463\n",
            "\tseeding                  = <function seed_zero at 0x7f85763243b0>\n",
            "\tduration                 = 90\n",
            "\tnet /person import prob  = 0.100\n",
            "\timportation rate         = 0.001\n",
            "\thsar                     = 0.200\n",
            "\thousehold_beta           = 0.033\n",
            "\tmin r0, max r0           = 0.694, 1.620\n",
            "\n",
            "Calculating power\n",
            "Calculating VEs ...\n",
            " Vaccine study named one vaccinated with:\n",
            "\tn_per_arm                = 658.8235294117648\n",
            "\thousehold sizes          = {4: 131, 5: 131, 6: 131, 7: 131, 8: 131}\n",
            "\tes, hsarv                = 0.500, 0.100\n",
            "\tvax_sus, vax_inf         = 0.500, 0.463\n",
            "\tseeding                  = <function seed_zero at 0x7f85763243b0>\n",
            "\tduration                 = 90\n",
            "\tnet /person import prob  = 0.100\n",
            "\timportation rate         = 0.001\n",
            "\thsar                     = 0.200\n",
            "\thousehold_beta           = 0.033\n",
            "\tmin r0, max r0           = 0.694, 1.620\n",
            "\n",
            "Calculating power\n",
            "Running study ...\n",
            " Vaccine study named one vaccinated with:\n",
            "\tn_per_arm                = 714.7058823529412\n",
            "\thousehold sizes          = {4: 142, 5: 142, 6: 142, 7: 142, 8: 142}\n",
            "\tes, hsarv                = 0.500, 0.100\n",
            "\tvax_sus, vax_inf         = 0.500, 0.463\n",
            "\tseeding                  = <function seed_zero at 0x7f85763243b0>\n",
            "\tduration                 = 90\n",
            "\tnet /person import prob  = 0.100\n",
            "\timportation rate         = 0.001\n",
            "\thsar                     = 0.200\n",
            "\thousehold_beta           = 0.033\n",
            "\tmin r0, max r0           = 0.694, 1.620\n",
            "\n",
            "Calculating VEcontact ...\n",
            " Vaccine study named one vaccinated with:\n",
            "\tn_per_arm                = 714.7058823529412\n",
            "\thousehold sizes          = {4: 142, 5: 142, 6: 142, 7: 142, 8: 142}\n",
            "\tes, hsarv                = 0.500, 0.100\n",
            "\tvax_sus, vax_inf         = 0.500, 0.463\n",
            "\tseeding                  = <function seed_zero at 0x7f85763243b0>\n",
            "\tduration                 = 90\n",
            "\tnet /person import prob  = 0.100\n",
            "\timportation rate         = 0.001\n",
            "\thsar                     = 0.200\n",
            "\thousehold_beta           = 0.033\n",
            "\tmin r0, max r0           = 0.694, 1.620\n",
            "\n",
            "Calculating power\n",
            "Calculating VEtotal ...\n",
            " Vaccine study named one vaccinated with:\n",
            "\tn_per_arm                = 714.7058823529412\n",
            "\thousehold sizes          = {4: 142, 5: 142, 6: 142, 7: 142, 8: 142}\n",
            "\tes, hsarv                = 0.500, 0.100\n",
            "\tvax_sus, vax_inf         = 0.500, 0.463\n",
            "\tseeding                  = <function seed_zero at 0x7f85763243b0>\n",
            "\tduration                 = 90\n",
            "\tnet /person import prob  = 0.100\n",
            "\timportation rate         = 0.001\n",
            "\thsar                     = 0.200\n",
            "\thousehold_beta           = 0.033\n",
            "\tmin r0, max r0           = 0.694, 1.620\n",
            "\n",
            "Calculating power\n",
            "Calculating VEs ...\n",
            " Vaccine study named one vaccinated with:\n",
            "\tn_per_arm                = 714.7058823529412\n",
            "\thousehold sizes          = {4: 142, 5: 142, 6: 142, 7: 142, 8: 142}\n",
            "\tes, hsarv                = 0.500, 0.100\n",
            "\tvax_sus, vax_inf         = 0.500, 0.463\n",
            "\tseeding                  = <function seed_zero at 0x7f85763243b0>\n",
            "\tduration                 = 90\n",
            "\tnet /person import prob  = 0.100\n",
            "\timportation rate         = 0.001\n",
            "\thsar                     = 0.200\n",
            "\thousehold_beta           = 0.033\n",
            "\tmin r0, max r0           = 0.694, 1.620\n",
            "\n",
            "Calculating power\n",
            "Running study ...\n",
            " Vaccine study named one vaccinated with:\n",
            "\tn_per_arm                = 770.5882352941177\n",
            "\thousehold sizes          = {4: 154, 5: 154, 6: 154, 7: 154, 8: 154}\n",
            "\tes, hsarv                = 0.500, 0.100\n",
            "\tvax_sus, vax_inf         = 0.500, 0.463\n",
            "\tseeding                  = <function seed_zero at 0x7f85763243b0>\n",
            "\tduration                 = 90\n",
            "\tnet /person import prob  = 0.100\n",
            "\timportation rate         = 0.001\n",
            "\thsar                     = 0.200\n",
            "\thousehold_beta           = 0.033\n",
            "\tmin r0, max r0           = 0.694, 1.620\n",
            "\n",
            "Calculating VEcontact ...\n",
            " Vaccine study named one vaccinated with:\n",
            "\tn_per_arm                = 770.5882352941177\n",
            "\thousehold sizes          = {4: 154, 5: 154, 6: 154, 7: 154, 8: 154}\n",
            "\tes, hsarv                = 0.500, 0.100\n",
            "\tvax_sus, vax_inf         = 0.500, 0.463\n",
            "\tseeding                  = <function seed_zero at 0x7f85763243b0>\n",
            "\tduration                 = 90\n",
            "\tnet /person import prob  = 0.100\n",
            "\timportation rate         = 0.001\n",
            "\thsar                     = 0.200\n",
            "\thousehold_beta           = 0.033\n",
            "\tmin r0, max r0           = 0.694, 1.620\n",
            "\n",
            "Calculating power\n",
            "Calculating VEtotal ...\n",
            " Vaccine study named one vaccinated with:\n",
            "\tn_per_arm                = 770.5882352941177\n",
            "\thousehold sizes          = {4: 154, 5: 154, 6: 154, 7: 154, 8: 154}\n",
            "\tes, hsarv                = 0.500, 0.100\n",
            "\tvax_sus, vax_inf         = 0.500, 0.463\n",
            "\tseeding                  = <function seed_zero at 0x7f85763243b0>\n",
            "\tduration                 = 90\n",
            "\tnet /person import prob  = 0.100\n",
            "\timportation rate         = 0.001\n",
            "\thsar                     = 0.200\n",
            "\thousehold_beta           = 0.033\n",
            "\tmin r0, max r0           = 0.694, 1.620\n",
            "\n",
            "Calculating power\n",
            "Calculating VEs ...\n",
            " Vaccine study named one vaccinated with:\n",
            "\tn_per_arm                = 770.5882352941177\n",
            "\thousehold sizes          = {4: 154, 5: 154, 6: 154, 7: 154, 8: 154}\n",
            "\tes, hsarv                = 0.500, 0.100\n",
            "\tvax_sus, vax_inf         = 0.500, 0.463\n",
            "\tseeding                  = <function seed_zero at 0x7f85763243b0>\n",
            "\tduration                 = 90\n",
            "\tnet /person import prob  = 0.100\n",
            "\timportation rate         = 0.001\n",
            "\thsar                     = 0.200\n",
            "\thousehold_beta           = 0.033\n",
            "\tmin r0, max r0           = 0.694, 1.620\n",
            "\n",
            "Calculating power\n",
            "Running study ...\n",
            " Vaccine study named one vaccinated with:\n",
            "\tn_per_arm                = 826.4705882352941\n",
            "\thousehold sizes          = {4: 165, 5: 165, 6: 165, 7: 165, 8: 165}\n",
            "\tes, hsarv                = 0.500, 0.100\n",
            "\tvax_sus, vax_inf         = 0.500, 0.463\n",
            "\tseeding                  = <function seed_zero at 0x7f85763243b0>\n",
            "\tduration                 = 90\n",
            "\tnet /person import prob  = 0.100\n",
            "\timportation rate         = 0.001\n",
            "\thsar                     = 0.200\n",
            "\thousehold_beta           = 0.033\n",
            "\tmin r0, max r0           = 0.694, 1.620\n",
            "\n",
            "Calculating VEcontact ...\n",
            " Vaccine study named one vaccinated with:\n",
            "\tn_per_arm                = 826.4705882352941\n",
            "\thousehold sizes          = {4: 165, 5: 165, 6: 165, 7: 165, 8: 165}\n",
            "\tes, hsarv                = 0.500, 0.100\n",
            "\tvax_sus, vax_inf         = 0.500, 0.463\n",
            "\tseeding                  = <function seed_zero at 0x7f85763243b0>\n",
            "\tduration                 = 90\n",
            "\tnet /person import prob  = 0.100\n",
            "\timportation rate         = 0.001\n",
            "\thsar                     = 0.200\n",
            "\thousehold_beta           = 0.033\n",
            "\tmin r0, max r0           = 0.694, 1.620\n",
            "\n",
            "Calculating power\n",
            "Calculating VEtotal ...\n",
            " Vaccine study named one vaccinated with:\n",
            "\tn_per_arm                = 826.4705882352941\n",
            "\thousehold sizes          = {4: 165, 5: 165, 6: 165, 7: 165, 8: 165}\n",
            "\tes, hsarv                = 0.500, 0.100\n",
            "\tvax_sus, vax_inf         = 0.500, 0.463\n",
            "\tseeding                  = <function seed_zero at 0x7f85763243b0>\n",
            "\tduration                 = 90\n",
            "\tnet /person import prob  = 0.100\n",
            "\timportation rate         = 0.001\n",
            "\thsar                     = 0.200\n",
            "\thousehold_beta           = 0.033\n",
            "\tmin r0, max r0           = 0.694, 1.620\n",
            "\n",
            "Calculating power\n",
            "Calculating VEs ...\n",
            " Vaccine study named one vaccinated with:\n",
            "\tn_per_arm                = 826.4705882352941\n",
            "\thousehold sizes          = {4: 165, 5: 165, 6: 165, 7: 165, 8: 165}\n",
            "\tes, hsarv                = 0.500, 0.100\n",
            "\tvax_sus, vax_inf         = 0.500, 0.463\n",
            "\tseeding                  = <function seed_zero at 0x7f85763243b0>\n",
            "\tduration                 = 90\n",
            "\tnet /person import prob  = 0.100\n",
            "\timportation rate         = 0.001\n",
            "\thsar                     = 0.200\n",
            "\thousehold_beta           = 0.033\n",
            "\tmin r0, max r0           = 0.694, 1.620\n",
            "\n",
            "Calculating power\n",
            "Running study ...\n",
            " Vaccine study named one vaccinated with:\n",
            "\tn_per_arm                = 882.3529411764706\n",
            "\thousehold sizes          = {4: 176, 5: 176, 6: 176, 7: 176, 8: 176}\n",
            "\tes, hsarv                = 0.500, 0.100\n",
            "\tvax_sus, vax_inf         = 0.500, 0.463\n",
            "\tseeding                  = <function seed_zero at 0x7f85763243b0>\n",
            "\tduration                 = 90\n",
            "\tnet /person import prob  = 0.100\n",
            "\timportation rate         = 0.001\n",
            "\thsar                     = 0.200\n",
            "\thousehold_beta           = 0.033\n",
            "\tmin r0, max r0           = 0.694, 1.620\n",
            "\n",
            "Calculating VEcontact ...\n",
            " Vaccine study named one vaccinated with:\n",
            "\tn_per_arm                = 882.3529411764706\n",
            "\thousehold sizes          = {4: 176, 5: 176, 6: 176, 7: 176, 8: 176}\n",
            "\tes, hsarv                = 0.500, 0.100\n",
            "\tvax_sus, vax_inf         = 0.500, 0.463\n",
            "\tseeding                  = <function seed_zero at 0x7f85763243b0>\n",
            "\tduration                 = 90\n",
            "\tnet /person import prob  = 0.100\n",
            "\timportation rate         = 0.001\n",
            "\thsar                     = 0.200\n",
            "\thousehold_beta           = 0.033\n",
            "\tmin r0, max r0           = 0.694, 1.620\n",
            "\n",
            "Calculating power\n",
            "Calculating VEtotal ...\n",
            " Vaccine study named one vaccinated with:\n",
            "\tn_per_arm                = 882.3529411764706\n",
            "\thousehold sizes          = {4: 176, 5: 176, 6: 176, 7: 176, 8: 176}\n",
            "\tes, hsarv                = 0.500, 0.100\n",
            "\tvax_sus, vax_inf         = 0.500, 0.463\n",
            "\tseeding                  = <function seed_zero at 0x7f85763243b0>\n",
            "\tduration                 = 90\n",
            "\tnet /person import prob  = 0.100\n",
            "\timportation rate         = 0.001\n",
            "\thsar                     = 0.200\n",
            "\thousehold_beta           = 0.033\n",
            "\tmin r0, max r0           = 0.694, 1.620\n",
            "\n",
            "Calculating power\n",
            "Calculating VEs ...\n",
            " Vaccine study named one vaccinated with:\n",
            "\tn_per_arm                = 882.3529411764706\n",
            "\thousehold sizes          = {4: 176, 5: 176, 6: 176, 7: 176, 8: 176}\n",
            "\tes, hsarv                = 0.500, 0.100\n",
            "\tvax_sus, vax_inf         = 0.500, 0.463\n",
            "\tseeding                  = <function seed_zero at 0x7f85763243b0>\n",
            "\tduration                 = 90\n",
            "\tnet /person import prob  = 0.100\n",
            "\timportation rate         = 0.001\n",
            "\thsar                     = 0.200\n",
            "\thousehold_beta           = 0.033\n",
            "\tmin r0, max r0           = 0.694, 1.620\n",
            "\n",
            "Calculating power\n",
            "Running study ...\n",
            " Vaccine study named one vaccinated with:\n",
            "\tn_per_arm                = 938.2352941176471\n",
            "\thousehold sizes          = {4: 187, 5: 187, 6: 187, 7: 187, 8: 187}\n",
            "\tes, hsarv                = 0.500, 0.100\n",
            "\tvax_sus, vax_inf         = 0.500, 0.463\n",
            "\tseeding                  = <function seed_zero at 0x7f85763243b0>\n",
            "\tduration                 = 90\n",
            "\tnet /person import prob  = 0.100\n",
            "\timportation rate         = 0.001\n",
            "\thsar                     = 0.200\n",
            "\thousehold_beta           = 0.033\n",
            "\tmin r0, max r0           = 0.694, 1.620\n",
            "\n"
          ],
          "name": "stdout"
        }
      ]
    },
    {
      "cell_type": "code",
      "metadata": {
        "id": "7xT7Sulb9Ypr"
      },
      "source": [
        "pow_df = pd.concat([vec_pow, vet_pow, ves_pow], axis=1)\n",
        "pow_df.index = n_axis"
      ],
      "execution_count": 42,
      "outputs": []
    },
    {
      "cell_type": "code",
      "metadata": {
        "collapsed": true,
        "id": "taken-sound",
        "jupyter": {
          "outputs_hidden": true,
          "source_hidden": true
        },
        "colab": {
          "base_uri": "https://localhost:8080/",
          "height": 282
        },
        "outputId": "51d5cbc6-14fd-409a-8382-60f98cb6d2b7"
      },
      "source": [
        "#pow_df.index = n_axis\n",
        "pow_df.plot()\n",
        "#pow_df"
      ],
      "execution_count": 43,
      "outputs": [
        {
          "output_type": "execute_result",
          "data": {
            "text/plain": [
              "<matplotlib.axes._subplots.AxesSubplot at 0x7f84d596c850>"
            ]
          },
          "metadata": {
            "tags": []
          },
          "execution_count": 43
        },
        {
          "output_type": "display_data",
          "data": {
            "image/png": "[encoded data removed]",
            "text/plain": [
              "<Figure size 432x288 with 1 Axes>"
            ]
          },
          "metadata": {
            "tags": [],
            "needs_background": "light"
          }
        }
      ]
    },
    {
      "cell_type": "markdown",
      "metadata": {
        "id": "tTYwUO3p2Djg"
      },
      "source": [
        "# Making a git commit from changes to python backend\n",
        "\n",
        "To save this notebook use `File > Save a copy in Github`"
      ]
    },
    {
      "cell_type": "code",
      "metadata": {
        "id": "mnPAmOsD2ACG"
      },
      "source": [
        "!git add -A\n",
        "!git status\n",
        "!git diff --cached"
      ],
      "execution_count": null,
      "outputs": []
    },
    {
      "cell_type": "code",
      "metadata": {
        "id": "OaRjJRgz2lRk"
      },
      "source": [
        "!git config --global user.email \"\"\n",
        "!git config --global user.email \"Thayer\""
      ],
      "execution_count": 47,
      "outputs": []
    },
    {
      "cell_type": "code",
      "metadata": {
        "colab": {
          "base_uri": "https://localhost:8080/"
        },
        "id": "3tZeUimV2-Zk",
        "outputId": "2f5214c8-9799-4624-83b1-a53d28784c64"
      },
      "source": [
        "message = input(\"Commit message? \")\n",
        "\n",
        "!git commit -m \"{message}\""
      ],
      "execution_count": 48,
      "outputs": [
        {
          "output_type": "stream",
          "text": [
            "Commit message? Resolving merge conflict\n",
            "[main 9fdf852] Resolving merge conflict\n"
          ],
          "name": "stdout"
        }
      ]
    },
    {
      "cell_type": "markdown",
      "metadata": {
        "id": "0n5-5yi0_dYu"
      },
      "source": [
        "# Pushing upstream or pulling changes\n",
        "\n",
        "Use `File > Save a copy in Github` to save this notebook. Use these cells to commit changes to the python backend or pull changes from the origin."
      ]
    },
    {
      "cell_type": "code",
      "metadata": {
        "id": "s9cLEEJSwAf3"
      },
      "source": [
        "!git remote set-url origin https://{git_token}@github.com/{repo_owner}/{repository}"
      ],
      "execution_count": null,
      "outputs": []
    },
    {
      "cell_type": "code",
      "metadata": {
        "colab": {
          "base_uri": "https://localhost:8080/"
        },
        "id": "QzWA4B7Cr5MG",
        "outputId": "48e8eb22-7c47-4f47-a682-cc78e24211cc"
      },
      "source": [
        "!git pull\n",
        "!git commit -m 'Merged'"
      ],
      "execution_count": 49,
      "outputs": [
        {
          "output_type": "stream",
          "text": [
            "Already up to date.\n",
            "On branch main\n",
            "Your branch is ahead of 'origin/main' by 2 commits.\n",
            "  (use \"git push\" to publish your local commits)\n",
            "\n",
            "nothing to commit, working tree clean\n"
          ],
          "name": "stdout"
        }
      ]
    },
    {
      "cell_type": "code",
      "metadata": {
        "id": "u1f1DCBt3HV1",
        "colab": {
          "base_uri": "https://localhost:8080/"
        },
        "outputId": "3ac552c1-28e8-4d56-fc3d-b06e5b3acc22"
      },
      "source": [
        "!git push"
      ],
      "execution_count": null,
      "outputs": [
        {
          "output_type": "stream",
          "text": [
            "Counting objects: 8, done.\n",
            "Delta compression using up to 2 threads.\n",
            "Compressing objects:  12% (1/8)   \rCompressing objects:  25% (2/8)   \rCompressing objects:  37% (3/8)   \rCompressing objects:  50% (4/8)   \rCompressing objects:  62% (5/8)   \rCompressing objects:  75% (6/8)   \rCompressing objects:  87% (7/8)   \rCompressing objects: 100% (8/8)   \rCompressing objects: 100% (8/8), done.\n",
            "Writing objects:  12% (1/8)   \rWriting objects:  25% (2/8)   \rWriting objects:  37% (3/8)   \rWriting objects:  50% (4/8)   \rWriting objects:  62% (5/8)   \rWriting objects:  75% (6/8)   \rWriting objects:  87% (7/8)   \rWriting objects: 100% (8/8)   \rWriting objects: 100% (8/8), 1.12 KiB | 383.00 KiB/s, done.\n",
            "Total 8 (delta 6), reused 0 (delta 0)\n",
            "remote: Resolving deltas:   0% (0/6)\u001b[K\rremote: Resolving deltas:  16% (1/6)\u001b[K\rremote: Resolving deltas:  33% (2/6)\u001b[K\rremote: Resolving deltas:  50% (3/6)\u001b[K\rremote: Resolving deltas:  66% (4/6)\u001b[K\rremote: Resolving deltas:  83% (5/6)\u001b[K\rremote: Resolving deltas: 100% (6/6)\u001b[K\rremote: Resolving deltas: 100% (6/6), completed with 4 local objects.\u001b[K\n",
            "To https://github.com/tanderson11/covid_households\n",
            "   f7ed928..134634f  main -> main\n"
          ],
          "name": "stdout"
        }
      ]
    }
  ]
}