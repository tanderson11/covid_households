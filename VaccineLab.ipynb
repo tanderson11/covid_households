{
  "nbformat": 4,
  "nbformat_minor": 0,
  "metadata": {
    "accelerator": "GPU",
    "colab": {
      "name": "VaccineLab.ipynb",
      "provenance": [],
      "collapsed_sections": [
        "IsWpiP3DFFMo",
        "spe9KM4yqdqB",
        "HKqa27GWFKnE",
        "RKWx-gMepyKX",
        "0n5-5yi0_dYu"
      ],
      "include_colab_link": true
    },
    "kernelspec": {
      "display_name": "Python 3",
      "language": "python",
      "name": "python3"
    },
    "language_info": {
      "codemirror_mode": {
        "name": "ipython",
        "version": 3
      },
      "file_extension": ".py",
      "mimetype": "text/x-python",
      "name": "python",
      "nbconvert_exporter": "python",
      "pygments_lexer": "ipython3",
      "version": "3.7.3"
    }
  },
  "cells": [
    {
      "cell_type": "markdown",
      "metadata": {
        "id": "view-in-github",
        "colab_type": "text"
      },
      "source": [
        "<a href=\"https://colab.research.google.com/github/tanderson11/covid_households/blob/main/VaccineLab.ipynb\" target=\"_parent\"><img src=\"https://colab.research.google.com/assets/colab-badge.svg\" alt=\"Open In Colab\"/></a>"
      ]
    },
    {
      "cell_type": "markdown",
      "metadata": {
        "id": "vFEfWUyjl_L-"
      },
      "source": [
        "# Vaccine Study Laboratory"
      ]
    },
    {
      "cell_type": "markdown",
      "metadata": {
        "id": "IsWpiP3DFFMo"
      },
      "source": [
        "# Drive + Github configuration\n",
        "\n",
        "* If you opened this notebook from Github, go to `File > Save a copy in Drive`.\n",
        "* If running for the first time, set `first_time_setup = True`\n",
        "* You'll have to authenticate on google drive the first time and each time the runtime times out.\n",
        "* To use tokens, fork the repository and go to `Github > User > Settings > Developer Settings > Personal access tokens`"
      ]
    },
    {
      "cell_type": "code",
      "metadata": {
        "id": "ZMjOwUq1w-wa"
      },
      "source": [
        "# A flag to clone the repository into your drive. See the >>> SETUP <<< lines to know what is affected\n",
        "# Set to false after running this set of cells once\n",
        "first_time_setup = True"
      ],
      "execution_count": 37,
      "outputs": []
    },
    {
      "cell_type": "code",
      "metadata": {
        "colab": {
          "base_uri": "https://localhost:8080/"
        },
        "id": "ORzYVf06BhuU",
        "outputId": "010a4dc3-8c51-48c5-c123-b4b825532b13"
      },
      "source": [
        "from google.colab import drive\n",
        "drive.mount('/content/gdrive')"
      ],
      "execution_count": 1,
      "outputs": [
        {
          "output_type": "stream",
          "text": [
            "Drive already mounted at /content/gdrive; to attempt to forcibly remount, call drive.mount(\"/content/gdrive\", force_remount=True).\n"
          ],
          "name": "stdout"
        }
      ]
    },
    {
      "cell_type": "code",
      "metadata": {
        "colab": {
          "base_uri": "https://localhost:8080/"
        },
        "id": "I3fmCBmpDCZn",
        "outputId": "136351fe-a24e-44e9-9fe4-712b4ce637d2"
      },
      "source": [
        "%mkdir /content/gdrive/My\\ Drive/github\n",
        "%cd /content/gdrive/My\\ Drive/github"
      ],
      "execution_count": 2,
      "outputs": [
        {
          "output_type": "stream",
          "text": [
            "mkdir: cannot create directory ‘/content/gdrive/My Drive/github’: File exists\n",
            "/content/gdrive/My Drive/github\n"
          ],
          "name": "stdout"
        }
      ]
    },
    {
      "cell_type": "code",
      "metadata": {
        "id": "J0qVcYVio4mo"
      },
      "source": [
        "# If you've forked the repository, point to your own username and repository name (if different)\n",
        "repo_owner=\"tanderson11\"\n",
        "repository=\"covid_households\"\n",
        "\n",
        "# >>> SETUP: <<<\n",
        "if first_time_setup:\n",
        "    !git clone https://github.com/{repo_owner}/{repository}.git\n",
        "\n",
        "# >>> TOKEN SETUP: <<<\n",
        "# If you're using token authentication (recommended), add your token and uncomment the lines below instead\n",
        "\n",
        "#!echo git_token=\\\"your_token_here\\\" > git_token.py\n",
        "#from git_token import git_token\n",
        "\n",
        "#!git clone https://{git_token}@github.com/{repo_owner}/{repository}"
      ],
      "execution_count": 3,
      "outputs": []
    },
    {
      "cell_type": "code",
      "metadata": {
        "colab": {
          "base_uri": "https://localhost:8080/"
        },
        "id": "bqQubdG6EpNl",
        "outputId": "c9c559ba-52d2-458b-cf35-aea58174af4d"
      },
      "source": [
        "%cd covid_households/\n",
        "!ls -a\n",
        "\n",
        "# >>> TOKEN SETUP: <<<\n",
        "# this will put your token in the right folder; comment this line out after use to avoid an error message\n",
        "#!mv ../git_token.py ./\n",
        "\n",
        "from git_token import git_token"
      ],
      "execution_count": 4,
      "outputs": [
        {
          "output_type": "stream",
          "text": [
            "/content/gdrive/My Drive/github/covid_households\n",
            "baseline_df.hdf\n",
            "comparison_df.hdf\n",
            "constants.py\n",
            "df.hdf\n",
            "experiments\n",
            "forward_simulation.py\n",
            ".git\n",
            ".gitignore\n",
            "git_token.py\n",
            "inf_var-hsar-seed_one-0.0importation-04-29-17:46\n",
            ".ipynb_checkpoints\n",
            "Lab.ipynb\n",
            "likelihood.py\n",
            "ParameterInferenceLab.ipynb\n",
            "population.py\n",
            "__pycache__\n",
            "README.md\n",
            "settings.py\n",
            "SuperspreadingLab.ipynb\n",
            "sus_var-hsar-seed_one-0.0importation-04-29-16:17\n",
            "sus_var-hsar-seed_one-0.0importation-04-29-20:02\n",
            "torch_forward_simulation.py\n",
            "traits.py\n",
            "utilities.py\n",
            "Vaccine.ipynb\n",
            "vaccine.py\n"
          ],
          "name": "stdout"
        }
      ]
    },
    {
      "cell_type": "markdown",
      "metadata": {
        "id": "spe9KM4yqdqB"
      },
      "source": [
        "# Pulling upstream changes\n",
        "\n",
        "Uncomment this block to pull upstream changes from github"
      ]
    },
    {
      "cell_type": "code",
      "metadata": {
        "colab": {
          "base_uri": "https://localhost:8080/"
        },
        "id": "71i8WsDcp6uN",
        "outputId": "bbf12ff3-e6c9-4bf2-99cc-559f1d552093"
      },
      "source": [
        "!git status"
      ],
      "execution_count": 38,
      "outputs": [
        {
          "output_type": "stream",
          "text": [
            "On branch main\n",
            "Your branch is up to date with 'origin/main'.\n",
            "\n",
            "nothing to commit, working tree clean\n"
          ],
          "name": "stdout"
        }
      ]
    },
    {
      "cell_type": "code",
      "metadata": {
        "id": "mqd4eKs1qpVb"
      },
      "source": [
        "# >>> PULLING CHANGES: <<<\n",
        "#!git pull"
      ],
      "execution_count": null,
      "outputs": []
    },
    {
      "cell_type": "markdown",
      "metadata": {
        "id": "HKqa27GWFKnE"
      },
      "source": [
        "# Initialization\n",
        "\n",
        "Call this once each runtime after Drive configuration to import the module"
      ]
    },
    {
      "cell_type": "code",
      "metadata": {
        "id": "bJP1Mq2YEtVX"
      },
      "source": [
        "# Initialization\n",
        "import importlib\n",
        "import vaccine\n",
        "import likelihood\n",
        "import utilities\n",
        "import pandas as pd\n",
        "import numpy as np\n",
        "import functools"
      ],
      "execution_count": 5,
      "outputs": []
    },
    {
      "cell_type": "markdown",
      "metadata": {
        "id": "RKWx-gMepyKX"
      },
      "source": [
        "# Reload modules\n",
        "\n",
        "Call this if you change any .py files in the drive"
      ]
    },
    {
      "cell_type": "code",
      "metadata": {
        "colab": {
          "base_uri": "https://localhost:8080/"
        },
        "id": "uLZH04Xap0xj",
        "outputId": "9ebb6e83-e353-47ac-a913-7cb829c4cd00"
      },
      "source": [
        "importlib.reload(vaccine)\n",
        "importlib.reload(likelihood)\n",
        "importlib.reload(utilities)"
      ],
      "execution_count": 14,
      "outputs": [
        {
          "output_type": "execute_result",
          "data": {
            "text/plain": [
              "<module 'utilities' from '/content/gdrive/My Drive/github/covid_households/utilities.py'>"
            ]
          },
          "metadata": {
            "tags": []
          },
          "execution_count": 14
        }
      ]
    },
    {
      "cell_type": "markdown",
      "metadata": {
        "id": "fepe3oDXFNYl"
      },
      "source": [
        "# Experiments\n",
        "\n",
        "Run your experiments and interact with VaccineStudy objects within this block of cells"
      ]
    },
    {
      "cell_type": "code",
      "metadata": {
        "id": "FexC5KAXvtg6"
      },
      "source": [
        "print_documentation = True"
      ],
      "execution_count": null,
      "outputs": []
    },
    {
      "cell_type": "code",
      "metadata": {
        "id": "Lw0BM-CD6T7F"
      },
      "source": [
        "# Shows the parameters we need to create a VaccineStudy\n",
        "if print_documentation:\n",
        "    print(vaccine.VaccineStudy.__init__.__doc__)"
      ],
      "execution_count": null,
      "outputs": []
    },
    {
      "cell_type": "code",
      "metadata": {
        "id": "G36VhYLSE6or"
      },
      "source": [
        "# --- Setting parameters for a VaccineStudy ---\n",
        "\n",
        "n_per_arm = 50 # the number of households in each arm of the study (arms are 'vaccinated' and 'placebo')\n",
        "sizes = [8] # the number of households per arm are divided evenly among the sizes, if there are multiple \n",
        "#sizes = [4,5,6,7,8] \n",
        "\n",
        "\n",
        "hsar = 0.2 # the desired household sar\n",
        "hsarv = 0.1 # the hsar calculated in reference to vaccinated individuals (therefore encoding vaccine effect on infectivity)\n",
        "\n",
        "es = 0.7 # = 1 - the relative chance per contact of an infection passing to a vaccinated individual\n",
        "\n",
        "# Duration of the study and importation rate\n",
        "duration = 90 # days\n",
        "importation_probability_over_study = 0.1 # probability an unvaccinateed individual becomes infected over the whole course of the study\n",
        "\n",
        "# Specifying the vaccination protocol. Common methods such as vaccinating one individual, a fraction of individuals, or a fixed number of individuals are made available in vaccine.py\n",
        "vaccination_method = vaccine.vaccinate_one\n",
        "#vaccination_method = functools.partial(vaccinate_fraction,fraction_vaccinated=0.5)"
      ],
      "execution_count": 16,
      "outputs": []
    },
    {
      "cell_type": "code",
      "metadata": {
        "id": "zR8MikMDE7IL"
      },
      "source": [
        "# --- Create a study object, which provides methods for easy simulation and calculation of statistics ---\n",
        "one_vax_study = vaccine.VaccineStudy(\"one vaccinated\", n_per_arm, sizes, hsar, es, (hsarv, 'hsarv'), duration, importation_probability_over_study, vaccination_method)"
      ],
      "execution_count": 17,
      "outputs": []
    },
    {
      "cell_type": "code",
      "metadata": {
        "id": "oJc134CQA9Yu"
      },
      "source": [
        "# What can we do with a VaccineStudy object once we have one?\n",
        "if print_documentation:\n",
        "    print(vaccine.VaccineStudy.__doc__)"
      ],
      "execution_count": null,
      "outputs": []
    },
    {
      "cell_type": "code",
      "metadata": {
        "id": "I9HTdyi3E_OU"
      },
      "source": [
        "# --- Run the study some number of times ---\n",
        "trials = 10\n",
        "vax_df, control_df = one_vax_study.run_trials(trials, arms=\"both\") # we collect the results of our study in two Pandas DataFrames. For more information see https://pandas.pydata.org/pandas-docs/stable/reference/api/pandas.DataFrame.html\n",
        "utilities.make_bar_chart(pd.concat([vax_df, control_df])) # look at histograms of infections to check for coherence or interesting results"
      ],
      "execution_count": null,
      "outputs": []
    },
    {
      "cell_type": "code",
      "metadata": {
        "id": "yjEJCNqDAPB2"
      },
      "source": [
        "# --- Analyze the results ---\n",
        "\n",
        "vax_df"
      ],
      "execution_count": null,
      "outputs": []
    },
    {
      "cell_type": "code",
      "metadata": {
        "id": "EywYFRmmr3pq"
      },
      "source": [
        "# mean (over trials) number of placebo recepients who get infected\n",
        "mean = control_df[control_df[\"vaccinated infected\"] > 0].groupby(\"trialnum\")[\"vaccinated infected\"].count().mean()\n",
        "total = control_df.groupby(\"trialnum\")[\"num vaccinated\"].count().mean()\n",
        "print(\"Percent of placebo reccepients who were infected\")\n",
        "print(100 * mean / total)\n",
        "\n",
        "# mean (over trials) number of vaccinated recepients who get infected\n",
        "mean = vax_df[vax_df[\"vaccinated infected\"] > 0].groupby(\"trialnum\")[\"vaccinated infected\"].count().mean() \n",
        "total = vax_df.groupby(\"trialnum\")[\"num vaccinated\"].count().mean()\n",
        "print(\"Percent of vacccine reccepients who were infected\")\n",
        "100 * mean / total"
      ],
      "execution_count": null,
      "outputs": []
    },
    {
      "cell_type": "code",
      "metadata": {
        "id": "xcOoAniysdRa"
      },
      "source": [
        "print(\"Mean percent of individuals infected in vaccinated households by household size\")\n",
        "infections = vax_df.groupby(\"size\")[\"infections\"].mean()\n",
        "size = vax_df.groupby(\"size\")[\"size\"].mean()\n",
        "print(infections / size * 100)\n",
        "\n",
        "print(\"Mean percent of individuals infected in unvaccinated households by household size\")\n",
        "infections = control_df.groupby(\"size\")[\"infections\"].mean()\n",
        "size = control_df.groupby(\"size\")[\"size\"].mean()\n",
        "print(infections / size * 100)"
      ],
      "execution_count": null,
      "outputs": []
    },
    {
      "cell_type": "code",
      "metadata": {
        "colab": {
          "base_uri": "https://localhost:8080/",
          "height": 645
        },
        "id": "2AhQ-U4PshVe",
        "outputId": "0513743c-0c10-4868-fd17-9f91ab6f17dd"
      },
      "source": [
        "print(\"VEtotal\")\n",
        "\n",
        "vetotal_df = one_vax_study.vetotal()\n",
        "vetotal_df"
      ],
      "execution_count": 23,
      "outputs": [
        {
          "output_type": "stream",
          "text": [
            "VEtotal\n",
            "Calculating VEtotal ...\n",
            " Vaccine study named one vaccinated with:\n",
            "\tn_per_arm                = 50\n",
            "\thousehold sizes          = {8: 50}\n",
            "\tes, hsarv                = 0.700, 0.100\n",
            "\tvax_sus, vax_inf         = 0.300, 0.463\n",
            "\tseeding                  = <function seed_zero at 0x7f97f12705f0>\n",
            "\tduration                 = 90\n",
            "\tnet /person import prob  = 0.100\n",
            "\timportation rate         = 0.001\n",
            "\thsar                     = 0.200\n",
            "\thousehold_beta           = 0.033\n",
            "\tmin r0, max r0           = 1.620, 1.620\n",
            "\n"
          ],
          "name": "stdout"
        },
        {
          "output_type": "execute_result",
          "data": {
            "text/html": [
              "<div>\n",
              "<style scoped>\n",
              "    .dataframe tbody tr th:only-of-type {\n",
              "        vertical-align: middle;\n",
              "    }\n",
              "\n",
              "    .dataframe tbody tr th {\n",
              "        vertical-align: top;\n",
              "    }\n",
              "\n",
              "    .dataframe thead th {\n",
              "        text-align: right;\n",
              "    }\n",
              "</style>\n",
              "<table border=\"1\" class=\"dataframe\">\n",
              "  <thead>\n",
              "    <tr style=\"text-align: right;\">\n",
              "      <th></th>\n",
              "      <th>VE</th>\n",
              "      <th>fisher p value</th>\n",
              "    </tr>\n",
              "    <tr>\n",
              "      <th>trialnum</th>\n",
              "      <th></th>\n",
              "      <th></th>\n",
              "    </tr>\n",
              "  </thead>\n",
              "  <tbody>\n",
              "    <tr>\n",
              "      <th>0</th>\n",
              "      <td>0.237805</td>\n",
              "      <td>0.005118</td>\n",
              "    </tr>\n",
              "    <tr>\n",
              "      <th>1</th>\n",
              "      <td>0.061404</td>\n",
              "      <td>0.635258</td>\n",
              "    </tr>\n",
              "    <tr>\n",
              "      <th>2</th>\n",
              "      <td>-0.243478</td>\n",
              "      <td>0.041026</td>\n",
              "    </tr>\n",
              "    <tr>\n",
              "      <th>3</th>\n",
              "      <td>0.202797</td>\n",
              "      <td>0.033903</td>\n",
              "    </tr>\n",
              "    <tr>\n",
              "      <th>4</th>\n",
              "      <td>0.222973</td>\n",
              "      <td>0.015941</td>\n",
              "    </tr>\n",
              "    <tr>\n",
              "      <th>5</th>\n",
              "      <td>0.318584</td>\n",
              "      <td>0.003573</td>\n",
              "    </tr>\n",
              "    <tr>\n",
              "      <th>6</th>\n",
              "      <td>-0.051546</td>\n",
              "      <td>0.743612</td>\n",
              "    </tr>\n",
              "    <tr>\n",
              "      <th>7</th>\n",
              "      <td>-0.091743</td>\n",
              "      <td>0.480923</td>\n",
              "    </tr>\n",
              "    <tr>\n",
              "      <th>8</th>\n",
              "      <td>0.347518</td>\n",
              "      <td>0.000181</td>\n",
              "    </tr>\n",
              "    <tr>\n",
              "      <th>9</th>\n",
              "      <td>0.251748</td>\n",
              "      <td>0.007528</td>\n",
              "    </tr>\n",
              "  </tbody>\n",
              "</table>\n",
              "</div>"
            ],
            "text/plain": [
              "                VE  fisher p value\n",
              "trialnum                          \n",
              "0         0.237805        0.005118\n",
              "1         0.061404        0.635258\n",
              "2        -0.243478        0.041026\n",
              "3         0.202797        0.033903\n",
              "4         0.222973        0.015941\n",
              "5         0.318584        0.003573\n",
              "6        -0.051546        0.743612\n",
              "7        -0.091743        0.480923\n",
              "8         0.347518        0.000181\n",
              "9         0.251748        0.007528"
            ]
          },
          "metadata": {
            "tags": []
          },
          "execution_count": 23
        }
      ]
    },
    {
      "cell_type": "markdown",
      "metadata": {
        "id": "tTYwUO3p2Djg"
      },
      "source": [
        "# Making a git commit from changes to python backend\n",
        "\n",
        "To save this notebook use File > Save a copy in Github"
      ]
    },
    {
      "cell_type": "code",
      "metadata": {
        "colab": {
          "base_uri": "https://localhost:8080/"
        },
        "id": "mnPAmOsD2ACG",
        "outputId": "d8182349-4233-4733-8829-3cd6058032c3"
      },
      "source": [
        "!git add -A\n",
        "!git status"
      ],
      "execution_count": 28,
      "outputs": [
        {
          "output_type": "stream",
          "text": [
            "On branch main\n",
            "Your branch is behind 'origin/main' by 4 commits, and can be fast-forwarded.\n",
            "  (use \"git pull\" to update your local branch)\n",
            "\n",
            "Changes to be committed:\n",
            "  (use \"git reset HEAD <file>...\" to unstage)\n",
            "\n",
            "\t\u001b[32mmodified:   population.py\u001b[m\n",
            "\t\u001b[32mmodified:   utilities.py\u001b[m\n",
            "\t\u001b[32mmodified:   vaccine.py\u001b[m\n",
            "\n"
          ],
          "name": "stdout"
        }
      ]
    },
    {
      "cell_type": "code",
      "metadata": {
        "id": "OaRjJRgz2lRk"
      },
      "source": [
        "!git config --global user.email \"\"\n",
        "!git config --global user.email \"Thayer\""
      ],
      "execution_count": 29,
      "outputs": []
    },
    {
      "cell_type": "code",
      "metadata": {
        "colab": {
          "base_uri": "https://localhost:8080/"
        },
        "id": "3tZeUimV2-Zk",
        "outputId": "b0cf50d5-8f51-47e6-d59a-d8a05770ceec"
      },
      "source": [
        "message = input(\"Commit message? \")\n",
        "\n",
        "!git commit -m \"{message}\""
      ],
      "execution_count": 30,
      "outputs": [
        {
          "output_type": "stream",
          "text": [
            "Commit message? Improving documentation. Fixing imports\n",
            "[main 652a385] Improving documentation. Fixing imports\n",
            " 3 files changed, 18 insertions(+), 41 deletions(-)\n"
          ],
          "name": "stdout"
        }
      ]
    },
    {
      "cell_type": "markdown",
      "metadata": {
        "id": "0n5-5yi0_dYu"
      },
      "source": [
        "# Pushing upstream"
      ]
    },
    {
      "cell_type": "code",
      "metadata": {
        "id": "s9cLEEJSwAf3"
      },
      "source": [
        "!git remote set-url origin https://{git_token}@github.com/{repo_owner}/{repository}"
      ],
      "execution_count": 31,
      "outputs": []
    },
    {
      "cell_type": "code",
      "metadata": {
        "colab": {
          "base_uri": "https://localhost:8080/"
        },
        "id": "QzWA4B7Cr5MG",
        "outputId": "896af0e8-edaa-4fed-9cca-ee6c187a1e4c"
      },
      "source": [
        "!git pull\n",
        "!git commit -m 'Merged'"
      ],
      "execution_count": 34,
      "outputs": [
        {
          "output_type": "stream",
          "text": [
            "Already up to date.\n",
            "On branch main\n",
            "Your branch is ahead of 'origin/main' by 2 commits.\n",
            "  (use \"git push\" to publish your local commits)\n",
            "\n",
            "nothing to commit, working tree clean\n"
          ],
          "name": "stdout"
        }
      ]
    },
    {
      "cell_type": "code",
      "metadata": {
        "id": "u1f1DCBt3HV1",
        "colab": {
          "base_uri": "https://localhost:8080/"
        },
        "outputId": "3ac552c1-28e8-4d56-fc3d-b06e5b3acc22"
      },
      "source": [
        "!git push"
      ],
      "execution_count": 35,
      "outputs": [
        {
          "output_type": "stream",
          "text": [
            "Counting objects: 8, done.\n",
            "Delta compression using up to 2 threads.\n",
            "Compressing objects:  12% (1/8)   \rCompressing objects:  25% (2/8)   \rCompressing objects:  37% (3/8)   \rCompressing objects:  50% (4/8)   \rCompressing objects:  62% (5/8)   \rCompressing objects:  75% (6/8)   \rCompressing objects:  87% (7/8)   \rCompressing objects: 100% (8/8)   \rCompressing objects: 100% (8/8), done.\n",
            "Writing objects:  12% (1/8)   \rWriting objects:  25% (2/8)   \rWriting objects:  37% (3/8)   \rWriting objects:  50% (4/8)   \rWriting objects:  62% (5/8)   \rWriting objects:  75% (6/8)   \rWriting objects:  87% (7/8)   \rWriting objects: 100% (8/8)   \rWriting objects: 100% (8/8), 1.12 KiB | 383.00 KiB/s, done.\n",
            "Total 8 (delta 6), reused 0 (delta 0)\n",
            "remote: Resolving deltas:   0% (0/6)\u001b[K\rremote: Resolving deltas:  16% (1/6)\u001b[K\rremote: Resolving deltas:  33% (2/6)\u001b[K\rremote: Resolving deltas:  50% (3/6)\u001b[K\rremote: Resolving deltas:  66% (4/6)\u001b[K\rremote: Resolving deltas:  83% (5/6)\u001b[K\rremote: Resolving deltas: 100% (6/6)\u001b[K\rremote: Resolving deltas: 100% (6/6), completed with 4 local objects.\u001b[K\n",
            "To https://github.com/tanderson11/covid_households\n",
            "   f7ed928..134634f  main -> main\n"
          ],
          "name": "stdout"
        }
      ]
    }
  ]
}