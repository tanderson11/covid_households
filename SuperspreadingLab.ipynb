{
  "nbformat": 4,
  "nbformat_minor": 0,
  "metadata": {
    "colab": {
      "name": "SuperspreadingLab.ipynb",
      "provenance": [],
      "collapsed_sections": [
        "IsWpiP3DFFMo"
      ],
      "toc_visible": true,
      "authorship_tag": "ABX9TyMgRyIwJg2Lg1iaVddqLjQR",
      "include_colab_link": true
    },
    "kernelspec": {
      "name": "python3",
      "display_name": "Python 3"
    },
    "language_info": {
      "name": "python"
    },
    "accelerator": "GPU"
  },
  "cells": [
    {
      "cell_type": "markdown",
      "metadata": {
        "id": "view-in-github",
        "colab_type": "text"
      },
      "source": [
        "<a href=\"https://colab.research.google.com/github/tanderson11/covid_households/blob/main/SuperspreadingLab.ipynb\" target=\"_parent\"><img src=\"https://colab.research.google.com/assets/colab-badge.svg\" alt=\"Open In Colab\"/></a>"
      ]
    },
    {
      "cell_type": "markdown",
      "metadata": {
        "id": "vFEfWUyjl_L-"
      },
      "source": [
        "# Superspreading Laboratory"
      ]
    },
    {
      "cell_type": "markdown",
      "metadata": {
        "id": "IsWpiP3DFFMo"
      },
      "source": [
        "# Drive + Github Configuration\n",
        "\n",
        "If running for the first time, uncomment the necessary lines to create a token and clone the repository.\n",
        "\n",
        "You'll have to authenticate on google drive the first time and each time the runtime times out."
      ]
    },
    {
      "cell_type": "code",
      "metadata": {
        "colab": {
          "base_uri": "https://localhost:8080/"
        },
        "id": "ORzYVf06BhuU",
        "outputId": "f8359de2-d565-412d-9224-2ebb748cee09"
      },
      "source": [
        "from google.colab import drive\n",
        "drive.mount('/content/gdrive')"
      ],
      "execution_count": 1,
      "outputs": [
        {
          "output_type": "stream",
          "text": [
            "Drive already mounted at /content/gdrive; to attempt to forcibly remount, call drive.mount(\"/content/gdrive\", force_remount=True).\n"
          ],
          "name": "stdout"
        }
      ]
    },
    {
      "cell_type": "code",
      "metadata": {
        "colab": {
          "base_uri": "https://localhost:8080/"
        },
        "id": "I3fmCBmpDCZn",
        "outputId": "006bd60f-5c9f-44d4-d564-deb3e4456786"
      },
      "source": [
        "%mkdir /content/gdrive/My\\ Drive/github\n",
        "%cd /content/gdrive/My\\ Drive/github"
      ],
      "execution_count": 2,
      "outputs": [
        {
          "output_type": "stream",
          "text": [
            "mkdir: cannot create directory ‘/content/gdrive/My Drive/github’: File exists\n",
            "/content/gdrive/My Drive/github\n"
          ],
          "name": "stdout"
        }
      ]
    },
    {
      "cell_type": "code",
      "metadata": {
        "id": "M6mdtrqrgY1d"
      },
      "source": [
        "# Request a token and then add it to the line below and then uncomment both lines\n",
        "#!echo git_token=\\\"your_token_here\\\" > git_token.py\n",
        "#from git_token import git_token"
      ],
      "execution_count": 3,
      "outputs": []
    },
    {
      "cell_type": "code",
      "metadata": {
        "id": "Bwvtxr_X15S-"
      },
      "source": [
        "repo_owner=\"tanderson11\"\n",
        "repository=\"covid_households\""
      ],
      "execution_count": 4,
      "outputs": []
    },
    {
      "cell_type": "code",
      "metadata": {
        "id": "esTV8J3wD0tA"
      },
      "source": [
        "### UNCOMMENT THIS LINE TO CLONE FOR THE FIRST TIME\n",
        "#!git clone https://{git_token}@github.com/{repo_owner}/{repository}"
      ],
      "execution_count": 5,
      "outputs": []
    },
    {
      "cell_type": "code",
      "metadata": {
        "colab": {
          "base_uri": "https://localhost:8080/"
        },
        "id": "bqQubdG6EpNl",
        "outputId": "79042faa-8271-4bd7-9e69-a24da40dbfe2"
      },
      "source": [
        "%cd covid_households/\n",
        "!ls -al\n",
        "\n",
        "# this will put your token in the right folder; comment this line out after use to avoid error message\n",
        "#!mv ../git_token.py ./\n",
        "\n",
        "from git_token import git_token\n",
        "\n",
        "### UNCOMMENT THIS LINE TO PULL CHANGES\n",
        "#!git pull"
      ],
      "execution_count": 6,
      "outputs": [
        {
          "output_type": "stream",
          "text": [
            "/content/gdrive/My Drive/github/covid_households\n",
            "total 559435\n",
            "-rw------- 1 root root   2510200 Apr 29 18:22 baseline_df.hdf\n",
            "-rw------- 1 root root 331828072 Apr 28 14:54 comparison_df.hdf\n",
            "-rw------- 1 root root      1335 Apr 20 16:17 constants.py\n",
            "-rw------- 1 root root 237322952 Apr 27 15:33 df.hdf\n",
            "drwx------ 3 root root      4096 Apr 29 20:21 experiments\n",
            "-rw------- 1 root root      4144 Apr 20 16:17 forward_simulation.py\n",
            "drwx------ 8 root root      4096 Apr 29 19:52 .git\n",
            "-rw------- 1 root root      1450 Apr 21 14:00 .gitignore\n",
            "-rw------- 1 root root        53 Apr 21 14:04 git_token.py\n",
            "drwx------ 2 root root      4096 Apr 29 18:02 inf_var-hsar-seed_one-0.0importation-04-29-17:46\n",
            "drwx------ 2 root root      4096 Apr 20 16:42 .ipynb_checkpoints\n",
            "-rw------- 1 root root     56554 Apr 23 15:38 Lab.ipynb\n",
            "-rw------- 1 root root       695 Apr 21 13:39 likelihood.py\n",
            "-rw------- 1 root root    552092 Apr 23 18:20 ParameterInferenceLab.ipynb\n",
            "-rw------- 1 root root     12430 Apr 29 20:00 population.py\n",
            "drwx------ 2 root root      4096 Apr 29 20:01 __pycache__\n",
            "-rw------- 1 root root        18 Apr 20 16:17 README.md\n",
            "-rw------- 1 root root       123 Apr 20 16:28 settings.py\n",
            "drwx------ 2 root root      4096 Apr 29 16:31 sus_var-hsar-seed_one-0.0importation-04-29-16:17\n",
            "drwx------ 2 root root      4096 Apr 29 20:21 sus_var-hsar-seed_one-0.0importation-04-29-20:02\n",
            "-rw------- 1 root root      8220 Apr 20 16:37 torch_forward_simulation.py\n",
            "-rw------- 1 root root      1514 Apr 23 18:35 traits.py\n",
            "-rw------- 1 root root      2340 Apr 29 20:24 utilities.py\n",
            "-rw------- 1 root root    511698 Apr 20 16:17 Vaccine.ipynb\n",
            "-rw------- 1 root root     13675 Apr 23 19:32 vaccine.py\n"
          ],
          "name": "stdout"
        }
      ]
    },
    {
      "cell_type": "code",
      "metadata": {
        "colab": {
          "base_uri": "https://localhost:8080/"
        },
        "id": "71i8WsDcp6uN",
        "outputId": "0a0fef03-74b4-49e7-e598-5b6c3d23bea2"
      },
      "source": [
        "!git status"
      ],
      "execution_count": 7,
      "outputs": [
        {
          "output_type": "stream",
          "text": [
            "On branch main\n",
            "Your branch is up to date with 'origin/main'.\n",
            "\n",
            "Changes not staged for commit:\n",
            "  (use \"git add <file>...\" to update what will be committed)\n",
            "  (use \"git checkout -- <file>...\" to discard changes in working directory)\n",
            "\n",
            "\t\u001b[31mmodified:   population.py\u001b[m\n",
            "\t\u001b[31mmodified:   utilities.py\u001b[m\n",
            "\n",
            "Untracked files:\n",
            "  (use \"git add <file>...\" to include in what will be committed)\n",
            "\n",
            "\t\u001b[31mbaseline_df.hdf\u001b[m\n",
            "\t\u001b[31mcomparison_df.hdf\u001b[m\n",
            "\t\u001b[31mdf.hdf\u001b[m\n",
            "\t\u001b[31mexperiments/\u001b[m\n",
            "\t\u001b[31minf_var-hsar-seed_one-0.0importation-04-29-17:46/\u001b[m\n",
            "\t\u001b[31msus_var-hsar-seed_one-0.0importation-04-29-16:17/\u001b[m\n",
            "\t\u001b[31msus_var-hsar-seed_one-0.0importation-04-29-20:02/\u001b[m\n",
            "\n",
            "no changes added to commit (use \"git add\" and/or \"git commit -a\")\n"
          ],
          "name": "stdout"
        }
      ]
    },
    {
      "cell_type": "markdown",
      "metadata": {
        "id": "HKqa27GWFKnE"
      },
      "source": [
        "# Initialization"
      ]
    },
    {
      "cell_type": "code",
      "metadata": {
        "id": "bJP1Mq2YEtVX"
      },
      "source": [
        "# Initialization\n",
        "import importlib\n",
        "import vaccine\n",
        "import population\n",
        "import likelihood\n",
        "import utilities\n",
        "import pandas as pd\n",
        "import numpy as np\n",
        "import functools\n",
        "import matplotlib.pyplot as plt\n",
        "import traits\n",
        "import seaborn as sns\n",
        "import datetime\n",
        "import dill"
      ],
      "execution_count": 8,
      "outputs": []
    },
    {
      "cell_type": "markdown",
      "metadata": {
        "id": "RKWx-gMepyKX"
      },
      "source": [
        "# Reload modules"
      ]
    },
    {
      "cell_type": "code",
      "metadata": {
        "colab": {
          "base_uri": "https://localhost:8080/"
        },
        "id": "uLZH04Xap0xj",
        "outputId": "8c4c167f-1bfa-47b3-fd8c-b2532b82abf6"
      },
      "source": [
        "importlib.reload(vaccine)\n",
        "importlib.reload(likelihood)\n",
        "importlib.reload(population)\n",
        "importlib.reload(utilities)\n",
        "importlib.reload(traits)"
      ],
      "execution_count": 90,
      "outputs": [
        {
          "output_type": "execute_result",
          "data": {
            "text/plain": [
              "<module 'traits' from '/content/gdrive/My Drive/github/covid_households/traits.py'>"
            ]
          },
          "metadata": {
            "tags": []
          },
          "execution_count": 90
        }
      ]
    },
    {
      "cell_type": "markdown",
      "metadata": {
        "id": "fepe3oDXFNYl"
      },
      "source": [
        "# Experiments"
      ]
    },
    {
      "cell_type": "markdown",
      "metadata": {
        "id": "RspxOd30sKa3"
      },
      "source": [
        "## Trait configuration + baseline"
      ]
    },
    {
      "cell_type": "code",
      "metadata": {
        "id": "tUKLZlv8ruVb"
      },
      "source": [
        "# Gamma distributed traits\n",
        "\n",
        "baseline_sus = traits.GammaTrait(\"susceptibility\", mean=1.0, variance=0.0)\n",
        "baseline_inf = traits.GammaTrait(\"infectivity\", mean=1.0, variance=0.8)\n",
        "\n",
        "#sus.plot()\n",
        "#inf.plot()"
      ],
      "execution_count": 9,
      "outputs": []
    },
    {
      "cell_type": "code",
      "metadata": {
        "id": "Lw0BM-CD6T7F"
      },
      "source": [
        "# model parameters\n",
        "#def __init__(name, state_length_dist=state_length_sampler, inf_dist=np.ones, sus_dist=np.ones, initial_seeding=utilities.seed_one_by_susceptibility, household_beta=0, importation_rate=0, duration=0, vaccine=None, vaccination_method=None)\n",
        "\n",
        "baseline_hsar = 0.25\n",
        "household_sizes = {6:25000}\n",
        "\n",
        "duration = 90\n",
        "cumulative_import_prob = 0.10\n",
        "importation_rate = utilities.importation_rate_from_cumulative_prob(cumulative_import_prob, duration)\n",
        "\n",
        "baseline_model = population.Model(\"baseline\", inf_dist=baseline_inf, importation_rate=importation_rate, duration=duration, sus_dist=baseline_sus, household_beta=utilities.household_beta_from_hsar(baseline_hsar))\n",
        "baseline_population = population.Population(baseline_model, household_sizes)"
      ],
      "execution_count": 10,
      "outputs": []
    },
    {
      "cell_type": "code",
      "metadata": {
        "colab": {
          "base_uri": "https://localhost:8080/",
          "height": 685
        },
        "id": "eIAIK-xpDAoy",
        "outputId": "3c916cba-b00b-4a47-edf3-aa362bcbde76"
      },
      "source": [
        "baseline_population.df[\"infections\"] = baseline_population.simulate_population()\n",
        "baseline_df = baseline_population.df\n",
        "baseline_df[\"sus_var\"] = baseline_sus.variance\n",
        "baseline_df[\"inf_var\"] = baseline_inf.variance\n",
        "baseline_df[\"hsar\"] = baseline_hsar\n",
        "utilities.make_bar_chart(baseline_df)\n",
        "print(baseline_model)"
      ],
      "execution_count": 11,
      "outputs": [
        {
          "output_type": "stream",
          "text": [
            "WARNING: importation rate > 0 while initial infections were seeded. Did you intend this?\n",
            "Model named baseline with:\n",
            "\thousehold_beta     = 0.043\n",
            "\tseeding            = <function seed_one_by_susceptibility at 0x7f274425b200>\n",
            "\tduration           = 90\n",
            "\timportation rate   = 0.001\n",
            "\tsusceptibility     = Gamma distributed trait named susceptibility with mean 1.00 and variance 0.00\n",
            "\tinfectiousness     = Gamma distributed trait named infectivity with mean 1.00 and variance 0.80\n",
            "\n"
          ],
          "name": "stdout"
        },
        {
          "output_type": "display_data",
          "data": {
            "image/png": "[encoded data removed]",
            "text/plain": [
              "<Figure size 576x576 with 1 Axes>"
            ]
          },
          "metadata": {
            "tags": [],
            "needs_background": "light"
          }
        }
      ]
    },
    {
      "cell_type": "code",
      "metadata": {
        "id": "aHDzHkaKHmQ-"
      },
      "source": [
        "def make_comparison_df(sus_var, inf_var, hsar):\n",
        "    household_sizes = {size:25000 for size in set(baseline_population.df[\"size\"])} # 10000 at each unique size in the baseline population\n",
        "    _sus_dist = traits.GammaTrait(\"susceptibility\", mean=1.0, variance=sus_var)\n",
        "    _inf_dist = traits.GammaTrait(\"susceptibility\", mean=1.0, variance=inf_var)\n",
        "    comparison_model = population.Model(\"comparison model\", inf_dist=_inf_dist, sus_dist=_sus_dist, importation_rate=importation_rate, duration=duration, household_beta=utilities.household_beta_from_hsar(hsar))\n",
        "    comparison_pop = population.Population(comparison_model, household_sizes)\n",
        "    comparison_pop.df[\"infections\"] = comparison_pop.simulate_population()\n",
        "    return comparison_pop.df"
      ],
      "execution_count": 12,
      "outputs": []
    },
    {
      "cell_type": "code",
      "metadata": {
        "id": "EQp_Wj6aDjXX"
      },
      "source": [
        "sus_var_axis = np.linspace(0.0, 1.4, 15)\n",
        "inf_var_axis = np.linspace(0.0, 1.4, 15)\n",
        "hsar_axis = np.linspace(0.15, 0.35, 21)\n",
        "\n",
        "axes_by_keys = {\"sus_var\": sus_var_axis, \"inf_var\":inf_var_axis, \"hsar\":hsar_axis}\n",
        "\n",
        "#s_axis_strs = [\"{:.2f}\".format(s) for s in sus_var_axis]\n",
        "#i_axis_strs = [\"{:.2f}\".format(i) for i in inf_var_axis]\n",
        "#h_axis_strs = [\"{:.2f}\".format(h) for h in hsar_axis]"
      ],
      "execution_count": 13,
      "outputs": []
    },
    {
      "cell_type": "markdown",
      "metadata": {
        "id": "eYw5BfC24vCB"
      },
      "source": [
        "## Grids"
      ]
    },
    {
      "cell_type": "code",
      "metadata": {
        "id": "ODC-9PQOHjik"
      },
      "source": [
        "def run_grid(key1, key2):\n",
        "    arguments = {\"sus_var\":baseline_sus.variance, \"inf_var\":baseline_inf.variance, \"hsar\":baseline_hsar}\n",
        "\n",
        "    comparison_dfs = []\n",
        "    for y in axes_by_keys[key1]:\n",
        "        for x in axes_by_keys[key2]:\n",
        "            arguments[key1] = y\n",
        "            arguments[key2] = x\n",
        "            comparison = make_comparison_df(**arguments)\n",
        "\n",
        "            for k,v in arguments.items():\n",
        "                comparison[k] = np.float(\"{0:.2f}\".format(v))\n",
        "\n",
        "            comparison_dfs.append(comparison)\n",
        "\n",
        "    full_comparison_df = pd.concat(comparison_dfs)\n",
        "    return full_comparison_df"
      ],
      "execution_count": 14,
      "outputs": []
    },
    {
      "cell_type": "code",
      "metadata": {
        "id": "uo-jiCz85IeK"
      },
      "source": [
        "# \n",
        "\n",
        "key1 = \"sus_var\"\n",
        "key2 = \"hsar\"\n",
        "name = \"{}-{}-{}-{:.1f}importation\".format(key1, key2, baseline_model.seeding.name, baseline_model.importation_rate)\n",
        "date_str = datetime.datetime.now().strftime(\"%m-%d-%H:%M\")\n",
        "directory_name = \"{}-{}\".format(name, date_str)\n",
        "\n",
        "full_comparison_df = run_grid(key1, key2)\n",
        "print(full_comparison_df)\n",
        "\n",
        "!mkdir ./experiments/{directory_name}\n",
        "full_comparison_df.to_hdf('./experiments/{0}/comparison_df.hdf'.format(directory_name), key='full_comparison_df', mode='w')\n",
        "baseline_df.to_hdf('./experiments/{0}/baseline_df.hdf'.format(directory_name), key='baseline_df', mode='w')\n",
        "with open('./experiments/{0}/baseline_model.pickle'.format(directory_name), 'wb') as handle:\n",
        "    pickle.dump(baseline_model, handle)"
      ],
      "execution_count": null,
      "outputs": []
    },
    {
      "cell_type": "code",
      "metadata": {
        "id": "jq49DTuqYJwV"
      },
      "source": [
        "with open('./experiments/{0}/baseline_model.pickle'.format(directory_name), 'wb') as handle:\n",
        "    dill.dump(baseline_model, handle)"
      ],
      "execution_count": 20,
      "outputs": []
    },
    {
      "cell_type": "code",
      "metadata": {
        "id": "IWP_GeXGYHKk"
      },
      "source": [
        "# SUS X HSAR\n",
        "comparison_dfs = []\n",
        "\n",
        "for sus_var in sus_var_axis:\n",
        "    for hsar in hsar_axis:\n",
        "        comparison = make_comparison_df(sus_var, inf.variance, hsar)\n",
        "        comparison[\"sus_var\"] = sus_var\n",
        "        comparison[\"hsar\"] = hsar\n",
        "        comparison_dfs.append(comparison)\n",
        "        #logl = likelihood.log_likelihood([\"size\", \"infections\"], baseline_df, comparison)\n",
        "\n",
        "full_comparison_df = pd.concat(comparison_dfs)\n",
        "full_comparison_df"
      ],
      "execution_count": null,
      "outputs": []
    },
    {
      "cell_type": "code",
      "metadata": {
        "colab": {
          "base_uri": "https://localhost:8080/",
          "height": 424
        },
        "id": "_vAtmf626Np5",
        "outputId": "56d54c6e-1b01-44a5-9075-e8402f9fe79b"
      },
      "source": [
        "# INF X HSAR\n",
        "comparison_dfs = []\n",
        "\n",
        "for inf_var in inf_var_axis:\n",
        "    for hsar in hsar_axis:\n",
        "        comparison = make_comparison_df(sus.variance, inf_var, hsar)\n",
        "        comparison[\"inf_var\"] = inf_var\n",
        "        comparison[\"hsar\"] = hsar\n",
        "        comparison_dfs.append(comparison)\n",
        "        #logl = likelihood.log_likelihood([\"size\", \"infections\"], baseline_df, comparison)\n",
        "\n",
        "full_comparison_df = pd.concat(comparison_dfs)\n",
        "full_comparison_df"
      ],
      "execution_count": null,
      "outputs": [
        {
          "output_type": "execute_result",
          "data": {
            "text/html": [
              "<div>\n",
              "<style scoped>\n",
              "    .dataframe tbody tr th:only-of-type {\n",
              "        vertical-align: middle;\n",
              "    }\n",
              "\n",
              "    .dataframe tbody tr th {\n",
              "        vertical-align: top;\n",
              "    }\n",
              "\n",
              "    .dataframe thead th {\n",
              "        text-align: right;\n",
              "    }\n",
              "</style>\n",
              "<table border=\"1\" class=\"dataframe\">\n",
              "  <thead>\n",
              "    <tr style=\"text-align: right;\">\n",
              "      <th></th>\n",
              "      <th>size</th>\n",
              "      <th>model</th>\n",
              "      <th>infections</th>\n",
              "      <th>inf_var</th>\n",
              "      <th>hsar</th>\n",
              "    </tr>\n",
              "  </thead>\n",
              "  <tbody>\n",
              "    <tr>\n",
              "      <th>0</th>\n",
              "      <td>6</td>\n",
              "      <td>comparison model</td>\n",
              "      <td>1</td>\n",
              "      <td>0.0</td>\n",
              "      <td>0.1</td>\n",
              "    </tr>\n",
              "    <tr>\n",
              "      <th>1</th>\n",
              "      <td>6</td>\n",
              "      <td>comparison model</td>\n",
              "      <td>1</td>\n",
              "      <td>0.0</td>\n",
              "      <td>0.1</td>\n",
              "    </tr>\n",
              "    <tr>\n",
              "      <th>2</th>\n",
              "      <td>6</td>\n",
              "      <td>comparison model</td>\n",
              "      <td>1</td>\n",
              "      <td>0.0</td>\n",
              "      <td>0.1</td>\n",
              "    </tr>\n",
              "    <tr>\n",
              "      <th>3</th>\n",
              "      <td>6</td>\n",
              "      <td>comparison model</td>\n",
              "      <td>1</td>\n",
              "      <td>0.0</td>\n",
              "      <td>0.1</td>\n",
              "    </tr>\n",
              "    <tr>\n",
              "      <th>4</th>\n",
              "      <td>6</td>\n",
              "      <td>comparison model</td>\n",
              "      <td>2</td>\n",
              "      <td>0.0</td>\n",
              "      <td>0.1</td>\n",
              "    </tr>\n",
              "    <tr>\n",
              "      <th>...</th>\n",
              "      <td>...</td>\n",
              "      <td>...</td>\n",
              "      <td>...</td>\n",
              "      <td>...</td>\n",
              "      <td>...</td>\n",
              "    </tr>\n",
              "    <tr>\n",
              "      <th>24995</th>\n",
              "      <td>6</td>\n",
              "      <td>comparison model</td>\n",
              "      <td>1</td>\n",
              "      <td>1.4</td>\n",
              "      <td>0.3</td>\n",
              "    </tr>\n",
              "    <tr>\n",
              "      <th>24996</th>\n",
              "      <td>6</td>\n",
              "      <td>comparison model</td>\n",
              "      <td>3</td>\n",
              "      <td>1.4</td>\n",
              "      <td>0.3</td>\n",
              "    </tr>\n",
              "    <tr>\n",
              "      <th>24997</th>\n",
              "      <td>6</td>\n",
              "      <td>comparison model</td>\n",
              "      <td>1</td>\n",
              "      <td>1.4</td>\n",
              "      <td>0.3</td>\n",
              "    </tr>\n",
              "    <tr>\n",
              "      <th>24998</th>\n",
              "      <td>6</td>\n",
              "      <td>comparison model</td>\n",
              "      <td>5</td>\n",
              "      <td>1.4</td>\n",
              "      <td>0.3</td>\n",
              "    </tr>\n",
              "    <tr>\n",
              "      <th>24999</th>\n",
              "      <td>6</td>\n",
              "      <td>comparison model</td>\n",
              "      <td>1</td>\n",
              "      <td>1.4</td>\n",
              "      <td>0.3</td>\n",
              "    </tr>\n",
              "  </tbody>\n",
              "</table>\n",
              "<p>7875000 rows × 5 columns</p>\n",
              "</div>"
            ],
            "text/plain": [
              "       size             model  infections  inf_var  hsar\n",
              "0         6  comparison model           1      0.0   0.1\n",
              "1         6  comparison model           1      0.0   0.1\n",
              "2         6  comparison model           1      0.0   0.1\n",
              "3         6  comparison model           1      0.0   0.1\n",
              "4         6  comparison model           2      0.0   0.1\n",
              "...     ...               ...         ...      ...   ...\n",
              "24995     6  comparison model           1      1.4   0.3\n",
              "24996     6  comparison model           3      1.4   0.3\n",
              "24997     6  comparison model           1      1.4   0.3\n",
              "24998     6  comparison model           5      1.4   0.3\n",
              "24999     6  comparison model           1      1.4   0.3\n",
              "\n",
              "[7875000 rows x 5 columns]"
            ]
          },
          "metadata": {
            "tags": []
          },
          "execution_count": 57
        }
      ]
    },
    {
      "cell_type": "code",
      "metadata": {
        "id": "v8UgdSXFbGMZ"
      },
      "source": [
        ""
      ],
      "execution_count": null,
      "outputs": []
    },
    {
      "cell_type": "code",
      "metadata": {
        "id": "nbbYcQP4n_xh"
      },
      "source": [
        "# SUS X INF\n",
        "\n",
        "X,Y = np.meshgrid(sus_var_axis, inf_var_axis)\n",
        "f = lambda sus, inf: likelihood.log_likelihood([\"size\", \"infections\"], baseline_df, make_comparison_df(sus, inf, hsar))\n",
        "Z = np.fromiter(map(f, X.ravel(), Y.ravel()), X.dtype).reshape(X.shape)"
      ],
      "execution_count": null,
      "outputs": []
    },
    {
      "cell_type": "code",
      "metadata": {
        "colab": {
          "base_uri": "https://localhost:8080/",
          "height": 481
        },
        "id": "1GlI2Gt7KJiA",
        "outputId": "372e5d52-09a8-4bda-a6e9-f652a80bbd43"
      },
      "source": [
        "print(baseline_model)\n",
        "print(\"baseline sizes:\", household_sizes)\n",
        "sns.heatmap(Z, xticklabels=s_axis_strs, yticklabels=i_axis_strs)\n",
        "plt.title(\"Loglikelihood of observing baseline given guessed parameters at hsar={}\".format(hsar))\n",
        "plt.xlabel(\"guess for susceptibility variance\")\n",
        "plt.ylabel(\"guess for infectivity variance\")"
      ],
      "execution_count": null,
      "outputs": [
        {
          "output_type": "stream",
          "text": [
            "Model named baseline model with:\n",
            "\thousehold_beta     = 0.024\n",
            "\tseeding            = <function seed_one_by_susceptibility at 0x7f804f6ec710>\n",
            "\tduration           = 0\n",
            "\timportation rate   = 0.000\n",
            "\tsusceptibility     = Gamma distributed trait named susceptibility with mean 1.00 and variance 0.80\n",
            "\tinfectiousness     = Gamma distributed trait named infectivity with mean 1.00 and variance 0.00\n",
            "\n",
            "baseline sizes: {6: 500}\n"
          ],
          "name": "stdout"
        },
        {
          "output_type": "execute_result",
          "data": {
            "text/plain": [
              "Text(33.0, 0.5, 'guess for infectivity variance')"
            ]
          },
          "metadata": {
            "tags": []
          },
          "execution_count": 34
        },
        {
          "output_type": "display_data",
          "data": {
            "image/png": "[encoded data removed]",
            "text/plain": [
              "<Figure size 432x288 with 2 Axes>"
            ]
          },
          "metadata": {
            "tags": [],
            "needs_background": "light"
          }
        }
      ]
    },
    {
      "cell_type": "code",
      "metadata": {
        "id": "VBJf1xODoEtW",
        "colab": {
          "base_uri": "https://localhost:8080/",
          "height": 481
        },
        "outputId": "e44beaa1-4cf3-4250-e415-3fe1ea8f6784"
      },
      "source": [
        "# SUS X HSAR\n",
        "\n",
        "X,Y = np.meshgrid(sus_var_axis, hsar_axis)\n",
        "f = lambda sus, hsar: likelihood.log_likelihood([\"size\", \"infections\"], baseline_df, make_comparison_df(sus, inf.variance, hsar))\n",
        "Z = np.fromiter(map(f, X.ravel(), Y.ravel()), X.dtype).reshape(X.shape)\n",
        "\n",
        "print(baseline_model)\n",
        "print(\"baseline sizes:\", household_sizes)\n",
        "sns.heatmap(Z, xticklabels=s_axis_strs, yticklabels=h_axis_strs)\n",
        "plt.title(\"Loglikelihood of observing baseline given guessed parameters at infectivity variance={}\".format(inf.variance))\n",
        "plt.xlabel(\"guess for susceptibility variance\")\n",
        "plt.ylabel(\"guess for hsar\")"
      ],
      "execution_count": null,
      "outputs": [
        {
          "output_type": "stream",
          "text": [
            "Model named baseline model with:\n",
            "\thousehold_beta     = 0.024\n",
            "\tseeding            = <function seed_one_by_susceptibility at 0x7f804f6ec710>\n",
            "\tduration           = 0\n",
            "\timportation rate   = 0.000\n",
            "\tsusceptibility     = Gamma distributed trait named susceptibility with mean 1.00 and variance 0.80\n",
            "\tinfectiousness     = Gamma distributed trait named infectivity with mean 1.00 and variance 0.00\n",
            "\n",
            "baseline sizes: {6: 500}\n"
          ],
          "name": "stdout"
        },
        {
          "output_type": "execute_result",
          "data": {
            "text/plain": [
              "Text(33.0, 0.5, 'guess for hsar')"
            ]
          },
          "metadata": {
            "tags": []
          },
          "execution_count": 35
        },
        {
          "output_type": "display_data",
          "data": {
            "image/png": "[encoded data removed]",
            "text/plain": [
              "<Figure size 432x288 with 2 Axes>"
            ]
          },
          "metadata": {
            "tags": [],
            "needs_background": "light"
          }
        }
      ]
    },
    {
      "cell_type": "code",
      "metadata": {
        "id": "PGDKvUHMuRf1"
      },
      "source": [
        "# HSAR X INF\n",
        "\n",
        "X,Y = np.meshgrid(hsar_axis, inf_var_axis)\n",
        "f = lambda hsar, inf: likelihood.log_likelihood([\"size\", \"infections\"], baseline_df, make_comparison_df(sus.mean, inf, hsar))\n",
        "Z = np.fromiter(map(f, X.ravel(), Y.ravel()), X.dtype).reshape(X.shape)"
      ],
      "execution_count": null,
      "outputs": []
    },
    {
      "cell_type": "code",
      "metadata": {
        "colab": {
          "base_uri": "https://localhost:8080/"
        },
        "id": "zLr0r8pSK1fM",
        "outputId": "95e7e6d5-5f8f-4541-abf0-2d160121fcd5"
      },
      "source": [
        "%matplotlib --list"
      ],
      "execution_count": null,
      "outputs": [
        {
          "output_type": "stream",
          "text": [
            "Available matplotlib backends: ['tk', 'gtk', 'gtk3', 'wx', 'qt4', 'qt5', 'qt', 'osx', 'nbagg', 'notebook', 'agg', 'inline', 'ipympl', 'widget']\n"
          ],
          "name": "stdout"
        }
      ]
    },
    {
      "cell_type": "code",
      "metadata": {
        "colab": {
          "base_uri": "https://localhost:8080/",
          "height": 468
        },
        "id": "0KmSysxI3wGD",
        "outputId": "91ddc606-f017-4bd8-8cd0-4af809a0733e"
      },
      "source": [
        "#%matplotlib widget\n",
        "print(baseline_model)\n",
        "print(\"baseline sizes:\", household_sizes)\n",
        "sns.heatmap(Z, xticklabels=h_axis_strs, yticklabels=i_axis_strs)\n",
        "plt.title(\"Loglikelihood of observing baseline given guessed parameters at susceptibility variance={}\".format(sus.variance))\n",
        "plt.ylabel(\"guess for infectivity variance\")\n",
        "plt.xlabel(\"guess for hsar\")"
      ],
      "execution_count": null,
      "outputs": [
        {
          "output_type": "error",
          "ename": "ModuleNotFoundError",
          "evalue": "ignored",
          "traceback": [
            "\u001b[0;31m---------------------------------------------------------------------------\u001b[0m",
            "\u001b[0;31mModuleNotFoundError\u001b[0m                       Traceback (most recent call last)",
            "\u001b[0;32m<ipython-input-38-154bd9888aa3>\u001b[0m in \u001b[0;36m<module>\u001b[0;34m()\u001b[0m\n\u001b[0;32m----> 1\u001b[0;31m \u001b[0mget_ipython\u001b[0m\u001b[0;34m(\u001b[0m\u001b[0;34m)\u001b[0m\u001b[0;34m.\u001b[0m\u001b[0mmagic\u001b[0m\u001b[0;34m(\u001b[0m\u001b[0;34m'matplotlib widget'\u001b[0m\u001b[0;34m)\u001b[0m\u001b[0;34m\u001b[0m\u001b[0;34m\u001b[0m\u001b[0m\n\u001b[0m\u001b[1;32m      2\u001b[0m \u001b[0mprint\u001b[0m\u001b[0;34m(\u001b[0m\u001b[0mbaseline_model\u001b[0m\u001b[0;34m)\u001b[0m\u001b[0;34m\u001b[0m\u001b[0;34m\u001b[0m\u001b[0m\n\u001b[1;32m      3\u001b[0m \u001b[0mprint\u001b[0m\u001b[0;34m(\u001b[0m\u001b[0;34m\"baseline sizes:\"\u001b[0m\u001b[0;34m,\u001b[0m \u001b[0mhousehold_sizes\u001b[0m\u001b[0;34m)\u001b[0m\u001b[0;34m\u001b[0m\u001b[0;34m\u001b[0m\u001b[0m\n\u001b[1;32m      4\u001b[0m \u001b[0msns\u001b[0m\u001b[0;34m.\u001b[0m\u001b[0mheatmap\u001b[0m\u001b[0;34m(\u001b[0m\u001b[0mZ\u001b[0m\u001b[0;34m,\u001b[0m \u001b[0mxticklabels\u001b[0m\u001b[0;34m=\u001b[0m\u001b[0mh_axis_strs\u001b[0m\u001b[0;34m,\u001b[0m \u001b[0myticklabels\u001b[0m\u001b[0;34m=\u001b[0m\u001b[0mi_axis_strs\u001b[0m\u001b[0;34m)\u001b[0m\u001b[0;34m\u001b[0m\u001b[0;34m\u001b[0m\u001b[0m\n\u001b[1;32m      5\u001b[0m \u001b[0mplt\u001b[0m\u001b[0;34m.\u001b[0m\u001b[0mtitle\u001b[0m\u001b[0;34m(\u001b[0m\u001b[0;34m\"Loglikelihood of observing baseline given guessed parameters at susceptibility variance={}\"\u001b[0m\u001b[0;34m.\u001b[0m\u001b[0mformat\u001b[0m\u001b[0;34m(\u001b[0m\u001b[0msus\u001b[0m\u001b[0;34m.\u001b[0m\u001b[0mvariance\u001b[0m\u001b[0;34m)\u001b[0m\u001b[0;34m)\u001b[0m\u001b[0;34m\u001b[0m\u001b[0;34m\u001b[0m\u001b[0m\n",
            "\u001b[0;32m/usr/local/lib/python3.7/dist-packages/IPython/core/interactiveshell.py\u001b[0m in \u001b[0;36mmagic\u001b[0;34m(self, arg_s)\u001b[0m\n\u001b[1;32m   2158\u001b[0m         \u001b[0mmagic_name\u001b[0m\u001b[0;34m,\u001b[0m \u001b[0m_\u001b[0m\u001b[0;34m,\u001b[0m \u001b[0mmagic_arg_s\u001b[0m \u001b[0;34m=\u001b[0m \u001b[0marg_s\u001b[0m\u001b[0;34m.\u001b[0m\u001b[0mpartition\u001b[0m\u001b[0;34m(\u001b[0m\u001b[0;34m' '\u001b[0m\u001b[0;34m)\u001b[0m\u001b[0;34m\u001b[0m\u001b[0;34m\u001b[0m\u001b[0m\n\u001b[1;32m   2159\u001b[0m         \u001b[0mmagic_name\u001b[0m \u001b[0;34m=\u001b[0m \u001b[0mmagic_name\u001b[0m\u001b[0;34m.\u001b[0m\u001b[0mlstrip\u001b[0m\u001b[0;34m(\u001b[0m\u001b[0mprefilter\u001b[0m\u001b[0;34m.\u001b[0m\u001b[0mESC_MAGIC\u001b[0m\u001b[0;34m)\u001b[0m\u001b[0;34m\u001b[0m\u001b[0;34m\u001b[0m\u001b[0m\n\u001b[0;32m-> 2160\u001b[0;31m         \u001b[0;32mreturn\u001b[0m \u001b[0mself\u001b[0m\u001b[0;34m.\u001b[0m\u001b[0mrun_line_magic\u001b[0m\u001b[0;34m(\u001b[0m\u001b[0mmagic_name\u001b[0m\u001b[0;34m,\u001b[0m \u001b[0mmagic_arg_s\u001b[0m\u001b[0;34m)\u001b[0m\u001b[0;34m\u001b[0m\u001b[0;34m\u001b[0m\u001b[0m\n\u001b[0m\u001b[1;32m   2161\u001b[0m \u001b[0;34m\u001b[0m\u001b[0m\n\u001b[1;32m   2162\u001b[0m     \u001b[0;31m#-------------------------------------------------------------------------\u001b[0m\u001b[0;34m\u001b[0m\u001b[0;34m\u001b[0m\u001b[0;34m\u001b[0m\u001b[0m\n",
            "\u001b[0;32m/usr/local/lib/python3.7/dist-packages/IPython/core/interactiveshell.py\u001b[0m in \u001b[0;36mrun_line_magic\u001b[0;34m(self, magic_name, line)\u001b[0m\n\u001b[1;32m   2079\u001b[0m                 \u001b[0mkwargs\u001b[0m\u001b[0;34m[\u001b[0m\u001b[0;34m'local_ns'\u001b[0m\u001b[0;34m]\u001b[0m \u001b[0;34m=\u001b[0m \u001b[0msys\u001b[0m\u001b[0;34m.\u001b[0m\u001b[0m_getframe\u001b[0m\u001b[0;34m(\u001b[0m\u001b[0mstack_depth\u001b[0m\u001b[0;34m)\u001b[0m\u001b[0;34m.\u001b[0m\u001b[0mf_locals\u001b[0m\u001b[0;34m\u001b[0m\u001b[0;34m\u001b[0m\u001b[0m\n\u001b[1;32m   2080\u001b[0m             \u001b[0;32mwith\u001b[0m \u001b[0mself\u001b[0m\u001b[0;34m.\u001b[0m\u001b[0mbuiltin_trap\u001b[0m\u001b[0;34m:\u001b[0m\u001b[0;34m\u001b[0m\u001b[0;34m\u001b[0m\u001b[0m\n\u001b[0;32m-> 2081\u001b[0;31m                 \u001b[0mresult\u001b[0m \u001b[0;34m=\u001b[0m \u001b[0mfn\u001b[0m\u001b[0;34m(\u001b[0m\u001b[0;34m*\u001b[0m\u001b[0margs\u001b[0m\u001b[0;34m,\u001b[0m\u001b[0;34m**\u001b[0m\u001b[0mkwargs\u001b[0m\u001b[0;34m)\u001b[0m\u001b[0;34m\u001b[0m\u001b[0;34m\u001b[0m\u001b[0m\n\u001b[0m\u001b[1;32m   2082\u001b[0m             \u001b[0;32mreturn\u001b[0m \u001b[0mresult\u001b[0m\u001b[0;34m\u001b[0m\u001b[0;34m\u001b[0m\u001b[0m\n\u001b[1;32m   2083\u001b[0m \u001b[0;34m\u001b[0m\u001b[0m\n",
            "\u001b[0;32m<decorator-gen-98>\u001b[0m in \u001b[0;36mmatplotlib\u001b[0;34m(self, line)\u001b[0m\n",
            "\u001b[0;32m/usr/local/lib/python3.7/dist-packages/IPython/core/magic.py\u001b[0m in \u001b[0;36m<lambda>\u001b[0;34m(f, *a, **k)\u001b[0m\n\u001b[1;32m    186\u001b[0m     \u001b[0;31m# but it's overkill for just that one bit of state.\u001b[0m\u001b[0;34m\u001b[0m\u001b[0;34m\u001b[0m\u001b[0;34m\u001b[0m\u001b[0m\n\u001b[1;32m    187\u001b[0m     \u001b[0;32mdef\u001b[0m \u001b[0mmagic_deco\u001b[0m\u001b[0;34m(\u001b[0m\u001b[0marg\u001b[0m\u001b[0;34m)\u001b[0m\u001b[0;34m:\u001b[0m\u001b[0;34m\u001b[0m\u001b[0;34m\u001b[0m\u001b[0m\n\u001b[0;32m--> 188\u001b[0;31m         \u001b[0mcall\u001b[0m \u001b[0;34m=\u001b[0m \u001b[0;32mlambda\u001b[0m \u001b[0mf\u001b[0m\u001b[0;34m,\u001b[0m \u001b[0;34m*\u001b[0m\u001b[0ma\u001b[0m\u001b[0;34m,\u001b[0m \u001b[0;34m**\u001b[0m\u001b[0mk\u001b[0m\u001b[0;34m:\u001b[0m \u001b[0mf\u001b[0m\u001b[0;34m(\u001b[0m\u001b[0;34m*\u001b[0m\u001b[0ma\u001b[0m\u001b[0;34m,\u001b[0m \u001b[0;34m**\u001b[0m\u001b[0mk\u001b[0m\u001b[0;34m)\u001b[0m\u001b[0;34m\u001b[0m\u001b[0;34m\u001b[0m\u001b[0m\n\u001b[0m\u001b[1;32m    189\u001b[0m \u001b[0;34m\u001b[0m\u001b[0m\n\u001b[1;32m    190\u001b[0m         \u001b[0;32mif\u001b[0m \u001b[0mcallable\u001b[0m\u001b[0;34m(\u001b[0m\u001b[0marg\u001b[0m\u001b[0;34m)\u001b[0m\u001b[0;34m:\u001b[0m\u001b[0;34m\u001b[0m\u001b[0;34m\u001b[0m\u001b[0m\n",
            "\u001b[0;32m/usr/local/lib/python3.7/dist-packages/IPython/core/magics/pylab.py\u001b[0m in \u001b[0;36mmatplotlib\u001b[0;34m(self, line)\u001b[0m\n\u001b[1;32m     98\u001b[0m             \u001b[0mprint\u001b[0m\u001b[0;34m(\u001b[0m\u001b[0;34m\"Available matplotlib backends: %s\"\u001b[0m \u001b[0;34m%\u001b[0m \u001b[0mbackends_list\u001b[0m\u001b[0;34m)\u001b[0m\u001b[0;34m\u001b[0m\u001b[0;34m\u001b[0m\u001b[0m\n\u001b[1;32m     99\u001b[0m         \u001b[0;32melse\u001b[0m\u001b[0;34m:\u001b[0m\u001b[0;34m\u001b[0m\u001b[0;34m\u001b[0m\u001b[0m\n\u001b[0;32m--> 100\u001b[0;31m             \u001b[0mgui\u001b[0m\u001b[0;34m,\u001b[0m \u001b[0mbackend\u001b[0m \u001b[0;34m=\u001b[0m \u001b[0mself\u001b[0m\u001b[0;34m.\u001b[0m\u001b[0mshell\u001b[0m\u001b[0;34m.\u001b[0m\u001b[0menable_matplotlib\u001b[0m\u001b[0;34m(\u001b[0m\u001b[0margs\u001b[0m\u001b[0;34m.\u001b[0m\u001b[0mgui\u001b[0m\u001b[0;34m)\u001b[0m\u001b[0;34m\u001b[0m\u001b[0;34m\u001b[0m\u001b[0m\n\u001b[0m\u001b[1;32m    101\u001b[0m             \u001b[0mself\u001b[0m\u001b[0;34m.\u001b[0m\u001b[0m_show_matplotlib_backend\u001b[0m\u001b[0;34m(\u001b[0m\u001b[0margs\u001b[0m\u001b[0;34m.\u001b[0m\u001b[0mgui\u001b[0m\u001b[0;34m,\u001b[0m \u001b[0mbackend\u001b[0m\u001b[0;34m)\u001b[0m\u001b[0;34m\u001b[0m\u001b[0;34m\u001b[0m\u001b[0m\n\u001b[1;32m    102\u001b[0m \u001b[0;34m\u001b[0m\u001b[0m\n",
            "\u001b[0;32m/usr/local/lib/python3.7/dist-packages/IPython/core/interactiveshell.py\u001b[0m in \u001b[0;36menable_matplotlib\u001b[0;34m(self, gui)\u001b[0m\n\u001b[1;32m   2948\u001b[0m                 \u001b[0mgui\u001b[0m\u001b[0;34m,\u001b[0m \u001b[0mbackend\u001b[0m \u001b[0;34m=\u001b[0m \u001b[0mpt\u001b[0m\u001b[0;34m.\u001b[0m\u001b[0mfind_gui_and_backend\u001b[0m\u001b[0;34m(\u001b[0m\u001b[0mself\u001b[0m\u001b[0;34m.\u001b[0m\u001b[0mpylab_gui_select\u001b[0m\u001b[0;34m)\u001b[0m\u001b[0;34m\u001b[0m\u001b[0;34m\u001b[0m\u001b[0m\n\u001b[1;32m   2949\u001b[0m \u001b[0;34m\u001b[0m\u001b[0m\n\u001b[0;32m-> 2950\u001b[0;31m         \u001b[0mpt\u001b[0m\u001b[0;34m.\u001b[0m\u001b[0mactivate_matplotlib\u001b[0m\u001b[0;34m(\u001b[0m\u001b[0mbackend\u001b[0m\u001b[0;34m)\u001b[0m\u001b[0;34m\u001b[0m\u001b[0;34m\u001b[0m\u001b[0m\n\u001b[0m\u001b[1;32m   2951\u001b[0m         \u001b[0mpt\u001b[0m\u001b[0;34m.\u001b[0m\u001b[0mconfigure_inline_support\u001b[0m\u001b[0;34m(\u001b[0m\u001b[0mself\u001b[0m\u001b[0;34m,\u001b[0m \u001b[0mbackend\u001b[0m\u001b[0;34m)\u001b[0m\u001b[0;34m\u001b[0m\u001b[0;34m\u001b[0m\u001b[0m\n\u001b[1;32m   2952\u001b[0m \u001b[0;34m\u001b[0m\u001b[0m\n",
            "\u001b[0;32m/usr/local/lib/python3.7/dist-packages/IPython/core/pylabtools.py\u001b[0m in \u001b[0;36mactivate_matplotlib\u001b[0;34m(backend)\u001b[0m\n\u001b[1;32m    307\u001b[0m \u001b[0;34m\u001b[0m\u001b[0m\n\u001b[1;32m    308\u001b[0m     \u001b[0;32mimport\u001b[0m \u001b[0mmatplotlib\u001b[0m\u001b[0;34m.\u001b[0m\u001b[0mpyplot\u001b[0m\u001b[0;34m\u001b[0m\u001b[0;34m\u001b[0m\u001b[0m\n\u001b[0;32m--> 309\u001b[0;31m     \u001b[0mmatplotlib\u001b[0m\u001b[0;34m.\u001b[0m\u001b[0mpyplot\u001b[0m\u001b[0;34m.\u001b[0m\u001b[0mswitch_backend\u001b[0m\u001b[0;34m(\u001b[0m\u001b[0mbackend\u001b[0m\u001b[0;34m)\u001b[0m\u001b[0;34m\u001b[0m\u001b[0;34m\u001b[0m\u001b[0m\n\u001b[0m\u001b[1;32m    310\u001b[0m \u001b[0;34m\u001b[0m\u001b[0m\n\u001b[1;32m    311\u001b[0m     \u001b[0;31m# This must be imported last in the matplotlib series, after\u001b[0m\u001b[0;34m\u001b[0m\u001b[0;34m\u001b[0m\u001b[0;34m\u001b[0m\u001b[0m\n",
            "\u001b[0;32m/usr/local/lib/python3.7/dist-packages/matplotlib/pyplot.py\u001b[0m in \u001b[0;36mswitch_backend\u001b[0;34m(newbackend)\u001b[0m\n\u001b[1;32m    219\u001b[0m         else \"matplotlib.backends.backend_{}\".format(newbackend.lower()))\n\u001b[1;32m    220\u001b[0m \u001b[0;34m\u001b[0m\u001b[0m\n\u001b[0;32m--> 221\u001b[0;31m     \u001b[0mbackend_mod\u001b[0m \u001b[0;34m=\u001b[0m \u001b[0mimportlib\u001b[0m\u001b[0;34m.\u001b[0m\u001b[0mimport_module\u001b[0m\u001b[0;34m(\u001b[0m\u001b[0mbackend_name\u001b[0m\u001b[0;34m)\u001b[0m\u001b[0;34m\u001b[0m\u001b[0;34m\u001b[0m\u001b[0m\n\u001b[0m\u001b[1;32m    222\u001b[0m     Backend = type(\n\u001b[1;32m    223\u001b[0m         \"Backend\", (matplotlib.backends._Backend,), vars(backend_mod))\n",
            "\u001b[0;32m/usr/lib/python3.7/importlib/__init__.py\u001b[0m in \u001b[0;36mimport_module\u001b[0;34m(name, package)\u001b[0m\n\u001b[1;32m    125\u001b[0m                 \u001b[0;32mbreak\u001b[0m\u001b[0;34m\u001b[0m\u001b[0;34m\u001b[0m\u001b[0m\n\u001b[1;32m    126\u001b[0m             \u001b[0mlevel\u001b[0m \u001b[0;34m+=\u001b[0m \u001b[0;36m1\u001b[0m\u001b[0;34m\u001b[0m\u001b[0;34m\u001b[0m\u001b[0m\n\u001b[0;32m--> 127\u001b[0;31m     \u001b[0;32mreturn\u001b[0m \u001b[0m_bootstrap\u001b[0m\u001b[0;34m.\u001b[0m\u001b[0m_gcd_import\u001b[0m\u001b[0;34m(\u001b[0m\u001b[0mname\u001b[0m\u001b[0;34m[\u001b[0m\u001b[0mlevel\u001b[0m\u001b[0;34m:\u001b[0m\u001b[0;34m]\u001b[0m\u001b[0;34m,\u001b[0m \u001b[0mpackage\u001b[0m\u001b[0;34m,\u001b[0m \u001b[0mlevel\u001b[0m\u001b[0;34m)\u001b[0m\u001b[0;34m\u001b[0m\u001b[0;34m\u001b[0m\u001b[0m\n\u001b[0m\u001b[1;32m    128\u001b[0m \u001b[0;34m\u001b[0m\u001b[0m\n\u001b[1;32m    129\u001b[0m \u001b[0;34m\u001b[0m\u001b[0m\n",
            "\u001b[0;32m/usr/lib/python3.7/importlib/_bootstrap.py\u001b[0m in \u001b[0;36m_gcd_import\u001b[0;34m(name, package, level)\u001b[0m\n",
            "\u001b[0;32m/usr/lib/python3.7/importlib/_bootstrap.py\u001b[0m in \u001b[0;36m_find_and_load\u001b[0;34m(name, import_)\u001b[0m\n",
            "\u001b[0;32m/usr/lib/python3.7/importlib/_bootstrap.py\u001b[0m in \u001b[0;36m_find_and_load_unlocked\u001b[0;34m(name, import_)\u001b[0m\n",
            "\u001b[0;32m/usr/lib/python3.7/importlib/_bootstrap.py\u001b[0m in \u001b[0;36m_call_with_frames_removed\u001b[0;34m(f, *args, **kwds)\u001b[0m\n",
            "\u001b[0;32m/usr/lib/python3.7/importlib/_bootstrap.py\u001b[0m in \u001b[0;36m_gcd_import\u001b[0;34m(name, package, level)\u001b[0m\n",
            "\u001b[0;32m/usr/lib/python3.7/importlib/_bootstrap.py\u001b[0m in \u001b[0;36m_find_and_load\u001b[0;34m(name, import_)\u001b[0m\n",
            "\u001b[0;32m/usr/lib/python3.7/importlib/_bootstrap.py\u001b[0m in \u001b[0;36m_find_and_load_unlocked\u001b[0;34m(name, import_)\u001b[0m\n",
            "\u001b[0;31mModuleNotFoundError\u001b[0m: No module named 'ipympl'",
            "",
            "\u001b[0;31m---------------------------------------------------------------------------\u001b[0;32m\nNOTE: If your import is failing due to a missing package, you can\nmanually install dependencies using either !pip or !apt.\n\nTo view examples of installing some common dependencies, click the\n\"Open Examples\" button below.\n\u001b[0;31m---------------------------------------------------------------------------\u001b[0m\n"
          ]
        }
      ]
    },
    {
      "cell_type": "markdown",
      "metadata": {
        "id": "tTYwUO3p2Djg"
      },
      "source": [
        "# Making a git commit from changes to python backend\n",
        "\n",
        "To save this notebook use File > Save a copy in Github"
      ]
    },
    {
      "cell_type": "code",
      "metadata": {
        "id": "2nhIl8QWbjdn"
      },
      "source": [
        ""
      ],
      "execution_count": null,
      "outputs": []
    },
    {
      "cell_type": "code",
      "metadata": {
        "colab": {
          "base_uri": "https://localhost:8080/"
        },
        "id": "mnPAmOsD2ACG",
        "outputId": "b9d84966-ac1a-46d9-b9ae-723a88e49711"
      },
      "source": [
        "!git add -A\n",
        "!git status"
      ],
      "execution_count": 21,
      "outputs": [
        {
          "output_type": "stream",
          "text": [
            "On branch main\n",
            "Your branch is up to date with 'origin/main'.\n",
            "\n",
            "Changes to be committed:\n",
            "  (use \"git reset HEAD <file>...\" to unstage)\n",
            "\n",
            "\t\u001b[32mnew file:   baseline_df.hdf\u001b[m\n",
            "\t\u001b[32mnew file:   comparison_df.hdf\u001b[m\n",
            "\t\u001b[32mnew file:   df.hdf\u001b[m\n",
            "\t\u001b[32mnew file:   experiments/sus_var-hsar-seed_one-0.0importation-04-29-20:25/baseline_df.hdf\u001b[m\n",
            "\t\u001b[32mnew file:   experiments/sus_var-hsar-seed_one-0.0importation-04-29-20:25/baseline_model.pickle\u001b[m\n",
            "\t\u001b[32mnew file:   experiments/sus_var-hsar-seed_one-0.0importation-04-29-20:25/comparison_df.hdf\u001b[m\n",
            "\t\u001b[32mnew file:   inf_var-hsar-seed_one-0.0importation-04-29-17:46/baseline_df.hdf\u001b[m\n",
            "\t\u001b[32mnew file:   inf_var-hsar-seed_one-0.0importation-04-29-17:46/baseline_model.pickle\u001b[m\n",
            "\t\u001b[32mnew file:   inf_var-hsar-seed_one-0.0importation-04-29-17:46/comparison_df.hdf\u001b[m\n",
            "\t\u001b[32mmodified:   population.py\u001b[m\n",
            "\t\u001b[32mnew file:   sus_var-hsar-seed_one-0.0importation-04-29-16:17/baseline_df.hdf\u001b[m\n",
            "\t\u001b[32mnew file:   sus_var-hsar-seed_one-0.0importation-04-29-16:17/comparison_df.hdf\u001b[m\n",
            "\t\u001b[32mnew file:   sus_var-hsar-seed_one-0.0importation-04-29-20:02/baseline_df.hdf\u001b[m\n",
            "\t\u001b[32mmodified:   utilities.py\u001b[m\n",
            "\n"
          ],
          "name": "stdout"
        }
      ]
    },
    {
      "cell_type": "code",
      "metadata": {
        "id": "OaRjJRgz2lRk"
      },
      "source": [
        "!git config --global user.email \"\"\n",
        "!git config --global user.email \"Thayer\""
      ],
      "execution_count": null,
      "outputs": []
    },
    {
      "cell_type": "code",
      "metadata": {
        "colab": {
          "base_uri": "https://localhost:8080/"
        },
        "id": "3tZeUimV2-Zk",
        "outputId": "1aa13557-9f51-414f-9575-ccf3c6d728b7"
      },
      "source": [
        "message = input(\"Commit message? \")\n",
        "\n",
        "!git commit -m \"{message}\""
      ],
      "execution_count": null,
      "outputs": [
        {
          "output_type": "stream",
          "text": [
            "Commit message? Fixed error with graphing. Better handling of traits\n",
            "[main b13afde] Fixed error with graphing. Better handling of traits\n",
            " 4 files changed, 19 insertions(+), 11 deletions(-)\n"
          ],
          "name": "stdout"
        }
      ]
    },
    {
      "cell_type": "markdown",
      "metadata": {
        "id": "0n5-5yi0_dYu"
      },
      "source": [
        "# Pushing upstream"
      ]
    },
    {
      "cell_type": "code",
      "metadata": {
        "id": "s9cLEEJSwAf3"
      },
      "source": [
        "!git remote set-url origin https://{git_token}@github.com/{repo_owner}/{repository}"
      ],
      "execution_count": null,
      "outputs": []
    },
    {
      "cell_type": "code",
      "metadata": {
        "colab": {
          "base_uri": "https://localhost:8080/"
        },
        "id": "QzWA4B7Cr5MG",
        "outputId": "8903422c-9f78-4785-e360-26bcbff0061f"
      },
      "source": [
        "!git pull"
      ],
      "execution_count": null,
      "outputs": [
        {
          "output_type": "stream",
          "text": [
            "Already up to date.\n"
          ],
          "name": "stdout"
        }
      ]
    },
    {
      "cell_type": "code",
      "metadata": {
        "id": "u1f1DCBt3HV1",
        "colab": {
          "base_uri": "https://localhost:8080/"
        },
        "outputId": "930653d8-504d-4e20-f737-7a59c6b98e18"
      },
      "source": [
        "#from git_token import git_token\n",
        "#!git remote set-url origin https://{git_token}@github.com/{username}/{repository}\n",
        "\n",
        "!git push"
      ],
      "execution_count": null,
      "outputs": [
        {
          "output_type": "stream",
          "text": [
            "Counting objects: 12, done.\n",
            "Delta compression using up to 2 threads.\n",
            "Compressing objects: 100% (12/12), done.\n",
            "Writing objects: 100% (12/12), 1.99 KiB | 340.00 KiB/s, done.\n",
            "Total 12 (delta 10), reused 0 (delta 0)\n",
            "remote: Resolving deltas: 100% (10/10), completed with 5 local objects.\u001b[K\n",
            "To https://github.com/tanderson11/covid_households\n",
            "   ee3ae67..b13afde  main -> main\n"
          ],
          "name": "stdout"
        }
      ]
    }
  ]
}