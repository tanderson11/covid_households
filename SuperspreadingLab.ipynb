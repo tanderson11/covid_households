{
  "nbformat": 4,
  "nbformat_minor": 0,
  "metadata": {
    "accelerator": "GPU",
    "colab": {
      "name": "SuperspreadingLab.ipynb",
      "provenance": [],
      "collapsed_sections": [
        "IsWpiP3DFFMo",
        "spe9KM4yqdqB",
        "HKqa27GWFKnE",
        "RKWx-gMepyKX",
        "fepe3oDXFNYl",
        "RspxOd30sKa3",
        "mPt4nDaLcRwO",
        "tTYwUO3p2Djg",
        "0n5-5yi0_dYu"
      ],
      "toc_visible": true,
      "authorship_tag": "ABX9TyNjFX//OIZpJ26P6UPlACmb",
      "include_colab_link": true
    },
    "kernelspec": {
      "display_name": "Python 3",
      "name": "python3"
    },
    "language_info": {
      "name": "python"
    }
  },
  "cells": [
    {
      "cell_type": "markdown",
      "metadata": {
        "id": "view-in-github",
        "colab_type": "text"
      },
      "source": [
        "<a href=\"https://colab.research.google.com/github/tanderson11/covid_households/blob/main/SuperspreadingLab.ipynb\" target=\"_parent\"><img src=\"https://colab.research.google.com/assets/colab-badge.svg\" alt=\"Open In Colab\"/></a>"
      ]
    },
    {
      "cell_type": "markdown",
      "metadata": {
        "id": "vFEfWUyjl_L-"
      },
      "source": [
        "# Superspreading Laboratory"
      ]
    },
    {
      "cell_type": "markdown",
      "metadata": {
        "id": "IsWpiP3DFFMo"
      },
      "source": [
        "# Drive + Github configuration\n",
        "\n",
        "* If you opened this notebook from Github, go to `File > Save a copy in Drive`.\n",
        "* If running for the first time, set `first_time_setup = True`\n",
        "* You'll have to authenticate on google drive the first time and each time the runtime times out.\n",
        "* To use tokens, fork the repository and go to `Github > User > Settings > Developer Settings > Personal access tokens`"
      ]
    },
    {
      "cell_type": "code",
      "metadata": {
        "id": "ZMjOwUq1w-wa"
      },
      "source": [
        "# A flag to clone the repository into your drive. See the >>> SETUP <<< lines to know what is affected\n",
        "# Set to false after running this set of cells once\n",
        "first_time_setup = False"
      ],
      "execution_count": null,
      "outputs": []
    },
    {
      "cell_type": "code",
      "metadata": {
        "colab": {
          "base_uri": "https://localhost:8080/"
        },
        "id": "ORzYVf06BhuU",
        "outputId": "010a4dc3-8c51-48c5-c123-b4b825532b13"
      },
      "source": [
        "from google.colab import drive\n",
        "drive.mount('/content/gdrive')"
      ],
      "execution_count": null,
      "outputs": [
        {
          "output_type": "stream",
          "text": [
            "Drive already mounted at /content/gdrive; to attempt to forcibly remount, call drive.mount(\"/content/gdrive\", force_remount=True).\n"
          ],
          "name": "stdout"
        }
      ]
    },
    {
      "cell_type": "code",
      "metadata": {
        "colab": {
          "base_uri": "https://localhost:8080/"
        },
        "id": "I3fmCBmpDCZn",
        "outputId": "136351fe-a24e-44e9-9fe4-712b4ce637d2"
      },
      "source": [
        "%mkdir /content/gdrive/My\\ Drive/github\n",
        "%cd /content/gdrive/My\\ Drive/github"
      ],
      "execution_count": null,
      "outputs": [
        {
          "output_type": "stream",
          "text": [
            "mkdir: cannot create directory ‘/content/gdrive/My Drive/github’: File exists\n",
            "/content/gdrive/My Drive/github\n"
          ],
          "name": "stdout"
        }
      ]
    },
    {
      "cell_type": "code",
      "metadata": {
        "id": "J0qVcYVio4mo"
      },
      "source": [
        "# If you've forked the repository, point to your own username and repository name (if different)\n",
        "repo_owner=\"tanderson11\"\n",
        "repository=\"covid_households\"\n",
        "\n",
        "# >>> SETUP: <<<\n",
        "if first_time_setup:\n",
        "    !git clone https://github.com/{repo_owner}/{repository}.git\n",
        "\n",
        "# >>> TOKEN SETUP: <<<\n",
        "# If you're using token authentication (recommended), add your token and uncomment the lines below instead\n",
        "\n",
        "#!echo git_token=\\\"your_token_here\\\" > git_token.py\n",
        "#from git_token import git_token\n",
        "\n",
        "#!git clone https://{git_token}@github.com/{repo_owner}/{repository}"
      ],
      "execution_count": null,
      "outputs": []
    },
    {
      "cell_type": "code",
      "metadata": {
        "colab": {
          "base_uri": "https://localhost:8080/"
        },
        "id": "bqQubdG6EpNl",
        "outputId": "c9c559ba-52d2-458b-cf35-aea58174af4d"
      },
      "source": [
        "%cd covid_households/\n",
        "!ls -a\n",
        "\n",
        "# >>> TOKEN SETUP: <<<\n",
        "# this will put your token in the right folder; comment this line out after use to avoid an error message\n",
        "#!mv ../git_token.py ./\n",
        "\n",
        "from git_token import git_token"
      ],
      "execution_count": null,
      "outputs": [
        {
          "output_type": "stream",
          "text": [
            "/content/gdrive/My Drive/github/covid_households\n",
            "baseline_df.hdf\n",
            "comparison_df.hdf\n",
            "constants.py\n",
            "df.hdf\n",
            "experiments\n",
            "forward_simulation.py\n",
            ".git\n",
            ".gitignore\n",
            "git_token.py\n",
            "inf_var-hsar-seed_one-0.0importation-04-29-17:46\n",
            ".ipynb_checkpoints\n",
            "Lab.ipynb\n",
            "likelihood.py\n",
            "ParameterInferenceLab.ipynb\n",
            "population.py\n",
            "__pycache__\n",
            "README.md\n",
            "settings.py\n",
            "SuperspreadingLab.ipynb\n",
            "sus_var-hsar-seed_one-0.0importation-04-29-16:17\n",
            "sus_var-hsar-seed_one-0.0importation-04-29-20:02\n",
            "torch_forward_simulation.py\n",
            "traits.py\n",
            "utilities.py\n",
            "Vaccine.ipynb\n",
            "vaccine.py\n"
          ],
          "name": "stdout"
        }
      ]
    },
    {
      "cell_type": "markdown",
      "metadata": {
        "id": "spe9KM4yqdqB"
      },
      "source": [
        "# Pulling upstream changes\n",
        "\n",
        "Uncomment this block to pull upstream changes from github"
      ]
    },
    {
      "cell_type": "code",
      "metadata": {
        "colab": {
          "base_uri": "https://localhost:8080/"
        },
        "id": "71i8WsDcp6uN",
        "outputId": "bbf12ff3-e6c9-4bf2-99cc-559f1d552093"
      },
      "source": [
        "!git status"
      ],
      "execution_count": null,
      "outputs": [
        {
          "output_type": "stream",
          "text": [
            "On branch main\n",
            "Your branch is up to date with 'origin/main'.\n",
            "\n",
            "nothing to commit, working tree clean\n"
          ],
          "name": "stdout"
        }
      ]
    },
    {
      "cell_type": "code",
      "metadata": {
        "id": "mqd4eKs1qpVb"
      },
      "source": [
        "# >>> PULLING CHANGES: <<<\n",
        "#!git pull"
      ],
      "execution_count": null,
      "outputs": []
    },
    {
      "cell_type": "markdown",
      "metadata": {
        "id": "HKqa27GWFKnE"
      },
      "source": [
        "# Initialization"
      ]
    },
    {
      "cell_type": "code",
      "metadata": {
        "id": "bJP1Mq2YEtVX"
      },
      "source": [
        "# Initialization\n",
        "import importlib\n",
        "import vaccine\n",
        "import population\n",
        "import likelihood\n",
        "import utilities\n",
        "import pandas as pd\n",
        "import numpy as np\n",
        "import functools\n",
        "import matplotlib.pyplot as plt\n",
        "import traits\n",
        "import seaborn as sns\n",
        "import datetime \n",
        "import json"
      ],
      "execution_count": 9,
      "outputs": []
    },
    {
      "cell_type": "markdown",
      "metadata": {
        "id": "RKWx-gMepyKX"
      },
      "source": [
        "# Reload modules"
      ]
    },
    {
      "cell_type": "code",
      "metadata": {
        "colab": {
          "base_uri": "https://localhost:8080/"
        },
        "id": "uLZH04Xap0xj",
        "outputId": "4e5f1b2c-5f22-4995-9c52-d466dc590105"
      },
      "source": [
        "importlib.reload(vaccine)\n",
        "importlib.reload(likelihood)\n",
        "importlib.reload(population)\n",
        "importlib.reload(utilities)\n",
        "importlib.reload(traits)"
      ],
      "execution_count": null,
      "outputs": [
        {
          "output_type": "execute_result",
          "data": {
            "text/plain": [
              "<module 'traits' from '/content/gdrive/My Drive/github/covid_households/traits.py'>"
            ]
          },
          "metadata": {
            "tags": []
          },
          "execution_count": 28
        }
      ]
    },
    {
      "cell_type": "markdown",
      "metadata": {
        "id": "fepe3oDXFNYl"
      },
      "source": [
        "# Experiments"
      ]
    },
    {
      "cell_type": "markdown",
      "metadata": {
        "id": "RspxOd30sKa3"
      },
      "source": [
        "## Parameter configuration"
      ]
    },
    {
      "cell_type": "code",
      "metadata": {
        "colab": {
          "base_uri": "https://localhost:8080/"
        },
        "id": "huFEp20EJDKi",
        "outputId": "d6b97253-3a7a-44f2-8454-93a8e6a41ca7"
      },
      "source": [
        "# Parameters of the baseline/'empirical' model to vary over\n",
        "key1 = \"inf_var\"\n",
        "key2 = \"hsar\"\n",
        "keys = (key1, key2)\n",
        "\n",
        "sus_var_axis = np.linspace(0.0, 1.8, 19)\n",
        "inf_var_axis = np.linspace(0.0, 1.8, 19)\n",
        "hsar_axis = np.linspace(0.15, 0.50, 36)\n",
        "axes_by_keys = {\"sus_var\": sus_var_axis, \"inf_var\":inf_var_axis, \"hsar\":hsar_axis}\n",
        "\n",
        "# tiny axes to test functionality\n",
        "tiny_sus_var_axis = np.linspace(0.7, 0.8, 2)\n",
        "tiny_inf_var_axis = np.linspace(0.7, 0.8, 2)\n",
        "tiny_hsar_axis = np.linspace(0.24, 0.25, 2)\n",
        "tiny_axes_by_keys = {\"sus_var\": tiny_sus_var_axis, \"inf_var\":tiny_inf_var_axis, \"hsar\":tiny_hsar_axis}\n",
        "\n",
        "# Default parameters for quantities that could vary\n",
        "default_hsar = 0.3\n",
        "default_sus = traits.GammaTrait(\"susceptibility\", mean=1.0, variance=0.0)\n",
        "default_inf = traits.GammaTrait(\"infectivity\", mean=1.0, variance=0.0)\n",
        "\n",
        "# Static baseline parameters\n",
        "#duration = 90\n",
        "#cumulative_import_prob = 0.10\n",
        "duration=0.\n",
        "cumulative_import_prob=0.\n",
        "importation_rate = utilities.importation_rate_from_cumulative_prob(cumulative_import_prob, duration)\n",
        "\n",
        "seeding=utilities.seed_one_by_susceptibility\n",
        "\n",
        "baseline_household_sizes = {6:1000}\n",
        "\n",
        "# never actually used, but dumped to json to preserve defaults (note: defaults, not baseline)\n",
        "default_model = population.Model(\"baseline model\", household_beta=utilities.household_beta_from_hsar(default_hsar), inf_dist=default_inf, sus_dist=default_sus, importation_rate=importation_rate, duration=duration)"
      ],
      "execution_count": 25,
      "outputs": [
        {
          "output_type": "stream",
          "text": [
            "WARNING: importation rate calculation received duration=0\n"
          ],
          "name": "stdout"
        }
      ]
    },
    {
      "cell_type": "markdown",
      "metadata": {
        "id": "mPt4nDaLcRwO"
      },
      "source": [
        "## Functions for sweeping over a grid in parameter space"
      ]
    },
    {
      "cell_type": "code",
      "metadata": {
        "id": "x9PG5OCYJWVF"
      },
      "source": [
        "def make_baseline_df(sus_var, inf_var, hsar):\n",
        "    _sus_dist = traits.GammaTrait(\"susceptibility\", mean=1.0, variance=sus_var)\n",
        "    _inf_dist = traits.GammaTrait(\"susceptibility\", mean=1.0, variance=inf_var)\n",
        "\n",
        "    baseline_model = population.Model(\"baseline model\", household_beta=utilities.household_beta_from_hsar(hsar), inf_dist=_inf_dist, sus_dist=_sus_dist, importation_rate=importation_rate, duration=duration)\n",
        "    baseline_pop = population.Population(baseline_model, baseline_household_sizes)\n",
        "    baseline_pop.df[\"infections\"] = baseline_pop.simulate_population()\n",
        "    return baseline_pop.df\n",
        "\n",
        "def make_comparison_df(sus_var, inf_var, hsar):\n",
        "    household_sizes = {size:25000 for size in set(baseline_household_sizes.keys())} # a number at each unique size in the baseline population\n",
        "    _sus_dist = traits.GammaTrait(\"susceptibility\", mean=1.0, variance=sus_var)\n",
        "    _inf_dist = traits.GammaTrait(\"susceptibility\", mean=1.0, variance=inf_var)\n",
        "    comparison_model = population.Model(\"comparison model\", inf_dist=_inf_dist, sus_dist=_sus_dist, importation_rate=importation_rate, duration=duration, household_beta=utilities.household_beta_from_hsar(hsar))\n",
        "    comparison_pop = population.Population(comparison_model, household_sizes)\n",
        "    comparison_pop.df[\"infections\"] = comparison_pop.simulate_population()\n",
        "    return comparison_pop.df\n",
        "\n",
        "def run_grid(key1, key2, axes_by_keys, make_df):\n",
        "    arguments = {\"sus_var\":default_sus.variance, \"inf_var\":default_inf.variance, \"hsar\":default_hsar}\n",
        "\n",
        "    dfs = []\n",
        "    for y in axes_by_keys[key1]:\n",
        "        for x in axes_by_keys[key2]:\n",
        "            arguments[key1] = y\n",
        "            arguments[key2] = x\n",
        "            df = make_df(**arguments)\n",
        "\n",
        "            for k,v in arguments.items():\n",
        "                df[k] = np.float(\"{0:.2f}\".format(v))\n",
        "\n",
        "            dfs.append(df)\n",
        "\n",
        "    full_df = pd.concat(dfs)\n",
        "    return full_df"
      ],
      "execution_count": 26,
      "outputs": []
    },
    {
      "cell_type": "markdown",
      "metadata": {
        "id": "jpGcehS5cVQd"
      },
      "source": [
        "## Running and writing\n",
        "\n",
        "Outputs written to `experiments/` inside a directory with name based on the experiment conducted."
      ]
    },
    {
      "cell_type": "code",
      "metadata": {
        "id": "u8-UynpTLqgj"
      },
      "source": [
        "baseline_df = run_grid(key1, key2, axes_by_keys, make_baseline_df)\n",
        "baseline_df"
      ],
      "execution_count": null,
      "outputs": []
    },
    {
      "cell_type": "code",
      "metadata": {
        "id": "wSs4fBL6MVVf"
      },
      "source": [
        "# All this code is accessory to making a folder and saving the results of the experiment\n",
        "\n",
        "if default_model.importation_rate > 0:\n",
        "    importation_str = \"importation\"\n",
        "else:\n",
        "    importation_str = \"no_importation\"\n",
        "\n",
        "if \"hsar\" in [key1, key2]:\n",
        "    hsar_str = \"\"\n",
        "else:\n",
        "    hsar_str = \"-hsar{}-\".format(\"{:.2f}\".format(default_hsar).replace(\".\", \"\"))\n",
        "\n",
        "name = \"{}-{}{}-{}-{}\".format(key1, key2, hsar_str, default_model.seeding.name, importation_str)\n",
        "date_str = datetime.datetime.now().strftime(\"%m-%d-%H:%M\")\n",
        "directory_name = \"{}-{}\".format(name, date_str)\n",
        "\n",
        "print(directory_name)\n",
        "\n",
        "!mkdir ./experiments/{directory_name}\n",
        "baseline_df.to_hdf('./experiments/{0}/baseline_df.hdf'.format(directory_name), key='baseline_df', mode='w')\n",
        "\n",
        "with open('./experiments/{0}/default_model.json'.format(directory_name), 'w') as handle:\n",
        "    handle.write(default_model.to_json())\n",
        "\n",
        "with open('./experiments/{0}/keys.json'.format(directory_name), 'w') as handle:\n",
        "    json.dump(keys, handle)"
      ],
      "execution_count": null,
      "outputs": []
    },
    {
      "cell_type": "code",
      "metadata": {
        "id": "NTL0jP5RMsdW"
      },
      "source": [
        "full_comparison_df = run_grid(key1, key2, axes_by_keys, make_comparison_df)\n",
        "full_comparison_df.to_hdf('./experiments/{0}/comparison_df.hdf'.format(directory_name), key='full_comparison_df', mode='w')"
      ],
      "execution_count": null,
      "outputs": []
    },
    {
      "cell_type": "markdown",
      "metadata": {
        "id": "P8ule6eSeGrA"
      },
      "source": [
        "# Procedure for estimating likelihoods"
      ]
    },
    {
      "cell_type": "markdown",
      "metadata": {
        "id": "7pcZKBLWeL8u"
      },
      "source": [
        "## Basic multinomial likelihood\n",
        "\n",
        "Suppose that we make an observation of infections in a population of $n$ households, all of size $s$, where $y_k$ gives the number of households that exhibited $k$ infections.\n",
        "\n",
        "Suppose additionally, that $P$ is the set of true probabilities such that $p_{k}$ gives the probability that a household of size $s$ would yield $k$ infections at fixation. \n",
        "\n",
        "We want to know the (log) likelihood that we would observe each $y_k$ under the model $P$. In familiar notation, we want to determine $\\mathcal{L} (Y | P) = \\mathcal{L} (P | Y)$. That likelihood is given as follows:\n",
        "\n",
        "$$\\mathcal{L} (Y | P) = \\prod_k \\left(p_{k} \\right)^{y_{k}}$$\n",
        "\n",
        "Taking the $\\log$ of both sides:\n",
        "\n",
        "\\begin{align*}\n",
        "    \\log \\left(\\mathcal{L} (Y | P)\\right) = \\sum_k \\left(y_k \\log p_k\\right)\n",
        "\\end{align*}\n",
        "\n",
        "## In our context\n",
        "\n",
        "Its our challenge to estimate the set of probabilities $P$. To do this, we choose some model of infection (see the README for a model description) and then simulate the outcomes across a large pool of identical households. \n",
        "\n",
        "From this bank of simulated data, we can identify the frequencies with which there are $k$ infections in a given household for all $k$. Provided that we simulate a large number of households, these frequencies give the probabilities $P$ -- conditioned on the infection model -- that a household of size $s$ experiences $k$ infections.\n",
        "\n",
        "In this way, given two tables of data corresponding to an empirical observation and a large set of simulated households, where each row represents a household and contains the information about size and infections, we can assign a likelihood to to the observation using the simulated households with the multinomial likelihood discussed above.\n",
        "\n",
        "## More complex cases\n",
        "\n",
        "What if not every household has the same size? What if individuals are not identical?\n",
        "\n",
        "These are two natural extensions of the work above, and they are both nearly as easy thanks to the independence of households."
      ]
    },
    {
      "cell_type": "markdown",
      "metadata": {
        "id": "tTYwUO3p2Djg"
      },
      "source": [
        "# Making a git commit from changes to python backend\n",
        "\n",
        "To save this notebook use File > Save a copy in Github"
      ]
    },
    {
      "cell_type": "code",
      "metadata": {
        "id": "2nhIl8QWbjdn"
      },
      "source": [
        "!git add utilities.py\n",
        "!git add population.py"
      ],
      "execution_count": null,
      "outputs": []
    },
    {
      "cell_type": "code",
      "metadata": {
        "colab": {
          "base_uri": "https://localhost:8080/"
        },
        "id": "mnPAmOsD2ACG",
        "outputId": "b9d84966-ac1a-46d9-b9ae-723a88e49711"
      },
      "source": [
        "!git add -A\n",
        "!git status"
      ],
      "execution_count": null,
      "outputs": [
        {
          "output_type": "stream",
          "text": [
            "On branch main\n",
            "Your branch is up to date with 'origin/main'.\n",
            "\n",
            "Changes to be committed:\n",
            "  (use \"git reset HEAD <file>...\" to unstage)\n",
            "\n",
            "\t\u001b[32mnew file:   baseline_df.hdf\u001b[m\n",
            "\t\u001b[32mnew file:   comparison_df.hdf\u001b[m\n",
            "\t\u001b[32mnew file:   df.hdf\u001b[m\n",
            "\t\u001b[32mnew file:   experiments/sus_var-hsar-seed_one-0.0importation-04-29-20:25/baseline_df.hdf\u001b[m\n",
            "\t\u001b[32mnew file:   experiments/sus_var-hsar-seed_one-0.0importation-04-29-20:25/baseline_model.pickle\u001b[m\n",
            "\t\u001b[32mnew file:   experiments/sus_var-hsar-seed_one-0.0importation-04-29-20:25/comparison_df.hdf\u001b[m\n",
            "\t\u001b[32mnew file:   inf_var-hsar-seed_one-0.0importation-04-29-17:46/baseline_df.hdf\u001b[m\n",
            "\t\u001b[32mnew file:   inf_var-hsar-seed_one-0.0importation-04-29-17:46/baseline_model.pickle\u001b[m\n",
            "\t\u001b[32mnew file:   inf_var-hsar-seed_one-0.0importation-04-29-17:46/comparison_df.hdf\u001b[m\n",
            "\t\u001b[32mmodified:   population.py\u001b[m\n",
            "\t\u001b[32mnew file:   sus_var-hsar-seed_one-0.0importation-04-29-16:17/baseline_df.hdf\u001b[m\n",
            "\t\u001b[32mnew file:   sus_var-hsar-seed_one-0.0importation-04-29-16:17/comparison_df.hdf\u001b[m\n",
            "\t\u001b[32mnew file:   sus_var-hsar-seed_one-0.0importation-04-29-20:02/baseline_df.hdf\u001b[m\n",
            "\t\u001b[32mmodified:   utilities.py\u001b[m\n",
            "\n"
          ],
          "name": "stdout"
        }
      ]
    },
    {
      "cell_type": "code",
      "metadata": {
        "id": "OaRjJRgz2lRk"
      },
      "source": [
        "!git config --global user.email \"\"\n",
        "!git config --global user.email \"Thayer\""
      ],
      "execution_count": null,
      "outputs": []
    },
    {
      "cell_type": "code",
      "metadata": {
        "colab": {
          "base_uri": "https://localhost:8080/"
        },
        "id": "3tZeUimV2-Zk",
        "outputId": "4076a322-17ac-4ecf-a6cd-ec63515ea7ee"
      },
      "source": [
        "message = input(\"Commit message? \")\n",
        "\n",
        "!git commit -m \"{message}\""
      ],
      "execution_count": null,
      "outputs": [
        {
          "output_type": "stream",
          "text": [
            "Commit message? Tweaking utilties and model for better warnings\n",
            "[main b630f56] Tweaking utilties and model for better warnings\n",
            " 2 files changed, 16 insertions(+), 1 deletion(-)\n"
          ],
          "name": "stdout"
        }
      ]
    },
    {
      "cell_type": "markdown",
      "metadata": {
        "id": "0n5-5yi0_dYu"
      },
      "source": [
        "# Pushing upstream"
      ]
    },
    {
      "cell_type": "code",
      "metadata": {
        "id": "s9cLEEJSwAf3"
      },
      "source": [
        "!git remote set-url origin https://{git_token}@github.com/{repo_owner}/{repository}"
      ],
      "execution_count": null,
      "outputs": []
    },
    {
      "cell_type": "code",
      "metadata": {
        "colab": {
          "base_uri": "https://localhost:8080/"
        },
        "id": "QzWA4B7Cr5MG",
        "outputId": "1a3b49c6-bd14-4e22-a241-abe2dfa67ecf"
      },
      "source": [
        "!git pull"
      ],
      "execution_count": null,
      "outputs": [
        {
          "output_type": "stream",
          "text": [
            "remote: Enumerating objects: 18, done.\u001b[K\n",
            "remote: Counting objects:   5% (1/18)\u001b[K\rremote: Counting objects:  11% (2/18)\u001b[K\rremote: Counting objects:  16% (3/18)\u001b[K\rremote: Counting objects:  22% (4/18)\u001b[K\rremote: Counting objects:  27% (5/18)\u001b[K\rremote: Counting objects:  33% (6/18)\u001b[K\rremote: Counting objects:  38% (7/18)\u001b[K\rremote: Counting objects:  44% (8/18)\u001b[K\rremote: Counting objects:  50% (9/18)\u001b[K\rremote: Counting objects:  55% (10/18)\u001b[K\rremote: Counting objects:  61% (11/18)\u001b[K\rremote: Counting objects:  66% (12/18)\u001b[K\rremote: Counting objects:  72% (13/18)\u001b[K\rremote: Counting objects:  77% (14/18)\u001b[K\rremote: Counting objects:  83% (15/18)\u001b[K\rremote: Counting objects:  88% (16/18)\u001b[K\rremote: Counting objects:  94% (17/18)\u001b[K\rremote: Counting objects: 100% (18/18)\u001b[K\rremote: Counting objects: 100% (18/18), done.\u001b[K\n",
            "remote: Compressing objects:  11% (1/9)\u001b[K\rremote: Compressing objects:  22% (2/9)\u001b[K\rremote: Compressing objects:  33% (3/9)\u001b[K\rremote: Compressing objects:  44% (4/9)\u001b[K\rremote: Compressing objects:  55% (5/9)\u001b[K\rremote: Compressing objects:  66% (6/9)\u001b[K\rremote: Compressing objects:  77% (7/9)\u001b[K\rremote: Compressing objects:  88% (8/9)\u001b[K\rremote: Compressing objects: 100% (9/9)\u001b[K\rremote: Compressing objects: 100% (9/9), done.\u001b[K\n",
            "remote: Total 15 (delta 9), reused 9 (delta 6), pack-reused 0\u001b[K\n",
            "Unpacking objects: 100% (15/15), done.\n",
            "From https://github.com/tanderson11/covid_households\n",
            "   b13afde..95e3a2c  main       -> origin/main\n",
            "hint: Waiting for your editor to close the file... error: unable to start editor 'editor'\n",
            "Not committing merge; use 'git commit' to complete the merge.\n"
          ],
          "name": "stdout"
        }
      ]
    },
    {
      "cell_type": "code",
      "metadata": {
        "colab": {
          "base_uri": "https://localhost:8080/"
        },
        "id": "ohCzpRC2cBY3",
        "outputId": "c5e1138c-9a89-4bb5-a270-c864760dee84"
      },
      "source": [
        "# if there was a merge\n",
        "#!git status\n",
        "#!git commit -m \"Merged\""
      ],
      "execution_count": null,
      "outputs": [
        {
          "output_type": "stream",
          "text": [
            "On branch main\n",
            "Your branch and 'origin/main' have diverged,\n",
            "and have 1 and 6 different commits each, respectively.\n",
            "  (use \"git pull\" to merge the remote branch into yours)\n",
            "\n",
            "All conflicts fixed but you are still merging.\n",
            "  (use \"git commit\" to conclude merge)\n",
            "\n",
            "Changes to be committed:\n",
            "\n",
            "\t\u001b[32mmodified:   .gitignore\u001b[m\n",
            "\t\u001b[32mmodified:   Lab.ipynb\u001b[m\n",
            "\t\u001b[32mnew file:   SuperspreadingLab.ipynb\u001b[m\n",
            "\n",
            "Untracked files:\n",
            "  (use \"git add <file>...\" to include in what will be committed)\n",
            "\n",
            "\t\u001b[31minf_var-hsar-seed_one-0.0importation-04-29-17:46/\u001b[m\n",
            "\n",
            "[main 5fabc36] Merged\n"
          ],
          "name": "stdout"
        }
      ]
    },
    {
      "cell_type": "code",
      "metadata": {
        "colab": {
          "base_uri": "https://localhost:8080/"
        },
        "id": "B-n9aEOycMaZ",
        "outputId": "9bdb9c3c-8827-439d-99aa-b7af7986ea32"
      },
      "source": [
        "!git status"
      ],
      "execution_count": null,
      "outputs": [
        {
          "output_type": "stream",
          "text": [
            "On branch main\n",
            "Your branch is ahead of 'origin/main' by 2 commits.\n",
            "  (use \"git push\" to publish your local commits)\n",
            "\n",
            "Untracked files:\n",
            "  (use \"git add <file>...\" to include in what will be committed)\n",
            "\n",
            "\t\u001b[31minf_var-hsar-seed_one-0.0importation-04-29-17:46/\u001b[m\n",
            "\n",
            "nothing added to commit but untracked files present (use \"git add\" to track)\n"
          ],
          "name": "stdout"
        }
      ]
    },
    {
      "cell_type": "code",
      "metadata": {
        "colab": {
          "base_uri": "https://localhost:8080/"
        },
        "id": "u1f1DCBt3HV1",
        "outputId": "870f31f7-ddae-4675-86e3-3696e4239df6"
      },
      "source": [
        "#from git_token import git_token\n",
        "#!git remote set-url origin https://{git_token}@github.com/{username}/{repository}\n",
        "\n",
        "!git push"
      ],
      "execution_count": null,
      "outputs": [
        {
          "output_type": "stream",
          "text": [
            "Counting objects: 6, done.\n",
            "Delta compression using up to 2 threads.\n",
            "Compressing objects:  16% (1/6)   \rCompressing objects:  33% (2/6)   \rCompressing objects:  50% (3/6)   \rCompressing objects:  66% (4/6)   \rCompressing objects:  83% (5/6)   \rCompressing objects: 100% (6/6)   \rCompressing objects: 100% (6/6), done.\n",
            "Writing objects:  16% (1/6)   \rWriting objects:  33% (2/6)   \rWriting objects:  50% (3/6)   \rWriting objects:  66% (4/6)   \rWriting objects:  83% (5/6)   \rWriting objects: 100% (6/6)   \rWriting objects: 100% (6/6), 909 bytes | 454.00 KiB/s, done.\n",
            "Total 6 (delta 4), reused 0 (delta 0)\n",
            "remote: Resolving deltas: 100% (4/4), completed with 4 local objects.\u001b[K\n",
            "To https://github.com/tanderson11/covid_households\n",
            "   95e3a2c..5fabc36  main -> main\n"
          ],
          "name": "stdout"
        }
      ]
    }
  ]
}